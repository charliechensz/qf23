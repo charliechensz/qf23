{
 "cells": [
  {
   "cell_type": "code",
   "execution_count": 149,
   "metadata": {},
   "outputs": [],
   "source": [
    "import torch\n",
    "from torch import nn\n",
    "import numpy as np\n",
    "import pandas as pd\n",
    "import matplotlib.pyplot as plt\n",
    "# %matplotlib inline\n"
   ]
  },
  {
   "cell_type": "markdown",
   "metadata": {},
   "source": [
    "根据提供的notebook,Claude2对代码的建议和注释如下:\n",
    "\n",
    "1. 数据处理部分可以添加更多注释,说明读取的数据字段含义,以及对数据的检查和处理思路。\n",
    "\n",
    "2. 模型定义部分可以添加注释,说明输入和输出维度的设定依据,网络层数和神经元数量的选择依据等。\n",
    "\n",
    "3. 训练评估部分的注释可以更详细,说明采用的数据分割方式,训练过程中的超参数,以及评估指标的计算方法。\n",
    "\n",
    "4. 模型训练结果可以进行更深入的分析,检查是否存在过拟合或欠拟合,并结合业务目标提出后续优化思路。 \n",
    "\n",
    "5. 可以添加模型效果可视化的代码,如Loss曲线,预测结果示例等,更直观地呈现模型效果。\n",
    "\n",
    "6. 添加模型保存和加载的代码,便于训练后的模型重用。\n",
    "\n",
    "7. 可以尝试不同模型结构或训练策略的比较实验。\n",
    "\n",
    "8. 可以基于代码封装出函数或类,提高代码的复用性和模块化程度。\n",
    "\n",
    "9. 添加类型注释,可以提高代码可读性和健壮性。\n",
    "\n",
    "总体而言,该notebook内容完整,但仍有进一步提升注释、可视化、模块化、模型分析等方面的优化空间。"
   ]
  },
  {
   "cell_type": "code",
   "execution_count": 111,
   "metadata": {},
   "outputs": [],
   "source": [
    "# 数据预处理\n",
    "# df = pd.read_csv(\"../dataset/creditcard-tianchi.csv\", index_col=None)\n",
    "# del df['Time']\n",
    "# df.head(3)\n",
    "# df.head(30000).to_csv(\"../dataset/creditcard-3w.csv\", index=False)  # 分拆数据到 creditcard-3w\n",
    "# df.to_csv(\"../dataset/creditcard-all.csv\", index=False)  # 分拆数据到 creditcard-3w"
   ]
  },
  {
   "cell_type": "code",
   "execution_count": 112,
   "metadata": {},
   "outputs": [
    {
     "data": {
      "text/html": [
       "<div>\n",
       "<style scoped>\n",
       "    .dataframe tbody tr th:only-of-type {\n",
       "        vertical-align: middle;\n",
       "    }\n",
       "\n",
       "    .dataframe tbody tr th {\n",
       "        vertical-align: top;\n",
       "    }\n",
       "\n",
       "    .dataframe thead th {\n",
       "        text-align: right;\n",
       "    }\n",
       "</style>\n",
       "<table border=\"1\" class=\"dataframe\">\n",
       "  <thead>\n",
       "    <tr style=\"text-align: right;\">\n",
       "      <th></th>\n",
       "      <th>V1</th>\n",
       "      <th>V2</th>\n",
       "      <th>V3</th>\n",
       "      <th>V4</th>\n",
       "      <th>V5</th>\n",
       "      <th>V6</th>\n",
       "      <th>V7</th>\n",
       "      <th>V8</th>\n",
       "      <th>V9</th>\n",
       "      <th>V10</th>\n",
       "      <th>...</th>\n",
       "      <th>V21</th>\n",
       "      <th>V22</th>\n",
       "      <th>V23</th>\n",
       "      <th>V24</th>\n",
       "      <th>V25</th>\n",
       "      <th>V26</th>\n",
       "      <th>V27</th>\n",
       "      <th>V28</th>\n",
       "      <th>Amount</th>\n",
       "      <th>Class</th>\n",
       "    </tr>\n",
       "  </thead>\n",
       "  <tbody>\n",
       "    <tr>\n",
       "      <th>0</th>\n",
       "      <td>-1.359807</td>\n",
       "      <td>-0.072781</td>\n",
       "      <td>2.536347</td>\n",
       "      <td>1.378155</td>\n",
       "      <td>-0.338321</td>\n",
       "      <td>0.462388</td>\n",
       "      <td>0.239599</td>\n",
       "      <td>0.098698</td>\n",
       "      <td>0.363787</td>\n",
       "      <td>0.090794</td>\n",
       "      <td>...</td>\n",
       "      <td>-0.018307</td>\n",
       "      <td>0.277838</td>\n",
       "      <td>-0.110474</td>\n",
       "      <td>0.066928</td>\n",
       "      <td>0.128539</td>\n",
       "      <td>-0.189115</td>\n",
       "      <td>0.133558</td>\n",
       "      <td>-0.021053</td>\n",
       "      <td>149.62</td>\n",
       "      <td>0</td>\n",
       "    </tr>\n",
       "    <tr>\n",
       "      <th>1</th>\n",
       "      <td>1.191857</td>\n",
       "      <td>0.266151</td>\n",
       "      <td>0.166480</td>\n",
       "      <td>0.448154</td>\n",
       "      <td>0.060018</td>\n",
       "      <td>-0.082361</td>\n",
       "      <td>-0.078803</td>\n",
       "      <td>0.085102</td>\n",
       "      <td>-0.255425</td>\n",
       "      <td>-0.166974</td>\n",
       "      <td>...</td>\n",
       "      <td>-0.225775</td>\n",
       "      <td>-0.638672</td>\n",
       "      <td>0.101288</td>\n",
       "      <td>-0.339846</td>\n",
       "      <td>0.167170</td>\n",
       "      <td>0.125895</td>\n",
       "      <td>-0.008983</td>\n",
       "      <td>0.014724</td>\n",
       "      <td>2.69</td>\n",
       "      <td>0</td>\n",
       "    </tr>\n",
       "    <tr>\n",
       "      <th>2</th>\n",
       "      <td>-1.358354</td>\n",
       "      <td>-1.340163</td>\n",
       "      <td>1.773209</td>\n",
       "      <td>0.379780</td>\n",
       "      <td>-0.503198</td>\n",
       "      <td>1.800499</td>\n",
       "      <td>0.791461</td>\n",
       "      <td>0.247676</td>\n",
       "      <td>-1.514654</td>\n",
       "      <td>0.207643</td>\n",
       "      <td>...</td>\n",
       "      <td>0.247998</td>\n",
       "      <td>0.771679</td>\n",
       "      <td>0.909412</td>\n",
       "      <td>-0.689281</td>\n",
       "      <td>-0.327642</td>\n",
       "      <td>-0.139097</td>\n",
       "      <td>-0.055353</td>\n",
       "      <td>-0.059752</td>\n",
       "      <td>378.66</td>\n",
       "      <td>0</td>\n",
       "    </tr>\n",
       "  </tbody>\n",
       "</table>\n",
       "<p>3 rows × 30 columns</p>\n",
       "</div>"
      ],
      "text/plain": [
       "         V1        V2        V3        V4        V5        V6        V7  \\\n",
       "0 -1.359807 -0.072781  2.536347  1.378155 -0.338321  0.462388  0.239599   \n",
       "1  1.191857  0.266151  0.166480  0.448154  0.060018 -0.082361 -0.078803   \n",
       "2 -1.358354 -1.340163  1.773209  0.379780 -0.503198  1.800499  0.791461   \n",
       "\n",
       "         V8        V9       V10  ...       V21       V22       V23       V24  \\\n",
       "0  0.098698  0.363787  0.090794  ... -0.018307  0.277838 -0.110474  0.066928   \n",
       "1  0.085102 -0.255425 -0.166974  ... -0.225775 -0.638672  0.101288 -0.339846   \n",
       "2  0.247676 -1.514654  0.207643  ...  0.247998  0.771679  0.909412 -0.689281   \n",
       "\n",
       "        V25       V26       V27       V28  Amount  Class  \n",
       "0  0.128539 -0.189115  0.133558 -0.021053  149.62      0  \n",
       "1  0.167170  0.125895 -0.008983  0.014724    2.69      0  \n",
       "2 -0.327642 -0.139097 -0.055353 -0.059752  378.66      0  \n",
       "\n",
       "[3 rows x 30 columns]"
      ]
     },
     "execution_count": 112,
     "metadata": {},
     "output_type": "execute_result"
    }
   ],
   "source": [
    "# 读取数据\n",
    "df = pd.read_csv(\"../dataset/creditcard-3w.csv\", index_col=None)\n",
    "df.head(3)\n"
   ]
  },
  {
   "cell_type": "code",
   "execution_count": 113,
   "metadata": {},
   "outputs": [],
   "source": [
    "list1, list2, list3 = ['1','2'], ['a','b'], [5,6]"
   ]
  },
  {
   "cell_type": "code",
   "execution_count": 114,
   "metadata": {},
   "outputs": [
    {
     "data": {
      "text/plain": [
       "2.0"
      ]
     },
     "execution_count": 114,
     "metadata": {},
     "output_type": "execute_result"
    }
   ],
   "source": [
    "float(list1[0]) + 1"
   ]
  },
  {
   "cell_type": "code",
   "execution_count": 115,
   "metadata": {},
   "outputs": [
    {
     "data": {
      "text/plain": [
       "15.0"
      ]
     },
     "execution_count": 115,
     "metadata": {},
     "output_type": "execute_result"
    }
   ],
   "source": [
    "float(list3[0]) + 10"
   ]
  },
  {
   "cell_type": "code",
   "execution_count": 116,
   "metadata": {},
   "outputs": [
    {
     "data": {
      "text/plain": [
       "(['1', '2'], ['a', 'b'], [5, 6])"
      ]
     },
     "execution_count": 116,
     "metadata": {},
     "output_type": "execute_result"
    }
   ],
   "source": [
    "list1, list2, list3\n"
   ]
  },
  {
   "cell_type": "code",
   "execution_count": 117,
   "metadata": {},
   "outputs": [
    {
     "data": {
      "text/plain": [
       "['1', '2', 'a', 'b', 5, 6]"
      ]
     },
     "execution_count": 117,
     "metadata": {},
     "output_type": "execute_result"
    }
   ],
   "source": [
    "list1 + list2 + list3"
   ]
  },
  {
   "cell_type": "code",
   "execution_count": 118,
   "metadata": {},
   "outputs": [
    {
     "name": "stdout",
     "output_type": "stream",
     "text": [
      "<bound method IndexOpsMixin.tolist of Index(['V1', 'V2', 'V3', 'V4', 'V5', 'V6', 'V7', 'V8', 'V9', 'V10', 'V11',\n",
      "       'V12', 'V13', 'V14', 'V15', 'V16', 'V17', 'V18', 'V19', 'V20', 'V21',\n",
      "       'V22', 'V23', 'V24', 'V25', 'V26', 'V27', 'V28', 'Amount', 'Class'],\n",
      "      dtype='object')> [1, 2]\n"
     ]
    }
   ],
   "source": [
    "print( df.columns.to_list, [1,2])\n"
   ]
  },
  {
   "cell_type": "code",
   "execution_count": 119,
   "metadata": {},
   "outputs": [
    {
     "data": {
      "text/plain": [
       "(Index(['V1', 'V2', 'V3', 'V4', 'V5', 'V6', 'V7', 'V8', 'V9', 'V10', 'V11',\n",
       "        'V12', 'V13', 'V14', 'V15', 'V16', 'V17', 'V18', 'V19', 'V20', 'V21',\n",
       "        'V22', 'V23', 'V24', 'V25', 'V26', 'V27', 'V28', 'Amount', 'Class'],\n",
       "       dtype='object'),\n",
       " <bound method IndexOpsMixin.tolist of Index(['V1', 'V2', 'V3', 'V4', 'V5', 'V6', 'V7', 'V8', 'V9', 'V10', 'V11',\n",
       "        'V12', 'V13', 'V14', 'V15', 'V16', 'V17', 'V18', 'V19', 'V20', 'V21',\n",
       "        'V22', 'V23', 'V24', 'V25', 'V26', 'V27', 'V28', 'Amount', 'Class'],\n",
       "       dtype='object')>)"
      ]
     },
     "execution_count": 119,
     "metadata": {},
     "output_type": "execute_result"
    }
   ],
   "source": [
    "df.columns, df.columns.to_list "
   ]
  },
  {
   "cell_type": "code",
   "execution_count": 120,
   "metadata": {},
   "outputs": [
    {
     "data": {
      "text/plain": [
       "array([0, 1], dtype=int64)"
      ]
     },
     "execution_count": 120,
     "metadata": {},
     "output_type": "execute_result"
    }
   ],
   "source": [
    "df.Class.unique()"
   ]
  },
  {
   "cell_type": "code",
   "execution_count": 121,
   "metadata": {},
   "outputs": [
    {
     "data": {
      "text/plain": [
       "0    29906\n",
       "1       94\n",
       "Name: Class, dtype: int64"
      ]
     },
     "execution_count": 121,
     "metadata": {},
     "output_type": "execute_result"
    }
   ],
   "source": [
    "df.Class.value_counts()"
   ]
  },
  {
   "cell_type": "code",
   "execution_count": 122,
   "metadata": {},
   "outputs": [],
   "source": [
    "# 列处理2\n",
    "# df.groupby(['salary', 'sales']).size()\n",
    "\n",
    "# pd.get_dummies(df.salary) # field内容编程列 list\n",
    "# df = df.join( pd.get_dummies(df.salary) ) # 把列加入到 pandas fields\n",
    "# del df['salary'] # 删除原来列\n",
    "\n",
    "# pd.get_dummies(df.sales)  # 读日编码？？？\n",
    "# df = df.rename(columns={'sales':'department'})  # 改列名\n",
    "# df = df.join(pd.get_dummies(df.department))\n",
    "# del df['department']\n",
    "# df.head(3).to_csv(\"../dataset/test1.csv\", index=False)"
   ]
  },
  {
   "cell_type": "code",
   "execution_count": 123,
   "metadata": {},
   "outputs": [
    {
     "name": "stdout",
     "output_type": "stream",
     "text": [
      "<class 'pandas.core.frame.DataFrame'>\n",
      "RangeIndex: 30000 entries, 0 to 29999\n",
      "Data columns (total 30 columns):\n",
      " #   Column  Non-Null Count  Dtype  \n",
      "---  ------  --------------  -----  \n",
      " 0   V1      30000 non-null  float64\n",
      " 1   V2      30000 non-null  float64\n",
      " 2   V3      30000 non-null  float64\n",
      " 3   V4      30000 non-null  float64\n",
      " 4   V5      30000 non-null  float64\n",
      " 5   V6      30000 non-null  float64\n",
      " 6   V7      30000 non-null  float64\n",
      " 7   V8      30000 non-null  float64\n",
      " 8   V9      30000 non-null  float64\n",
      " 9   V10     30000 non-null  float64\n",
      " 10  V11     30000 non-null  float64\n",
      " 11  V12     30000 non-null  float64\n",
      " 12  V13     30000 non-null  float64\n",
      " 13  V14     30000 non-null  float64\n",
      " 14  V15     30000 non-null  float64\n",
      " 15  V16     30000 non-null  float64\n",
      " 16  V17     30000 non-null  float64\n",
      " 17  V18     30000 non-null  float64\n",
      " 18  V19     30000 non-null  float64\n",
      " 19  V20     30000 non-null  float64\n",
      " 20  V21     30000 non-null  float64\n",
      " 21  V22     30000 non-null  float64\n",
      " 22  V23     30000 non-null  float64\n",
      " 23  V24     30000 non-null  float64\n",
      " 24  V25     30000 non-null  float64\n",
      " 25  V26     30000 non-null  float64\n",
      " 26  V27     30000 non-null  float64\n",
      " 27  V28     30000 non-null  float64\n",
      " 28  Amount  30000 non-null  float64\n",
      " 29  Class   30000 non-null  int64  \n",
      "dtypes: float64(29), int64(1)\n",
      "memory usage: 6.9 MB\n"
     ]
    }
   ],
   "source": [
    "df.info()"
   ]
  },
  {
   "cell_type": "code",
   "execution_count": 124,
   "metadata": {},
   "outputs": [
    {
     "data": {
      "text/plain": [
       "(30000, 30)"
      ]
     },
     "execution_count": 124,
     "metadata": {},
     "output_type": "execute_result"
    }
   ],
   "source": [
    "df.shape  # 行列"
   ]
  },
  {
   "cell_type": "code",
   "execution_count": 125,
   "metadata": {},
   "outputs": [
    {
     "data": {
      "text/plain": [
       "900000"
      ]
     },
     "execution_count": 125,
     "metadata": {},
     "output_type": "execute_result"
    }
   ],
   "source": [
    "df.size # df的行x列， 共有多少数据cell"
   ]
  },
  {
   "cell_type": "code",
   "execution_count": 126,
   "metadata": {},
   "outputs": [
    {
     "data": {
      "text/plain": [
       "array([0, 1], dtype=int64)"
      ]
     },
     "execution_count": 126,
     "metadata": {},
     "output_type": "execute_result"
    }
   ],
   "source": [
    "df.Class.unique()"
   ]
  },
  {
   "cell_type": "code",
   "execution_count": 127,
   "metadata": {},
   "outputs": [
    {
     "data": {
      "text/plain": [
       "0    29906\n",
       "1       94\n",
       "Name: Class, dtype: int64"
      ]
     },
     "execution_count": 127,
     "metadata": {},
     "output_type": "execute_result"
    }
   ],
   "source": [
    "df.Class.value_counts()"
   ]
  },
  {
   "cell_type": "code",
   "execution_count": 128,
   "metadata": {},
   "outputs": [
    {
     "data": {
      "text/plain": [
       "Index(['V1', 'V2', 'V3', 'V4', 'V5', 'V6', 'V7', 'V8', 'V9', 'V10', 'V11',\n",
       "       'V12', 'V13', 'V14', 'V15', 'V16', 'V17', 'V18', 'V19', 'V20', 'V21',\n",
       "       'V22', 'V23', 'V24', 'V25', 'V26', 'V27', 'V28', 'Amount', 'Class'],\n",
       "      dtype='object')"
      ]
     },
     "execution_count": 128,
     "metadata": {},
     "output_type": "execute_result"
    }
   ],
   "source": [
    "df.columns"
   ]
  },
  {
   "cell_type": "code",
   "execution_count": 129,
   "metadata": {},
   "outputs": [],
   "source": [
    "# test1 = df.Class   # 输出的不是pd，只是列\n",
    "# test2 = df.Class.values.reshape(-1,20)   # 从“列”格式转成了pd格式\n",
    "# test2"
   ]
  },
  {
   "cell_type": "code",
   "execution_count": 130,
   "metadata": {},
   "outputs": [
    {
     "data": {
      "text/plain": [
       "array([[0],\n",
       "       [0],\n",
       "       [0],\n",
       "       ...,\n",
       "       [0],\n",
       "       [0],\n",
       "       [0]], dtype=int64)"
      ]
     },
     "execution_count": 130,
     "metadata": {},
     "output_type": "execute_result"
    }
   ],
   "source": [
    "Y_data = df.Class.values.reshape(-1,1)  # 转换成 pd type array\n",
    "Y_data"
   ]
  },
  {
   "cell_type": "code",
   "execution_count": 131,
   "metadata": {},
   "outputs": [
    {
     "data": {
      "text/plain": [
       "(torch.Size([30000, 1]), 30001)"
      ]
     },
     "execution_count": 131,
     "metadata": {},
     "output_type": "execute_result"
    }
   ],
   "source": [
    "# Y = torch.from_numpy(Y_data).type(torch.float32)  # 转换成tensor\n",
    "Y = torch.from_numpy(Y_data).type(torch.FloatTensor)\n",
    "Y.shape, Y.size(0) + 1"
   ]
  },
  {
   "cell_type": "code",
   "execution_count": 132,
   "metadata": {},
   "outputs": [
    {
     "data": {
      "text/plain": [
       "(torch.Size([30000, 29]), torch.Size([30000, 29]))"
      ]
     },
     "execution_count": 132,
     "metadata": {},
     "output_type": "execute_result"
    }
   ],
   "source": [
    "X_columns = [c for c in df.columns if c != 'Class']\n",
    "X_data = df[X_columns]  \n",
    "# X = torch.from_numpy(X_data.values).type(torch.FloatTensor)\n",
    "X = torch.from_numpy(X_data.values).type(torch.float32)\n",
    "X.shape, X.size()"
   ]
  },
  {
   "cell_type": "code",
   "execution_count": 133,
   "metadata": {},
   "outputs": [],
   "source": [
    "import torch.nn.functional as F  # 避免relu和sigmoid的初始化，可以直接调用\n",
    "class Model(nn.Module):\n",
    "    def __init__(self):\n",
    "        super().__init__()      # 继承父类中所有的属性\n",
    "        self.liner_1 = nn.Linear(29, 64)   # X.size(1)= 20； 定义64个后续中间层\n",
    "        self.liner_2 = nn.Linear(64, 64)   # 接着，再定义64个后续中间层\n",
    "        self.liner_3 = nn.Linear(64, 1)   # 接着，再定义64个后续中间层\n",
    "    def forward(self, input):\n",
    "        x = F.relu( self.liner_1(input) )\n",
    "        x = F.relu( self.liner_2(x) )\n",
    "        x = F.sigmoid( self.liner_3(x) )\n",
    "        return x\n",
    "\n",
    "# 更加高级语言法，等价于Model\n",
    "class Model_high(nn.Module):\n",
    "    def __init__(self):\n",
    "        super().__init__()      # 继承父类中所有的属性\n",
    "        self.liner_1 = nn.Linear(20, 64)   # X.size(1)= 20； 定义64个后续中间层\n",
    "        self.liner_2 = nn.Linear(64, 64)   # 接着，再定义64个后续中间层\n",
    "        self.liner_3 = nn.Linear(64, 1)   # 接着，再定义64个后续中间层\n",
    "        self.relu = nn.ReLU()\n",
    "        self.sigmoid = nn.Sigmoid()\n",
    "    def forward(self, input):\n",
    "        x = self.Liner_1(input)\n",
    "        x = self.relu(x)\n",
    "        x = self.Liner_2(x)\n",
    "        x = self.relu(x)\n",
    "        x = self.Liner_3(x)\n",
    "        x = self.sigmoid(x)\n",
    "        return x"
   ]
  },
  {
   "cell_type": "code",
   "execution_count": 134,
   "metadata": {},
   "outputs": [],
   "source": [
    "lr = 0.0001\n",
    "def get_model():\n",
    "    model = Model()\n",
    "    opt = torch.optim.Adam(model.parameters(), lr=lr)\n",
    "    return model, opt"
   ]
  },
  {
   "cell_type": "code",
   "execution_count": 135,
   "metadata": {},
   "outputs": [
    {
     "name": "stdout",
     "output_type": "stream",
     "text": [
      "Model(\n",
      "  (liner_1): Linear(in_features=29, out_features=64, bias=True)\n",
      "  (liner_2): Linear(in_features=64, out_features=64, bias=True)\n",
      "  (liner_3): Linear(in_features=64, out_features=1, bias=True)\n",
      ") \n",
      "\n",
      "Adam (\n",
      "Parameter Group 0\n",
      "    amsgrad: False\n",
      "    betas: (0.9, 0.999)\n",
      "    capturable: False\n",
      "    differentiable: False\n",
      "    eps: 1e-08\n",
      "    foreach: None\n",
      "    fused: None\n",
      "    lr: 0.0001\n",
      "    maximize: False\n",
      "    weight_decay: 0\n",
      ")\n"
     ]
    }
   ],
   "source": [
    "model, optim = get_model()\n",
    "print( model, \"\\n\" )\n",
    "print( optim )"
   ]
  },
  {
   "cell_type": "code",
   "execution_count": 136,
   "metadata": {},
   "outputs": [],
   "source": [
    "loss_fn = nn.BCELoss()\n",
    "# batch = 64\n",
    "batch = 8192\n",
    "# batch = 65536\n",
    "no_of_batches = len(X)//batch\n",
    "epochs = 10\n",
    "from torch.utils.data import TensorDataset, DataLoader\n"
   ]
  },
  {
   "cell_type": "code",
   "execution_count": 137,
   "metadata": {},
   "outputs": [],
   "source": [
    "# Ver 4.1 - random_split Mode， charlie\n",
    "# from torch.utils.data import random_split    \n",
    "# def accuracy(y_pred, y_true):\n",
    "#     y_pred = (y_pred > 0.5).type(torch.int32)\n",
    "#     acc = (y_pred == y_true).float().mean()\n",
    "#     return acc\n",
    "\n",
    "# HR_dataset = TensorDataset(X, Y)\n",
    "# test_ds, test_ds = random_split(HR_dataset, [0.8, 0.2]) \n",
    "# HR_dataloader = DataLoader(test_ds, batch_size=batch, shuffle=True)  # shuffle乱序取数\n",
    "# epochMode = 41\n",
    "# if epochMode == 41:  \n",
    "#     for epoch in range( epochs ):\n",
    "#         # for x,y in HR_dataloader:\n",
    "#         for x,y in HR_dataloader:\n",
    "#             y_pred = model(x)\n",
    "#             loss = loss_fn(y_pred, y)\n",
    "#             optim.zero_grad()\n",
    "#             loss.backward()\n",
    "#             optim.step()\n",
    "#         with torch.no_grad():\n",
    "#             print('epoch: ', epoch, ' loss: ', loss_fn(model(X), Y).data.item() )"
   ]
  },
  {
   "cell_type": "code",
   "execution_count": 138,
   "metadata": {},
   "outputs": [],
   "source": [
    "# Ver 4.2 - sklearn mode\n",
    "def accuracy(y_pred, y_true):\n",
    "    y_pred = (y_pred > 0.5).type(torch.int32)\n",
    "    acc = (y_pred == y_true).float().mean()\n",
    "    return acc\n",
    "\n",
    "from sklearn.model_selection import train_test_split\n",
    "train_x, test_x, train_y, test_y = train_test_split(X_data, Y_data)\n",
    "train_x.shape, test_x.shape, train_y.shape, test_y.shape\n",
    "\n",
    "train_x = torch.from_numpy(train_x.values).type(torch.float32)\n",
    "train_y = torch.from_numpy(train_y).type(torch.float32)\n",
    "train_ds = TensorDataset(train_x, train_y)\n",
    "train_dl = DataLoader(train_ds, batch_size=batch, shuffle=True)  # 需要shuffle，乱序执行\n",
    "\n",
    "test_x = torch.from_numpy(test_x.values).type(torch.float32)\n",
    "test_y = torch.from_numpy(test_y).type(torch.float32)\n",
    "test_ds = TensorDataset(test_x, test_y)\n",
    "test_dl = DataLoader(test_ds, batch_size=batch, shuffle=False)  # 不需要shuffle，减少运算量"
   ]
  },
  {
   "cell_type": "markdown",
   "metadata": {},
   "source": [
    "计算正确率\n",
    "- Sigmoid()是0和1之间的值， 大于0.5为1，否则是0\n",
    "- out1 = (y-pred >0.5).type(torch.int32)  : 转换成0或1\n",
    "- (out1 == labels).float().mean()"
   ]
  },
  {
   "cell_type": "code",
   "execution_count": 139,
   "metadata": {},
   "outputs": [
    {
     "name": "stdout",
     "output_type": "stream",
     "text": [
      "epoch:  0  train_loss:  0.7579  Acc： 0.1301 0  test_loss:  0.7577  Acc： 0.1271\n",
      "epoch:  1  train_loss:  0.6664  Acc： 0.5599 1  test_loss:  0.6669  Acc： 0.5557\n",
      "epoch:  2  train_loss:  0.6148  Acc： 0.741 2  test_loss:  0.6154  Acc： 0.7368\n",
      "epoch:  3  train_loss:  0.5788  Acc： 0.8175 3  test_loss:  0.5794  Acc： 0.8171\n",
      "epoch:  4  train_loss:  0.5512  Acc： 0.862 4  test_loss:  0.5519  Acc： 0.866\n",
      "epoch:  5  train_loss:  0.5291  Acc： 0.8941 5  test_loss:  0.5297  Acc： 0.8984\n",
      "epoch:  6  train_loss:  0.5106  Acc： 0.9192 6  test_loss:  0.5113  Acc： 0.9221\n",
      "epoch:  7  train_loss:  0.4948  Acc： 0.9369 7  test_loss:  0.4955  Acc： 0.9359\n",
      "epoch:  8  train_loss:  0.4809  Acc： 0.9482 8  test_loss:  0.4816  Acc： 0.9488\n",
      "epoch:  9  train_loss:  0.4684  Acc： 0.9598 9  test_loss:  0.4692  Acc： 0.9603\n",
      "CPU times: total: 3.06 s\n",
      "Wall time: 4.64 s\n"
     ]
    },
    {
     "data": {
      "text/plain": [
       "Model(\n",
       "  (liner_1): Linear(in_features=29, out_features=64, bias=True)\n",
       "  (liner_2): Linear(in_features=64, out_features=64, bias=True)\n",
       "  (liner_3): Linear(in_features=64, out_features=1, bias=True)\n",
       ")"
      ]
     },
     "execution_count": 139,
     "metadata": {},
     "output_type": "execute_result"
    }
   ],
   "source": [
    "%%time\n",
    "# epochs = 10\n",
    "for epoch in range( epochs ):\n",
    "    for x,y in train_dl:\n",
    "        y_pred = model(x)\n",
    "        loss = loss_fn(y_pred, y)\n",
    "        optim.zero_grad()\n",
    "        loss.backward()\n",
    "        optim.step()\n",
    "    with torch.no_grad():\n",
    "        epoch_accuracy = accuracy(model(train_x), train_y)\n",
    "        epoch_loss = loss_fn(model(train_x), train_y).data.item()\n",
    "        epoch_test_accuracy = accuracy(model(test_x), test_y)\n",
    "        epoch_test_loss = loss_fn(model(test_x), test_y).data.item()\n",
    "        print('epoch: ', \n",
    "            epoch, ' train_loss: ', round(epoch_loss,4), ' Acc：', round(epoch_accuracy.item(),4),\n",
    "            epoch, ' test_loss: ', round(epoch_test_loss,4), ' Acc：', round(epoch_test_accuracy.item(),4) )\n",
    "model"
   ]
  },
  {
   "cell_type": "code",
   "execution_count": 140,
   "metadata": {},
   "outputs": [
    {
     "name": "stdout",
     "output_type": "stream",
     "text": [
      "epoch:   train_loss:  0.4684  Acc： 0.9598  test_loss:  0.4692  Acc： 0.9603\n"
     ]
    }
   ],
   "source": [
    "# 最后一次计算结果：\n",
    "\n",
    "epoch_accuracy = accuracy(model(train_x), train_y)\n",
    "epoch_loss = loss_fn(model(train_x), train_y).data.item()\n",
    "epoch_test_accuracy = accuracy(model(test_x), test_y)\n",
    "epoch_test_loss = loss_fn(model(test_x), test_y).data.item()\n",
    "print('epoch: ', \n",
    "    ' train_loss: ', round(epoch_loss,4), ' Acc：', round(epoch_accuracy.item(),4),\n",
    "    ' test_loss: ', round(epoch_test_loss,4), ' Acc：', round(epoch_test_accuracy.item(),4) )"
   ]
  },
  {
   "cell_type": "code",
   "execution_count": 141,
   "metadata": {},
   "outputs": [],
   "source": [
    "# print( loss_fn(model(train_x), train_y).data.item() )\n",
    "# accuracyRate = ((model(train_x).data.numpy()).astype('int') == train_y.numpy().astype('int')).mean()\n",
    "# print(\"训练数据 - 准确率%：\", accuracyRate*100) \n",
    "\n",
    "# print( loss_fn(model(test_x), test_y).data.item() )\n",
    "# accuracyRate = ((model(test_x).data.numpy()).astype('int') == test_y.numpy().astype('int')).mean()\n",
    "# print(\"测试数据 - 准确率%：\", accuracyRate*100) "
   ]
  },
  {
   "cell_type": "markdown",
   "metadata": {},
   "source": [
    "数据准确性验证\n",
    "过拟合/欠拟合\n",
    "- 过拟合：对于已知数据过度拟合，对未知数据预测性差\n",
    "- 欠拟合：对于已知数据拟合不够，对未知数据预测性差\n",
    "  \n",
    "tensor合并\n",
    "- "
   ]
  },
  {
   "cell_type": "code",
   "execution_count": 142,
   "metadata": {},
   "outputs": [
    {
     "data": {
      "text/plain": [
       "(torch.Size([22500, 29]), torch.Size([22500, 1]))"
      ]
     },
     "execution_count": 142,
     "metadata": {},
     "output_type": "execute_result"
    }
   ],
   "source": [
    "train_x.shape, train_y.shape"
   ]
  },
  {
   "cell_type": "code",
   "execution_count": 143,
   "metadata": {},
   "outputs": [],
   "source": [
    "train_cat = torch.cat([train_x, train_y],dim=1)   # 沿着Dimension 1进行合并"
   ]
  },
  {
   "cell_type": "code",
   "execution_count": 144,
   "metadata": {},
   "outputs": [
    {
     "data": {
      "text/plain": [
       "torch.Size([22500, 30])"
      ]
     },
     "execution_count": 144,
     "metadata": {},
     "output_type": "execute_result"
    }
   ],
   "source": [
    "train_cat.shape"
   ]
  },
  {
   "cell_type": "code",
   "execution_count": 145,
   "metadata": {},
   "outputs": [],
   "source": [
    "# train_all.numpy()\n",
    "np.savetxt('../dataset/test20.csv', train_cat.numpy(),fmt='%.8f',delimiter=',') # 直接覆盖"
   ]
  },
  {
   "cell_type": "code",
   "execution_count": 146,
   "metadata": {},
   "outputs": [],
   "source": [
    "train_np = np.loadtxt('../dataset/test20.csv', dtype = np.float32, delimiter=',')"
   ]
  },
  {
   "cell_type": "code",
   "execution_count": 147,
   "metadata": {},
   "outputs": [
    {
     "data": {
      "text/plain": [
       "((22500, 30),\n",
       " array([[-1.0677052e+00,  2.5718459e-01,  1.7865350e+00, ...,\n",
       "         -5.2571591e-02,  1.4449001e+02,  0.0000000e+00],\n",
       "        [-1.1987116e+00,  1.6186480e-01,  1.9764407e+00, ...,\n",
       "          1.7458326e-01,  2.2780001e+01,  0.0000000e+00],\n",
       "        [ 1.1884958e+00, -1.8830878e-01,  7.0347118e-01, ...,\n",
       "         -1.4216460e-02,  1.2950000e+01,  0.0000000e+00],\n",
       "        ...,\n",
       "        [ 9.6008903e-01, -8.3386570e-01,  8.4928328e-01, ...,\n",
       "          5.5044889e-02,  1.5800000e+02,  0.0000000e+00],\n",
       "        [ 1.5843790e+00, -9.0595943e-01,  1.5450860e-02, ...,\n",
       "         -9.0386003e-04,  7.3000002e-01,  0.0000000e+00],\n",
       "        [-3.6285439e-01,  1.8038072e-01,  5.4717255e-01, ...,\n",
       "         -5.3575471e-02,  3.0240000e+01,  0.0000000e+00]], dtype=float32))"
      ]
     },
     "execution_count": 147,
     "metadata": {},
     "output_type": "execute_result"
    }
   ],
   "source": [
    "train_np.shape, train_np"
   ]
  },
  {
   "cell_type": "code",
   "execution_count": null,
   "metadata": {},
   "outputs": [],
   "source": []
  }
 ],
 "metadata": {
  "kernelspec": {
   "display_name": "Python 3 (ipykernel)",
   "language": "python",
   "name": "python3"
  },
  "language_info": {
   "codemirror_mode": {
    "name": "ipython",
    "version": 3
   },
   "file_extension": ".py",
   "mimetype": "text/x-python",
   "name": "python",
   "nbconvert_exporter": "python",
   "pygments_lexer": "ipython3",
   "version": "3.10.11"
  }
 },
 "nbformat": 4,
 "nbformat_minor": 4
}
