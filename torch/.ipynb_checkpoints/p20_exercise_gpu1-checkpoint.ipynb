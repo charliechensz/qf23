{
 "cells": [
  {
   "cell_type": "code",
   "execution_count": 2,
   "metadata": {},
   "outputs": [
    {
     "data": {
      "text/plain": [
       "device(type='cuda', index=0)"
      ]
     },
     "execution_count": 2,
     "metadata": {},
     "output_type": "execute_result"
    }
   ],
   "source": [
    "import torch\n",
    "from torch import nn\n",
    "import numpy as np\n",
    "import pandas as pd\n",
    "import matplotlib.pyplot as plt\n",
    "# %matplotlib inline\n",
    "\n",
    "import torch.backends.cudnn as cudnn\n",
    "cudnn.benchmark = True  \n",
    "cudnn.deterministic = True   \n",
    "device = torch.device(\"cuda:0\" if torch.cuda.is_available() else \"cpu\")\n",
    "device"
   ]
  },
  {
   "cell_type": "code",
   "execution_count": 3,
   "metadata": {},
   "outputs": [],
   "source": [
    "# 数据预处理\n",
    "# df = pd.read_csv(\"../dataset/creditcard-tianchi.csv\", index_col=None)\n",
    "# del df['Time']\n",
    "# df.head(3)\n",
    "# df.head(30000).to_csv(\"../dataset/creditcard-3w.csv\", index=False)  # 分拆数据到 creditcard-3w\n",
    "# df.to_csv(\"../dataset/creditcard-all.csv\", index=False)  # 分拆数据到 creditcard-3w"
   ]
  },
  {
   "cell_type": "code",
   "execution_count": 4,
   "metadata": {},
   "outputs": [
    {
     "data": {
      "text/html": [
       "<div>\n",
       "<style scoped>\n",
       "    .dataframe tbody tr th:only-of-type {\n",
       "        vertical-align: middle;\n",
       "    }\n",
       "\n",
       "    .dataframe tbody tr th {\n",
       "        vertical-align: top;\n",
       "    }\n",
       "\n",
       "    .dataframe thead th {\n",
       "        text-align: right;\n",
       "    }\n",
       "</style>\n",
       "<table border=\"1\" class=\"dataframe\">\n",
       "  <thead>\n",
       "    <tr style=\"text-align: right;\">\n",
       "      <th></th>\n",
       "      <th>V1</th>\n",
       "      <th>V2</th>\n",
       "      <th>V3</th>\n",
       "      <th>V4</th>\n",
       "      <th>V5</th>\n",
       "      <th>V6</th>\n",
       "      <th>V7</th>\n",
       "      <th>V8</th>\n",
       "      <th>V9</th>\n",
       "      <th>V10</th>\n",
       "      <th>...</th>\n",
       "      <th>V21</th>\n",
       "      <th>V22</th>\n",
       "      <th>V23</th>\n",
       "      <th>V24</th>\n",
       "      <th>V25</th>\n",
       "      <th>V26</th>\n",
       "      <th>V27</th>\n",
       "      <th>V28</th>\n",
       "      <th>Amount</th>\n",
       "      <th>Class</th>\n",
       "    </tr>\n",
       "  </thead>\n",
       "  <tbody>\n",
       "    <tr>\n",
       "      <th>0</th>\n",
       "      <td>-1.359807</td>\n",
       "      <td>-0.072781</td>\n",
       "      <td>2.536347</td>\n",
       "      <td>1.378155</td>\n",
       "      <td>-0.338321</td>\n",
       "      <td>0.462388</td>\n",
       "      <td>0.239599</td>\n",
       "      <td>0.098698</td>\n",
       "      <td>0.363787</td>\n",
       "      <td>0.090794</td>\n",
       "      <td>...</td>\n",
       "      <td>-0.018307</td>\n",
       "      <td>0.277838</td>\n",
       "      <td>-0.110474</td>\n",
       "      <td>0.066928</td>\n",
       "      <td>0.128539</td>\n",
       "      <td>-0.189115</td>\n",
       "      <td>0.133558</td>\n",
       "      <td>-0.021053</td>\n",
       "      <td>149.62</td>\n",
       "      <td>0</td>\n",
       "    </tr>\n",
       "    <tr>\n",
       "      <th>1</th>\n",
       "      <td>1.191857</td>\n",
       "      <td>0.266151</td>\n",
       "      <td>0.166480</td>\n",
       "      <td>0.448154</td>\n",
       "      <td>0.060018</td>\n",
       "      <td>-0.082361</td>\n",
       "      <td>-0.078803</td>\n",
       "      <td>0.085102</td>\n",
       "      <td>-0.255425</td>\n",
       "      <td>-0.166974</td>\n",
       "      <td>...</td>\n",
       "      <td>-0.225775</td>\n",
       "      <td>-0.638672</td>\n",
       "      <td>0.101288</td>\n",
       "      <td>-0.339846</td>\n",
       "      <td>0.167170</td>\n",
       "      <td>0.125895</td>\n",
       "      <td>-0.008983</td>\n",
       "      <td>0.014724</td>\n",
       "      <td>2.69</td>\n",
       "      <td>0</td>\n",
       "    </tr>\n",
       "    <tr>\n",
       "      <th>2</th>\n",
       "      <td>-1.358354</td>\n",
       "      <td>-1.340163</td>\n",
       "      <td>1.773209</td>\n",
       "      <td>0.379780</td>\n",
       "      <td>-0.503198</td>\n",
       "      <td>1.800499</td>\n",
       "      <td>0.791461</td>\n",
       "      <td>0.247676</td>\n",
       "      <td>-1.514654</td>\n",
       "      <td>0.207643</td>\n",
       "      <td>...</td>\n",
       "      <td>0.247998</td>\n",
       "      <td>0.771679</td>\n",
       "      <td>0.909412</td>\n",
       "      <td>-0.689281</td>\n",
       "      <td>-0.327642</td>\n",
       "      <td>-0.139097</td>\n",
       "      <td>-0.055353</td>\n",
       "      <td>-0.059752</td>\n",
       "      <td>378.66</td>\n",
       "      <td>0</td>\n",
       "    </tr>\n",
       "  </tbody>\n",
       "</table>\n",
       "<p>3 rows × 30 columns</p>\n",
       "</div>"
      ],
      "text/plain": [
       "         V1        V2        V3        V4        V5        V6        V7  \\\n",
       "0 -1.359807 -0.072781  2.536347  1.378155 -0.338321  0.462388  0.239599   \n",
       "1  1.191857  0.266151  0.166480  0.448154  0.060018 -0.082361 -0.078803   \n",
       "2 -1.358354 -1.340163  1.773209  0.379780 -0.503198  1.800499  0.791461   \n",
       "\n",
       "         V8        V9       V10  ...       V21       V22       V23       V24  \\\n",
       "0  0.098698  0.363787  0.090794  ... -0.018307  0.277838 -0.110474  0.066928   \n",
       "1  0.085102 -0.255425 -0.166974  ... -0.225775 -0.638672  0.101288 -0.339846   \n",
       "2  0.247676 -1.514654  0.207643  ...  0.247998  0.771679  0.909412 -0.689281   \n",
       "\n",
       "        V25       V26       V27       V28  Amount  Class  \n",
       "0  0.128539 -0.189115  0.133558 -0.021053  149.62      0  \n",
       "1  0.167170  0.125895 -0.008983  0.014724    2.69      0  \n",
       "2 -0.327642 -0.139097 -0.055353 -0.059752  378.66      0  \n",
       "\n",
       "[3 rows x 30 columns]"
      ]
     },
     "execution_count": 4,
     "metadata": {},
     "output_type": "execute_result"
    }
   ],
   "source": [
    "# 读取数据\n",
    "df = pd.read_csv(\"../dataset/creditcard-all.csv\", index_col=None)\n",
    "# del df['Unnamed: 0']\n",
    "df.head(3)\n",
    "\n"
   ]
  },
  {
   "cell_type": "code",
   "execution_count": 5,
   "metadata": {},
   "outputs": [
    {
     "name": "stdout",
     "output_type": "stream",
     "text": [
      "<class 'pandas.core.frame.DataFrame'>\n",
      "RangeIndex: 284807 entries, 0 to 284806\n",
      "Data columns (total 30 columns):\n",
      " #   Column  Non-Null Count   Dtype  \n",
      "---  ------  --------------   -----  \n",
      " 0   V1      284807 non-null  float64\n",
      " 1   V2      284807 non-null  float64\n",
      " 2   V3      284807 non-null  float64\n",
      " 3   V4      284807 non-null  float64\n",
      " 4   V5      284807 non-null  float64\n",
      " 5   V6      284807 non-null  float64\n",
      " 6   V7      284807 non-null  float64\n",
      " 7   V8      284807 non-null  float64\n",
      " 8   V9      284807 non-null  float64\n",
      " 9   V10     284807 non-null  float64\n",
      " 10  V11     284807 non-null  float64\n",
      " 11  V12     284807 non-null  float64\n",
      " 12  V13     284807 non-null  float64\n",
      " 13  V14     284807 non-null  float64\n",
      " 14  V15     284807 non-null  float64\n",
      " 15  V16     284807 non-null  float64\n",
      " 16  V17     284807 non-null  float64\n",
      " 17  V18     284807 non-null  float64\n",
      " 18  V19     284807 non-null  float64\n",
      " 19  V20     284807 non-null  float64\n",
      " 20  V21     284807 non-null  float64\n",
      " 21  V22     284807 non-null  float64\n",
      " 22  V23     284807 non-null  float64\n",
      " 23  V24     284807 non-null  float64\n",
      " 24  V25     284807 non-null  float64\n",
      " 25  V26     284807 non-null  float64\n",
      " 26  V27     284807 non-null  float64\n",
      " 27  V28     284807 non-null  float64\n",
      " 28  Amount  284807 non-null  float64\n",
      " 29  Class   284807 non-null  int64  \n",
      "dtypes: float64(29), int64(1)\n",
      "memory usage: 65.2 MB\n"
     ]
    }
   ],
   "source": [
    "df.info()"
   ]
  },
  {
   "cell_type": "code",
   "execution_count": 6,
   "metadata": {},
   "outputs": [
    {
     "data": {
      "text/plain": [
       "array([0, 1], dtype=int64)"
      ]
     },
     "execution_count": 6,
     "metadata": {},
     "output_type": "execute_result"
    }
   ],
   "source": [
    "df.Class.unique()"
   ]
  },
  {
   "cell_type": "code",
   "execution_count": 7,
   "metadata": {},
   "outputs": [
    {
     "data": {
      "text/plain": [
       "0    284315\n",
       "1       492\n",
       "Name: Class, dtype: int64"
      ]
     },
     "execution_count": 7,
     "metadata": {},
     "output_type": "execute_result"
    }
   ],
   "source": [
    "df.Class.value_counts()"
   ]
  },
  {
   "cell_type": "code",
   "execution_count": 8,
   "metadata": {},
   "outputs": [],
   "source": [
    "# 列处理2\n",
    "# df.groupby(['salary', 'sales']).size()\n",
    "\n",
    "# pd.get_dummies(df.salary) # field内容编程列 list\n",
    "# df = df.join( pd.get_dummies(df.salary) ) # 把列加入到 pandas fields\n",
    "# del df['salary'] # 删除原来列\n",
    "\n",
    "# pd.get_dummies(df.sales)  # 读日编码？？？\n",
    "# df = df.rename(columns={'sales':'department'})  # 改列名\n",
    "# df = df.join(pd.get_dummies(df.department))\n",
    "# del df['department']\n",
    "# df.head(3).to_csv(\"../dataset/test1.csv\", index=False)"
   ]
  },
  {
   "cell_type": "code",
   "execution_count": 9,
   "metadata": {},
   "outputs": [
    {
     "name": "stdout",
     "output_type": "stream",
     "text": [
      "<class 'pandas.core.frame.DataFrame'>\n",
      "RangeIndex: 284807 entries, 0 to 284806\n",
      "Data columns (total 30 columns):\n",
      " #   Column  Non-Null Count   Dtype  \n",
      "---  ------  --------------   -----  \n",
      " 0   V1      284807 non-null  float64\n",
      " 1   V2      284807 non-null  float64\n",
      " 2   V3      284807 non-null  float64\n",
      " 3   V4      284807 non-null  float64\n",
      " 4   V5      284807 non-null  float64\n",
      " 5   V6      284807 non-null  float64\n",
      " 6   V7      284807 non-null  float64\n",
      " 7   V8      284807 non-null  float64\n",
      " 8   V9      284807 non-null  float64\n",
      " 9   V10     284807 non-null  float64\n",
      " 10  V11     284807 non-null  float64\n",
      " 11  V12     284807 non-null  float64\n",
      " 12  V13     284807 non-null  float64\n",
      " 13  V14     284807 non-null  float64\n",
      " 14  V15     284807 non-null  float64\n",
      " 15  V16     284807 non-null  float64\n",
      " 16  V17     284807 non-null  float64\n",
      " 17  V18     284807 non-null  float64\n",
      " 18  V19     284807 non-null  float64\n",
      " 19  V20     284807 non-null  float64\n",
      " 20  V21     284807 non-null  float64\n",
      " 21  V22     284807 non-null  float64\n",
      " 22  V23     284807 non-null  float64\n",
      " 23  V24     284807 non-null  float64\n",
      " 24  V25     284807 non-null  float64\n",
      " 25  V26     284807 non-null  float64\n",
      " 26  V27     284807 non-null  float64\n",
      " 27  V28     284807 non-null  float64\n",
      " 28  Amount  284807 non-null  float64\n",
      " 29  Class   284807 non-null  int64  \n",
      "dtypes: float64(29), int64(1)\n",
      "memory usage: 65.2 MB\n"
     ]
    }
   ],
   "source": [
    "df.info()"
   ]
  },
  {
   "cell_type": "code",
   "execution_count": 10,
   "metadata": {},
   "outputs": [
    {
     "data": {
      "text/plain": [
       "(284807, 30)"
      ]
     },
     "execution_count": 10,
     "metadata": {},
     "output_type": "execute_result"
    }
   ],
   "source": [
    "df.shape  # 行列"
   ]
  },
  {
   "cell_type": "code",
   "execution_count": 11,
   "metadata": {},
   "outputs": [
    {
     "data": {
      "text/plain": [
       "8544210"
      ]
     },
     "execution_count": 11,
     "metadata": {},
     "output_type": "execute_result"
    }
   ],
   "source": [
    "df.size # df的行x列， 共有多少数据cell"
   ]
  },
  {
   "cell_type": "code",
   "execution_count": 12,
   "metadata": {},
   "outputs": [
    {
     "data": {
      "text/plain": [
       "array([0, 1], dtype=int64)"
      ]
     },
     "execution_count": 12,
     "metadata": {},
     "output_type": "execute_result"
    }
   ],
   "source": [
    "df.Class.unique()"
   ]
  },
  {
   "cell_type": "code",
   "execution_count": 13,
   "metadata": {},
   "outputs": [
    {
     "data": {
      "text/plain": [
       "0    284315\n",
       "1       492\n",
       "Name: Class, dtype: int64"
      ]
     },
     "execution_count": 13,
     "metadata": {},
     "output_type": "execute_result"
    }
   ],
   "source": [
    "df.Class.value_counts()"
   ]
  },
  {
   "cell_type": "code",
   "execution_count": 14,
   "metadata": {},
   "outputs": [
    {
     "data": {
      "text/plain": [
       "Index(['V1', 'V2', 'V3', 'V4', 'V5', 'V6', 'V7', 'V8', 'V9', 'V10', 'V11',\n",
       "       'V12', 'V13', 'V14', 'V15', 'V16', 'V17', 'V18', 'V19', 'V20', 'V21',\n",
       "       'V22', 'V23', 'V24', 'V25', 'V26', 'V27', 'V28', 'Amount', 'Class'],\n",
       "      dtype='object')"
      ]
     },
     "execution_count": 14,
     "metadata": {},
     "output_type": "execute_result"
    }
   ],
   "source": [
    "df.columns"
   ]
  },
  {
   "cell_type": "code",
   "execution_count": 15,
   "metadata": {},
   "outputs": [],
   "source": [
    "# test1 = df.Class   # 输出的不是pd，只是列\n",
    "# test2 = df.Class.values.reshape(-1,20)   # 从“列”格式转成了pd格式\n",
    "# test2"
   ]
  },
  {
   "cell_type": "code",
   "execution_count": 16,
   "metadata": {},
   "outputs": [
    {
     "data": {
      "text/plain": [
       "array([[0],\n",
       "       [0],\n",
       "       [0],\n",
       "       ...,\n",
       "       [0],\n",
       "       [0],\n",
       "       [0]], dtype=int64)"
      ]
     },
     "execution_count": 16,
     "metadata": {},
     "output_type": "execute_result"
    }
   ],
   "source": [
    "Y_data = df.Class.values.reshape(-1,1)  # 转换成 pd type array\n",
    "Y_data"
   ]
  },
  {
   "cell_type": "code",
   "execution_count": 17,
   "metadata": {},
   "outputs": [
    {
     "data": {
      "text/plain": [
       "torch.Size([284807, 1])"
      ]
     },
     "execution_count": 17,
     "metadata": {},
     "output_type": "execute_result"
    }
   ],
   "source": [
    "# Y = torch.from_numpy(Y_data).type(torch.float32)  # 转换成tensor\n",
    "Y = torch.from_numpy(Y_data).type(torch.FloatTensor).to(device)\n",
    "Y.size()"
   ]
  },
  {
   "cell_type": "code",
   "execution_count": 18,
   "metadata": {},
   "outputs": [
    {
     "data": {
      "text/plain": [
       "(torch.Size([284807, 29]), torch.Size([284807, 29]))"
      ]
     },
     "execution_count": 18,
     "metadata": {},
     "output_type": "execute_result"
    }
   ],
   "source": [
    "X_columns = [c for c in df.columns if c != 'Class']\n",
    "X_data = df[X_columns]  \n",
    "# X = torch.from_numpy(X_data.values).type(torch.FloatTensor)\n",
    "X = torch.from_numpy(X_data.values).type(torch.float32).to(device)\n",
    "X.shape, X.size()"
   ]
  },
  {
   "cell_type": "code",
   "execution_count": 19,
   "metadata": {},
   "outputs": [],
   "source": [
    "import torch.nn.functional as F  # 避免relu和sigmoid的初始化，可以直接调用\n",
    "class Model(nn.Module):\n",
    "    def __init__(self):\n",
    "        super().__init__()      # 继承父类中所有的属性\n",
    "        self.liner_1 = nn.Linear(29, 64)   # X.size(1)= 20； 定义64个后续中间层\n",
    "        self.liner_2 = nn.Linear(64, 64)   # 接着，再定义64个后续中间层\n",
    "        self.liner_3 = nn.Linear(64, 1)   # 接着，再定义64个后续中间层\n",
    "    def forward(self, input):\n",
    "        x = F.relu( self.liner_1(input) )\n",
    "        x = F.relu( self.liner_2(x) )\n",
    "        x = F.sigmoid( self.liner_3(x) )\n",
    "        return x\n",
    "\n",
    "# 更加高级语言法，等价于Model\n",
    "class Model_high(nn.Module):\n",
    "    def __init__(self):\n",
    "        super().__init__()      # 继承父类中所有的属性\n",
    "        self.liner_1 = nn.Linear(20, 64)   # X.size(1)= 20； 定义64个后续中间层\n",
    "        self.liner_2 = nn.Linear(64, 64)   # 接着，再定义64个后续中间层\n",
    "        self.liner_3 = nn.Linear(64, 1)   # 接着，再定义64个后续中间层\n",
    "        self.relu = nn.ReLU()\n",
    "        self.sigmoid = nn.Sigmoid()\n",
    "    def forward(self, input):\n",
    "        x = self.Liner_1(input)\n",
    "        x = self.relu(x)\n",
    "        x = self.Liner_2(x)\n",
    "        x = self.relu(x)\n",
    "        x = self.Liner_3(x)\n",
    "        x = self.sigmoid(x)\n",
    "        return x"
   ]
  },
  {
   "cell_type": "code",
   "execution_count": 20,
   "metadata": {},
   "outputs": [],
   "source": [
    "lr = 0.0001\n",
    "def get_model():\n",
    "    model = Model()\n",
    "    opt = torch.optim.Adam(model.parameters(), lr=lr)\n",
    "    return model, opt"
   ]
  },
  {
   "cell_type": "code",
   "execution_count": 21,
   "metadata": {},
   "outputs": [
    {
     "name": "stdout",
     "output_type": "stream",
     "text": [
      "Model(\n",
      "  (liner_1): Linear(in_features=29, out_features=64, bias=True)\n",
      "  (liner_2): Linear(in_features=64, out_features=64, bias=True)\n",
      "  (liner_3): Linear(in_features=64, out_features=1, bias=True)\n",
      ") \n",
      "\n",
      "Adam (\n",
      "Parameter Group 0\n",
      "    amsgrad: False\n",
      "    betas: (0.9, 0.999)\n",
      "    capturable: False\n",
      "    differentiable: False\n",
      "    eps: 1e-08\n",
      "    foreach: None\n",
      "    fused: None\n",
      "    lr: 0.0001\n",
      "    maximize: False\n",
      "    weight_decay: 0\n",
      ")\n",
      "cuda:0\n"
     ]
    }
   ],
   "source": [
    "model, optim = get_model()\n",
    "model = model.to(device)\n",
    "print( model, \"\\n\" )\n",
    "print( optim )\n",
    "print(next(model.parameters()).device) # 应该打印 cuda:0"
   ]
  },
  {
   "cell_type": "code",
   "execution_count": 22,
   "metadata": {},
   "outputs": [],
   "source": [
    "loss_fn = nn.BCELoss().to(device)\n",
    "# batch = 64\n",
    "# batch = 4096\n",
    "batch = 32768\n",
    "# batch = 65536\n",
    "# batch = 524288 # 一次性加载\n",
    "no_of_batches = len(X)//batch\n",
    "epochs = 100\n",
    "from torch.utils.data import TensorDataset, DataLoader\n"
   ]
  },
  {
   "cell_type": "code",
   "execution_count": 23,
   "metadata": {},
   "outputs": [],
   "source": [
    "# Ver 4.1 - random_split Mode， charlie\n",
    "# from torch.utils.data import random_split    \n",
    "# def accuracy(y_pred, y_true):\n",
    "#     y_pred = (y_pred > 0.5).type(torch.int32)\n",
    "#     acc = (y_pred == y_true).float().mean()\n",
    "#     return acc\n",
    "\n",
    "# HR_dataset = TensorDataset(X, Y)\n",
    "# test_ds, test_ds = random_split(HR_dataset, [0.8, 0.2]) \n",
    "# HR_dataloader = DataLoader(test_ds, batch_size=batch, shuffle=True)  # shuffle乱序取数\n",
    "# epochMode = 41\n",
    "# if epochMode == 41:  \n",
    "#     for epoch in range( epochs ):\n",
    "#         # for x,y in HR_dataloader:\n",
    "#         for x,y in HR_dataloader:\n",
    "#             y_pred = model(x)\n",
    "#             loss = loss_fn(y_pred, y)\n",
    "#             optim.zero_grad()\n",
    "#             loss.backward()\n",
    "#             optim.step()\n",
    "#         with torch.no_grad():\n",
    "#             print('epoch: ', epoch, ' loss: ', loss_fn(model(X), Y).data.item() )"
   ]
  },
  {
   "cell_type": "code",
   "execution_count": 24,
   "metadata": {},
   "outputs": [],
   "source": [
    "# X"
   ]
  },
  {
   "cell_type": "code",
   "execution_count": 25,
   "metadata": {},
   "outputs": [],
   "source": [
    "# Ver 4.2 - sklearn mode\n",
    "def accuracy(y_pred, y_true):\n",
    "    y_pred = (y_pred > 0.5).type(torch.int32)\n",
    "    acc = (y_pred == y_true).float().mean()\n",
    "    return acc\n",
    "\n",
    "from sklearn.model_selection import train_test_split\n",
    "train_x, test_x, train_y, test_y = train_test_split(X_data, Y_data)\n",
    "train_x.shape, test_x.shape, train_y.shape, test_y.shape\n",
    "\n",
    "train_x = torch.from_numpy(train_x.values).type(torch.float32).to(device)\n",
    "train_y = torch.from_numpy(train_y).type(torch.float32).to(device)\n",
    "train_ds = TensorDataset(train_x, train_y)\n",
    "train_dl = DataLoader(train_ds, batch_size=batch, shuffle=True)  # 需要shuffle，乱序执行\n",
    "\n",
    "test_x = torch.from_numpy(test_x.values).type(torch.float32).to(device)\n",
    "test_y = torch.from_numpy(test_y).type(torch.float32).to(device)\n",
    "test_ds = TensorDataset(test_x, test_y)\n",
    "test_dl = DataLoader(test_ds, batch_size=batch, shuffle=False)  # 不需要shuffle，减少运算量"
   ]
  },
  {
   "cell_type": "markdown",
   "metadata": {},
   "source": [
    "计算正确率\n",
    "- Sigmoid()是0和1之间的值， 大于0.5为1，否则是0\n",
    "- out1 = (y-pred >0.5).type(torch.int32)  : 转换成0或1\n",
    "- (out1 == labels).float().mean()"
   ]
  },
  {
   "cell_type": "code",
   "execution_count": 26,
   "metadata": {},
   "outputs": [
    {
     "name": "stdout",
     "output_type": "stream",
     "text": [
      "epoch:  0  train_loss:  1.023  Acc： 0.0426 0  test_loss:  1.0378  Acc： 0.0426\n",
      "epoch:  1  train_loss:  0.7784  Acc： 0.1353 1  test_loss:  0.78  Acc： 0.1341\n",
      "epoch:  2  train_loss:  0.6514  Acc： 0.5366 2  test_loss:  0.6507  Acc： 0.5378\n",
      "epoch:  3  train_loss:  0.5904  Acc： 0.6576 3  test_loss:  0.5892  Acc： 0.6569\n",
      "epoch:  4  train_loss:  0.5515  Acc： 0.7205 4  test_loss:  0.5499  Acc： 0.7192\n",
      "epoch:  5  train_loss:  0.5235  Acc： 0.7636 5  test_loss:  0.5217  Acc： 0.7632\n",
      "epoch:  6  train_loss:  0.5018  Acc： 0.7981 6  test_loss:  0.4998  Acc： 0.7986\n",
      "epoch:  7  train_loss:  0.484  Acc： 0.8257 7  test_loss:  0.4818  Acc： 0.8261\n",
      "epoch:  8  train_loss:  0.4689  Acc： 0.851 8  test_loss:  0.4665  Acc： 0.8509\n",
      "epoch:  9  train_loss:  0.4557  Acc： 0.8729 9  test_loss:  0.4531  Acc： 0.8724\n",
      "epoch:  10  train_loss:  0.4438  Acc： 0.8933 10  test_loss:  0.4412  Acc： 0.8933\n",
      "epoch:  11  train_loss:  0.433  Acc： 0.9123 11  test_loss:  0.4303  Acc： 0.9124\n",
      "epoch:  12  train_loss:  0.423  Acc： 0.9281 12  test_loss:  0.4201  Acc： 0.9291\n",
      "epoch:  13  train_loss:  0.4135  Acc： 0.9422 13  test_loss:  0.4105  Acc： 0.9435\n",
      "epoch:  14  train_loss:  0.4045  Acc： 0.9546 14  test_loss:  0.4014  Acc： 0.9559\n",
      "epoch:  15  train_loss:  0.3959  Acc： 0.9661 15  test_loss:  0.3926  Acc： 0.967\n",
      "epoch:  16  train_loss:  0.3877  Acc： 0.9755 16  test_loss:  0.3843  Acc： 0.9761\n",
      "epoch:  17  train_loss:  0.3798  Acc： 0.9819 17  test_loss:  0.3764  Acc： 0.9827\n",
      "epoch:  18  train_loss:  0.3723  Acc： 0.9863 18  test_loss:  0.3688  Acc： 0.9871\n",
      "epoch:  19  train_loss:  0.3651  Acc： 0.9902 19  test_loss:  0.3614  Acc： 0.9904\n",
      "epoch:  20  train_loss:  0.3581  Acc： 0.9931 20  test_loss:  0.3544  Acc： 0.9931\n",
      "epoch:  21  train_loss:  0.3513  Acc： 0.9953 21  test_loss:  0.3474  Acc： 0.9955\n",
      "epoch:  22  train_loss:  0.3446  Acc： 0.9965 22  test_loss:  0.3406  Acc： 0.9967\n",
      "epoch:  23  train_loss:  0.338  Acc： 0.9973 23  test_loss:  0.3339  Acc： 0.9972\n",
      "epoch:  24  train_loss:  0.3315  Acc： 0.9978 24  test_loss:  0.3273  Acc： 0.9978\n",
      "epoch:  25  train_loss:  0.3251  Acc： 0.9981 25  test_loss:  0.3208  Acc： 0.998\n",
      "epoch:  26  train_loss:  0.3188  Acc： 0.9982 26  test_loss:  0.3143  Acc： 0.9982\n",
      "epoch:  27  train_loss:  0.3124  Acc： 0.9983 27  test_loss:  0.3079  Acc： 0.9982\n",
      "epoch:  28  train_loss:  0.306  Acc： 0.9983 28  test_loss:  0.3013  Acc： 0.9982\n",
      "epoch:  29  train_loss:  0.2996  Acc： 0.9983 29  test_loss:  0.2948  Acc： 0.9982\n",
      "epoch:  30  train_loss:  0.2932  Acc： 0.9983 30  test_loss:  0.2883  Acc： 0.9982\n",
      "epoch:  31  train_loss:  0.287  Acc： 0.9983 31  test_loss:  0.2818  Acc： 0.9982\n",
      "epoch:  32  train_loss:  0.2806  Acc： 0.9983 32  test_loss:  0.2754  Acc： 0.9982\n",
      "epoch:  33  train_loss:  0.2744  Acc： 0.9983 33  test_loss:  0.269  Acc： 0.9982\n",
      "epoch:  34  train_loss:  0.2683  Acc： 0.9983 34  test_loss:  0.2628  Acc： 0.9982\n",
      "epoch:  35  train_loss:  0.2624  Acc： 0.9983 35  test_loss:  0.2567  Acc： 0.9982\n",
      "epoch:  36  train_loss:  0.2566  Acc： 0.9983 36  test_loss:  0.2508  Acc： 0.9982\n",
      "epoch:  37  train_loss:  0.2509  Acc： 0.9983 37  test_loss:  0.245  Acc： 0.9982\n",
      "epoch:  38  train_loss:  0.2455  Acc： 0.9983 38  test_loss:  0.2393  Acc： 0.9982\n",
      "epoch:  39  train_loss:  0.2402  Acc： 0.9983 39  test_loss:  0.2338  Acc： 0.9982\n",
      "epoch:  40  train_loss:  0.235  Acc： 0.9983 40  test_loss:  0.2285  Acc： 0.9982\n",
      "epoch:  41  train_loss:  0.2299  Acc： 0.9983 41  test_loss:  0.2234  Acc： 0.9982\n",
      "epoch:  42  train_loss:  0.2251  Acc： 0.9983 42  test_loss:  0.2185  Acc： 0.9982\n",
      "epoch:  43  train_loss:  0.2204  Acc： 0.9983 43  test_loss:  0.2137  Acc： 0.9982\n",
      "epoch:  44  train_loss:  0.2159  Acc： 0.9983 44  test_loss:  0.2092  Acc： 0.9982\n",
      "epoch:  45  train_loss:  0.2116  Acc： 0.9983 45  test_loss:  0.2048  Acc： 0.9982\n",
      "epoch:  46  train_loss:  0.2075  Acc： 0.9983 46  test_loss:  0.2006  Acc： 0.9982\n",
      "epoch:  47  train_loss:  0.2034  Acc： 0.9983 47  test_loss:  0.1965  Acc： 0.9982\n",
      "epoch:  48  train_loss:  0.1996  Acc： 0.9983 48  test_loss:  0.1926  Acc： 0.9982\n",
      "epoch:  49  train_loss:  0.1958  Acc： 0.9983 49  test_loss:  0.1887  Acc： 0.9982\n",
      "epoch:  50  train_loss:  0.1921  Acc： 0.9983 50  test_loss:  0.185  Acc： 0.9982\n",
      "epoch:  51  train_loss:  0.1886  Acc： 0.9983 51  test_loss:  0.1816  Acc： 0.9982\n",
      "epoch:  52  train_loss:  0.1851  Acc： 0.9983 52  test_loss:  0.1781  Acc： 0.9982\n",
      "epoch:  53  train_loss:  0.1818  Acc： 0.9983 53  test_loss:  0.1747  Acc： 0.9982\n",
      "epoch:  54  train_loss:  0.1785  Acc： 0.9983 54  test_loss:  0.1714  Acc： 0.9982\n",
      "epoch:  55  train_loss:  0.1754  Acc： 0.9983 55  test_loss:  0.1681  Acc： 0.9982\n",
      "epoch:  56  train_loss:  0.1724  Acc： 0.9983 56  test_loss:  0.165  Acc： 0.9982\n",
      "epoch:  57  train_loss:  0.1694  Acc： 0.9983 57  test_loss:  0.1619  Acc： 0.9982\n",
      "epoch:  58  train_loss:  0.1665  Acc： 0.9983 58  test_loss:  0.159  Acc： 0.9982\n",
      "epoch:  59  train_loss:  0.1637  Acc： 0.9983 59  test_loss:  0.1561  Acc： 0.9982\n",
      "epoch:  60  train_loss:  0.1609  Acc： 0.9983 60  test_loss:  0.1532  Acc： 0.9982\n",
      "epoch:  61  train_loss:  0.1582  Acc： 0.9983 61  test_loss:  0.1505  Acc： 0.9982\n",
      "epoch:  62  train_loss:  0.1555  Acc： 0.9983 62  test_loss:  0.1478  Acc： 0.9982\n",
      "epoch:  63  train_loss:  0.153  Acc： 0.9983 63  test_loss:  0.1452  Acc： 0.9982\n",
      "epoch:  64  train_loss:  0.1507  Acc： 0.9983 64  test_loss:  0.1426  Acc： 0.9982\n",
      "epoch:  65  train_loss:  0.1482  Acc： 0.9983 65  test_loss:  0.1401  Acc： 0.9982\n",
      "epoch:  66  train_loss:  0.1458  Acc： 0.9983 66  test_loss:  0.1376  Acc： 0.9982\n",
      "epoch:  67  train_loss:  0.1434  Acc： 0.9983 67  test_loss:  0.1352  Acc： 0.9982\n",
      "epoch:  68  train_loss:  0.141  Acc： 0.9983 68  test_loss:  0.1329  Acc： 0.9982\n",
      "epoch:  69  train_loss:  0.1387  Acc： 0.9983 69  test_loss:  0.1306  Acc： 0.9982\n",
      "epoch:  70  train_loss:  0.1365  Acc： 0.9983 70  test_loss:  0.1284  Acc： 0.9982\n",
      "epoch:  71  train_loss:  0.1342  Acc： 0.9983 71  test_loss:  0.1262  Acc： 0.9982\n",
      "epoch:  72  train_loss:  0.1321  Acc： 0.9983 72  test_loss:  0.1242  Acc： 0.9982\n",
      "epoch:  73  train_loss:  0.13  Acc： 0.9983 73  test_loss:  0.122  Acc： 0.9982\n",
      "epoch:  74  train_loss:  0.1279  Acc： 0.9983 74  test_loss:  0.12  Acc： 0.9982\n",
      "epoch:  75  train_loss:  0.1259  Acc： 0.9983 75  test_loss:  0.1179  Acc： 0.9982\n",
      "epoch:  76  train_loss:  0.1239  Acc： 0.9983 76  test_loss:  0.1159  Acc： 0.9982\n",
      "epoch:  77  train_loss:  0.1219  Acc： 0.9983 77  test_loss:  0.114  Acc： 0.9982\n",
      "epoch:  78  train_loss:  0.12  Acc： 0.9983 78  test_loss:  0.1121  Acc： 0.9982\n",
      "epoch:  79  train_loss:  0.1181  Acc： 0.9983 79  test_loss:  0.1102  Acc： 0.9982\n",
      "epoch:  80  train_loss:  0.1163  Acc： 0.9983 80  test_loss:  0.1084  Acc： 0.9982\n",
      "epoch:  81  train_loss:  0.1145  Acc： 0.9983 81  test_loss:  0.1066  Acc： 0.9982\n",
      "epoch:  82  train_loss:  0.1127  Acc： 0.9983 82  test_loss:  0.1048  Acc： 0.9982\n",
      "epoch:  83  train_loss:  0.1109  Acc： 0.9983 83  test_loss:  0.1031  Acc： 0.9982\n",
      "epoch:  84  train_loss:  0.1093  Acc： 0.9983 84  test_loss:  0.1014  Acc： 0.9982\n",
      "epoch:  85  train_loss:  0.1076  Acc： 0.9983 85  test_loss:  0.0998  Acc： 0.9982\n",
      "epoch:  86  train_loss:  0.1059  Acc： 0.9983 86  test_loss:  0.0982  Acc： 0.9982\n",
      "epoch:  87  train_loss:  0.1043  Acc： 0.9983 87  test_loss:  0.0967  Acc： 0.9982\n",
      "epoch:  88  train_loss:  0.1028  Acc： 0.9983 88  test_loss:  0.0953  Acc： 0.9982\n",
      "epoch:  89  train_loss:  0.1012  Acc： 0.9983 89  test_loss:  0.0938  Acc： 0.9982\n",
      "epoch:  90  train_loss:  0.0997  Acc： 0.9983 90  test_loss:  0.0923  Acc： 0.9982\n",
      "epoch:  91  train_loss:  0.0983  Acc： 0.9983 91  test_loss:  0.0909  Acc： 0.9982\n",
      "epoch:  92  train_loss:  0.0968  Acc： 0.9983 92  test_loss:  0.0895  Acc： 0.9982\n",
      "epoch:  93  train_loss:  0.0954  Acc： 0.9983 93  test_loss:  0.0881  Acc： 0.9982\n",
      "epoch:  94  train_loss:  0.0941  Acc： 0.9983 94  test_loss:  0.0867  Acc： 0.9982\n",
      "epoch:  95  train_loss:  0.0929  Acc： 0.9983 95  test_loss:  0.0854  Acc： 0.9982\n",
      "epoch:  96  train_loss:  0.0916  Acc： 0.9983 96  test_loss:  0.0842  Acc： 0.9982\n",
      "epoch:  97  train_loss:  0.0904  Acc： 0.9983 97  test_loss:  0.0829  Acc： 0.9982\n",
      "epoch:  98  train_loss:  0.0892  Acc： 0.9983 98  test_loss:  0.0817  Acc： 0.9982\n",
      "epoch:  99  train_loss:  0.0879  Acc： 0.9983 99  test_loss:  0.0805  Acc： 0.9982\n",
      "CPU times: total: 1min 42s\n",
      "Wall time: 4min 18s\n"
     ]
    },
    {
     "data": {
      "text/plain": [
       "Model(\n",
       "  (liner_1): Linear(in_features=29, out_features=64, bias=True)\n",
       "  (liner_2): Linear(in_features=64, out_features=64, bias=True)\n",
       "  (liner_3): Linear(in_features=64, out_features=1, bias=True)\n",
       ")"
      ]
     },
     "execution_count": 26,
     "metadata": {},
     "output_type": "execute_result"
    }
   ],
   "source": [
    "%%time\n",
    "# epochs = 10\n",
    "for epoch in range( epochs ):\n",
    "    for x,y in train_dl:\n",
    "        y_pred = model(x)\n",
    "        loss = loss_fn(y_pred, y)\n",
    "        optim.zero_grad()\n",
    "        loss.backward()\n",
    "        optim.step()\n",
    "    with torch.no_grad():\n",
    "        epoch_accuracy = accuracy(model(train_x), train_y)\n",
    "        epoch_loss = loss_fn(model(train_x), train_y).data.item()\n",
    "        epoch_test_accuracy = accuracy(model(test_x), test_y)\n",
    "        epoch_test_loss = loss_fn(model(test_x), test_y).data.item()\n",
    "        print('epoch: ', \n",
    "            epoch, ' train_loss: ', round(epoch_loss,4), ' Acc：', round(epoch_accuracy.item(),4),\n",
    "            epoch, ' test_loss: ', round(epoch_test_loss,4), ' Acc：', round(epoch_test_accuracy.item(),4) )\n",
    "model"
   ]
  },
  {
   "cell_type": "code",
   "execution_count": 27,
   "metadata": {},
   "outputs": [
    {
     "name": "stdout",
     "output_type": "stream",
     "text": [
      "epoch:   train_loss:  0.0879  Acc： 0.9983  test_loss:  0.0805  Acc： 0.9982\n"
     ]
    }
   ],
   "source": [
    "# 最后一次计算结果：\n",
    "\n",
    "epoch_accuracy = accuracy(model(train_x), train_y)\n",
    "epoch_loss = loss_fn(model(train_x), train_y).data.item()\n",
    "epoch_test_accuracy = accuracy(model(test_x), test_y)\n",
    "epoch_test_loss = loss_fn(model(test_x), test_y).data.item()\n",
    "print('epoch: ', \n",
    "    ' train_loss: ', round(epoch_loss,4), ' Acc：', round(epoch_accuracy.item(),4),\n",
    "    ' test_loss: ', round(epoch_test_loss,4), ' Acc：', round(epoch_test_accuracy.item(),4) )"
   ]
  },
  {
   "cell_type": "code",
   "execution_count": 28,
   "metadata": {},
   "outputs": [],
   "source": [
    "# print( loss_fn(model(train_x), train_y).data.item() )\n",
    "# accuracyRate = ((model(train_x).data.numpy()).astype('int') == train_y.numpy().astype('int')).mean()\n",
    "# print(\"训练数据 - 准确率%：\", accuracyRate*100) \n",
    "\n",
    "# print( loss_fn(model(test_x), test_y).data.item() )\n",
    "# accuracyRate = ((model(test_x).data.numpy()).astype('int') == test_y.numpy().astype('int')).mean()\n",
    "# print(\"测试数据 - 准确率%：\", accuracyRate*100) "
   ]
  },
  {
   "cell_type": "markdown",
   "metadata": {},
   "source": [
    "- 数据准确性验证\n",
    "- 过拟合/欠拟合\n",
    "    - 过拟合：对于已知数据过度拟合，对未知数据预测性差\n",
    "    - 欠拟合：对于已知数据拟合不够，对未知数据预测性差"
   ]
  },
  {
   "cell_type": "markdown",
   "metadata": {},
   "source": []
  },
  {
   "cell_type": "code",
   "execution_count": null,
   "metadata": {},
   "outputs": [],
   "source": []
  }
 ],
 "metadata": {
  "kernelspec": {
   "display_name": "Python 3 (ipykernel)",
   "language": "python",
   "name": "python3"
  },
  "language_info": {
   "codemirror_mode": {
    "name": "ipython",
    "version": 3
   },
   "file_extension": ".py",
   "mimetype": "text/x-python",
   "name": "python",
   "nbconvert_exporter": "python",
   "pygments_lexer": "ipython3",
   "version": "3.10.11"
  }
 },
 "nbformat": 4,
 "nbformat_minor": 4
}
