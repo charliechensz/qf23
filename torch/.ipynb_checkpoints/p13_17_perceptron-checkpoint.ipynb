{
 "cells": [
  {
   "cell_type": "code",
   "execution_count": 1,
   "metadata": {},
   "outputs": [],
   "source": [
    "import torch\n",
    "from torch import nn\n",
    "import numpy as np\n",
    "import pandas as pd\n",
    "import matplotlib.pyplot as plt\n",
    "# %matplotlib inline\n"
   ]
  },
  {
   "cell_type": "code",
   "execution_count": 2,
   "metadata": {},
   "outputs": [],
   "source": [
    "# df = pd.read_csv(\"../dataset/hr_train.csv\")\n",
    "# df.head()\n",
    "# df.info()\n",
    "# df.sales.unique()\n",
    "# df.salary.unique()\n",
    "# df.groupby(['salary', 'sales']).size()\n",
    "\n",
    "# pd.get_dummies(df.salary)\n",
    "# df = df.join(pd.get_dummies(df.salary))\n",
    "# del df['salary']\n",
    "\n",
    "# pd.get_dummies(df.sales)  # 读日编码？？？\n",
    "# df = df.rename(columns={'sales':'department'})\n",
    "# df = df.join(pd.get_dummies(df.department))\n",
    "# del df['department']\n",
    "# df.to_csv(\"../dataset/hr_train_ok.csv\", index=False)"
   ]
  },
  {
   "cell_type": "code",
   "execution_count": 3,
   "metadata": {},
   "outputs": [],
   "source": [
    "df = pd.read_csv(\"../dataset/hr_test_ok.csv\")\n",
    "del df['id']"
   ]
  },
  {
   "cell_type": "code",
   "execution_count": 4,
   "metadata": {},
   "outputs": [
    {
     "name": "stdout",
     "output_type": "stream",
     "text": [
      "<class 'pandas.core.frame.DataFrame'>\n",
      "RangeIndex: 11999 entries, 0 to 11998\n",
      "Data columns (total 21 columns):\n",
      " #   Column                 Non-Null Count  Dtype  \n",
      "---  ------                 --------------  -----  \n",
      " 0   satisfaction_level     11999 non-null  float64\n",
      " 1   last_evaluation        11999 non-null  float64\n",
      " 2   number_project         11999 non-null  int64  \n",
      " 3   average_montly_hours   11999 non-null  int64  \n",
      " 4   time_spend_company     11999 non-null  int64  \n",
      " 5   Work_accident          11999 non-null  int64  \n",
      " 6   left                   11999 non-null  int64  \n",
      " 7   promotion_last_5years  11999 non-null  int64  \n",
      " 8   high                   11999 non-null  int64  \n",
      " 9   low                    11999 non-null  int64  \n",
      " 10  medium                 11999 non-null  int64  \n",
      " 11  IT                     11999 non-null  int64  \n",
      " 12  RandD                  11999 non-null  int64  \n",
      " 13  accounting             11999 non-null  int64  \n",
      " 14  hr                     11999 non-null  int64  \n",
      " 15  management             11999 non-null  int64  \n",
      " 16  marketing              11999 non-null  int64  \n",
      " 17  product_mng            11999 non-null  int64  \n",
      " 18  sales                  11999 non-null  int64  \n",
      " 19  support                11999 non-null  int64  \n",
      " 20  technical              11999 non-null  int64  \n",
      "dtypes: float64(2), int64(19)\n",
      "memory usage: 1.9 MB\n"
     ]
    }
   ],
   "source": [
    "df.head()\n",
    "df.info()"
   ]
  },
  {
   "cell_type": "code",
   "execution_count": 5,
   "metadata": {},
   "outputs": [
    {
     "data": {
      "text/plain": [
       "0    9129\n",
       "1    2870\n",
       "Name: left, dtype: int64"
      ]
     },
     "execution_count": 5,
     "metadata": {},
     "output_type": "execute_result"
    }
   ],
   "source": [
    "# df.left.unique()\n",
    "df.left.value_counts()\n",
    "# len(df)  # df.size"
   ]
  },
  {
   "cell_type": "code",
   "execution_count": 6,
   "metadata": {},
   "outputs": [
    {
     "data": {
      "text/plain": [
       "Index(['satisfaction_level', 'last_evaluation', 'number_project',\n",
       "       'average_montly_hours', 'time_spend_company', 'Work_accident', 'left',\n",
       "       'promotion_last_5years', 'high', 'low', 'medium', 'IT', 'RandD',\n",
       "       'accounting', 'hr', 'management', 'marketing', 'product_mng', 'sales',\n",
       "       'support', 'technical'],\n",
       "      dtype='object')"
      ]
     },
     "execution_count": 6,
     "metadata": {},
     "output_type": "execute_result"
    }
   ],
   "source": [
    "df.columns"
   ]
  },
  {
   "cell_type": "code",
   "execution_count": 31,
   "metadata": {},
   "outputs": [
    {
     "data": {
      "text/plain": [
       "torch.Size([11999, 1])"
      ]
     },
     "execution_count": 31,
     "metadata": {},
     "output_type": "execute_result"
    }
   ],
   "source": [
    "Y_data = df.left.values.reshape(-1,1)  # pd type\n",
    "# Y_data.shape\n",
    "Y = torch.from_numpy(Y_data).type(torch.float32)\n",
    "# Y = torch.from_numpy(Y_data).type(torch.FloatTensor)\n",
    "Y.size()"
   ]
  },
  {
   "cell_type": "code",
   "execution_count": 34,
   "metadata": {},
   "outputs": [
    {
     "data": {
      "text/plain": [
       "11999"
      ]
     },
     "execution_count": 34,
     "metadata": {},
     "output_type": "execute_result"
    }
   ],
   "source": [
    "X_columns = [c for c in df.columns if c != 'left']\n",
    "X_data = df[X_columns]  \n",
    "X = torch.from_numpy(X_data.values).type(torch.float32)\n",
    "# X = torch.from_numpy(X_data.values).type(torch.FloatTensor)\n",
    "X.size(0)"
   ]
  },
  {
   "cell_type": "code",
   "execution_count": 35,
   "metadata": {},
   "outputs": [
    {
     "name": "stdout",
     "output_type": "stream",
     "text": [
      "<class 'pandas.core.frame.DataFrame'>\n",
      "RangeIndex: 11999 entries, 0 to 11998\n",
      "Data columns (total 20 columns):\n",
      " #   Column                 Non-Null Count  Dtype  \n",
      "---  ------                 --------------  -----  \n",
      " 0   satisfaction_level     11999 non-null  float64\n",
      " 1   last_evaluation        11999 non-null  float64\n",
      " 2   number_project         11999 non-null  int64  \n",
      " 3   average_montly_hours   11999 non-null  int64  \n",
      " 4   time_spend_company     11999 non-null  int64  \n",
      " 5   Work_accident          11999 non-null  int64  \n",
      " 6   promotion_last_5years  11999 non-null  int64  \n",
      " 7   high                   11999 non-null  int64  \n",
      " 8   low                    11999 non-null  int64  \n",
      " 9   medium                 11999 non-null  int64  \n",
      " 10  IT                     11999 non-null  int64  \n",
      " 11  RandD                  11999 non-null  int64  \n",
      " 12  accounting             11999 non-null  int64  \n",
      " 13  hr                     11999 non-null  int64  \n",
      " 14  management             11999 non-null  int64  \n",
      " 15  marketing              11999 non-null  int64  \n",
      " 16  product_mng            11999 non-null  int64  \n",
      " 17  sales                  11999 non-null  int64  \n",
      " 18  support                11999 non-null  int64  \n",
      " 19  technical              11999 non-null  int64  \n",
      "dtypes: float64(2), int64(18)\n",
      "memory usage: 1.8 MB\n"
     ]
    }
   ],
   "source": [
    "X_data.info()\n"
   ]
  },
  {
   "cell_type": "code",
   "execution_count": 9,
   "metadata": {},
   "outputs": [],
   "source": [
    "import torch.nn.functional as F  # 避免relu和sigmoid的初始化，可以直接调用\n",
    "\n",
    "class Model(nn.Module):\n",
    "    def __init__(self):\n",
    "        super().__init__()      # 继承父类中所有的属性\n",
    "        self.liner_1 = nn.Linear(20, 64)   # X.size(1)= 20； 定义64个后续中间层\n",
    "        self.liner_2 = nn.Linear(64, 64)   # 接着，再定义64个后续中间层\n",
    "        self.liner_3 = nn.Linear(64, 1)   # 接着，再定义64个后续中间层\n",
    "    def forward(self, input):\n",
    "        x = F.relu( self.liner_1(input) )\n",
    "        x = F.relu( self.liner_2(x) )\n",
    "        x = F.sigmoid( self.liner_3(x) )\n",
    "        return x\n",
    "\n",
    "# 更加高级语言法，等价于Model\n",
    "class Model_high(nn.Module):\n",
    "    def __init__(self):\n",
    "        super().__init__()      # 继承父类中所有的属性\n",
    "        self.liner_1 = nn.Linear(20, 64)   # X.size(1)= 20； 定义64个后续中间层\n",
    "        self.liner_2 = nn.Linear(64, 64)   # 接着，再定义64个后续中间层\n",
    "        self.liner_3 = nn.Linear(64, 1)   # 接着，再定义64个后续中间层\n",
    "        self.relu = nn.ReLU()\n",
    "        self.sigmoid = nn.Sigmoid()\n",
    "    def forward(self, input):\n",
    "        x = self.Liner_1(input)\n",
    "        x = self.relu(x)\n",
    "        x = self.Liner_2(x)\n",
    "        x = self.relu(x)\n",
    "        x = self.Liner_3(x)\n",
    "        x = self.sigmoid(x)\n",
    "        return x\n",
    "\n"
   ]
  },
  {
   "cell_type": "code",
   "execution_count": 10,
   "metadata": {},
   "outputs": [],
   "source": [
    "lr = 0.0001\n",
    "def get_model():\n",
    "    model = Model()\n",
    "    opt = torch.optim.Adam(model.parameters(), lr=lr)\n",
    "    return model, opt"
   ]
  },
  {
   "cell_type": "code",
   "execution_count": 11,
   "metadata": {},
   "outputs": [
    {
     "name": "stdout",
     "output_type": "stream",
     "text": [
      "Model(\n",
      "  (liner_1): Linear(in_features=20, out_features=64, bias=True)\n",
      "  (liner_2): Linear(in_features=64, out_features=64, bias=True)\n",
      "  (liner_3): Linear(in_features=64, out_features=1, bias=True)\n",
      ") \n",
      "\n",
      "Adam (\n",
      "Parameter Group 0\n",
      "    amsgrad: False\n",
      "    betas: (0.9, 0.999)\n",
      "    capturable: False\n",
      "    differentiable: False\n",
      "    eps: 1e-08\n",
      "    foreach: None\n",
      "    fused: None\n",
      "    lr: 0.0001\n",
      "    maximize: False\n",
      "    weight_decay: 0\n",
      ")\n"
     ]
    }
   ],
   "source": [
    "model, optim = get_model()\n",
    "print( model, \"\\n\" )\n",
    "print( optim )"
   ]
  },
  {
   "cell_type": "code",
   "execution_count": 12,
   "metadata": {},
   "outputs": [],
   "source": [
    "loss_fn = nn.BCELoss()\n",
    "batch = 64\n",
    "no_of_batches = len(X)//batch\n",
    "epochs = 10\n",
    "from torch.utils.data import TensorDataset, DataLoader\n",
    "\n",
    "epochMode = 4"
   ]
  },
  {
   "cell_type": "code",
   "execution_count": 13,
   "metadata": {},
   "outputs": [],
   "source": [
    "# Ver 01 - OK\n",
    "if epochMode == 1:\n",
    "    for epoch in range( epochs ):\n",
    "        for i in range( no_of_batches):\n",
    "            start = i*batch\n",
    "            end = start + batch\n",
    "            x = X[start: end]\n",
    "            y = Y[start: end]\n",
    "            y_pred = model(x)\n",
    "            loss = loss_fn(y_pred, y)\n",
    "            optim.zero_grad()\n",
    "            loss.backward()\n",
    "            optim.step()\n",
    "        with torch.no_grad():\n",
    "            print('epoch: ', epoch, ' loss: ', loss_fn(model(X), Y).data.item() )\n",
    "\n",
    "\n"
   ]
  },
  {
   "cell_type": "code",
   "execution_count": 14,
   "metadata": {},
   "outputs": [],
   "source": [
    "# Ver 02 - TensorDataset 整合x和y张量，简化\n",
    "if epochMode == 2:\n",
    "    HR_dataset = TensorDataset(X, Y)\n",
    "    # len(HR_dataset)\n",
    "    # HR_dataset[0:2]\n",
    "    for epoch in range( epochs ):\n",
    "        for i in range( no_of_batches):\n",
    "            x, y = HR_dataset[i*batch: i*batch+batch]\n",
    "            y_pred = model(x)\n",
    "            loss = loss_fn(y_pred, y)\n",
    "            optim.zero_grad()\n",
    "            loss.backward()\n",
    "            optim.step()\n",
    "        with torch.no_grad():\n",
    "            print('epoch: ', epoch, ' loss: ', loss_fn(model(X), Y).data.item() )"
   ]
  },
  {
   "cell_type": "code",
   "execution_count": 15,
   "metadata": {},
   "outputs": [
    {
     "name": "stdout",
     "output_type": "stream",
     "text": [
      "epoch:  0  loss:  0.5640181303024292\n",
      "epoch:  1  loss:  0.5632742643356323\n",
      "epoch:  2  loss:  0.5601689219474792\n",
      "epoch:  3  loss:  0.558043897151947\n",
      "epoch:  4  loss:  0.5556169748306274\n",
      "epoch:  5  loss:  0.5556877255439758\n",
      "epoch:  6  loss:  0.5567185878753662\n",
      "epoch:  7  loss:  0.5471006631851196\n",
      "epoch:  8  loss:  0.5431646704673767\n",
      "epoch:  9  loss:  0.539611279964447\n"
     ]
    }
   ],
   "source": [
    "# Ver 03 - DadaLoader 进一步简化数据分批和乱序执行\n",
    "epochMode = 3\n",
    "if epochMode == 3:\n",
    "    HR_dataset = TensorDataset(X, Y)\n",
    "    HR_dataloader = DataLoader(HR_dataset, batch_size=batch, shuffle=True)  # shuffle乱序取数\n",
    "    for epoch in range( epochs ):\n",
    "        for x,y in HR_dataloader:\n",
    "            y_pred = model(x)\n",
    "            loss = loss_fn(y_pred, y)\n",
    "            optim.zero_grad()\n",
    "            loss.backward()\n",
    "            optim.step()\n",
    "        with torch.no_grad():\n",
    "            print('epoch: ', epoch, ' loss: ', loss_fn(model(X), Y).data.item() )"
   ]
  },
  {
   "cell_type": "code",
   "execution_count": 87,
   "metadata": {},
   "outputs": [
    {
     "name": "stdout",
     "output_type": "stream",
     "text": [
      "epoch:  0  loss:  0.27195364236831665\n",
      "epoch:  1  loss:  0.2730625569820404\n",
      "epoch:  2  loss:  0.27133694291114807\n",
      "epoch:  3  loss:  0.27668464183807373\n",
      "epoch:  4  loss:  0.2690553665161133\n",
      "epoch:  5  loss:  0.2692515552043915\n",
      "epoch:  6  loss:  0.2682468593120575\n",
      "epoch:  7  loss:  0.2718726396560669\n",
      "epoch:  8  loss:  0.2740158140659332\n",
      "epoch:  9  loss:  0.268822580575943\n"
     ]
    }
   ],
   "source": [
    "# Ver 4.1 - random_split Mode， charlie\n",
    "from torch.utils.data import random_split    \n",
    "def accuracy(y_pred, y_true):\n",
    "    y_pred = (y_pred > 0.5).type(torch.int32)\n",
    "    acc = (y_pred == y_true).float().mean()\n",
    "    return acc\n",
    "\n",
    "HR_dataset = TensorDataset(X, Y)\n",
    "test_ds, test_ds = random_split(HR_dataset, [0.8, 0.2]) \n",
    "HR_dataloader = DataLoader(test_ds, batch_size=batch, shuffle=True)  # shuffle乱序取数\n",
    "epochMode = 41\n",
    "if epochMode == 41:  \n",
    "    for epoch in range( epochs ):\n",
    "        # for x,y in HR_dataloader:\n",
    "        for x,y in HR_dataloader:\n",
    "            y_pred = model(x)\n",
    "            loss = loss_fn(y_pred, y)\n",
    "            optim.zero_grad()\n",
    "            loss.backward()\n",
    "            optim.step()\n",
    "        with torch.no_grad():\n",
    "            print('epoch: ', epoch, ' loss: ', loss_fn(model(X), Y).data.item() )"
   ]
  },
  {
   "cell_type": "code",
   "execution_count": 84,
   "metadata": {},
   "outputs": [],
   "source": [
    "# Ver 4.2 - sklearn mode\n",
    "def accuracy(y_pred, y_true):\n",
    "    y_pred = (y_pred > 0.5).type(torch.int32)\n",
    "    acc = (y_pred == y_true).float().mean()\n",
    "    return acc\n",
    "\n",
    "from sklearn.model_selection import train_test_split\n",
    "train_x, test_x, train_y, test_y = train_test_split(X_data, Y_data)\n",
    "train_x.shape, test_x.shape, train_y.shape, test_y.shape\n",
    "\n",
    "train_x = torch.from_numpy(train_x.values).type(torch.float32)\n",
    "train_y = torch.from_numpy(train_y).type(torch.float32)\n",
    "train_ds = TensorDataset(train_x, train_y)\n",
    "train_dl = DataLoader(train_ds, batch_size=batch, shuffle=True)  # 需要shuffle，乱序执行\n",
    "\n",
    "test_x = torch.from_numpy(test_x.values).type(torch.float32)\n",
    "test_y = torch.from_numpy(test_y).type(torch.float32)\n",
    "test_ds = TensorDataset(test_x, test_y)\n",
    "test_dl = DataLoader(test_ds, batch_size=batch, shuffle=False)  # 不需要shuffle，减少运算量"
   ]
  },
  {
   "cell_type": "code",
   "execution_count": 106,
   "metadata": {},
   "outputs": [
    {
     "data": {
      "text/plain": [
       "tensor([[0.4400, 0.5100, 2.0000,  ..., 0.0000, 0.0000, 0.0000],\n",
       "        [0.9900, 0.9400, 5.0000,  ..., 0.0000, 0.0000, 0.0000],\n",
       "        [0.9300, 0.5300, 3.0000,  ..., 0.0000, 0.0000, 0.0000],\n",
       "        ...,\n",
       "        [0.3900, 0.5400, 2.0000,  ..., 0.0000, 0.0000, 0.0000],\n",
       "        [0.8000, 0.7900, 4.0000,  ..., 0.0000, 0.0000, 0.0000],\n",
       "        [0.5500, 0.9600, 4.0000,  ..., 1.0000, 0.0000, 0.0000]])"
      ]
     },
     "execution_count": 106,
     "metadata": {},
     "output_type": "execute_result"
    }
   ],
   "source": [
    "\n",
    "# train_x.shape, test_x.shape\n",
    "# train_x, test_y\n",
    "# train_x.data"
   ]
  },
  {
   "cell_type": "code",
   "execution_count": 90,
   "metadata": {},
   "outputs": [
    {
     "name": "stdout",
     "output_type": "stream",
     "text": [
      "epoch:  0  loss:  0.2580537796020508\n",
      "epoch:  1  loss:  0.2614629864692688\n",
      "epoch:  2  loss:  0.26302599906921387\n",
      "epoch:  3  loss:  0.262056827545166\n",
      "epoch:  4  loss:  0.26073890924453735\n",
      "epoch:  5  loss:  0.25446781516075134\n",
      "epoch:  6  loss:  0.25732406973838806\n",
      "epoch:  7  loss:  0.25297555327415466\n",
      "epoch:  8  loss:  0.254817932844162\n",
      "epoch:  9  loss:  0.2522946298122406\n"
     ]
    },
    {
     "data": {
      "text/plain": [
       "Model(\n",
       "  (liner_1): Linear(in_features=20, out_features=64, bias=True)\n",
       "  (liner_2): Linear(in_features=64, out_features=64, bias=True)\n",
       "  (liner_3): Linear(in_features=64, out_features=1, bias=True)\n",
       ")"
      ]
     },
     "execution_count": 90,
     "metadata": {},
     "output_type": "execute_result"
    }
   ],
   "source": [
    "\n",
    "epochMode = 42\n",
    "if epochMode == 42:  \n",
    "    for epoch in range( epochs ):\n",
    "        # for x,y in HR_dataloader:\n",
    "        for x,y in train_dl:\n",
    "            y_pred = model(x)\n",
    "            loss = loss_fn(y_pred, y)\n",
    "            optim.zero_grad()\n",
    "            loss.backward()\n",
    "            optim.step()\n",
    "        with torch.no_grad():\n",
    "            print('epoch: ', epoch, ' loss: ', loss_fn(model(X), Y).data.item() )\n",
    "model"
   ]
  },
  {
   "cell_type": "code",
   "execution_count": 107,
   "metadata": {},
   "outputs": [
    {
     "name": "stdout",
     "output_type": "stream",
     "text": [
      "tensor(0.2477, grad_fn=<BinaryCrossEntropyBackward0>)\n"
     ]
    }
   ],
   "source": [
    "print( loss_fn(model(train_x), train_y) )\n",
    "# print( loss_fn(model(train_x), train_y).data.item() )"
   ]
  },
  {
   "cell_type": "code",
   "execution_count": 95,
   "metadata": {},
   "outputs": [
    {
     "name": "stdout",
     "output_type": "stream",
     "text": [
      "0.24771717190742493\n",
      "训练数据 - 准确率%： 76.40848983220357\n"
     ]
    }
   ],
   "source": [
    "print( loss_fn(model(train_x), train_y).data.item() )\n",
    "accuracyRate = ((model(train_x).data.numpy()).astype('int') == train_y.numpy().astype('int')).mean()\n",
    "print(\"训练数据 - 准确率%：\", accuracyRate*100) "
   ]
  },
  {
   "cell_type": "code",
   "execution_count": 96,
   "metadata": {},
   "outputs": [
    {
     "name": "stdout",
     "output_type": "stream",
     "text": [
      "0.2660254240036011\n",
      "测试数据 - 准确率%： 75.1\n"
     ]
    }
   ],
   "source": [
    "print( loss_fn(model(test_x), test_y).data.item() )\n",
    "accuracyRate = ((model(test_x).data.numpy()).astype('int') == test_y.numpy().astype('int')).mean()\n",
    "print(\"测试数据 - 准确率%：\", accuracyRate*100) "
   ]
  },
  {
   "cell_type": "markdown",
   "metadata": {},
   "source": [
    "- 数据准确性验证\n",
    "- 过拟合/欠拟合\n",
    "    - 过拟合：对于已知数据过度拟合，对未知数据预测性差\n",
    "    - 欠拟合：对于已知数据拟合不够，对未知数据预测性差"
   ]
  },
  {
   "cell_type": "markdown",
   "metadata": {},
   "source": []
  },
  {
   "cell_type": "code",
   "execution_count": null,
   "metadata": {},
   "outputs": [],
   "source": [
    "# !conda list\n",
    "# from sklearn.model_selection import train_test_split\n",
    "# train_x, test_x, train_y, test_y = train_test_split(X_data, Y_data)\n",
    "# train_x = torch.from_numpy(train_x).type(torch.float32)\n",
    "# test_x = torch.from_numpy(test_x).type(torch.float32)\n",
    "# train_y = torch.from_numpy(train_y).type(torch.float32)\n",
    "# test_y = torch.from_numpy(test_y).type(torch.float32)"
   ]
  },
  {
   "cell_type": "code",
   "execution_count": null,
   "metadata": {},
   "outputs": [],
   "source": [
    "# (y_pred == y).float32"
   ]
  },
  {
   "cell_type": "code",
   "execution_count": null,
   "metadata": {},
   "outputs": [],
   "source": []
  }
 ],
 "metadata": {
  "kernelspec": {
   "display_name": "stkdata",
   "language": "python",
   "name": "python3"
  },
  "language_info": {
   "codemirror_mode": {
    "name": "ipython",
    "version": 3
   },
   "file_extension": ".py",
   "mimetype": "text/x-python",
   "name": "python",
   "nbconvert_exporter": "python",
   "pygments_lexer": "ipython3",
   "version": "3.10.11"
  },
  "orig_nbformat": 4
 },
 "nbformat": 4,
 "nbformat_minor": 2
}
