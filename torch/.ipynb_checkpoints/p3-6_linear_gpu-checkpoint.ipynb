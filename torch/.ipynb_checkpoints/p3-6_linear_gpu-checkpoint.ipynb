{
 "cells": [
  {
   "cell_type": "code",
   "execution_count": 1,
   "metadata": {},
   "outputs": [],
   "source": [
    "import torch\n",
    "from torch import nn\n",
    "import torch.optim as optim\n",
    "import numpy as np\n",
    "import pandas as pd\n",
    "import matplotlib.pyplot as plt"
   ]
  },
  {
   "cell_type": "code",
   "execution_count": 2,
   "metadata": {},
   "outputs": [
    {
     "data": {
      "text/plain": [
       "device(type='cuda', index=0)"
      ]
     },
     "execution_count": 2,
     "metadata": {},
     "output_type": "execute_result"
    }
   ],
   "source": [
    "# 导入cuda和cudnn    \n",
    "# 其中`import torch.backends.cudnn as cudnn`用于导入cudnn库,cudnn.benchmark = True和`cudnn.deterministic = True `分别启用cudnn自动加速和确定性模式。\n",
    "# 然后使用`device = torch.device(\"cuda:0\")`指定使用GPU 0,将模型和数据移到GPU上。在训练循环中,optimizer.step()也会自动计算在GPU上。\n",
    "# 希望这能帮你导入cuda和cudnn库!有任何疑问欢迎继续提。\n",
    "import torch.backends.cudnn as cudnn\n",
    "cudnn.benchmark = True  \n",
    "cudnn.deterministic = True   \n",
    "device = torch.device(\"cuda:0\" if torch.cuda.is_available() else \"cpu\")\n",
    "device"
   ]
  },
  {
   "cell_type": "code",
   "execution_count": 3,
   "metadata": {},
   "outputs": [],
   "source": [
    "# 数据预处理 -- 占很大的比例\n",
    "df = pd.read_csv('../dataset/Income.csv')\n",
    "# df.info()\n",
    "# X = torch.from_numpy(df.Education.values.reshape(-1,1).astype(np.float32))\n",
    "# Y = torch.from_numpy(df.Income.values.reshape(-1,1).astype(np.float32))\n",
    "X = torch.from_numpy(df.Education.values.reshape(-1,1).astype(np.float32)).to(device)\n",
    "Y = torch.from_numpy(df.Income.values.reshape(-1,1).astype(np.float32)).to(device)\n",
    "# X"
   ]
  },
  {
   "cell_type": "code",
   "execution_count": 5,
   "metadata": {},
   "outputs": [],
   "source": [
    "%%time\n",
    "# 初始化训练模型、损失函数和优化方法\n",
    "model = nn.Linear(1, 1) # 定义一个线性回归模型； output = w@input + b 等价于 model(input)\n",
    "model = model.to(device)  # 移动到GPU\n",
    "loss_fn = nn.MSELoss()  # 定义损失函数，均方误差模式\n",
    "opt = torch.optim.SGD(model.parameters(), lr=0.0001)  # 优化model中的参数， lr=学习速率\n",
    "# 运行和优化\n",
    "for epoch in range(100):\n",
    "    for x,y in zip(X, Y):\n",
    "        y_pred = model(x)           # 使用定义的预测模型\n",
    "        loss = loss_fn(y, y_pred)   # 根据预测结果计算损失\n",
    "        opt.zero_grad()             # 把变量梯度清0\n",
    "        loss.backward()             # 求解梯度\n",
    "        opt.step()                  # 优化模型参数，按照step\n"
   ]
  },
  {
   "cell_type": "code",
   "execution_count": null,
   "metadata": {},
   "outputs": [],
   "source": [
    "print(model.weight)\n",
    "print(model.bias)"
   ]
  },
  {
   "cell_type": "code",
   "execution_count": null,
   "metadata": {},
   "outputs": [],
   "source": [
    "plt.xlabel('Education')\n",
    "plt.ylabel('Income')\n",
    "plt.scatter(df.Education, df.Income)\n",
    "plt.plot( X.numpy(), model(X).data.numpy(), c='r' )\n",
    "plt.show()"
   ]
  },
  {
   "cell_type": "code",
   "execution_count": null,
   "metadata": {},
   "outputs": [],
   "source": []
  }
 ],
 "metadata": {
  "kernelspec": {
   "display_name": "stkdata",
   "language": "python",
   "name": "python3"
  },
  "language_info": {
   "codemirror_mode": {
    "name": "ipython",
    "version": 3
   },
   "file_extension": ".py",
   "mimetype": "text/x-python",
   "name": "python",
   "nbconvert_exporter": "python",
   "pygments_lexer": "ipython3",
   "version": "3.10.11"
  },
  "orig_nbformat": 4
 },
 "nbformat": 4,
 "nbformat_minor": 2
}
