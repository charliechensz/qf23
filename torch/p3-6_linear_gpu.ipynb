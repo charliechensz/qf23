{
 "cells": [
  {
   "cell_type": "code",
   "execution_count": 1,
   "metadata": {
    "tags": []
   },
   "outputs": [],
   "source": [
    "import torch\n",
    "from torch import nn\n",
    "import torch.optim as optim\n",
    "import numpy as np\n",
    "import pandas as pd\n",
    "import matplotlib.pyplot as plt"
   ]
  },
  {
   "cell_type": "code",
   "execution_count": 2,
   "metadata": {
    "tags": []
   },
   "outputs": [
    {
     "data": {
      "text/plain": [
       "device(type='cuda', index=0)"
      ]
     },
     "execution_count": 2,
     "metadata": {},
     "output_type": "execute_result"
    }
   ],
   "source": [
    "# 导入cuda和cudnn    \n",
    "# 其中`import torch.backends.cudnn as cudnn`用于导入cudnn库,cudnn.benchmark = True和`cudnn.deterministic = True `分别启用cudnn自动加速和确定性模式。\n",
    "# 然后使用`device = torch.device(\"cuda:0\")`指定使用GPU 0,将模型和数据移到GPU上。在训练循环中,optimizer.step()也会自动计算在GPU上。\n",
    "# 希望这能帮你导入cuda和cudnn库!有任何疑问欢迎继续提。\n",
    "import torch.backends.cudnn as cudnn\n",
    "cudnn.benchmark = True  \n",
    "cudnn.deterministic = True   \n",
    "device = torch.device(\"cuda:0\" if torch.cuda.is_available() else \"cpu\")\n",
    "device"
   ]
  },
  {
   "cell_type": "code",
   "execution_count": 3,
   "metadata": {
    "tags": []
   },
   "outputs": [
    {
     "data": {
      "text/plain": [
       "(torch.Size([30, 1]), device(type='cuda', index=0))"
      ]
     },
     "execution_count": 3,
     "metadata": {},
     "output_type": "execute_result"
    }
   ],
   "source": [
    "# 数据预处理 -- 占很大的比例\n",
    "df = pd.read_csv('../dataset/Income.csv')\n",
    "# df.info()\n",
    "# X = torch.from_numpy(df.Education.values.reshape(-1,1).astype(np.float32))\n",
    "# Y = torch.from_numpy(df.Income.values.reshape(-1,1).astype(np.float32))\n",
    "X = torch.from_numpy(df.Education.values.reshape(-1,1).astype(np.float32)).to(device)\n",
    "Y = torch.from_numpy(df.Income.values.reshape(-1,1).astype(np.float32)).to(device)\n",
    "X.shape, X.device"
   ]
  },
  {
   "cell_type": "code",
   "execution_count": 7,
   "metadata": {
    "tags": []
   },
   "outputs": [
    {
     "data": {
      "text/plain": [
       "Linear(in_features=1, out_features=1, bias=True)"
      ]
     },
     "execution_count": 7,
     "metadata": {},
     "output_type": "execute_result"
    }
   ],
   "source": [
    "# 初始化训练模型、损失函数和优化方法\n",
    "model = nn.Linear(1, 1) # 定义一个线性回归模型； output = w@input + b 等价于 model(input)\n",
    "model = model.to(device)  # 移动到GPU\n",
    "loss_fn = nn.MSELoss()  # 定义损失函数，均方误差模式\n",
    "opt = torch.optim.SGD(model.parameters(), lr=0.0001)  # 优化model中的参数， lr=学习速率\n",
    "model"
   ]
  },
  {
   "cell_type": "code",
   "execution_count": 8,
   "metadata": {
    "tags": []
   },
   "outputs": [
    {
     "name": "stdout",
     "output_type": "stream",
     "text": [
      "CPU times: total: 781 ms\n",
      "Wall time: 17.1 s\n"
     ]
    }
   ],
   "source": [
    "%%time\n",
    "\n",
    "# 运行和优化\n",
    "for epoch in range(1000):\n",
    "    for x,y in zip(X, Y):\n",
    "        y_pred = model(x)           # 使用定义的预测模型\n",
    "        loss = loss_fn(y, y_pred)   # 根据预测结果计算损失\n",
    "        opt.zero_grad()             # 把变量梯度清0\n",
    "        loss.backward()             # 求解梯度\n",
    "        opt.step()                  # 优化模型参数，按照step\n"
   ]
  },
  {
   "cell_type": "code",
   "execution_count": 9,
   "metadata": {
    "tags": []
   },
   "outputs": [
    {
     "name": "stdout",
     "output_type": "stream",
     "text": [
      "Parameter containing:\n",
      "tensor([[3.9356]], device='cuda:0', requires_grad=True)\n",
      "Parameter containing:\n",
      "tensor([-9.4548], device='cuda:0', requires_grad=True)\n"
     ]
    }
   ],
   "source": [
    "print(model.weight)\n",
    "print(model.bias)"
   ]
  },
  {
   "cell_type": "code",
   "execution_count": 10,
   "metadata": {
    "tags": []
   },
   "outputs": [
    {
     "ename": "TypeError",
     "evalue": "can't convert cuda:0 device type tensor to numpy. Use Tensor.cpu() to copy the tensor to host memory first.",
     "output_type": "error",
     "traceback": [
      "\u001b[1;31m---------------------------------------------------------------------------\u001b[0m",
      "\u001b[1;31mTypeError\u001b[0m                                 Traceback (most recent call last)",
      "Cell \u001b[1;32mIn[10], line 4\u001b[0m\n\u001b[0;32m      2\u001b[0m plt\u001b[38;5;241m.\u001b[39mylabel(\u001b[38;5;124m'\u001b[39m\u001b[38;5;124mIncome\u001b[39m\u001b[38;5;124m'\u001b[39m)\n\u001b[0;32m      3\u001b[0m plt\u001b[38;5;241m.\u001b[39mscatter(df\u001b[38;5;241m.\u001b[39mEducation, df\u001b[38;5;241m.\u001b[39mIncome)\n\u001b[1;32m----> 4\u001b[0m plt\u001b[38;5;241m.\u001b[39mplot( \u001b[43mX\u001b[49m\u001b[38;5;241;43m.\u001b[39;49m\u001b[43mnumpy\u001b[49m\u001b[43m(\u001b[49m\u001b[43m)\u001b[49m, model(X)\u001b[38;5;241m.\u001b[39mdata\u001b[38;5;241m.\u001b[39mnumpy(), c\u001b[38;5;241m=\u001b[39m\u001b[38;5;124m'\u001b[39m\u001b[38;5;124mr\u001b[39m\u001b[38;5;124m'\u001b[39m )\n\u001b[0;32m      5\u001b[0m plt\u001b[38;5;241m.\u001b[39mshow()\n",
      "\u001b[1;31mTypeError\u001b[0m: can't convert cuda:0 device type tensor to numpy. Use Tensor.cpu() to copy the tensor to host memory first."
     ]
    },
    {
     "data": {
      "image/png": "[encoded data removed]",
      "text/plain": [
       "<Figure size 640x480 with 1 Axes>"
      ]
     },
     "metadata": {},
     "output_type": "display_data"
    }
   ],
   "source": [
    "plt.xlabel('Education')\n",
    "plt.ylabel('Income')\n",
    "plt.scatter(df.Education, df.Income)\n",
    "plt.plot( X.numpy(), model(X).data.numpy(), c='r' )\n",
    "plt.show()"
   ]
  },
  {
   "cell_type": "code",
   "execution_count": null,
   "metadata": {},
   "outputs": [],
   "source": []
  }
 ],
 "metadata": {
  "kernelspec": {
   "display_name": "Python 3 (ipykernel)",
   "language": "python",
   "name": "python3"
  },
  "language_info": {
   "codemirror_mode": {
    "name": "ipython",
    "version": 3
   },
   "file_extension": ".py",
   "mimetype": "text/x-python",
   "name": "python",
   "nbconvert_exporter": "python",
   "pygments_lexer": "ipython3",
   "version": "3.10.11"
  }
 },
 "nbformat": 4,
 "nbformat_minor": 4
}
