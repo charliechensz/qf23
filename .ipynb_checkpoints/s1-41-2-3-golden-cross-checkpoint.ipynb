{
 "cells": [
  {
   "cell_type": "code",
   "execution_count": null,
   "id": "f5e142ea",
   "metadata": {},
   "outputs": [],
   "source": [
    "import numpy as np\n",
    "import pandas as pd\n",
    "import random\n",
    "import matplotlib.pyplot as plt\n",
    "import tushare as ts"
   ]
  },
  {
   "cell_type": "code",
   "execution_count": null,
   "id": "elect-brake",
   "metadata": {},
   "outputs": [],
   "source": [
    "# 金叉买入、死叉卖出策略\n",
    "ts.set_token('11137efdbeac800606d677871a55b3fd5aef79890c59867a8f34d03e')\n",
    "pro = ts.pro_api()\n",
    "\n",
    "df = pro.daily(ts_code='601318.SH', start_date='', end_date='20211231', index=0)\n",
    "\n",
    "df.to_csv('601318.csv')"
   ]
  },
  {
   "cell_type": "code",
   "execution_count": null,
   "id": "edcb7981",
   "metadata": {},
   "outputs": [],
   "source": [
    "# 计算ma5， ma30\n",
    "# df0 = pd.read_csv('601318.csv', index_col=\"trade_date\", parse_dates=True )[['open','close','high','low']]\n",
    "df0 = ts.pro_bar(ts_code=ts_code, asset='E', adj='qfq', start_date='20100101', end_date='20211231')\n",
    "df = df0.sort_index(ascending=True) \n",
    "# s2 = s.sort_index(ascending=False)\n",
    "df"
   ]
  },
  {
   "cell_type": "code",
   "execution_count": null,
   "id": "e44a13f0",
   "metadata": {},
   "outputs": [],
   "source": [
    "#算法1\n",
    "# df['ma5'] = np.nan\n",
    "# df['ma30'] = np.nan\n",
    "# for i in range(4, len(df)):\n",
    "#     # .loc 是按照标签进行索引\n",
    "#     df.loc[df.index[i], 'ma5'] = df['close'][i-4:i].mean()\n",
    "# for i in range(29, len(df)):\n",
    "#     df.loc[df.index[i], 'ma30'] = df['close'][i-29:i].mean()\n",
    "# df\n",
    "df"
   ]
  },
  {
   "cell_type": "code",
   "execution_count": null,
   "id": "e9ab4b47",
   "metadata": {},
   "outputs": [],
   "source": [
    "# 算法2\n",
    "%timeit\n",
    "df['ma5'] = np.nan\n",
    "df['ma30'] = np.nan\n",
    "df['ma5'] = df['close'].rolling(5).mean()\n",
    "df['ma30'] = df['close'].rolling(30).mean()\n",
    "df"
   ]
  },
  {
   "cell_type": "code",
   "execution_count": null,
   "id": "741472f1",
   "metadata": {},
   "outputs": [],
   "source": [
    "# 绘图\n",
    "dfPlot = df[:1000][['close','ma5','ma30']]\n",
    "dfPlot[['close', 'ma5', 'ma30']].plot()\n",
    "plt.show()\n"
   ]
  },
  {
   "cell_type": "code",
   "execution_count": null,
   "id": "c58a2d44",
   "metadata": {},
   "outputs": [],
   "source": [
    "df = df.dropna()['2010-01-01':]\n",
    "df "
   ]
  },
  {
   "cell_type": "code",
   "execution_count": null,
   "id": "3de2a762",
   "metadata": {},
   "outputs": [],
   "source": [
    "# 交叉算法 1\n",
    "golden_cross = []\n",
    "death_cross = []\n",
    "for i in range(1, len(df)):\n",
    "    if df['ma5'][i] >= df['ma30'][i] and df['ma5'][i-1] < df['ma30'][i-1]:\n",
    "        golden_cross.append( df.index[i].to_pydatetime() )\n",
    "    if df['ma5'][i] <= df['ma30'][i] and df['ma5'][i-1] > df['ma30'][i-1]:\n",
    "        death_cross.append( df.index[i].to_pydatetime() )\n",
    "golden_cross\n",
    "# death_cross"
   ]
  },
  {
   "cell_type": "code",
   "execution_count": null,
   "id": "6702f5c0",
   "metadata": {},
   "outputs": [],
   "source": [
    "# 交叉算法 2 - quicker  \n",
    "sr1 = df['ma5'] < df['ma30']\n",
    "sr2 = df['ma5'] >= df['ma30']\n",
    "death_cross = df[ sr1 & sr2.shift(1) ].index\n",
    "# golden_cross = df[ ~(sr1) and ~(sr2.shift(1)) ].index\n",
    "golden_cross = df[ ~(sr1 | sr2.shift(1)) ].index\n",
    "# death_cross\n",
    "golden_cross"
   ]
  },
  {
   "cell_type": "code",
   "execution_count": null,
   "id": "f6c92b98",
   "metadata": {},
   "outputs": [],
   "source": [
    "# 操作\n",
    "sr1 = pd.Series(1, index=golden_cross)\n",
    "sr2 = pd.Series(0, index=death_cross)\n",
    "sr = sr1.append(sr2).sort_index()\n",
    "sr\n",
    "for i in range(1, len(sr)):\n",
    "    price = df['open'][ sr.index[i] ]\n",
    "    # print( price )\n",
    "    # if sr.iloc(i) == 1:  \n",
    "        \n"
   ]
  },
  {
   "cell_type": "code",
   "execution_count": null,
   "id": "1ba0bad7",
   "metadata": {},
   "outputs": [],
   "source": [
    "df['2010-01-04':]['close']\n",
    "# sr.index[1]\n"
   ]
  },
  {
   "cell_type": "code",
   "execution_count": null,
   "id": "7083fdc8",
   "metadata": {},
   "outputs": [],
   "source": [
    "df['open']"
   ]
  },
  {
   "cell_type": "code",
   "execution_count": null,
   "id": "50cf1160",
   "metadata": {},
   "outputs": [],
   "source": []
  },
  {
   "cell_type": "code",
   "execution_count": null,
   "id": "68f26432-8f3e-4563-b405-257a4e79b6d7",
   "metadata": {},
   "outputs": [],
   "source": []
  }
 ],
 "metadata": {
  "kernelspec": {
   "display_name": "Python 3.9.7 64-bit ('base': conda)",
   "language": "python",
   "name": "python397jvsc74a57bd05b36714f964e8eba88de9ed80f1b0aa6bf3b885ea85a5d06afccb51f924a9cd7"
  },
  "language_info": {
   "codemirror_mode": {
    "name": "ipython",
    "version": 3
   },
   "file_extension": ".py",
   "mimetype": "text/x-python",
   "name": "python",
   "nbconvert_exporter": "python",
   "pygments_lexer": "ipython3",
   "version": "3.9.9"
  },
  "widgets": {
   "application/vnd.jupyter.widget-state+json": {
    "state": {},
    "version_major": 2,
    "version_minor": 0
   }
  }
 },
 "nbformat": 4,
 "nbformat_minor": 5
}
