{
 "cells": [
  {
   "cell_type": "markdown",
   "metadata": {
    "tags": []
   },
   "source": [
    "# 数据导入MySQL8\n",
    "\n"
   ]
  },
  {
   "cell_type": "code",
   "execution_count": 27,
   "metadata": {
    "tags": []
   },
   "outputs": [],
   "source": [
    "%matplotlib widget\n",
    "\n",
    "import pandas as pd\n",
    "import pymysql\n",
    "import sys\n",
    "import tushare as ts\n",
    "ts.set_token('11137efdbeac800606d677871a55b3fd5aef79890c59867a8f34d03e')\n",
    "pro = ts.pro_api()\n",
    "\n"
   ]
  },
  {
   "cell_type": "code",
   "execution_count": 28,
   "metadata": {},
   "outputs": [],
   "source": [
    "# stockList = pro.stock_basic(exchange='', list_status='L',\n",
    "#                             fields='ts_code,symbol,name,area,industry,list_status,is_hs')\n",
    "# stockList.info()"
   ]
  },
  {
   "cell_type": "code",
   "execution_count": 29,
   "metadata": {
    "tags": []
   },
   "outputs": [],
   "source": [
    "class Mysql:\n",
    "\t#默认是将数据导入至本地\n",
    "    def __init__(self, host='127.0.0.1', user='root', password='Hy_79518', charset=\"utf-8\", db='hyweb'):\n",
    "        # assert password != '','请输入数据库密码'\n",
    "        # assert db != '', '请输入数据库名称'\n",
    "        self.host = '127.0.0.1'\n",
    "        self.user = 'root'\n",
    "        self.pwd = 'Hy_79518'\n",
    "        self.charset = 'utf-8'\n",
    "        self.db = 'hyweb'\n",
    "    #连接数据库并获取操作游标\n",
    "    def connect(self):\n",
    "        print('正在连接数据库......')\n",
    "        try:\n",
    "            self.conn = pymysql.connect(host=self.host,user=self.user,passwd=self.pwd,db=self.db)\n",
    "            self.cursor = self.conn.cursor()\n",
    "            print(\"数据库连接成功......\")\n",
    "            print('='*100)\n",
    "        except :\n",
    "            print(\"数据库连接失败\")\n",
    "            #未能成功则直接退出程序\n",
    "            sys.exit(0)\n",
    "    def createTable(self,tName='',sql=''):\n",
    "        assert tName != '','请输入数据表名称'\n",
    "        assert sql != '请输入SQL语句'\n",
    "        self.cursor.execute('SHOW TABLES;')\n",
    "        tables =[table[0] for table in self.cursor.fetchall()]\n",
    "        while tName in tables:\n",
    "            tName = input(f'数据表名称重复，请重新输入名称。\\n已有的数据表:{tables}\\n:')\n",
    "        try:\n",
    "            self.cursor.execute(sql)\n",
    "            print(f'数据表{tName}建立成功')\n",
    "        except Exception as e:\n",
    "            print(f'数据表{tName}建立失败,请检查SQL语句')\n",
    "            print(e)\n",
    "            self.close()\n",
    "            sys.exit(0)\n",
    "    def insertValues(self,sql='',values=[]):\n",
    "        assert values!=[],'请输入数据'\n",
    "        try:\n",
    "            self.cursor.executemany(sql, values)\n",
    "            self.conn.commit()\n",
    "            print('数据插入成功')\n",
    "        except Exception as e:\n",
    "            print(\"数据插入失败\")\n",
    "            print(e)\n",
    "            #未能成功则直接退出程序\n",
    "            self.close()\n",
    "            sys.exit(0)\n",
    "\n",
    "    def fetchValues(self,tName,sql=''):\n",
    "    #tName:table_name(数据表名称)\n",
    "        self.cursor.execute(f'select COLUMN_NAME from information_schema.COLUMNS where table_name = \"{tName}\" and table_schema = \"{self.db}\";')\n",
    "        columns = [col[0] for col in self.cursor.fetchall()]\n",
    "        self.cursor.execute(sql)\n",
    "        df = pd.DataFrame(self.cursor.fetchall())\n",
    "        df.columns =columns\n",
    "        return df\n",
    "    \n",
    "    def close(self):\n",
    "        self.cursor.close()\n",
    "        self.conn.close()\n",
    "    \n",
    "    # 进入with语句自动执行\n",
    "    def __enter__(self):\n",
    "        self.connect()\n",
    "        return self\n",
    "    \n",
    "    # 退出with语句自动执行\n",
    "    def __exit__(self, exc_type, exc_val, exc_tb):\n",
    "        self.close()\n",
    "\n",
    "        \n",
    "#生成插入数据SQL语句\n",
    "def insertValueSQL(tName, df):\n",
    "    columns = df.columns\n",
    "    return f'insert into {tName}({\",\".join(columns.values.tolist())}) values({\",\".join(\"%s\" for _ in range(len(columns)))})'\n"
   ]
  },
  {
   "cell_type": "code",
   "execution_count": 30,
   "metadata": {},
   "outputs": [
    {
     "name": "stdout",
     "output_type": "stream",
     "text": [
      "正在连接数据库......\n",
      "数据库连接成功......\n",
      "====================================================================================================\n",
      "Database version :8.0.27\n",
      "数据插入成功\n",
      "        ts_code trade_date   open   high    low  close  pct_chg         vol\n",
      "0     000001.SZ   20220106  17.11  17.27  17.00  17.12  -0.1749  1107885.19\n",
      "1     000001.SZ   20220105  16.58  17.22  16.55  17.15   2.9412  1961998.17\n",
      "2     000001.SZ   20220104  16.48  16.66  16.18  16.66   1.0922  1169259.33\n",
      "3     000001.SZ   20211231  16.86  16.90  16.40  16.48  -2.0214  1750760.89\n",
      "4     000001.SZ   20211230  16.76  16.95  16.72  16.82   0.4179   796663.60\n",
      "...         ...        ...    ...    ...    ...    ...      ...         ...\n",
      "4995  000001.SZ   20001009  17.00  17.18  16.66  16.75  -1.2400    15295.00\n",
      "4996  000001.SZ   20000929  16.98  17.08  16.90  16.96   0.4100    19144.00\n",
      "4997  000001.SZ   20000928  17.10  17.26  16.86  16.89  -1.0500    44541.00\n",
      "4998  000001.SZ   20000927  16.65  17.25  16.65  17.07   2.8300    47383.00\n",
      "4999  000001.SZ   20000926  16.45  16.79  16.45  16.60   1.1000    19060.00\n",
      "\n",
      "[5000 rows x 8 columns]\n"
     ]
    },
    {
     "ename": "AttributeError",
     "evalue": "'Mysql' object has no attribute 'interValues'",
     "output_type": "error",
     "traceback": [
      "\u001b[0;31m---------------------------------------------------------------------------\u001b[0m",
      "\u001b[0;31mAttributeError\u001b[0m                            Traceback (most recent call last)",
      "\u001b[0;32m/var/folders/7f/q0ndlk9d4d3dzvxcx73gjg480000gn/T/ipykernel_18193/3685881236.py\u001b[0m in \u001b[0;36m<module>\u001b[0;34m\u001b[0m\n\u001b[1;32m     42\u001b[0m         \u001b[0mdata\u001b[0m \u001b[0;34m=\u001b[0m \u001b[0;34m[\u001b[0m\u001b[0mtuple\u001b[0m\u001b[0;34m(\u001b[0m\u001b[0mval\u001b[0m\u001b[0;34m)\u001b[0m \u001b[0;32mfor\u001b[0m \u001b[0mval\u001b[0m \u001b[0;32min\u001b[0m \u001b[0mdf\u001b[0m\u001b[0;34m.\u001b[0m\u001b[0mvalues\u001b[0m\u001b[0;34m.\u001b[0m\u001b[0mtolist\u001b[0m\u001b[0;34m(\u001b[0m\u001b[0;34m)\u001b[0m\u001b[0;34m]\u001b[0m\u001b[0;34m\u001b[0m\u001b[0;34m\u001b[0m\u001b[0m\n\u001b[1;32m     43\u001b[0m         \u001b[0msql\u001b[0m \u001b[0;34m=\u001b[0m \u001b[0;34mf'insert into DAILY({\",\".join(columns)}) values({\",\".join([\"%s\" for _ in range(len(columns))])});'\u001b[0m\u001b[0;34m\u001b[0m\u001b[0;34m\u001b[0m\u001b[0m\n\u001b[0;32m---> 44\u001b[0;31m         \u001b[0mmysql\u001b[0m\u001b[0;34m.\u001b[0m\u001b[0minterValues\u001b[0m\u001b[0;34m(\u001b[0m\u001b[0msql\u001b[0m\u001b[0;34m,\u001b[0m \u001b[0mdata\u001b[0m\u001b[0;34m)\u001b[0m\u001b[0;34m\u001b[0m\u001b[0;34m\u001b[0m\u001b[0m\n\u001b[0m\u001b[1;32m     45\u001b[0m         \u001b[0;31m#获取数据库中的数据\u001b[0m\u001b[0;34m\u001b[0m\u001b[0;34m\u001b[0m\u001b[0m\n\u001b[1;32m     46\u001b[0m         \u001b[0mdata\u001b[0m \u001b[0;34m=\u001b[0m \u001b[0mmysql\u001b[0m\u001b[0;34m.\u001b[0m\u001b[0mfetchValues\u001b[0m\u001b[0;34m(\u001b[0m\u001b[0mtName\u001b[0m\u001b[0;34m=\u001b[0m\u001b[0;34m\"DAILY\"\u001b[0m\u001b[0;34m,\u001b[0m\u001b[0msql\u001b[0m \u001b[0;34m=\u001b[0m \u001b[0;34m\"select * from DAILY limit 100;\"\u001b[0m\u001b[0;34m)\u001b[0m\u001b[0;34m\u001b[0m\u001b[0;34m\u001b[0m\u001b[0m\n",
      "\u001b[0;31mAttributeError\u001b[0m: 'Mysql' object has no attribute 'interValues'"
     ]
    }
   ],
   "source": [
    "\n",
    "if __name__ == \"__main__\":\n",
    "    # 连接至tushare\n",
    "    # token = '11137efdbeac800606d677871a55b3fd5aef79890c59867a8f34d03e'\n",
    "    # ts.set_token(token)\n",
    "    # pro = ts.pro_api()\n",
    "    with Mysql(password='Hy_79518',db='hyweb') as mysql:\n",
    "        #获取mysql版本号\n",
    "        mysql.cursor.execute(\"SELECT VERSION()\")\n",
    "        version = mysql.cursor.fetchone()[0]\n",
    "        print(f'Database version :{version}')\n",
    "        #获取\n",
    "        stockList = pro.stock_basic(exchange='', list_status='L', fields='ts_code,symbol,name,area,industry,list_status,is_hs')\n",
    "        \"\"\"\n",
    "        创建股票列表数据表\n",
    "        createTableSql = f'CREATE TABLE STOCKLIST({\" VARCHAR(30),\".join(stockList.columns.values.tolist())} VARCHAR(30))ENGINE=innoDB DEFAULT CHARSET=utf8;'\n",
    "        print(createTableSql)\n",
    "        mysql.createTable(tName='stockList',sql=createTableSql)\n",
    "        \"\"\"\n",
    "        insertValuesSql = insertValueSQL(tName='STOCKLIST',df=stockList)\n",
    "        mysql.insertValues(sql=insertValuesSql,values=[tuple(val) for val in stockList.values.tolist()])\n",
    "\n",
    "\n",
    "        df = pro.daily(ts_code='000001.SZ',fields='ts_code,trade_date,open,high,low,close,pct_chg,vol')\n",
    "        print(df)\n",
    "        columns = df.columns.values.tolist()\n",
    "        \n",
    "        \"\"\"\n",
    "        创建日线行情数据表\n",
    "        sql = f'CREATE TABLE DAILY (\\n'\n",
    "        columnlen = len(columns)\n",
    "        for idx,col in enumerate(columns):\n",
    "            if 'code' in col :\n",
    "                sql += col+ ' VARCHAR(30) NOT NULL,'\n",
    "            elif 'date' in col:\n",
    "                sql += col+ ' DATE,'\n",
    "            else:\n",
    "                sql += col+ ' FLOAT,' if idx != columnlen-1 else col +' FLOAT'\n",
    "        sql += ')ENGINE=innoDB DEFAULT CHARSET=utf8;'\n",
    "        mysql.createTable(tName='DAILY',sql=sql)\n",
    "        \"\"\"\n",
    "        # 插入数值\n",
    "        data = [tuple(val) for val in df.values.tolist()]\n",
    "        sql = f'insert into DAILY({\",\".join(columns)}) values({\",\".join([\"%s\" for _ in range(len(columns))])});'\n",
    "        mysql.intertValues(sql, data)\n",
    "        #获取数据库中的数据\n",
    "        data = mysql.fetchValues(tName=\"DAILY\",sql = \"select * from DAILY limit 100;\")\n",
    "        print(data)\n"
   ]
  },
  {
   "cell_type": "code",
   "execution_count": null,
   "metadata": {},
   "outputs": [],
   "source": []
  },
  {
   "cell_type": "code",
   "execution_count": null,
   "metadata": {},
   "outputs": [],
   "source": []
  },
  {
   "cell_type": "code",
   "execution_count": null,
   "metadata": {},
   "outputs": [],
   "source": []
  },
  {
   "cell_type": "code",
   "execution_count": null,
   "metadata": {},
   "outputs": [],
   "source": []
  },
  {
   "cell_type": "code",
   "execution_count": null,
   "metadata": {},
   "outputs": [],
   "source": []
  },
  {
   "cell_type": "code",
   "execution_count": null,
   "metadata": {},
   "outputs": [],
   "source": []
  },
  {
   "cell_type": "code",
   "execution_count": null,
   "metadata": {},
   "outputs": [],
   "source": []
  }
 ],
 "metadata": {
  "interpreter": {
   "hash": "5b36714f964e8eba88de9ed80f1b0aa6bf3b885ea85a5d06afccb51f924a9cd7"
  },
  "kernelspec": {
   "display_name": "Python 3 (ipykernel)",
   "language": "python",
   "name": "python3"
  },
  "language_info": {
   "codemirror_mode": {
    "name": "ipython",
    "version": 3
   },
   "file_extension": ".py",
   "mimetype": "text/x-python",
   "name": "python",
   "nbconvert_exporter": "python",
   "pygments_lexer": "ipython3",
   "version": "3.9.9"
  },
  "widgets": {
   "application/vnd.jupyter.widget-state+json": {
    "state": {},
    "version_major": 2,
    "version_minor": 0
   }
  }
 },
 "nbformat": 4,
 "nbformat_minor": 4
}
