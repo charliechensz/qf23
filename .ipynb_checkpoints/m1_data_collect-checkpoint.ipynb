{
 "cells": [
  {
   "cell_type": "markdown",
   "metadata": {
    "tags": []
   },
   "source": [
    "# 数据处理\n",
    "- 数据获取\n",
    "    tushare   ：['open','high','low','close','pre_close','vol',    'change', 'pct_chg',    'amount']\n",
    "    mplfinance：['open','high','low','close','pre_close','volume', 'change', 'pct_change', 'value']\n",
    "- 批量获取目标数据 到 csv 格式\n",
    "\n"
   ]
  },
  {
   "cell_type": "code",
   "execution_count": 5,
   "metadata": {
    "tags": []
   },
   "outputs": [],
   "source": [
    "%matplotlib widget\n",
    "import numpy as np\n",
    "import pandas as pd\n",
    "import random \n",
    "import matplotlib.pyplot as plt\n",
    "import mplfinance as mpf\n",
    "\n",
    "from numba import jit\n",
    "\n",
    "import tushare as ts\n",
    "ts.set_token('11137efdbeac800606d677871a55b3fd5aef79890c59867a8f34d03e')\n",
    "pro = ts.pro_api()\n"
   ]
  },
  {
   "cell_type": "code",
   "execution_count": 10,
   "metadata": {},
   "outputs": [
    {
     "name": "stdout",
     "output_type": "stream",
     "text": [
      "收集数据： 601318.SH 2020-01-01\n",
      "收集数据： 002475.SZ 2020-01-01\n",
      "收集数据： 600352.SH 2020-01-01\n",
      "收集数据： 600143.SH 2020-01-01\n",
      "收集数据： 600031.SH 2020-01-01\n",
      "CPU times: user 249 ms, sys: 23.3 ms, total: 273 ms\n",
      "Wall time: 3.4 s\n"
     ]
    }
   ],
   "source": [
    "%%time\n",
    "data_dir = 'data'\n",
    "ts_list = pd.read_csv( data_dir + '/' + 'bt_list.csv')\n",
    "# ts_list.shape[0]\n",
    "for i in range( ts_list.shape[0]  ):\n",
    "    print('收集数据：', ts_list['ts_code'][i], ts_list['start_date'][i])\n",
    "    # 国内股市：可显示复权后和复权前信息\n",
    "    df = ts.pro_bar(ts_code=ts_list['ts_code'][i], asset='E', adj='qfq', start_date=ts_list['start_date'][i], end_date='')\n",
    "    # 字段改名\n",
    "    df.rename( columns={'vol':'volume','pct_chg':'pct_change', 'amount':'value'}, inplace=True  )\n",
    "    ts_file = data_dir + '/' + ts_list['ts_code'][i] +'.csv'\n",
    "    df.to_csv( ts_file )\n",
    "    "
   ]
  },
  {
   "cell_type": "code",
   "execution_count": 7,
   "metadata": {},
   "outputs": [
    {
     "ename": "NameError",
     "evalue": "name 'ts_code' is not defined",
     "output_type": "error",
     "traceback": [
      "\u001b[0;31m---------------------------------------------------------------------------\u001b[0m",
      "\u001b[0;31mNameError\u001b[0m                                 Traceback (most recent call last)",
      "\u001b[0;32m<timed exec>\u001b[0m in \u001b[0;36m<module>\u001b[0;34m\u001b[0m\n",
      "\u001b[0;31mNameError\u001b[0m: name 'ts_code' is not defined"
     ]
    }
   ],
   "source": [
    "%%time\n",
    "# 国内股市：可显示复权后和复权前信息\n",
    "dfcn = ts.pro_bar(ts_code=ts_code, asset='E', adj='qfq', start_date=start_date, end_date='')\n",
    "# 字段改名\n",
    "dfcn.rename( columns={'vol':'volume','pct_chg':'pct_change', 'amount':'value'}, inplace=True  )\n",
    "# 选择字段\n",
    "# dfcn = dfcn[['trade_date','open','high','low','close','volume','pre_close','change','pct_change','value']]\n",
    "# 日期转换成 datetime 格式\n",
    "# dfcn['trade_date'] = pd.to_datetime(dfcn['trade_date'])\n",
    "# # 设置索引\n",
    "# dfcn.set_index('trade_date', drop=True, append=False, inplace=True)\n",
    "# # 设置索引 ascending \n",
    "# dfcn = dfcn.sort_index(ascending=True)\n",
    "\n",
    "dfcn\n",
    "dfcn.to_csv( ts_file )"
   ]
  },
  {
   "cell_type": "code",
   "execution_count": 8,
   "metadata": {
    "jupyter": {
     "source_hidden": true
    }
   },
   "outputs": [],
   "source": [
    "# 美股数据, 每天只有5次\n",
    "# ts_code = 'JD'\n",
    "# ts_file = ts_code+'.csv'\n",
    "# ts_all_file = ts_code+'.all.csv'\n",
    "\n",
    "# df_us = pro.us_daily(ts_code=ts_code, start_date='20190101', end_date='20190904')\n",
    "# df_us\n",
    "# df_us.to_csv( ts_file )"
   ]
  },
  {
   "cell_type": "code",
   "execution_count": null,
   "metadata": {},
   "outputs": [],
   "source": []
  },
  {
   "cell_type": "code",
   "execution_count": null,
   "metadata": {},
   "outputs": [],
   "source": []
  },
  {
   "cell_type": "code",
   "execution_count": null,
   "metadata": {},
   "outputs": [],
   "source": []
  },
  {
   "cell_type": "code",
   "execution_count": null,
   "metadata": {
    "jupyter": {
     "source_hidden": true
    }
   },
   "outputs": [],
   "source": []
  },
  {
   "cell_type": "code",
   "execution_count": null,
   "metadata": {},
   "outputs": [],
   "source": []
  },
  {
   "cell_type": "code",
   "execution_count": null,
   "metadata": {},
   "outputs": [],
   "source": []
  }
 ],
 "metadata": {
  "interpreter": {
   "hash": "5b36714f964e8eba88de9ed80f1b0aa6bf3b885ea85a5d06afccb51f924a9cd7"
  },
  "kernelspec": {
   "display_name": "Python 3 (ipykernel)",
   "language": "python",
   "name": "python3"
  },
  "language_info": {
   "codemirror_mode": {
    "name": "ipython",
    "version": 3
   },
   "file_extension": ".py",
   "mimetype": "text/x-python",
   "name": "python",
   "nbconvert_exporter": "python",
   "pygments_lexer": "ipython3",
   "version": "3.9.9"
  },
  "toc-autonumbering": false,
  "widgets": {
   "application/vnd.jupyter.widget-state+json": {
    "state": {},
    "version_major": 2,
    "version_minor": 0
   }
  }
 },
 "nbformat": 4,
 "nbformat_minor": 4
}
