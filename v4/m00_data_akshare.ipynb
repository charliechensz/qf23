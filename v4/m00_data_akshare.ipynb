{
 "cells": [
  {
   "cell_type": "code",
   "execution_count": 3,
   "metadata": {},
   "outputs": [],
   "source": [
    "import datetime\n",
    "import time\n",
    "import math\n",
    "import pymysql\n",
    "from sqlalchemy import create_engine \n",
    "import numpy as np\n",
    "import pandas as pd\n",
    "from importlib import reload \n",
    "\n",
    "\n",
    "# import tushare as ts\n",
    "# ts.set_token('11137efdbeac800606d677871a55b3fd5aef79890c59867a8f34d03e')\n",
    "# pro = ts.pro_api()\n",
    "\n",
    "import akshare as ak\n",
    "\n",
    "''' 自建库 '''\n",
    "from qflib import basic\n",
    "reload(basic)\n",
    "\n",
    "global engine, conn\n",
    "engine = basic.engine()\n",
    "conn = basic.conn(basic.engine())"
   ]
  },
  {
   "cell_type": "code",
   "execution_count": 1,
   "metadata": {},
   "outputs": [],
   "source": [
    "# shift 测试\n",
    "def greater_or_less(d):\n",
    "    if d['current'] > d['previous']:\n",
    "        d['result']=\"Greater\"\n",
    "    elif d['current'] < d['previous']:\n",
    "        d['result']=\"Less\"\n",
    "    elif d['current'] == d['previous']:\n",
    "        d['result']=\"Equal\"\n",
    "    else:\n",
    "        pass\n",
    "    return d"
   ]
  },
  {
   "cell_type": "code",
   "execution_count": 4,
   "metadata": {},
   "outputs": [
    {
     "data": {
      "text/plain": [
       "current    2\n",
       "Name: 1, dtype: int64"
      ]
     },
     "execution_count": 4,
     "metadata": {},
     "output_type": "execute_result"
    }
   ],
   "source": [
    "df=pd.DataFrame({'current':[1,2,2,8,7]})\n",
    "df.iloc[1]"
   ]
  },
  {
   "cell_type": "code",
   "execution_count": 18,
   "metadata": {},
   "outputs": [
    {
     "data": {
      "text/html": [
       "<div>\n",
       "<style scoped>\n",
       "    .dataframe tbody tr th:only-of-type {\n",
       "        vertical-align: middle;\n",
       "    }\n",
       "\n",
       "    .dataframe tbody tr th {\n",
       "        vertical-align: top;\n",
       "    }\n",
       "\n",
       "    .dataframe thead th {\n",
       "        text-align: right;\n",
       "    }\n",
       "</style>\n",
       "<table border=\"1\" class=\"dataframe\">\n",
       "  <thead>\n",
       "    <tr style=\"text-align: right;\">\n",
       "      <th></th>\n",
       "      <th>current</th>\n",
       "      <th>previous</th>\n",
       "    </tr>\n",
       "  </thead>\n",
       "  <tbody>\n",
       "    <tr>\n",
       "      <th>0</th>\n",
       "      <td>1</td>\n",
       "      <td>0</td>\n",
       "    </tr>\n",
       "    <tr>\n",
       "      <th>1</th>\n",
       "      <td>2</td>\n",
       "      <td>0</td>\n",
       "    </tr>\n",
       "    <tr>\n",
       "      <th>2</th>\n",
       "      <td>2</td>\n",
       "      <td>1</td>\n",
       "    </tr>\n",
       "    <tr>\n",
       "      <th>3</th>\n",
       "      <td>8</td>\n",
       "      <td>2</td>\n",
       "    </tr>\n",
       "    <tr>\n",
       "      <th>4</th>\n",
       "      <td>7</td>\n",
       "      <td>2</td>\n",
       "    </tr>\n",
       "  </tbody>\n",
       "</table>\n",
       "</div>"
      ],
      "text/plain": [
       "   current  previous\n",
       "0        1         0\n",
       "1        2         0\n",
       "2        2         1\n",
       "3        8         2\n",
       "4        7         2"
      ]
     },
     "execution_count": 18,
     "metadata": {},
     "output_type": "execute_result"
    }
   ],
   "source": [
    "df"
   ]
  },
  {
   "cell_type": "code",
   "execution_count": 6,
   "metadata": {},
   "outputs": [],
   "source": [
    "# Duplicate the column with shifted values\n",
    "df['previous']=df['current'].shift(2, axis=0, fill_value=0)"
   ]
  },
  {
   "cell_type": "code",
   "execution_count": 7,
   "metadata": {},
   "outputs": [],
   "source": [
    "df['result']=\"\""
   ]
  },
  {
   "cell_type": "code",
   "execution_count": 17,
   "metadata": {},
   "outputs": [],
   "source": [
    "df = df.drop( columns=['result'] )"
   ]
  },
  {
   "cell_type": "code",
   "execution_count": 10,
   "metadata": {},
   "outputs": [],
   "source": [
    "\n",
    "df=df.apply(greater_or_less,axis=1)"
   ]
  },
  {
   "cell_type": "code",
   "execution_count": 4,
   "metadata": {},
   "outputs": [],
   "source": [
    "# 历史行情数据\n",
    "# data = ak.stock_zh_a_hist(symbol=\"601318\", period=\"daily\", start_date=\"20190301\", end_date='20231231', adjust=\"qfq\")\n",
    "# data\n",
    "# data.drop(index=(data[ data['收盘']<=72 ].index),inplace=True)\n",
    "# data\n"
   ]
  },
  {
   "cell_type": "code",
   "execution_count": 10,
   "metadata": {},
   "outputs": [
    {
     "data": {
      "text/html": [
       "<div>\n",
       "<style scoped>\n",
       "    .dataframe tbody tr th:only-of-type {\n",
       "        vertical-align: middle;\n",
       "    }\n",
       "\n",
       "    .dataframe tbody tr th {\n",
       "        vertical-align: top;\n",
       "    }\n",
       "\n",
       "    .dataframe thead th {\n",
       "        text-align: right;\n",
       "    }\n",
       "</style>\n",
       "<table border=\"1\" class=\"dataframe\">\n",
       "  <thead>\n",
       "    <tr style=\"text-align: right;\">\n",
       "      <th></th>\n",
       "      <th>symbol</th>\n",
       "      <th>trade_date</th>\n",
       "      <th>pct_fl_1_3</th>\n",
       "      <th>pct_fl_3_10</th>\n",
       "      <th>pct_fl_5_20</th>\n",
       "      <th>pct_fl_5_60</th>\n",
       "      <th>pct_fl_20_60</th>\n",
       "    </tr>\n",
       "  </thead>\n",
       "  <tbody>\n",
       "    <tr>\n",
       "      <th>0</th>\n",
       "      <td>000001</td>\n",
       "      <td>2023-07-31</td>\n",
       "      <td>1.071540</td>\n",
       "      <td>2.482930</td>\n",
       "      <td>2.830150</td>\n",
       "      <td>1.999950</td>\n",
       "      <td>0.927907</td>\n",
       "    </tr>\n",
       "    <tr>\n",
       "      <th>1</th>\n",
       "      <td>000001</td>\n",
       "      <td>2023-07-28</td>\n",
       "      <td>2.514390</td>\n",
       "      <td>2.025840</td>\n",
       "      <td>2.213190</td>\n",
       "      <td>1.609440</td>\n",
       "      <td>0.859808</td>\n",
       "    </tr>\n",
       "    <tr>\n",
       "      <th>2</th>\n",
       "      <td>000001</td>\n",
       "      <td>2023-07-27</td>\n",
       "      <td>0.800970</td>\n",
       "      <td>2.570740</td>\n",
       "      <td>1.535810</td>\n",
       "      <td>1.108420</td>\n",
       "      <td>0.741057</td>\n",
       "    </tr>\n",
       "    <tr>\n",
       "      <th>3</th>\n",
       "      <td>000001</td>\n",
       "      <td>2023-07-26</td>\n",
       "      <td>0.611155</td>\n",
       "      <td>1.768550</td>\n",
       "      <td>1.362710</td>\n",
       "      <td>0.966870</td>\n",
       "      <td>0.697842</td>\n",
       "    </tr>\n",
       "    <tr>\n",
       "      <th>4</th>\n",
       "      <td>000001</td>\n",
       "      <td>2023-07-25</td>\n",
       "      <td>5.057400</td>\n",
       "      <td>1.440260</td>\n",
       "      <td>1.243460</td>\n",
       "      <td>0.869404</td>\n",
       "      <td>0.666543</td>\n",
       "    </tr>\n",
       "    <tr>\n",
       "      <th>5</th>\n",
       "      <td>000001</td>\n",
       "      <td>2023-07-24</td>\n",
       "      <td>0.916805</td>\n",
       "      <td>0.686945</td>\n",
       "      <td>0.729857</td>\n",
       "      <td>0.501015</td>\n",
       "      <td>0.572752</td>\n",
       "    </tr>\n",
       "    <tr>\n",
       "      <th>6</th>\n",
       "      <td>000001</td>\n",
       "      <td>2023-07-21</td>\n",
       "      <td>0.805547</td>\n",
       "      <td>0.648377</td>\n",
       "      <td>0.783853</td>\n",
       "      <td>0.532694</td>\n",
       "      <td>0.573903</td>\n",
       "    </tr>\n",
       "    <tr>\n",
       "      <th>7</th>\n",
       "      <td>000001</td>\n",
       "      <td>2023-07-20</td>\n",
       "      <td>1.297340</td>\n",
       "      <td>0.693378</td>\n",
       "      <td>0.906005</td>\n",
       "      <td>0.606366</td>\n",
       "      <td>0.581436</td>\n",
       "    </tr>\n",
       "    <tr>\n",
       "      <th>8</th>\n",
       "      <td>000001</td>\n",
       "      <td>2023-07-19</td>\n",
       "      <td>0.707568</td>\n",
       "      <td>0.721814</td>\n",
       "      <td>1.169680</td>\n",
       "      <td>0.737382</td>\n",
       "      <td>0.577165</td>\n",
       "    </tr>\n",
       "    <tr>\n",
       "      <th>9</th>\n",
       "      <td>000001</td>\n",
       "      <td>2023-07-18</td>\n",
       "      <td>0.711065</td>\n",
       "      <td>0.947362</td>\n",
       "      <td>1.262440</td>\n",
       "      <td>0.811737</td>\n",
       "      <td>0.604275</td>\n",
       "    </tr>\n",
       "  </tbody>\n",
       "</table>\n",
       "</div>"
      ],
      "text/plain": [
       "   symbol  trade_date  pct_fl_1_3  pct_fl_3_10  pct_fl_5_20  pct_fl_5_60  \\\n",
       "0  000001  2023-07-31    1.071540     2.482930     2.830150     1.999950   \n",
       "1  000001  2023-07-28    2.514390     2.025840     2.213190     1.609440   \n",
       "2  000001  2023-07-27    0.800970     2.570740     1.535810     1.108420   \n",
       "3  000001  2023-07-26    0.611155     1.768550     1.362710     0.966870   \n",
       "4  000001  2023-07-25    5.057400     1.440260     1.243460     0.869404   \n",
       "5  000001  2023-07-24    0.916805     0.686945     0.729857     0.501015   \n",
       "6  000001  2023-07-21    0.805547     0.648377     0.783853     0.532694   \n",
       "7  000001  2023-07-20    1.297340     0.693378     0.906005     0.606366   \n",
       "8  000001  2023-07-19    0.707568     0.721814     1.169680     0.737382   \n",
       "9  000001  2023-07-18    0.711065     0.947362     1.262440     0.811737   \n",
       "\n",
       "   pct_fl_20_60  \n",
       "0      0.927907  \n",
       "1      0.859808  \n",
       "2      0.741057  \n",
       "3      0.697842  \n",
       "4      0.666543  \n",
       "5      0.572752  \n",
       "6      0.573903  \n",
       "7      0.581436  \n",
       "8      0.577165  \n",
       "9      0.604275  "
      ]
     },
     "execution_count": 10,
     "metadata": {},
     "output_type": "execute_result"
    }
   ],
   "source": [
    "# columns = ['symbol','trade_date', 'open', 'close', 'high', 'low' ]\n",
    "# columns = ['symbol','trade_date', 'ma5', 'ma10', 'ma20', 'ma30', 'ma60', 'ma120', 'ma250']\n",
    "# columns = ['symbol','trade_date', 'jx_xl_5', 'jx_xl_10', 'jx_xl_20', 'jx_xl_30', 'jx_xl_60', 'jx_xl_120', 'jx_xl_250']\n",
    "# columns = ['symbol','trade_date', 'jx_dg_5', 'jx_dg_10', 'jx_dg_20', 'jx_dg_30', 'jx_dg_60', 'jx_dg_120', 'jx_dg_250']\n",
    "# columns = ['symbol','trade_date', 'open', 'close','volume']\n",
    "columns = ['symbol','trade_date', 'pct_fl_1_3', 'pct_fl_3_10', 'pct_fl_5_20', 'pct_fl_5_60', 'pct_fl_20_60']\n",
    "sql = \"select * from day_zhibiao where symbol='000001' order by trade_date desc\"\n",
    "df=pd.read_sql_query(sql, conn, index_col=None )\n",
    "df.head(10)[columns]"
   ]
  },
  {
   "cell_type": "code",
   "execution_count": 8,
   "metadata": {},
   "outputs": [],
   "source": [
    "df = pd.DataFrame({'team': ['A', 'A', 'B', 'B', 'C'],\n",
    "                   'assists': [5, 7, 7, 9, 12],\n",
    "                   'rebounds': [11, 8, 10, 6, 6]})\n"
   ]
  },
  {
   "cell_type": "code",
   "execution_count": 20,
   "metadata": {},
   "outputs": [
    {
     "data": {
      "text/html": [
       "<div>\n",
       "<style scoped>\n",
       "    .dataframe tbody tr th:only-of-type {\n",
       "        vertical-align: middle;\n",
       "    }\n",
       "\n",
       "    .dataframe tbody tr th {\n",
       "        vertical-align: top;\n",
       "    }\n",
       "\n",
       "    .dataframe thead th {\n",
       "        text-align: right;\n",
       "    }\n",
       "</style>\n",
       "<table border=\"1\" class=\"dataframe\">\n",
       "  <thead>\n",
       "    <tr style=\"text-align: right;\">\n",
       "      <th></th>\n",
       "      <th>team</th>\n",
       "      <th>assists</th>\n",
       "      <th>rebounds</th>\n",
       "    </tr>\n",
       "  </thead>\n",
       "  <tbody>\n",
       "    <tr>\n",
       "      <th>0</th>\n",
       "      <td>A</td>\n",
       "      <td>5</td>\n",
       "      <td>11</td>\n",
       "    </tr>\n",
       "    <tr>\n",
       "      <th>1</th>\n",
       "      <td>A</td>\n",
       "      <td>7</td>\n",
       "      <td>8</td>\n",
       "    </tr>\n",
       "    <tr>\n",
       "      <th>2</th>\n",
       "      <td>B</td>\n",
       "      <td>7</td>\n",
       "      <td>10</td>\n",
       "    </tr>\n",
       "    <tr>\n",
       "      <th>3</th>\n",
       "      <td>B</td>\n",
       "      <td>9</td>\n",
       "      <td>6</td>\n",
       "    </tr>\n",
       "    <tr>\n",
       "      <th>4</th>\n",
       "      <td>C</td>\n",
       "      <td>12</td>\n",
       "      <td>6</td>\n",
       "    </tr>\n",
       "    <tr>\n",
       "      <th>5</th>\n",
       "      <td>A</td>\n",
       "      <td>3</td>\n",
       "      <td>4</td>\n",
       "    </tr>\n",
       "  </tbody>\n",
       "</table>\n",
       "</div>"
      ],
      "text/plain": [
       "  team assists rebounds\n",
       "0    A       5       11\n",
       "1    A       7        8\n",
       "2    B       7       10\n",
       "3    B       9        6\n",
       "4    C      12        6\n",
       "5    A       3        4"
      ]
     },
     "execution_count": 20,
     "metadata": {},
     "output_type": "execute_result"
    }
   ],
   "source": [
    "df "
   ]
  },
  {
   "cell_type": "code",
   "execution_count": 14,
   "metadata": {},
   "outputs": [],
   "source": [
    "df = pd.DataFrame(np.insert(df.values, len(df.index), values=['A', 3, 4], axis=0))\n"
   ]
  },
  {
   "cell_type": "code",
   "execution_count": 18,
   "metadata": {},
   "outputs": [],
   "source": [
    "a = df2.columns\n"
   ]
  },
  {
   "cell_type": "code",
   "execution_count": 19,
   "metadata": {},
   "outputs": [],
   "source": [
    "df.columns = a\n"
   ]
  },
  {
   "cell_type": "code",
   "execution_count": 13,
   "metadata": {},
   "outputs": [
    {
     "data": {
      "text/plain": [
       "Index(['team', 'assists', 'rebounds'], dtype='object')"
      ]
     },
     "execution_count": 13,
     "metadata": {},
     "output_type": "execute_result"
    }
   ],
   "source": [
    "df.columns"
   ]
  },
  {
   "cell_type": "code",
   "execution_count": null,
   "metadata": {},
   "outputs": [],
   "source": [
    "# 上海证券交易所\n",
    "stock_sse_summary_df = ak.stock_sse_summary()\n",
    "print(stock_sse_summary_df)"
   ]
  },
  {
   "cell_type": "code",
   "execution_count": null,
   "metadata": {},
   "outputs": [],
   "source": [
    "# 深圳证券交易所\n",
    "stock_szse_summary_df = ak.stock_szse_summary(date=\"20230701\")\n",
    "print(stock_szse_summary_df)"
   ]
  },
  {
   "cell_type": "code",
   "execution_count": null,
   "metadata": {},
   "outputs": [],
   "source": [
    "# 个股基本信息\n",
    "stock_individual_info_em_df = ak.stock_individual_info_em(symbol=\"601318\")\n",
    "# print(stock_individual_info_em_df)\n",
    "stock_individual_info_em_df.info"
   ]
  },
  {
   "cell_type": "code",
   "execution_count": null,
   "metadata": {},
   "outputs": [],
   "source": [
    "# 实时买卖信息\n",
    "stock_bid_ask_em_df = ak.stock_bid_ask_em(symbol=\"601318\")\n",
    "print(stock_bid_ask_em_df)"
   ]
  },
  {
   "cell_type": "code",
   "execution_count": null,
   "metadata": {},
   "outputs": [],
   "source": [
    "# def greater_or_less(d):\n",
    "#     if d['current'] > d['previous']:\n",
    "#         d['result']=\"Greater\"\n",
    "#     elif d['current'] < d['previous']:\n",
    "#         d['result']=\"Less\"\n",
    "#     elif d['current'] == d['previous']:\n",
    "#         d['result']=\"Equal\"\n",
    "#     else:\n",
    "#         pass\n",
    "#     return d\n",
    "\n",
    "# df=pd.DataFrame({'current':[1,2,2,8,7]})\n",
    "# df['previous']=df['current'].shift(1)\n",
    "# df['result']=\"\"\n",
    "# df=df.apply(greater_or_less,axis=1)"
   ]
  },
  {
   "cell_type": "code",
   "execution_count": null,
   "metadata": {},
   "outputs": [],
   "source": [
    "df1 = ts.pro_bar(ts_code='601318.SH', adj='qfq', start_date='20220101', end_date='20231231',ma=[5,60,120])\n",
    "df1.shape"
   ]
  },
  {
   "cell_type": "code",
   "execution_count": null,
   "metadata": {},
   "outputs": [],
   "source": [
    "df1"
   ]
  },
  {
   "cell_type": "code",
   "execution_count": null,
   "metadata": {},
   "outputs": [],
   "source": [
    "# df = pd.DataFrame({'sz_max_10': [-5, 3, 12, -1, 8, 0]})\n",
    "\n",
    "# bins = [-float('inf'), 0, 5, 10, float('inf')] \n",
    "# labels = ['<0', '0-5', '0-10', '>10']\n",
    "# df['sz_max_10_bin'] = pd.cut(df['sz_max_10'], bins=bins, labels=labels)\n",
    "# df['sz_max_10_bin'].value_counts()"
   ]
  },
  {
   "cell_type": "code",
   "execution_count": null,
   "metadata": {},
   "outputs": [],
   "source": [
    "df"
   ]
  },
  {
   "cell_type": "code",
   "execution_count": null,
   "metadata": {},
   "outputs": [],
   "source": [
    "# df.info()\n",
    "# del df['display_name']\n",
    "pi2degree = 180/math.pi\n",
    "print( math.tan(45), math.tan(45)*pi2degree , math.tan(0.1), math.tan(0.2))"
   ]
  },
  {
   "cell_type": "code",
   "execution_count": null,
   "metadata": {},
   "outputs": [],
   "source": [
    "a = np.array([0,30,45,60,90])\n",
    "print ('不同角度的正弦值：')\n",
    "# 通过乘 pi/180 转化为弧度  \n",
    "print (np.sin(a*np.pi/180))\n",
    "print ('\\n')\n",
    "print ('数组中角度的余弦值：')\n",
    "print (np.cos(a*np.pi/180))\n",
    "print ('\\n')\n",
    "print ('数组中角度的正切值：')\n",
    "print (np.tan(a*np.pi/180))\n",
    "\n"
   ]
  },
  {
   "cell_type": "code",
   "execution_count": null,
   "metadata": {},
   "outputs": [],
   "source": [
    "a = np.array([0,30,45,60,90])  \n",
    "print ('含有正弦值的数组：')\n",
    "sin = np.sin(a*np.pi/180)  \n",
    "print (sin)\n",
    "print ('\\n')\n",
    "print ('计算角度的反正弦，返回值以弧度为单位：')\n",
    "inv = np.arcsin(sin)  \n",
    "print (inv)\n",
    "print ('\\n')\n",
    "print ('通过转化为角度制来检查结果：')\n",
    "print (np.degrees(inv))\n",
    "print ('\\n')\n",
    "print ('arccos 和 arctan 函数行为类似：')\n",
    "cos = np.cos(a*np.pi/180)  \n",
    "print (cos)\n",
    "print ('\\n')\n",
    "print ('反余弦：')\n",
    "inv = np.arccos(cos)  \n",
    "print (inv)\n",
    "print ('\\n')\n",
    "print ('角度制单位：')\n",
    "print (np.degrees(inv))\n",
    "print ('\\n')\n"
   ]
  },
  {
   "cell_type": "code",
   "execution_count": null,
   "metadata": {},
   "outputs": [],
   "source": [
    "a = np.array([0,30,45,60,90])  \n",
    "print ('tan 函数：')\n",
    "tan = np.tan(a*np.pi/180)  \n",
    "print (tan)\n",
    "print ('\\n')\n",
    "print ('反正切：')\n",
    "inv = np.arctan(tan)  \n",
    "print (inv)\n",
    "print ('\\n')\n",
    "print ('角度制单位：')\n",
    "print (np.degrees(inv))\n"
   ]
  },
  {
   "cell_type": "markdown",
   "metadata": {},
   "source": []
  },
  {
   "cell_type": "code",
   "execution_count": null,
   "metadata": {},
   "outputs": [],
   "source": [
    "\n",
    "np.degrees(np.arctan(1)), np.degrees(np.arctan(0.001321)), np.degrees(np.arctan(0.001449))"
   ]
  },
  {
   "cell_type": "code",
   "execution_count": null,
   "metadata": {},
   "outputs": [],
   "source": [
    "# 从 tran_daily 中读出5条\n",
    "sql=\"SELECT * FROM tran_daily where trade_date='20230710' LIMIT 1\"\n",
    "df = pd.read_sql_query(sql, conn)\n",
    "df"
   ]
  },
  {
   "cell_type": "code",
   "execution_count": null,
   "metadata": {},
   "outputs": [],
   "source": [
    "# 写入到 tran_000, append 模式\n",
    "# write_no = df.to_sql('tran_000', conn, index=False, if_exists='append', chunksize=2) # 20000个，每天成交几千只股票，足够了\n",
    "write_no = df.to_sql('day_zhibiao', conn, index=False, if_exists='append', chunksize=2000) # 20000个，每天成交几千只股票，足够了\n",
    "write_no\n"
   ]
  },
  {
   "cell_type": "code",
   "execution_count": null,
   "metadata": {},
   "outputs": [],
   "source": [
    "# df.insert(loc=2, column='new_col', value=3) \n",
    "# del df['index']\n",
    "# df.loc[[0], 'ts_code'] = 'testcode'"
   ]
  },
  {
   "cell_type": "code",
   "execution_count": null,
   "metadata": {},
   "outputs": [],
   "source": [
    "# 从 tran_000 读出数据\n",
    "sql2 = 'select * from tran_000'\n",
    "df2 = pd.read_sql_query(sql2, conn, index_col=None)\n",
    "df2"
   ]
  },
  {
   "cell_type": "code",
   "execution_count": null,
   "metadata": {},
   "outputs": [],
   "source": [
    "# 验证 exec_sql\n",
    "sql1 = 'create table test_000( ts_code varchar(12), trade_date varchar(10))'\n",
    "sql2 = 'drop table if exists test'\n",
    "status = basic.exec_sql(conn,sql2)\n",
    "status\n"
   ]
  },
  {
   "cell_type": "code",
   "execution_count": null,
   "metadata": {},
   "outputs": [],
   "source": [
    "# 从 tran_000 读出数据\n",
    "sql3 = \"select * from tran_daily where trade_date='20230717' \"\n",
    "df3 = pd.read_sql_query(sql3, conn, index_col=None)\n",
    "df3.shape"
   ]
  },
  {
   "cell_type": "markdown",
   "metadata": {},
   "source": [
    "to_sql(self, name, con, schema=None, if_exists='fail', index=True,\n",
    "       index_label=None, chunksize=None, dtype=None, method=None):\n",
    "- if_exists: \n",
    "    - append : append到表中，不存在表时，就新建表；\n",
    "    - replace : 无论是否存在，直接新建表\n",
    "- index：对DataFrame的index索引的处理，为True时索引也将作为数据写入数据表\n",
    "- index_label:当上一个参数index为True时，设置写入数据表时index的列名称\n",
    "- chunsize：设置整数，如20000，一次写入数据时的数据行数量，当数据量很大时，需要设置，否则会链接超时写入失败。\n",
    "    - 每日交易不超过7000支股票，20000万足够了。\n",
    "- \n",
    "\n",
    "index=True,\n",
    "           index_label=None, chunksize=None, dtype=None, method=None):\n",
    "\n"
   ]
  },
  {
   "cell_type": "code",
   "execution_count": 12,
   "metadata": {},
   "outputs": [
    {
     "name": "stdout",
     "output_type": "stream",
     "text": [
      "text1:   there      are   three words \n",
      "text2: there are three words\n",
      "test3: there_are_three_words\n"
     ]
    }
   ],
   "source": [
    "# 字符串处理 \n",
    "text1='  there      are   three words ' \n",
    "print('text1:',text1)\n",
    "\n",
    "text2=' '.join( text1.split() )\n",
    "print('text2:',text2)\n",
    "\n",
    "text3='_'.join( text1.split() )\n",
    "print('test3:', text3)"
   ]
  },
  {
   "cell_type": "code",
   "execution_count": null,
   "metadata": {},
   "outputs": [],
   "source": []
  }
 ],
 "metadata": {
  "kernelspec": {
   "display_name": "cuda",
   "language": "python",
   "name": "python3"
  },
  "language_info": {
   "codemirror_mode": {
    "name": "ipython",
    "version": 3
   },
   "file_extension": ".py",
   "mimetype": "text/x-python",
   "name": "python",
   "nbconvert_exporter": "python",
   "pygments_lexer": "ipython3",
   "version": "3.10.11"
  },
  "orig_nbformat": 4
 },
 "nbformat": 4,
 "nbformat_minor": 2
}
