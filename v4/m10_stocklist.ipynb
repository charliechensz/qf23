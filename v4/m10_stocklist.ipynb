{
 "cells": [
  {
   "attachments": {},
   "cell_type": "markdown",
   "metadata": {
    "tags": []
   },
   "source": [
    "# 数据处理\n",
    "- 数据获取\n",
    "    tushare   ：['open','high','low','close','pre_close','vol',    'change', 'pct_chg',    'amount']\n",
    "    mplfinance：['open','high','low','close','pre_close','volume', 'change', 'pct_change', 'value']\n",
    "- 批量获取目标数据 到 csv 格式\n",
    "\n"
   ]
  },
  {
   "cell_type": "code",
   "execution_count": null,
   "metadata": {
    "tags": []
   },
   "outputs": [],
   "source": [
    "%matplotlib widget\n",
    "import numpy as np\n",
    "import pandas as pd\n",
    "import random \n",
    "import matplotlib.pyplot as plt\n",
    "import mplfinance as mpf\n",
    "\n",
    "# from numba import jit\n",
    "from importlib import reload \n",
    "from qflib import basic\n",
    "reload(basic)\n",
    "\n",
    "import tushare as ts\n",
    "ts.set_token('11137efdbeac800606d677871a55b3fd5aef79890c59867a8f34d03e')\n",
    "pro = ts.pro_api()\n"
   ]
  },
  {
   "cell_type": "code",
   "execution_count": null,
   "metadata": {},
   "outputs": [],
   "source": [
    "engine = basic.engine()\n",
    "sql = \"select * from tran_daily where ts_code='601318.SH'\"\n",
    "# sql = \"select * from stock_cal where ts_code='002016.SZ'\"\n",
    "dt = basic.read_data(engine, sql)\n",
    "dt.head(5)\n",
    "\n",
    "\n"
   ]
  },
  {
   "cell_type": "code",
   "execution_count": null,
   "metadata": {},
   "outputs": [],
   "source": [
    "df = pro.daily(trade_date='20230704')\n",
    "df.head(5)"
   ]
  },
  {
   "cell_type": "code",
   "execution_count": null,
   "metadata": {},
   "outputs": [],
   "source": [
    "# 建立 tran_daily 表  -- OK\n",
    "# df = pro.daily(trade_date='20230704')\n",
    "# df\n",
    "# basic.write_data(engine,df,'tran_daily', True)\n",
    "\n",
    "# df = ts.pro_bar(ts_code='601318.SH', adj='qfq', start_date='20200101', end_date='20231231')\n",
    "# basic.write_data(engine,df,'tran_daily', False)\n",
    "# def write_data(engine, df, table, status=False, mode='append'):"
   ]
  },
  {
   "cell_type": "code",
   "execution_count": null,
   "metadata": {},
   "outputs": [],
   "source": [
    "# 建立MoneyFlow表  -- 需要API授权\n",
    "# df = pro.moneyflow(trade_date='20230704')\n",
    "# df\n",
    "# basic.write_data(engine,df,'moneyflow', True)\n"
   ]
  },
  {
   "cell_type": "code",
   "execution_count": null,
   "metadata": {},
   "outputs": [],
   "source": [
    "# df = pro.stock_basic(is_hs='', list_status='L', market='')\n",
    "# # fields='ts_code,symbol,name,area,is_hs,market,industry,exchange,list_date'\n",
    "# # df.to_csv('data/stock_list_all.csv') \n",
    "\n",
    "\n",
    "# # df[ df['market']=='创业板' ]\n",
    "# df[ df['industry']=='全国地产' ]  "
   ]
  },
  {
   "cell_type": "code",
   "execution_count": null,
   "metadata": {},
   "outputs": [],
   "source": [
    "# 沪深300\n",
    "# hs300_data = ts.get_hs300s()\n",
    "# print( hs300_data )"
   ]
  },
  {
   "cell_type": "code",
   "execution_count": null,
   "metadata": {},
   "outputs": [],
   "source": [
    "# 各种处理\n",
    "\n",
    "# 相关性\n",
    "# df.cov()\n",
    "# df.corr()\n"
   ]
  },
  {
   "cell_type": "code",
   "execution_count": null,
   "metadata": {},
   "outputs": [],
   "source": [
    "\n",
    "# 美股数据, 每天只有5次\n",
    "# ts_code = 'JD'\n",
    "# ts_file = ts_code+'.csv'\n",
    "# ts_all_file = ts_code+'.all.csv'\n",
    "\n",
    "# df_us = pro.us_daily(ts_code=ts_code, start_date='20190101', end_date='20190904')\n",
    "# df_us\n",
    "# df_us.to_csv( ts_file )\n",
    "# sl_list = pd.to_csv( '../data/stocklist.csv')\n",
    "\n",
    "# 沪深300\n",
    "# hs300_data = ts.get_hs300s()\n",
    "# print( hs300_data )\n",
    "\n",
    "# 股票回购信息\n",
    "# df=pro.repurchase(ann_date='', start_date='20220301', end_date='20221231')\n",
    "# df['ts_code'].unique()\n"
   ]
  },
  {
   "cell_type": "code",
   "execution_count": null,
   "metadata": {},
   "outputs": [],
   "source": [
    "# df = pd.DataFrame(data=[1,2,3,4,5])\n",
    "# print( len(df) )\n",
    "# df\n",
    "# for i in range(4, len(df) ):\n",
    "#     print(i)\n",
    "\n"
   ]
  },
  {
   "cell_type": "code",
   "execution_count": null,
   "metadata": {},
   "outputs": [],
   "source": []
  },
  {
   "cell_type": "code",
   "execution_count": null,
   "metadata": {},
   "outputs": [],
   "source": []
  }
 ],
 "metadata": {
  "interpreter": {
   "hash": "c964a6907b2774297a48b44694a21488b5d674bf6da9bcac704f7b1c134d78ee"
  },
  "kernelspec": {
   "display_name": "Python 3.9.7 ('base')",
   "language": "python",
   "name": "python3"
  },
  "language_info": {
   "codemirror_mode": {
    "name": "ipython",
    "version": 3
   },
   "file_extension": ".py",
   "mimetype": "text/x-python",
   "name": "python",
   "nbconvert_exporter": "python",
   "pygments_lexer": "ipython3",
   "version": "3.10.11"
  },
  "toc-autonumbering": false,
  "widgets": {
   "application/vnd.jupyter.widget-state+json": {
    "state": {},
    "version_major": 2,
    "version_minor": 0
   }
  }
 },
 "nbformat": 4,
 "nbformat_minor": 4
}
