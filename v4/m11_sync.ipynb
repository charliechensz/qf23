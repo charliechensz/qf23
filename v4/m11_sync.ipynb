{
 "cells": [
  {
   "cell_type": "code",
   "execution_count": 1,
   "metadata": {
    "tags": []
   },
   "outputs": [
    {
     "name": "stdout",
     "output_type": "stream",
     "text": [
      "date :  20230725\n"
     ]
    }
   ],
   "source": [
    "%matplotlib widget\n",
    "''' 系统库 '''\n",
    "import datetime\n",
    "import time\n",
    "from random import randint \n",
    "from importlib import reload \n",
    "# from numba import jit\n",
    "# @jit(nopython=True)\n",
    "\n",
    "import numpy as np\n",
    "import pandas as pd\n",
    "# import matplotlib.pyplot as plt\n",
    "\n",
    "''' 业务库 '''\n",
    "# import mplfinance as mpf\n",
    "import tushare as ts\n",
    "ts.set_token('11137efdbeac800606d677871a55b3fd5aef79890c59867a8f34d03e')\n",
    "pro = ts.pro_api()\n",
    "\n",
    "''' 自建库 '''\n",
    "from qflib import basic\n",
    "reload(basic)\n",
    "\n",
    "global engine, conn \n",
    "engine = basic.engine()\n",
    "conn = basic.conn(engine)\n",
    "\n",
    "trade_date = datetime.datetime.now().strftime('%Y%m%d')\n",
    "print('date : ', trade_date)\n",
    "run_static, run_dynamic = False, True\n",
    "# run_static, run_dynamic = True, True\n",
    "# run_static, run_dynamic = True, False\n"
   ]
  },
  {
   "cell_type": "code",
   "execution_count": 2,
   "metadata": {},
   "outputs": [],
   "source": [
    "# 获得 bak_basic\n",
    "def sync_basic(conn, df, table, trade_date):    \n",
    "    sql = \" truncate table \"+table\n",
    "    print( table, basic.exec_sql(conn, sql) )\n",
    "    basic.write_data(conn, df, table, False, 'append')\n",
    "\n",
    "#取000001的前复权行情\n",
    "#df = ts.pro_bar(ts_code='000001.SZ', adj='qfq', start_date='20180101', end_date='20181011')\n",
    "#取000001的后复权行情\n",
    "#df = ts.pro_bar(ts_code='000001.SZ', adj='hfq', start_date='20180101', end_date='20181011')\n",
    "# 分钟数据，freq/数据频度 ：1MIN表示1分钟（1/5/15/30/60分钟） D日线 ，默认D， W，M;  *** 您每天最多访问该接口2次\n",
    "# df = ts.pro_bar(ts_code='601318.SH', adj='qfq', freq='1min', start_date='20220401', end_date='20220430')\n",
    "# print(df.head(3))\n",
    "# df.to_csv('../data/minite_601318.csv')\n",
    "# df.info\n",
    "# df['hs_type'].unique(), df['hs_type'].value_counts(), df.hs_type.value_counts()"
   ]
  },
  {
   "cell_type": "code",
   "execution_count": 3,
   "metadata": {},
   "outputs": [],
   "source": [
    "\n",
    "# df = pro.stock_basic(exchange='', list_status='L')\n",
    "# df = pro.concept(src='ts') \n",
    "# sync_basic(engine, df, 'concept', trade_date)\n",
    "# df = pro.hs_const(hs_type='SH')"
   ]
  },
  {
   "cell_type": "code",
   "execution_count": 4,
   "metadata": {},
   "outputs": [],
   "source": [
    "\n",
    "# write_no = df.to_sql('sl_hugutong', conn, index=False, if_exists='append', chunksize=2000) # 每次写入2000个"
   ]
  },
  {
   "cell_type": "code",
   "execution_count": 5,
   "metadata": {},
   "outputs": [
    {
     "name": "stdout",
     "output_type": "stream",
     "text": [
      "CPU times: total: 0 ns\n",
      "Wall time: 0 ns\n"
     ]
    }
   ],
   "source": [
    "%%time\n",
    "# 静态数据更新  -  调整为手工处理\n",
    "if run_static:\n",
    "    print( '更新基本信息' )\n",
    "    df = pro.stock_basic(exchange='', list_status='L')\n",
    "    sync_basic(engine, df, 'stock_basic', trade_date)\n",
    "    \n",
    "    print( \"更新公司信息\")\n",
    "    df = pro.stock_company(exchange='', ts_code='')  \n",
    "    sync_basic(engine, df, 'stock_company', trade_date)\n",
    "    \n",
    "    # print( \"获得股票关键市场信息； 5000积分以上，否则每分钟最多2次, 每天20次；\")\n",
    "    # df = pro.bak_basic(trade_date=trade_date)\n",
    "    # sync_basic(engine, df, 'bak_basic', trade_date)\n",
    "\n",
    "    print( \"更新深股通清单\")\n",
    "    df = pro.hs_const(hs_type='SZ')\n",
    "    sync_basic(engine, df, 'sl_shengutong', trade_date)\n",
    "\n",
    "    print(\"更新沪股通清单\")\n",
    "    df = pro.hs_const(hs_type='SH')\n",
    "    sync_basic(engine, df, 'sl_hugutong', trade_date)\n",
    "\n",
    "    print(\"开始改名的股票\")\n",
    "    df = pro.namechange(ts_code='', start_date='2019-01-01', fields='ts_code,name,start_date,end_date,change_reason')\n",
    "    sync_basic(engine, df, 'namechange', trade_date)\n",
    "\n",
    "    print(\"交易日历\")\n",
    "    df = pro.trade_cal(exchange='SSE', start_date='20190101', end_date='20221231')\n",
    "    sync_basic(engine, df, 'calendar', trade_date)\n",
    "    \n",
    "    print(\"股票概念清单\")   # 879+个\n",
    "    df = pro.concept(src='ts') \n",
    "    sync_basic(engine, df, 'concept', trade_date)\n"
   ]
  },
  {
   "cell_type": "code",
   "execution_count": 6,
   "metadata": {},
   "outputs": [],
   "source": [
    "\n",
    "# 获得股票日交易数据 - OK\n",
    "def sync_tran_daily(conn, period=1):    \n",
    "    now = datetime.datetime.now()\n",
    "    # period = 1501\n",
    "    for n in range(-period+1, 1):\n",
    "        delta = datetime.timedelta(days=n)\n",
    "        new_day = now + delta\n",
    "        trade_date = new_day.strftime('%Y%m%d')\n",
    "        print( trade_date, end=\"\" )  \n",
    "\n",
    "        # existDate = False\n",
    "        sql=\"SELECT * FROM tran_daily where trade_date='\" + trade_date+ \"' LIMIT 1\"\n",
    "        df=basic.read_data(conn, sql)\n",
    "        if len(df) > 0:\n",
    "            print( '  - existed' )\n",
    "        else:\n",
    "            # read data\n",
    "            df = pro.daily(trade_date=trade_date)\n",
    "            df.rename( columns={'vol':'volume','pct_chg':'pct_change', 'amount':'value'}, inplace=True )\n",
    "            print( '  - read: ', df.shape, end=\"\")\n",
    "            if len(df) > 0:  \n",
    "                # print( '  - none ')\n",
    "                # 删除已有数据\n",
    "                # sql = \"delete from tran_daily where trade_date=\"+trade_date\n",
    "                # print( 'trade_date :', trade_date )\n",
    "                # print( 'sql: ', sql )\n",
    "                # print( 'delete res: ', basic.exec_sql(conn, sql) )\n",
    "                # 添加数据\n",
    "                write_no = basic.write_data(conn, df, 'tran_daily', False,'append') \n",
    "                if write_no > 0:\n",
    "                    print( '  - Added', str(write_no))\n",
    "                else:\n",
    "                    print( '  - Added 0')\n",
    "            else:    \n",
    "                print( '  - none ' )\n",
    "    print('\\n== tran_daily: OK\\n')\n"
   ]
  },
  {
   "cell_type": "code",
   "execution_count": 7,
   "metadata": {},
   "outputs": [],
   "source": [
    "# 获得股票日资金流 - OK\n",
    "def sync_moneyflow(conn, period=1):\n",
    "    now = datetime.datetime.now()\n",
    "    # period = 825\n",
    "    for n in range(-period+1, 1):\n",
    "        delta = datetime.timedelta(days=n)\n",
    "        new_day = now + delta\n",
    "        trade_date = new_day.strftime('%Y%m%d')\n",
    "        print( trade_date, end=\"\" )  \n",
    "\n",
    "        # 判断当日数据是否已存在\n",
    "        sql=\"SELECT * FROM moneyflow where trade_date='\" + trade_date+ \"' LIMIT 10\"\n",
    "        df=basic.read_data(conn, sql)\n",
    "        if len(df) > 0:\n",
    "            print( '  - existed' )   \n",
    "        else:    \n",
    "            # 读取数据\n",
    "            df = pro.moneyflow(trade_date=trade_date)\n",
    "            print( '  - read: ', df.shape, end=\"\")\n",
    "            if len(df) == 0:\n",
    "                print( '  - no found at Tushare' )\n",
    "            else:\n",
    "                # 删除可能的已有数据\n",
    "                # sql = \"delete from moneyflow where trade_date=\"+trade_date\n",
    "                # print( 'trade_date :', trade_date )\n",
    "                # print( 'delete res: ', basic.exec_sql(conn, sql) )\n",
    "                # 添加数据\n",
    "                basic.write_data(conn, df, 'moneyflow', False,'append') \n",
    "                print( '  - added' )\n",
    "\n",
    "    print('\\n== moneyflow daily: OK\\n')"
   ]
  },
  {
   "cell_type": "code",
   "execution_count": 9,
   "metadata": {},
   "outputs": [
    {
     "name": "stdout",
     "output_type": "stream",
     "text": [
      "20230719  - existed\n",
      "20230720  - existed\n",
      "20230721  - existed\n",
      "20230722  - read:  (0, 11)  - none \n",
      "20230723  - read:  (0, 11)  - none \n",
      "20230724  - read:  (5223, 11)  - Added 5223\n",
      "20230725  - read:  (5226, 11)  - Added 5226\n",
      "\n",
      "== tran_daily: OK\n",
      "\n",
      "CPU times: total: 141 ms\n",
      "Wall time: 4.55 s\n"
     ]
    }
   ],
   "source": [
    "%%time\n",
    "\"\"\"\n",
    "动态数据更新：每日成交、每日MoneyFlow\n",
    "\"\"\"\n",
    "\n",
    "# days = 365*5\n",
    "# days = int(365 * 10)\n",
    "days = 7\n",
    "\n",
    "# reload(basic)\n",
    "\n",
    "if run_dynamic:\n",
    "    # 每日成交数据 -- OK\n",
    "    sync_tran_daily(conn, days)\n",
    "    # 每日资金流向  --  暂停\n",
    "    # .sync_moneyflow(engine, days)\n",
    "\n",
    "    # 1、国内股市：可显示复权后和复权前信息, 现在用前复权价格\n",
    "    # df = ts.pro_bar(ts_code=sl_list['ts_code'][i], asset='E', adj='qfq', start_date=start_date, end_date='')"
   ]
  },
  {
   "cell_type": "code",
   "execution_count": null,
   "metadata": {},
   "outputs": [],
   "source": [
    "\n",
    "# import cStringIO\n",
    " \n",
    "# output = cStringIO.StringIO()\n",
    "# # ignore the index\n",
    "# df_a.to_csv(output, sep='\\t',index = False, header = False)\n",
    "# output.getvalue()\n",
    "# # jump to start of stream\n",
    "# output.seek(0)\n",
    " \n",
    "# connection = engine.raw_connection() #engine 是 from sqlalchemy import create_engine\n",
    "# cursor = connection.cursor()\n",
    "# # null value become ''\n",
    "# cursor.copy_from(output,table_name,null='')\n",
    "# connection.commit()\n"
   ]
  },
  {
   "cell_type": "code",
   "execution_count": null,
   "metadata": {},
   "outputs": [
    {
     "data": {
      "text/plain": [
       "' 概念股清单 \\n    58,TS58,锂电隔膜,ts\\n    59,TS59,锂电设备,ts\\n    60,TS60,锂电原料,ts\\n    61,TS61,锂电制造,ts\\n'"
      ]
     },
     "execution_count": 10,
     "metadata": {},
     "output_type": "execute_result"
    }
   ],
   "source": [
    "'''管理层薪酬和持股; 需要高级权限 '''\n",
    "# df = pro.stk_rewards(ts_code='601318.SH')\n",
    "\n",
    "'''--- 新股上市清单， 120积分 '''\n",
    "# df = pro.new_share(start_date='20220101', end_date='20221231')\n",
    "# df.tail(10)\n",
    "\n",
    "''' 概念股清单 \n",
    "    58,TS58,锂电隔膜,ts\n",
    "    59,TS59,锂电设备,ts\n",
    "    60,TS60,锂电原料,ts\n",
    "    61,TS61,锂电制造,ts\n",
    "'''\n",
    "# df = pro.concept_detail(id='TS60', fields='ts_code,name') \n",
    "# df.to_csv('~/win-desk/lidianyuanliao.txt', index=False, header=False)\n"
   ]
  },
  {
   "cell_type": "code",
   "execution_count": null,
   "metadata": {},
   "outputs": [],
   "source": []
  },
  {
   "cell_type": "code",
   "execution_count": null,
   "metadata": {},
   "outputs": [],
   "source": []
  }
 ],
 "metadata": {
  "interpreter": {
   "hash": "c964a6907b2774297a48b44694a21488b5d674bf6da9bcac704f7b1c134d78ee"
  },
  "kernelspec": {
   "display_name": "Python 3 (ipykernel)",
   "language": "python",
   "name": "python3"
  },
  "language_info": {
   "codemirror_mode": {
    "name": "ipython",
    "version": 3
   },
   "file_extension": ".py",
   "mimetype": "text/x-python",
   "name": "python",
   "nbconvert_exporter": "python",
   "pygments_lexer": "ipython3",
   "version": "3.10.11"
  },
  "toc-autonumbering": false,
  "widgets": {
   "application/vnd.jupyter.widget-state+json": {
    "state": {},
    "version_major": 2,
    "version_minor": 0
   }
  }
 },
 "nbformat": 4,
 "nbformat_minor": 4
}
