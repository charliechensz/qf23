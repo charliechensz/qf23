{
 "cells": [
  {
   "cell_type": "code",
   "execution_count": null,
   "metadata": {},
   "outputs": [],
   "source": [
    "# import time\n",
    " \n",
    "# myDict = {1: 'a', 2: 'b', 3: 'b'}\n",
    "# for key, value in dict.items(myDict):\n",
    "# \tprint( key, value )\n",
    "\n",
    "# for i in range(-6, 1):\n",
    "# \tprint( i )\n",
    "# \t# time.sleep(30) # \n",
    "\t# time.sleep(30) # "
   ]
  },
  {
   "cell_type": "code",
   "execution_count": null,
   "metadata": {},
   "outputs": [],
   "source": [
    "# import datetime\n",
    "\n",
    "# # 产生日期 \n",
    "# now = datetime.datetime.now()\n",
    "# # 日期转换为字符型\n",
    "# now.strftime('%Y-%m-%d %H:%M:%S')  \n",
    "# now.strftime('%Y-%m-%d')  \n",
    "# # 字符转换为日期型\n",
    "# date = datetime.datetime.strptime('2015-03-05 17:41:20', '%Y-%m-%d %H:%M:%S')\n",
    "\n",
    "# #日期运算\n",
    "# now = datetime.datetime.now()\n",
    "# n = 3\n",
    "# delta = datetime.timedelta(days=n)\n",
    "# new_day = now + delta\n",
    "# print(new_day.strftime('%Y-%m-%d') + '-good' )"
   ]
  },
  {
   "cell_type": "code",
   "execution_count": null,
   "metadata": {},
   "outputs": [],
   "source": [
    "# 时间延迟测试\n",
    "# now = datetime.datetime.now()\n",
    "# period = 6\n",
    "# for n in range(-period, 1):\n",
    "#     delta = datetime.timedelta(days=n)\n",
    "#     new_day = now + delta\n",
    "#     print(new_day.strftime('%Y-%m-%d')  )\n"
   ]
  }
 ],
 "metadata": {
  "interpreter": {
   "hash": "c964a6907b2774297a48b44694a21488b5d674bf6da9bcac704f7b1c134d78ee"
  },
  "kernelspec": {
   "display_name": "Python 3.9.7 ('base')",
   "language": "python",
   "name": "python3"
  },
  "language_info": {
   "codemirror_mode": {
    "name": "ipython",
    "version": 3
   },
   "file_extension": ".py",
   "mimetype": "text/x-python",
   "name": "python",
   "nbconvert_exporter": "python",
   "pygments_lexer": "ipython3",
   "version": "3.9.7"
  },
  "orig_nbformat": 4
 },
 "nbformat": 4,
 "nbformat_minor": 2
}
