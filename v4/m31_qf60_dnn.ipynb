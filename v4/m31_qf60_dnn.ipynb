{
 "cells": [
  {
   "cell_type": "code",
   "execution_count": 1,
   "metadata": {},
   "outputs": [
    {
     "ename": "OptionError",
     "evalue": "Pattern matched multiple keys",
     "output_type": "error",
     "traceback": [
      "\u001b[1;31m---------------------------------------------------------------------------\u001b[0m",
      "\u001b[1;31mOptionError\u001b[0m                               Traceback (most recent call last)",
      "Cell \u001b[1;32mIn[1], line 6\u001b[0m\n\u001b[0;32m      4\u001b[0m \u001b[39mimport\u001b[39;00m \u001b[39mmath\u001b[39;00m\u001b[39m,\u001b[39m \u001b[39mrandom\u001b[39;00m\n\u001b[0;32m      5\u001b[0m \u001b[39m# %matplotlib inline\u001b[39;00m\n\u001b[1;32m----> 6\u001b[0m pd\u001b[39m.\u001b[39;49mset_option(\u001b[39m'\u001b[39;49m\u001b[39mprecision\u001b[39;49m\u001b[39m'\u001b[39;49m, np\u001b[39m.\u001b[39;49mfloat32)\n\u001b[0;32m      8\u001b[0m \u001b[39mimport\u001b[39;00m \u001b[39mtorch\u001b[39;00m\n\u001b[0;32m      9\u001b[0m \u001b[39mfrom\u001b[39;00m \u001b[39mtorch\u001b[39;00m \u001b[39mimport\u001b[39;00m nn\n",
      "File \u001b[1;32mc:\\Users\\charlie\\miniconda3\\envs\\cuda\\lib\\site-packages\\pandas\\_config\\config.py:263\u001b[0m, in \u001b[0;36mCallableDynamicDoc.__call__\u001b[1;34m(self, *args, **kwds)\u001b[0m\n\u001b[0;32m    262\u001b[0m \u001b[39mdef\u001b[39;00m \u001b[39m__call__\u001b[39m(\u001b[39mself\u001b[39m, \u001b[39m*\u001b[39margs, \u001b[39m*\u001b[39m\u001b[39m*\u001b[39mkwds) \u001b[39m-\u001b[39m\u001b[39m>\u001b[39m T:\n\u001b[1;32m--> 263\u001b[0m     \u001b[39mreturn\u001b[39;00m \u001b[39mself\u001b[39m\u001b[39m.\u001b[39m\u001b[39m__func__\u001b[39m(\u001b[39m*\u001b[39margs, \u001b[39m*\u001b[39m\u001b[39m*\u001b[39mkwds)\n",
      "File \u001b[1;32mc:\\Users\\charlie\\miniconda3\\envs\\cuda\\lib\\site-packages\\pandas\\_config\\config.py:156\u001b[0m, in \u001b[0;36m_set_option\u001b[1;34m(*args, **kwargs)\u001b[0m\n\u001b[0;32m    153\u001b[0m     \u001b[39mraise\u001b[39;00m \u001b[39mTypeError\u001b[39;00m(\u001b[39mf\u001b[39m\u001b[39m'\u001b[39m\u001b[39m_set_option() got an unexpected keyword argument \u001b[39m\u001b[39m\"\u001b[39m\u001b[39m{\u001b[39;00mkwarg\u001b[39m}\u001b[39;00m\u001b[39m\"\u001b[39m\u001b[39m'\u001b[39m)\n\u001b[0;32m    155\u001b[0m \u001b[39mfor\u001b[39;00m k, v \u001b[39min\u001b[39;00m \u001b[39mzip\u001b[39m(args[::\u001b[39m2\u001b[39m], args[\u001b[39m1\u001b[39m::\u001b[39m2\u001b[39m]):\n\u001b[1;32m--> 156\u001b[0m     key \u001b[39m=\u001b[39m _get_single_key(k, silent)\n\u001b[0;32m    158\u001b[0m     o \u001b[39m=\u001b[39m _get_registered_option(key)\n\u001b[0;32m    159\u001b[0m     \u001b[39mif\u001b[39;00m o \u001b[39mand\u001b[39;00m o\u001b[39m.\u001b[39mvalidator:\n",
      "File \u001b[1;32mc:\\Users\\charlie\\miniconda3\\envs\\cuda\\lib\\site-packages\\pandas\\_config\\config.py:123\u001b[0m, in \u001b[0;36m_get_single_key\u001b[1;34m(pat, silent)\u001b[0m\n\u001b[0;32m    121\u001b[0m     \u001b[39mraise\u001b[39;00m OptionError(\u001b[39mf\u001b[39m\u001b[39m\"\u001b[39m\u001b[39mNo such keys(s): \u001b[39m\u001b[39m{\u001b[39;00m\u001b[39mrepr\u001b[39m(pat)\u001b[39m}\u001b[39;00m\u001b[39m\"\u001b[39m)\n\u001b[0;32m    122\u001b[0m \u001b[39mif\u001b[39;00m \u001b[39mlen\u001b[39m(keys) \u001b[39m>\u001b[39m \u001b[39m1\u001b[39m:\n\u001b[1;32m--> 123\u001b[0m     \u001b[39mraise\u001b[39;00m OptionError(\u001b[39m\"\u001b[39m\u001b[39mPattern matched multiple keys\u001b[39m\u001b[39m\"\u001b[39m)\n\u001b[0;32m    124\u001b[0m key \u001b[39m=\u001b[39m keys[\u001b[39m0\u001b[39m]\n\u001b[0;32m    126\u001b[0m \u001b[39mif\u001b[39;00m \u001b[39mnot\u001b[39;00m silent:\n",
      "\u001b[1;31mOptionError\u001b[0m: Pattern matched multiple keys"
     ]
    }
   ],
   "source": [
    "import numpy as np\n",
    "import pandas as pd\n",
    "import matplotlib.pyplot as plt\n",
    "import math, random\n",
    "# %matplotlib inline\n",
    "pd.set_option('precision', np.float32)\n",
    "\n",
    "import torch\n",
    "from torch import nn\n",
    "import torch.nn.functional as F  # 避免relu和sigmoid的初始化，可以直接调用\n",
    "\n",
    "from importlib import reload \n",
    "from qflib import basic\n",
    "reload(basic)\n",
    "\n",
    "global engine, conn\n",
    "engine = basic.engine()\n",
    "conn = basic.conn(engine)\n",
    "\n",
    "df=pd.DataFrame()  # 初始化空值\n",
    "vTest = 1000"
   ]
  },
  {
   "cell_type": "markdown",
   "metadata": {},
   "source": [
    "Claude: 根据提供的notebook,Claude2对代码的建议和注释如下:\n",
    "1. 数据处理部分可以添加更多注释,说明读取的数据字段含义,以及对数据的检查和处理思路。\n",
    "2. 模型定义部分可以添加注释,说明输入和输出维度的设定依据,网络层数和神经元数量的选择依据等。\n",
    "3. 训练评估部分的注释可以更详细,说明采用的数据分割方式,训练过程中的超参数,以及评估指标的计算方法。\n",
    "4. 模型训练结果可以进行更深入的分析,检查是否存在过拟合或欠拟合,并结合业务目标提出后续优化思路。 \n",
    "5. 可以添加模型效果可视化的代码,如Loss曲线,预测结果示例等,更直观地呈现模型效果。\n",
    "6. 添加模型保存和加载的代码,便于训练后的模型重用。\n",
    "7. 可以尝试不同模型结构或训练策略的比较实验。\n",
    "8. 可以基于代码封装出函数或类,提高代码的复用性和模块化程度。\n",
    "9. 添加类型注释,可以提高代码可读性和健壮性。\n",
    "总体而言,该notebook内容完整,但仍有进一步提升注释、可视化、模块化、模型分析等方面的优化空间。"
   ]
  },
  {
   "cell_type": "code",
   "execution_count": 2,
   "metadata": {},
   "outputs": [],
   "source": [
    "sql=\"SELECT * FROM ds_qf60\"\n",
    "# sql=\"SELECT * FROM ds_qf60_2\"\n",
    "df = pd.read_sql_query(sql, conn, index_col=None)\n",
    "del df['index']"
   ]
  },
  {
   "cell_type": "code",
   "execution_count": 3,
   "metadata": {},
   "outputs": [
    {
     "name": "stdout",
     "output_type": "stream",
     "text": [
      "<class 'pandas.core.frame.DataFrame'>\n",
      "RangeIndex: 294721 entries, 0 to 294720\n",
      "Data columns (total 22 columns):\n",
      " #   Column        Non-Null Count   Dtype  \n",
      "---  ------        --------------   -----  \n",
      " 0   pct_change    294721 non-null  float64\n",
      " 1   diff          294721 non-null  float64\n",
      " 2   bar           294721 non-null  float64\n",
      " 3   jx_days_ud60  294721 non-null  int64  \n",
      " 4   jx_xl_250     294721 non-null  float64\n",
      " 5   jx_xl_120     294721 non-null  float64\n",
      " 6   jx_xl_60      294721 non-null  float64\n",
      " 7   jx_xl_20      294721 non-null  float64\n",
      " 8   jx_xl_10      294721 non-null  float64\n",
      " 9   jx_xl_5       294721 non-null  float64\n",
      " 10  jx_zs_5       294721 non-null  int64  \n",
      " 11  jx_zs_10      294721 non-null  int64  \n",
      " 12  jx_zs_20      294721 non-null  int64  \n",
      " 13  jx_zs_60      294721 non-null  int64  \n",
      " 14  lj_fl_1_3     294721 non-null  float64\n",
      " 15  lj_fl_3_10    294721 non-null  float64\n",
      " 16  lj_fl_5_20    294721 non-null  float64\n",
      " 17  lj_fl_20_60   294721 non-null  float64\n",
      " 18  test20_30     294721 non-null  int64  \n",
      " 19  test10_10     294721 non-null  int64  \n",
      " 20  test20_20     294721 non-null  int64  \n",
      " 21  class0        294721 non-null  int64  \n",
      "dtypes: float64(13), int64(9)\n",
      "memory usage: 49.5 MB\n"
     ]
    },
    {
     "data": {
      "text/plain": [
       "(None, (294721, 22))"
      ]
     },
     "execution_count": 3,
     "metadata": {},
     "output_type": "execute_result"
    }
   ],
   "source": [
    "df['class0'] = df['test10_10']\n",
    "df.info(), df.shape"
   ]
  },
  {
   "cell_type": "code",
   "execution_count": 4,
   "metadata": {},
   "outputs": [
    {
     "data": {
      "text/plain": [
       "(array([0, 1], dtype=int64),\n",
       " 0    257233\n",
       " 1     37488\n",
       " Name: class0, dtype: int64)"
      ]
     },
     "execution_count": 4,
     "metadata": {},
     "output_type": "execute_result"
    }
   ],
   "source": [
    "df.class0.unique(), df.class0.value_counts()"
   ]
  },
  {
   "cell_type": "code",
   "execution_count": 5,
   "metadata": {},
   "outputs": [
    {
     "data": {
      "text/plain": [
       "(torch.Size([294721, 1]), 294721)"
      ]
     },
     "execution_count": 5,
     "metadata": {},
     "output_type": "execute_result"
    }
   ],
   "source": [
    "Y_data = df.class0.values.reshape(-1,1)  # 转换成 pd type array\n",
    "# Y_data\n",
    "# Y = torch.from_numpy(Y_data).type(torch.float32)  # 转换成tensor\n",
    "Y = torch.from_numpy(Y_data).type(torch.FloatTensor)\n",
    "Y.shape, Y.size(0)"
   ]
  },
  {
   "cell_type": "code",
   "execution_count": 6,
   "metadata": {},
   "outputs": [
    {
     "name": "stdout",
     "output_type": "stream",
     "text": [
      "<class 'pandas.core.frame.DataFrame'>\n",
      "RangeIndex: 294721 entries, 0 to 294720\n",
      "Data columns (total 18 columns):\n",
      " #   Column        Non-Null Count   Dtype  \n",
      "---  ------        --------------   -----  \n",
      " 0   pct_change    294721 non-null  float64\n",
      " 1   diff          294721 non-null  float64\n",
      " 2   bar           294721 non-null  float64\n",
      " 3   jx_days_ud60  294721 non-null  int64  \n",
      " 4   jx_xl_250     294721 non-null  float64\n",
      " 5   jx_xl_120     294721 non-null  float64\n",
      " 6   jx_xl_60      294721 non-null  float64\n",
      " 7   jx_xl_20      294721 non-null  float64\n",
      " 8   jx_xl_10      294721 non-null  float64\n",
      " 9   jx_xl_5       294721 non-null  float64\n",
      " 10  jx_zs_5       294721 non-null  int64  \n",
      " 11  jx_zs_10      294721 non-null  int64  \n",
      " 12  jx_zs_20      294721 non-null  int64  \n",
      " 13  jx_zs_60      294721 non-null  int64  \n",
      " 14  lj_fl_1_3     294721 non-null  float64\n",
      " 15  lj_fl_3_10    294721 non-null  float64\n",
      " 16  lj_fl_5_20    294721 non-null  float64\n",
      " 17  lj_fl_20_60   294721 non-null  float64\n",
      "dtypes: float64(13), int64(5)\n",
      "memory usage: 40.5 MB\n"
     ]
    },
    {
     "data": {
      "text/plain": [
       "((294721, 18), None)"
      ]
     },
     "execution_count": 6,
     "metadata": {},
     "output_type": "execute_result"
    }
   ],
   "source": [
    "X_columns = ['pct_change', 'diff', 'bar', 'jx_days_ud60', 'jx_xl_250', 'jx_xl_120',\n",
    "       'jx_xl_60', 'jx_xl_20', 'jx_xl_10', 'jx_xl_5', 'jx_zs_5', 'jx_zs_10',\n",
    "       'jx_zs_20', 'jx_zs_60', 'lj_fl_1_3', 'lj_fl_3_10', 'lj_fl_5_20',\n",
    "       'lj_fl_20_60']\n",
    "# X_columns\n",
    "X_data = df[X_columns]  \n",
    "X_data.shape, X_data.info()"
   ]
  },
  {
   "cell_type": "code",
   "execution_count": 7,
   "metadata": {},
   "outputs": [
    {
     "data": {
      "text/plain": [
       "(torch.Size([294721, 18]), torch.Size([294721, 18]))"
      ]
     },
     "execution_count": 7,
     "metadata": {},
     "output_type": "execute_result"
    }
   ],
   "source": [
    "# X = torch.from_numpy(X_data.values).type(torch.FloatTensor)\n",
    "X = torch.from_numpy(X_data.values).type(torch.float32)\n",
    "X.shape, X.size()"
   ]
  },
  {
   "cell_type": "code",
   "execution_count": 8,
   "metadata": {},
   "outputs": [],
   "source": [
    "class Model(nn.Module):\n",
    "    def __init__(self):\n",
    "        super().__init__()      # 继承父类中所有的属性\n",
    "        self.liner_1 = nn.Linear(18, 64)   # X.size(1)= 20； 定义64个后续中间层\n",
    "        self.liner_2 = nn.Linear(64, 64)   # 接着，再定义64个后续中间层\n",
    "        self.liner_3 = nn.Linear(64, 1)   # 接着，再定义64个后续中间层\n",
    "    def forward(self, input):\n",
    "        x = F.relu( self.liner_1(input) )\n",
    "        x = F.relu( self.liner_2(x) )\n",
    "        x = F.sigmoid( self.liner_3(x) )\n",
    "        return x\n",
    "\n",
    "class Model4(nn.Module):\n",
    "    def __init__(self):\n",
    "        super().__init__()      # 继承父类中所有的属性\n",
    "        self.liner_1 = nn.Linear(18, 256)   # X.size(1)= 20； 定义64个后续中间层\n",
    "        self.liner_2 = nn.Linear(256, 128)   # 接着，再定义64个后续中间层\n",
    "        self.liner_3 = nn.Linear(128, 32)   # 接着，再定义64个后续中间层\n",
    "        self.liner_4 = nn.Linear(32, 1)   # 接着，再定义64个后续中间层\n",
    "    def forward(self, input):\n",
    "        x = F.relu( self.liner_1(input) )\n",
    "        x = F.relu( self.liner_2(x) )\n",
    "        x = F.relu( self.liner_3(x) )\n",
    "        x = F.sigmoid( self.liner_4(x) )\n",
    "        return x\n",
    "\n",
    "# 更加高级语言法，等价于Model\n",
    "class Model_high(nn.Module):\n",
    "    def __init__(self):\n",
    "        super().__init__()      # 继承父类中所有的属性\n",
    "        self.liner_1 = nn.Linear(29, 256)   # X.size(1)= 20； 定义64个后续中间层\n",
    "        self.liner_2 = nn.Linear(256, 128)   # 接着，再定义64个后续中间层\n",
    "        self.liner_3 = nn.Linear(128, 64)   # 接着，再定义64个后续中间层\n",
    "        self.liner_4 = nn.Linear(64, 1)   # 接着，再定义64个后续中间层\n",
    "        self.relu = nn.ReLU()\n",
    "        self.sigmoid = nn.Sigmoid()\n",
    "    def forward(self, input):\n",
    "        x = self.Liner_1(input)\n",
    "        x = self.relu(x)\n",
    "        x = self.Liner_2(x)\n",
    "        x = self.relu(x)\n",
    "        x = self.Liner_3(x)\n",
    "        x = self.sigmoid(x)\n",
    "        return x"
   ]
  },
  {
   "cell_type": "code",
   "execution_count": null,
   "metadata": {},
   "outputs": [],
   "source": []
  },
  {
   "cell_type": "code",
   "execution_count": 9,
   "metadata": {},
   "outputs": [],
   "source": [
    "# Ver 4.1 - random_split Mode， charlie\n",
    "# from torch.utils.data import random_split    \n",
    "# def accuracy(y_pred, y_true):\n",
    "#     y_pred = (y_pred > 0.5).type(torch.int32)\n",
    "#     acc = (y_pred == y_true).float().mean()\n",
    "#     return acc\n",
    "\n",
    "# HR_dataset = TensorDataset(X, Y)\n",
    "# test_ds, test_ds = random_split(HR_dataset, [0.8, 0.2]) \n",
    "# HR_dataloader = DataLoader(test_ds, batch_size=batch, shuffle=True)  # shuffle乱序取数\n",
    "# epochMode = 41\n",
    "# if epochMode == 41:  \n",
    "#     for epoch in range( epochs ):\n",
    "#         # for x,y in HR_dataloader:\n",
    "#         for x,y in HR_dataloader:\n",
    "#             y_pred = model(x)\n",
    "#             loss = loss_fn(y_pred, y)\n",
    "#             optim.zero_grad()\n",
    "#             loss.backward()\n",
    "#             optim.step()\n",
    "#         with torch.no_grad():\n",
    "#             print('epoch: ', epoch, ' loss: ', loss_fn(model(X), Y).data.item() )"
   ]
  },
  {
   "cell_type": "code",
   "execution_count": 10,
   "metadata": {},
   "outputs": [
    {
     "data": {
      "text/plain": [
       "(torch.Size([221040, 18]),\n",
       " torch.Size([73681, 18]),\n",
       " torch.Size([221040, 1]),\n",
       " torch.Size([73681, 1]))"
      ]
     },
     "execution_count": 10,
     "metadata": {},
     "output_type": "execute_result"
    }
   ],
   "source": [
    "# Ver 4.2 - sklearn mode\n",
    "lr = 0.00015\n",
    "def get_model():\n",
    "    model = Model4()\n",
    "    opt = torch.optim.Adam(model.parameters(), lr=lr)\n",
    "    return model, opt\n",
    "\n",
    "model, optim = get_model()\n",
    "model, optim \n",
    "\n",
    "loss_fn = nn.BCELoss()\n",
    "# batch = 64\n",
    "batch = 1024\n",
    "# batch = 8192\n",
    "batch = 16384\n",
    "# batch = 32768\n",
    "epochs = 10\n",
    "no_of_batches = len(X)//batch\n",
    "from torch.utils.data import TensorDataset, DataLoader\n",
    "\n",
    "def accuracy(y_pred, y_true):\n",
    "    y_pred = (y_pred > 0.5).type(torch.int32)\n",
    "    acc = (y_pred == y_true).float().mean()\n",
    "    return acc\n",
    "\n",
    "from sklearn.model_selection import train_test_split\n",
    "train_x, test_x, train_y, test_y = train_test_split(X_data, Y_data)\n",
    "\n",
    "train_x = torch.from_numpy(train_x.values).type(torch.float32)\n",
    "train_y = torch.from_numpy(train_y).type(torch.float32)\n",
    "train_ds = TensorDataset(train_x, train_y)\n",
    "train_dl = DataLoader(train_ds, batch_size=batch, shuffle=True)  # 需要shuffle，乱序执行\n",
    "\n",
    "test_x = torch.from_numpy(test_x.values).type(torch.float32)\n",
    "test_y = torch.from_numpy(test_y).type(torch.float32)\n",
    "test_ds = TensorDataset(test_x, test_y)\n",
    "test_dl = DataLoader(test_ds, batch_size=batch, shuffle=False)  # 不需要shuffle，减少运算量\n",
    "\n",
    "train_x.shape, test_x.shape, train_y.shape, test_y.shape"
   ]
  },
  {
   "cell_type": "markdown",
   "metadata": {},
   "source": [
    "计算正确率\n",
    "- Sigmoid()是0和1之间的值， 大于0.5为1，否则是0\n",
    "- out1 = (y-pred >0.5).type(torch.int32)  : 转换成0或1\n",
    "- (out1 == labels).float().mean()"
   ]
  },
  {
   "cell_type": "code",
   "execution_count": 11,
   "metadata": {},
   "outputs": [
    {
     "name": "stdout",
     "output_type": "stream",
     "text": [
      "epoch:  0  train_loss:  0.5699  Acc： 0.8721 0  test_loss:  0.5689  Acc： 0.8748\n",
      "epoch:  1  train_loss:  0.437  Acc： 0.8721 1  test_loss:  0.4342  Acc： 0.8748\n",
      "epoch:  2  train_loss:  0.3969  Acc： 0.8721 2  test_loss:  0.3926  Acc： 0.8748\n",
      "epoch:  3  train_loss:  0.3929  Acc： 0.8721 3  test_loss:  0.3877  Acc： 0.8748\n",
      "epoch:  4  train_loss:  0.3926  Acc： 0.8721 4  test_loss:  0.3874  Acc： 0.8748\n",
      "epoch:  5  train_loss:  0.3923  Acc： 0.8721 5  test_loss:  0.3872  Acc： 0.8748\n",
      "epoch:  6  train_loss:  0.3919  Acc： 0.8721 6  test_loss:  0.3869  Acc： 0.8748\n",
      "epoch:  7  train_loss:  0.3917  Acc： 0.8721 7  test_loss:  0.3867  Acc： 0.8748\n",
      "epoch:  8  train_loss:  0.3915  Acc： 0.8721 8  test_loss:  0.3864  Acc： 0.8748\n",
      "epoch:  9  train_loss:  0.3912  Acc： 0.8721 9  test_loss:  0.3862  Acc： 0.8748\n",
      "CPU times: total: 26.3 s\n",
      "Wall time: 39.3 s\n"
     ]
    }
   ],
   "source": [
    "%%time\n",
    "# epochs = 10\n",
    "for epoch in range( epochs ):\n",
    "    for x,y in train_dl:\n",
    "        y_pred = model(x)\n",
    "        loss = loss_fn(y_pred, y)\n",
    "        optim.zero_grad()\n",
    "        loss.backward()\n",
    "        optim.step()\n",
    "    with torch.no_grad():\n",
    "        epoch_accuracy = accuracy(model(train_x), train_y)\n",
    "        epoch_loss = loss_fn(model(train_x), train_y).data.item()\n",
    "        epoch_test_accuracy = accuracy(model(test_x), test_y)\n",
    "        epoch_test_loss = loss_fn(model(test_x), test_y).data.item()\n",
    "        print('epoch: ', \n",
    "            epoch, ' train_loss: ', round(epoch_loss,4), ' Acc：', round(epoch_accuracy.item(),4),\n",
    "            epoch, ' test_loss: ', round(epoch_test_loss,4), ' Acc：', round(epoch_test_accuracy.item(),4) )"
   ]
  },
  {
   "cell_type": "code",
   "execution_count": 12,
   "metadata": {},
   "outputs": [
    {
     "name": "stdout",
     "output_type": "stream",
     "text": [
      "epoch:   train_loss:  0.3912  Acc： 0.8721  test_loss:  0.3862  Acc： 0.8748\n"
     ]
    }
   ],
   "source": [
    "# 最后一次计算结果：\n",
    "\n",
    "epoch_accuracy = accuracy(model(train_x), train_y)\n",
    "epoch_loss = loss_fn(model(train_x), train_y).data.item()\n",
    "epoch_test_accuracy = accuracy(model(test_x), test_y)\n",
    "epoch_test_loss = loss_fn(model(test_x), test_y).data.item()\n",
    "print('epoch: ', \n",
    "    ' train_loss: ', round(epoch_loss,4), ' Acc：', round(epoch_accuracy.item(),4),\n",
    "    ' test_loss: ', round(epoch_test_loss,4), ' Acc：', round(epoch_test_accuracy.item(),4) )"
   ]
  },
  {
   "cell_type": "code",
   "execution_count": 13,
   "metadata": {},
   "outputs": [],
   "source": [
    "# print( loss_fn(model(train_x), train_y).data.item() )\n",
    "# accuracyRate = ((model(train_x).data.numpy()).astype('int') == train_y.numpy().astype('int')).mean()\n",
    "# print(\"训练数据 - 准确率%：\", accuracyRate*100) \n",
    "\n",
    "# print( loss_fn(model(test_x), test_y).data.item() )\n",
    "# accuracyRate = ((model(test_x).data.numpy()).astype('int') == test_y.numpy().astype('int')).mean()\n",
    "# print(\"测试数据 - 准确率%：\", accuracyRate*100) "
   ]
  },
  {
   "cell_type": "markdown",
   "metadata": {},
   "source": [
    "数据准确性验证\n",
    "过拟合/欠拟合\n",
    "- 过拟合：对于已知数据过度拟合，对未知数据预测性差\n",
    "- 欠拟合：对于已知数据拟合不够，对未知数据预测性差\n",
    "  \n",
    "tensor合并\n",
    "- "
   ]
  },
  {
   "cell_type": "code",
   "execution_count": 14,
   "metadata": {},
   "outputs": [
    {
     "data": {
      "text/plain": [
       "(torch.Size([221040, 18]), torch.Size([221040, 1]))"
      ]
     },
     "execution_count": 14,
     "metadata": {},
     "output_type": "execute_result"
    }
   ],
   "source": [
    "train_x.shape, train_y.shape"
   ]
  },
  {
   "cell_type": "code",
   "execution_count": 15,
   "metadata": {},
   "outputs": [],
   "source": [
    "train_cat = torch.cat([train_x, train_y],dim=1)   # 沿着Dimension 1进行合并"
   ]
  },
  {
   "cell_type": "code",
   "execution_count": 16,
   "metadata": {},
   "outputs": [
    {
     "data": {
      "text/plain": [
       "torch.Size([221040, 19])"
      ]
     },
     "execution_count": 16,
     "metadata": {},
     "output_type": "execute_result"
    }
   ],
   "source": [
    "train_cat.shape"
   ]
  },
  {
   "cell_type": "code",
   "execution_count": 17,
   "metadata": {},
   "outputs": [],
   "source": [
    "# train_all.numpy()\n",
    "np.savetxt('../dataset/test20.csv', train_cat.numpy(),fmt='%.8f',delimiter=',') # 直接覆盖"
   ]
  },
  {
   "cell_type": "code",
   "execution_count": 18,
   "metadata": {},
   "outputs": [],
   "source": [
    "train_np = np.loadtxt('../dataset/test20.csv', dtype = np.float32, delimiter=',')"
   ]
  },
  {
   "cell_type": "code",
   "execution_count": 19,
   "metadata": {},
   "outputs": [
    {
     "data": {
      "text/plain": [
       "((221040, 19),\n",
       " array([[-1.5533   ,  0.0845455,  0.0594598, ...,  1.13678  ,  0.94658  ,\n",
       "          1.       ],\n",
       "        [-1.1204   , -0.182787 , -0.55973  , ...,  1.26599  ,  0.853989 ,\n",
       "          0.       ],\n",
       "        [-1.77     ,  0.0553558,  0.13469  , ...,  0.99355  ,  0.736688 ,\n",
       "          0.       ],\n",
       "        ...,\n",
       "        [-1.83     , -0.317725 , -0.0152966, ...,  1.24075  ,  0.77284  ,\n",
       "          0.       ],\n",
       "        [ 1.9833   , -0.0489194,  0.147776 , ...,  1.03801  ,  0.963012 ,\n",
       "          0.       ],\n",
       "        [ 2.15     , -0.0879402,  0.0843983, ...,  1.55278  ,  0.761674 ,\n",
       "          0.       ]], dtype=float32))"
      ]
     },
     "execution_count": 19,
     "metadata": {},
     "output_type": "execute_result"
    }
   ],
   "source": [
    "train_np.shape, train_np"
   ]
  },
  {
   "cell_type": "code",
   "execution_count": null,
   "metadata": {},
   "outputs": [],
   "source": []
  }
 ],
 "metadata": {
  "kernelspec": {
   "display_name": "Python 3 (ipykernel)",
   "language": "python",
   "name": "python3"
  },
  "language_info": {
   "codemirror_mode": {
    "name": "ipython",
    "version": 3
   },
   "file_extension": ".py",
   "mimetype": "text/x-python",
   "name": "python",
   "nbconvert_exporter": "python",
   "pygments_lexer": "ipython3",
   "version": "3.10.11"
  }
 },
 "nbformat": 4,
 "nbformat_minor": 4
}
