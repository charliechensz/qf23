{
 "cells": [
  {
   "cell_type": "code",
   "execution_count": 1,
   "metadata": {},
   "outputs": [],
   "source": [
    "import datetime\n",
    "import time\n",
    "import math\n",
    "import pymysql\n",
    "from sqlalchemy import create_engine \n",
    "import numpy as np\n",
    "import pandas as pd\n",
    "from importlib import reload \n",
    "\n",
    "\n",
    "import tushare as ts\n",
    "ts.set_token('11137efdbeac800606d677871a55b3fd5aef79890c59867a8f34d03e')\n",
    "pro = ts.pro_api()\n",
    "\n",
    "''' 自建库 '''\n",
    "from qflib import basic\n",
    "reload(basic)\n",
    "\n",
    "global engine, conn\n",
    "engine = basic.engine()\n",
    "conn = basic.conn(basic.engine())"
   ]
  },
  {
   "cell_type": "code",
   "execution_count": 5,
   "metadata": {},
   "outputs": [
    {
     "data": {
      "text/plain": [
       "<0      3\n",
       "0-5     1\n",
       "0-10    1\n",
       ">10     1\n",
       "Name: sz_max_10_bin, dtype: int64"
      ]
     },
     "execution_count": 5,
     "metadata": {},
     "output_type": "execute_result"
    }
   ],
   "source": [
    "df = pd.DataFrame({'sz_max_10': [-5, 3, 12, -1, 8, 0]})\n",
    "\n",
    "bins = [-float('inf'), 0, 5, 10, float('inf')] \n",
    "labels = ['<0', '0-5', '0-10', '>10']\n",
    "df['sz_max_10_bin'] = pd.cut(df['sz_max_10'], bins=bins, labels=labels)\n",
    "df['sz_max_10_bin'].value_counts()"
   ]
  },
  {
   "cell_type": "code",
   "execution_count": 3,
   "metadata": {},
   "outputs": [
    {
     "data": {
      "text/html": [
       "<div>\n",
       "<style scoped>\n",
       "    .dataframe tbody tr th:only-of-type {\n",
       "        vertical-align: middle;\n",
       "    }\n",
       "\n",
       "    .dataframe tbody tr th {\n",
       "        vertical-align: top;\n",
       "    }\n",
       "\n",
       "    .dataframe thead th {\n",
       "        text-align: right;\n",
       "    }\n",
       "</style>\n",
       "<table border=\"1\" class=\"dataframe\">\n",
       "  <thead>\n",
       "    <tr style=\"text-align: right;\">\n",
       "      <th></th>\n",
       "      <th>sz_max_10</th>\n",
       "      <th>sz_max_10_bin</th>\n",
       "    </tr>\n",
       "  </thead>\n",
       "  <tbody>\n",
       "    <tr>\n",
       "      <th>0</th>\n",
       "      <td>-5</td>\n",
       "      <td>&lt;0</td>\n",
       "    </tr>\n",
       "    <tr>\n",
       "      <th>1</th>\n",
       "      <td>3</td>\n",
       "      <td>0-10</td>\n",
       "    </tr>\n",
       "    <tr>\n",
       "      <th>2</th>\n",
       "      <td>12</td>\n",
       "      <td>&gt;10</td>\n",
       "    </tr>\n",
       "    <tr>\n",
       "      <th>3</th>\n",
       "      <td>-1</td>\n",
       "      <td>&lt;0</td>\n",
       "    </tr>\n",
       "    <tr>\n",
       "      <th>4</th>\n",
       "      <td>8</td>\n",
       "      <td>0-10</td>\n",
       "    </tr>\n",
       "    <tr>\n",
       "      <th>5</th>\n",
       "      <td>0</td>\n",
       "      <td>&lt;0</td>\n",
       "    </tr>\n",
       "  </tbody>\n",
       "</table>\n",
       "</div>"
      ],
      "text/plain": [
       "   sz_max_10 sz_max_10_bin\n",
       "0         -5            <0\n",
       "1          3          0-10\n",
       "2         12           >10\n",
       "3         -1            <0\n",
       "4          8          0-10\n",
       "5          0            <0"
      ]
     },
     "execution_count": 3,
     "metadata": {},
     "output_type": "execute_result"
    }
   ],
   "source": [
    "df"
   ]
  },
  {
   "cell_type": "code",
   "execution_count": 19,
   "metadata": {},
   "outputs": [
    {
     "name": "stdout",
     "output_type": "stream",
     "text": [
      "1.6197751905438615 92.806282178162 0.10033467208545055 0.2027100355086725\n"
     ]
    }
   ],
   "source": [
    "# df.info()\n",
    "# del df['display_name']\n",
    "pi2degree = 180/math.pi\n",
    "print( math.tan(45), math.tan(45)*pi2degree , math.tan(0.1), math.tan(0.2))"
   ]
  },
  {
   "cell_type": "code",
   "execution_count": 3,
   "metadata": {},
   "outputs": [
    {
     "name": "stdout",
     "output_type": "stream",
     "text": [
      "不同角度的正弦值：\n",
      "[0.         0.5        0.70710678 0.8660254  1.        ]\n",
      "\n",
      "\n",
      "数组中角度的余弦值：\n",
      "[1.00000000e+00 8.66025404e-01 7.07106781e-01 5.00000000e-01\n",
      " 6.12323400e-17]\n",
      "\n",
      "\n",
      "数组中角度的正切值：\n",
      "[0.00000000e+00 5.77350269e-01 1.00000000e+00 1.73205081e+00\n",
      " 1.63312394e+16]\n"
     ]
    }
   ],
   "source": [
    "a = np.array([0,30,45,60,90])\n",
    "print ('不同角度的正弦值：')\n",
    "# 通过乘 pi/180 转化为弧度  \n",
    "print (np.sin(a*np.pi/180))\n",
    "print ('\\n')\n",
    "print ('数组中角度的余弦值：')\n",
    "print (np.cos(a*np.pi/180))\n",
    "print ('\\n')\n",
    "print ('数组中角度的正切值：')\n",
    "print (np.tan(a*np.pi/180))\n",
    "\n"
   ]
  },
  {
   "cell_type": "code",
   "execution_count": null,
   "metadata": {},
   "outputs": [],
   "source": [
    "a = np.array([0,30,45,60,90])  \n",
    "print ('含有正弦值的数组：')\n",
    "sin = np.sin(a*np.pi/180)  \n",
    "print (sin)\n",
    "print ('\\n')\n",
    "print ('计算角度的反正弦，返回值以弧度为单位：')\n",
    "inv = np.arcsin(sin)  \n",
    "print (inv)\n",
    "print ('\\n')\n",
    "print ('通过转化为角度制来检查结果：')\n",
    "print (np.degrees(inv))\n",
    "print ('\\n')\n",
    "print ('arccos 和 arctan 函数行为类似：')\n",
    "cos = np.cos(a*np.pi/180)  \n",
    "print (cos)\n",
    "print ('\\n')\n",
    "print ('反余弦：')\n",
    "inv = np.arccos(cos)  \n",
    "print (inv)\n",
    "print ('\\n')\n",
    "print ('角度制单位：')\n",
    "print (np.degrees(inv))\n",
    "print ('\\n')\n"
   ]
  },
  {
   "cell_type": "code",
   "execution_count": null,
   "metadata": {},
   "outputs": [],
   "source": [
    "a = np.array([0,30,45,60,90])  \n",
    "print ('tan 函数：')\n",
    "tan = np.tan(a*np.pi/180)  \n",
    "print (tan)\n",
    "print ('\\n')\n",
    "print ('反正切：')\n",
    "inv = np.arctan(tan)  \n",
    "print (inv)\n",
    "print ('\\n')\n",
    "print ('角度制单位：')\n",
    "print (np.degrees(inv))\n"
   ]
  },
  {
   "cell_type": "markdown",
   "metadata": {},
   "source": []
  },
  {
   "cell_type": "code",
   "execution_count": 10,
   "metadata": {},
   "outputs": [
    {
     "data": {
      "text/plain": [
       "(45.0, 0.07568768071076688, 0.08302152641046219)"
      ]
     },
     "execution_count": 10,
     "metadata": {},
     "output_type": "execute_result"
    }
   ],
   "source": [
    "\n",
    "np.degrees(np.arctan(1)), np.degrees(np.arctan(0.001321)), np.degrees(np.arctan(0.001449))"
   ]
  },
  {
   "cell_type": "code",
   "execution_count": null,
   "metadata": {},
   "outputs": [],
   "source": [
    "# 从 tran_daily 中读出5条\n",
    "sql=\"SELECT * FROM tran_daily where trade_date='20230710' LIMIT 1\"\n",
    "df = pd.read_sql_query(sql, conn)\n",
    "df"
   ]
  },
  {
   "cell_type": "code",
   "execution_count": null,
   "metadata": {},
   "outputs": [],
   "source": [
    "# 写入到 tran_000, append 模式\n",
    "# write_no = df.to_sql('tran_000', conn, index=False, if_exists='append', chunksize=2) # 20000个，每天成交几千只股票，足够了\n",
    "write_no = df.to_sql('day_zhibiao', conn, index=False, if_exists='append', chunksize=2000) # 20000个，每天成交几千只股票，足够了\n",
    "write_no\n"
   ]
  },
  {
   "cell_type": "code",
   "execution_count": null,
   "metadata": {},
   "outputs": [],
   "source": [
    "# df.insert(loc=2, column='new_col', value=3) \n",
    "# del df['index']\n",
    "# df.loc[[0], 'ts_code'] = 'testcode'"
   ]
  },
  {
   "cell_type": "code",
   "execution_count": null,
   "metadata": {},
   "outputs": [],
   "source": [
    "# 从 tran_000 读出数据\n",
    "sql2 = 'select * from tran_000'\n",
    "df2 = pd.read_sql_query(sql2, conn, index_col=None)\n",
    "df2"
   ]
  },
  {
   "cell_type": "code",
   "execution_count": null,
   "metadata": {},
   "outputs": [],
   "source": [
    "# 验证 exec_sql\n",
    "sql1 = 'create table test_000( ts_code varchar(12), trade_date varchar(10))'\n",
    "sql2 = 'drop table if exists test'\n",
    "status = basic.exec_sql(conn,sql2)\n",
    "status\n"
   ]
  },
  {
   "cell_type": "code",
   "execution_count": null,
   "metadata": {},
   "outputs": [],
   "source": [
    "# 从 tran_000 读出数据\n",
    "sql3 = \"select * from tran_daily where trade_date='20230717' \"\n",
    "df3 = pd.read_sql_query(sql3, conn, index_col=None)\n",
    "df3.shape"
   ]
  },
  {
   "cell_type": "markdown",
   "metadata": {},
   "source": [
    "to_sql(self, name, con, schema=None, if_exists='fail', index=True,\n",
    "       index_label=None, chunksize=None, dtype=None, method=None):\n",
    "- if_exists: \n",
    "    - append : append到表中，不存在表时，就新建表；\n",
    "    - replace : 无论是否存在，直接新建表\n",
    "- index：对DataFrame的index索引的处理，为True时索引也将作为数据写入数据表\n",
    "- index_label:当上一个参数index为True时，设置写入数据表时index的列名称\n",
    "- chunsize：设置整数，如20000，一次写入数据时的数据行数量，当数据量很大时，需要设置，否则会链接超时写入失败。\n",
    "    - 每日交易不超过7000支股票，20000万足够了。\n",
    "- \n",
    "\n",
    "index=True,\n",
    "           index_label=None, chunksize=None, dtype=None, method=None):\n",
    "\n"
   ]
  },
  {
   "cell_type": "code",
   "execution_count": null,
   "metadata": {},
   "outputs": [],
   "source": [
    "import pandas as pd\n",
    "\n",
    "\n",
    "l1 =[\"1\", \"1\", \"1\", \"2\", \"2\", \"2\", \"2\", \"2\"]\n",
    "l2 =[1, 2, 2, 2, 2, 2, 2, 3]\n",
    "l3 =[45, 25, 28, 70, 95, 98, 120, 80]\n",
    "cowmast = pd.DataFrame(list(zip(l1, l2, l3))) \n",
    "cowmast.columns =['Cow', 'Lact', 'DIM']"
   ]
  },
  {
   "cell_type": "code",
   "execution_count": null,
   "metadata": {},
   "outputs": [],
   "source": [
    "cowmast \n"
   ]
  },
  {
   "cell_type": "code",
   "execution_count": null,
   "metadata": {},
   "outputs": [],
   "source": [
    "\n",
    "def rolling_count(val):\n",
    "    if val <= 2:\n",
    "        rolling_count.count += 1\n",
    "    else:\n",
    "        # rolling_count.previous = val\n",
    "        rolling_count.count = 0\n",
    "    return rolling_count.count\n",
    "# def rolling_count(val):\n",
    "#     if val == rolling_count.previous:\n",
    "#         rolling_count.count +=1\n",
    "#     else:\n",
    "#         rolling_count.previous = val\n",
    "#         rolling_count.count = 1\n",
    "#     return rolling_count.count\n",
    "\n",
    "rolling_count.count = 0 #static variable\n",
    "cowmast['under60'] = cowmast['new'].apply(rolling_count) #new column in dataframe\n",
    "cowmast"
   ]
  },
  {
   "cell_type": "code",
   "execution_count": null,
   "metadata": {},
   "outputs": [],
   "source": [
    "rolling_count.count"
   ]
  },
  {
   "cell_type": "code",
   "execution_count": null,
   "metadata": {},
   "outputs": [],
   "source": [
    "\n",
    "# cowmast['xmast'] = cowmast['Cow'].apply(rolling_count) #new column in dataframe\n",
    "\n"
   ]
  },
  {
   "cell_type": "code",
   "execution_count": null,
   "metadata": {},
   "outputs": [],
   "source": [
    "\n",
    "cowmast['t2'] = cowmast[['DIM', 'Lact']].apply( lambda x: x[\"DIM\"] - x[\"Lact\"], axis=1 ) \n",
    "# df[\"E\"]     = df[[\"A\",\"C\"]].apply(lambda x: x[\"A\"] + x[\"C\"], axis=1)\n"
   ]
  },
  {
   "cell_type": "code",
   "execution_count": null,
   "metadata": {},
   "outputs": [],
   "source": [
    "cowmast['new']=cowmast['t2'].rolling(3).count( cowmast['t2']>0  )\n"
   ]
  },
  {
   "cell_type": "code",
   "execution_count": null,
   "metadata": {},
   "outputs": [],
   "source": [
    "\n",
    "cowmast\n",
    "\n"
   ]
  },
  {
   "cell_type": "code",
   "execution_count": null,
   "metadata": {},
   "outputs": [],
   "source": [
    "cowmast['t1'] = cowmast['DIM'] + cowmast['Lact'] "
   ]
  },
  {
   "cell_type": "code",
   "execution_count": null,
   "metadata": {},
   "outputs": [],
   "source": [
    "cowmast"
   ]
  },
  {
   "cell_type": "code",
   "execution_count": null,
   "metadata": {},
   "outputs": [],
   "source": []
  }
 ],
 "metadata": {
  "kernelspec": {
   "display_name": "cuda",
   "language": "python",
   "name": "python3"
  },
  "language_info": {
   "codemirror_mode": {
    "name": "ipython",
    "version": 3
   },
   "file_extension": ".py",
   "mimetype": "text/x-python",
   "name": "python",
   "nbconvert_exporter": "python",
   "pygments_lexer": "ipython3",
   "version": "3.10.11"
  },
  "orig_nbformat": 4
 },
 "nbformat": 4,
 "nbformat_minor": 2
}
