{
 "cells": [
  {
   "cell_type": "code",
   "execution_count": 28,
   "metadata": {},
   "outputs": [],
   "source": [
    "import datetime\n",
    "import time\n",
    "import pymysql\n",
    "from sqlalchemy import create_engine \n",
    "import pandas as pd\n",
    "from importlib import reload \n",
    "\n",
    "import tushare as ts\n",
    "ts.set_token('11137efdbeac800606d677871a55b3fd5aef79890c59867a8f34d03e')\n",
    "pro = ts.pro_api()\n",
    "\n",
    "''' 自建库 '''\n",
    "from qflib import basic,syncdata\n",
    "reload(basic)\n",
    "reload(syncdata)\n",
    "\n",
    "global engine, conn\n",
    "engine = basic.engine()\n",
    "conn = basic.conn(basic.engine())"
   ]
  },
  {
   "cell_type": "code",
   "execution_count": null,
   "metadata": {},
   "outputs": [],
   "source": [
    "# 从 tran_daily 中读出5条\n",
    "sql=\"SELECT * FROM tran_daily where trade_date='20230710' LIMIT 1\"\n",
    "df = pd.read_sql_query(sql, conn)\n",
    "df"
   ]
  },
  {
   "cell_type": "code",
   "execution_count": 36,
   "metadata": {},
   "outputs": [
    {
     "data": {
      "text/plain": [
       "5"
      ]
     },
     "execution_count": 36,
     "metadata": {},
     "output_type": "execute_result"
    }
   ],
   "source": [
    "# 写入到 tran_000, append 模式\n",
    "# write_no = df.to_sql('tran_000', conn, index=False, if_exists='append', chunksize=2) # 20000个，每天成交几千只股票，足够了\n",
    "write_no = df.to_sql('day_zhibiao', conn, index=False, if_exists='append', chunksize=2000) # 20000个，每天成交几千只股票，足够了\n",
    "write_no\n"
   ]
  },
  {
   "cell_type": "code",
   "execution_count": null,
   "metadata": {},
   "outputs": [],
   "source": [
    "# df.insert(loc=2, column='new_col', value=3) \n",
    "# del df['index']\n",
    "# df.loc[[0], 'ts_code'] = 'testcode'"
   ]
  },
  {
   "cell_type": "code",
   "execution_count": null,
   "metadata": {},
   "outputs": [],
   "source": [
    "# 从 tran_000 读出数据\n",
    "sql2 = 'select * from tran_000'\n",
    "df2 = pd.read_sql_query(sql2, conn, index_col=None)\n",
    "df2"
   ]
  },
  {
   "cell_type": "code",
   "execution_count": null,
   "metadata": {},
   "outputs": [],
   "source": [
    "# 验证 exec_sql\n",
    "sql1 = 'create table test_000( ts_code varchar(12), trade_date varchar(10))'\n",
    "sql2 = 'drop table if exists test'\n",
    "status = basic.exec_sql(conn,sql2)\n",
    "status\n"
   ]
  },
  {
   "cell_type": "code",
   "execution_count": 35,
   "metadata": {},
   "outputs": [
    {
     "data": {
      "text/plain": [
       "(5214, 12)"
      ]
     },
     "execution_count": 35,
     "metadata": {},
     "output_type": "execute_result"
    }
   ],
   "source": [
    "# 从 tran_000 读出数据\n",
    "sql3 = \"select * from tran_daily where trade_date='20230717' \"\n",
    "df3 = pd.read_sql_query(sql3, conn, index_col=None)\n",
    "df3.shape"
   ]
  },
  {
   "cell_type": "markdown",
   "metadata": {},
   "source": [
    "to_sql(self, name, con, schema=None, if_exists='fail', index=True,\n",
    "       index_label=None, chunksize=None, dtype=None, method=None):\n",
    "- if_exists: \n",
    "    - append : append到表中，不存在表时，就新建表；\n",
    "    - replace : 无论是否存在，直接新建表\n",
    "- index：对DataFrame的index索引的处理，为True时索引也将作为数据写入数据表\n",
    "- index_label:当上一个参数index为True时，设置写入数据表时index的列名称\n",
    "- chunsize：设置整数，如20000，一次写入数据时的数据行数量，当数据量很大时，需要设置，否则会链接超时写入失败。\n",
    "    - 每日交易不超过7000支股票，20000万足够了。\n",
    "- \n",
    "\n",
    "index=True,\n",
    "           index_label=None, chunksize=None, dtype=None, method=None):\n",
    "\n"
   ]
  }
 ],
 "metadata": {
  "kernelspec": {
   "display_name": "cuda",
   "language": "python",
   "name": "python3"
  },
  "language_info": {
   "codemirror_mode": {
    "name": "ipython",
    "version": 3
   },
   "file_extension": ".py",
   "mimetype": "text/x-python",
   "name": "python",
   "nbconvert_exporter": "python",
   "pygments_lexer": "ipython3",
   "version": "3.10.11"
  },
  "orig_nbformat": 4
 },
 "nbformat": 4,
 "nbformat_minor": 2
}
