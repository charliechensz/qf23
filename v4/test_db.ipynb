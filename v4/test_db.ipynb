{
 "cells": [
  {
   "cell_type": "code",
   "execution_count": 3,
   "metadata": {},
   "outputs": [],
   "source": [
    "import datetime\n",
    "import time\n",
    "import math\n",
    "import pymysql\n",
    "from sqlalchemy import create_engine \n",
    "import pandas as pd\n",
    "from importlib import reload \n",
    "\n",
    "import tushare as ts\n",
    "ts.set_token('11137efdbeac800606d677871a55b3fd5aef79890c59867a8f34d03e')\n",
    "pro = ts.pro_api()\n",
    "\n",
    "''' 自建库 '''\n",
    "from qflib import basic\n",
    "reload(basic)\n",
    "\n",
    "global engine, conn\n",
    "engine = basic.engine()\n",
    "conn = basic.conn(basic.engine())"
   ]
  },
  {
   "cell_type": "code",
   "execution_count": 30,
   "metadata": {},
   "outputs": [
    {
     "data": {
      "text/plain": [
       "(0.7853981633974483, 0.9999999999999999, 45.0)"
      ]
     },
     "execution_count": 30,
     "metadata": {},
     "output_type": "execute_result"
    }
   ],
   "source": [
    "# math.tan(30)\n",
    "t0 = math.radians(45) \n",
    "t1 = math.tan( t0 )\n",
    "t2 = math.degrees( math.atan( t1 ) )\n",
    "t0, t1, t2"
   ]
  },
  {
   "cell_type": "code",
   "execution_count": 32,
   "metadata": {},
   "outputs": [
    {
     "data": {
      "text/plain": [
       "0.063661951038433"
      ]
     },
     "execution_count": 32,
     "metadata": {},
     "output_type": "execute_result"
    }
   ],
   "source": [
    "# t0 = math.radians(45) \n",
    "# t1 = math.tan( t0 )\n",
    "t2 = math.degrees( math.atan( 0.1/90 ) )\n",
    "t2\n",
    "\n",
    "# math.degrees(x)\t\t弧度值 转 角度值\n",
    "# math.radians(x)\t\t角度值 转 弧度值"
   ]
  },
  {
   "cell_type": "markdown",
   "metadata": {},
   "source": []
  },
  {
   "cell_type": "code",
   "execution_count": 27,
   "metadata": {},
   "outputs": [
    {
     "data": {
      "text/plain": [
       "2578.3100780887044"
      ]
     },
     "execution_count": 27,
     "metadata": {},
     "output_type": "execute_result"
    }
   ],
   "source": [
    "math.degrees(45)"
   ]
  },
  {
   "cell_type": "code",
   "execution_count": 22,
   "metadata": {},
   "outputs": [
    {
     "data": {
      "text/plain": [
       "1.0"
      ]
     },
     "execution_count": 22,
     "metadata": {},
     "output_type": "execute_result"
    }
   ],
   "source": [
    "math.sin( math.radians(90) )"
   ]
  },
  {
   "cell_type": "code",
   "execution_count": null,
   "metadata": {},
   "outputs": [],
   "source": [
    "# 从 tran_daily 中读出5条\n",
    "sql=\"SELECT * FROM tran_daily where trade_date='20230710' LIMIT 1\"\n",
    "df = pd.read_sql_query(sql, conn)\n",
    "df"
   ]
  },
  {
   "cell_type": "code",
   "execution_count": null,
   "metadata": {},
   "outputs": [],
   "source": [
    "# 写入到 tran_000, append 模式\n",
    "# write_no = df.to_sql('tran_000', conn, index=False, if_exists='append', chunksize=2) # 20000个，每天成交几千只股票，足够了\n",
    "write_no = df.to_sql('day_zhibiao', conn, index=False, if_exists='append', chunksize=2000) # 20000个，每天成交几千只股票，足够了\n",
    "write_no\n"
   ]
  },
  {
   "cell_type": "code",
   "execution_count": null,
   "metadata": {},
   "outputs": [],
   "source": [
    "# df.insert(loc=2, column='new_col', value=3) \n",
    "# del df['index']\n",
    "# df.loc[[0], 'ts_code'] = 'testcode'"
   ]
  },
  {
   "cell_type": "code",
   "execution_count": null,
   "metadata": {},
   "outputs": [],
   "source": [
    "# 从 tran_000 读出数据\n",
    "sql2 = 'select * from tran_000'\n",
    "df2 = pd.read_sql_query(sql2, conn, index_col=None)\n",
    "df2"
   ]
  },
  {
   "cell_type": "code",
   "execution_count": null,
   "metadata": {},
   "outputs": [],
   "source": [
    "# 验证 exec_sql\n",
    "sql1 = 'create table test_000( ts_code varchar(12), trade_date varchar(10))'\n",
    "sql2 = 'drop table if exists test'\n",
    "status = basic.exec_sql(conn,sql2)\n",
    "status\n"
   ]
  },
  {
   "cell_type": "code",
   "execution_count": null,
   "metadata": {},
   "outputs": [],
   "source": [
    "# 从 tran_000 读出数据\n",
    "sql3 = \"select * from tran_daily where trade_date='20230717' \"\n",
    "df3 = pd.read_sql_query(sql3, conn, index_col=None)\n",
    "df3.shape"
   ]
  },
  {
   "cell_type": "markdown",
   "metadata": {},
   "source": [
    "to_sql(self, name, con, schema=None, if_exists='fail', index=True,\n",
    "       index_label=None, chunksize=None, dtype=None, method=None):\n",
    "- if_exists: \n",
    "    - append : append到表中，不存在表时，就新建表；\n",
    "    - replace : 无论是否存在，直接新建表\n",
    "- index：对DataFrame的index索引的处理，为True时索引也将作为数据写入数据表\n",
    "- index_label:当上一个参数index为True时，设置写入数据表时index的列名称\n",
    "- chunsize：设置整数，如20000，一次写入数据时的数据行数量，当数据量很大时，需要设置，否则会链接超时写入失败。\n",
    "    - 每日交易不超过7000支股票，20000万足够了。\n",
    "- \n",
    "\n",
    "index=True,\n",
    "           index_label=None, chunksize=None, dtype=None, method=None):\n",
    "\n"
   ]
  },
  {
   "cell_type": "code",
   "execution_count": null,
   "metadata": {},
   "outputs": [],
   "source": [
    "import pandas as pd\n",
    "\n",
    "\n",
    "l1 =[\"1\", \"1\", \"1\", \"2\", \"2\", \"2\", \"2\", \"2\"]\n",
    "l2 =[1, 2, 2, 2, 2, 2, 2, 3]\n",
    "l3 =[45, 25, 28, 70, 95, 98, 120, 80]\n",
    "cowmast = pd.DataFrame(list(zip(l1, l2, l3))) \n",
    "cowmast.columns =['Cow', 'Lact', 'DIM']"
   ]
  },
  {
   "cell_type": "code",
   "execution_count": null,
   "metadata": {},
   "outputs": [],
   "source": [
    "cowmast \n"
   ]
  },
  {
   "cell_type": "code",
   "execution_count": null,
   "metadata": {},
   "outputs": [],
   "source": [
    "\n",
    "def rolling_count(val):\n",
    "    if val <= 2:\n",
    "        rolling_count.count += 1\n",
    "    else:\n",
    "        # rolling_count.previous = val\n",
    "        rolling_count.count = 0\n",
    "    return rolling_count.count\n",
    "# def rolling_count(val):\n",
    "#     if val == rolling_count.previous:\n",
    "#         rolling_count.count +=1\n",
    "#     else:\n",
    "#         rolling_count.previous = val\n",
    "#         rolling_count.count = 1\n",
    "#     return rolling_count.count\n",
    "\n",
    "rolling_count.count = 0 #static variable\n",
    "cowmast['under60'] = cowmast['new'].apply(rolling_count) #new column in dataframe\n",
    "cowmast"
   ]
  },
  {
   "cell_type": "code",
   "execution_count": null,
   "metadata": {},
   "outputs": [],
   "source": [
    "rolling_count.count"
   ]
  },
  {
   "cell_type": "code",
   "execution_count": null,
   "metadata": {},
   "outputs": [],
   "source": [
    "\n",
    "# cowmast['xmast'] = cowmast['Cow'].apply(rolling_count) #new column in dataframe\n",
    "\n"
   ]
  },
  {
   "cell_type": "code",
   "execution_count": null,
   "metadata": {},
   "outputs": [],
   "source": [
    "\n",
    "cowmast['t2'] = cowmast[['DIM', 'Lact']].apply( lambda x: x[\"DIM\"] - x[\"Lact\"], axis=1 ) \n",
    "# df[\"E\"]     = df[[\"A\",\"C\"]].apply(lambda x: x[\"A\"] + x[\"C\"], axis=1)\n"
   ]
  },
  {
   "cell_type": "code",
   "execution_count": null,
   "metadata": {},
   "outputs": [],
   "source": [
    "cowmast['new']=cowmast['t2'].rolling(3).count( cowmast['t2']>0  )\n"
   ]
  },
  {
   "cell_type": "code",
   "execution_count": null,
   "metadata": {},
   "outputs": [],
   "source": [
    "\n",
    "cowmast\n",
    "\n"
   ]
  },
  {
   "cell_type": "code",
   "execution_count": null,
   "metadata": {},
   "outputs": [],
   "source": [
    "cowmast['t1'] = cowmast['DIM'] + cowmast['Lact'] "
   ]
  },
  {
   "cell_type": "code",
   "execution_count": null,
   "metadata": {},
   "outputs": [],
   "source": [
    "cowmast"
   ]
  },
  {
   "cell_type": "code",
   "execution_count": null,
   "metadata": {},
   "outputs": [],
   "source": []
  }
 ],
 "metadata": {
  "kernelspec": {
   "display_name": "cuda",
   "language": "python",
   "name": "python3"
  },
  "language_info": {
   "codemirror_mode": {
    "name": "ipython",
    "version": 3
   },
   "file_extension": ".py",
   "mimetype": "text/x-python",
   "name": "python",
   "nbconvert_exporter": "python",
   "pygments_lexer": "ipython3",
   "version": "3.10.11"
  },
  "orig_nbformat": 4
 },
 "nbformat": 4,
 "nbformat_minor": 2
}
