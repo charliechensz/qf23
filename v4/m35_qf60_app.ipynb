{
 "cells": [
  {
   "cell_type": "code",
   "execution_count": 1,
   "metadata": {
    "tags": []
   },
   "outputs": [
    {
     "name": "stdout",
     "output_type": "stream",
     "text": [
      "cuda:0\n",
      "0.00523\n"
     ]
    }
   ],
   "source": [
    "import numpy as np\n",
    "import pandas as pd\n",
    "import matplotlib.pyplot as plt\n",
    "import math, random\n",
    "# %matplotlib inline\n",
    "\n",
    "import torch\n",
    "from torch import nn\n",
    "import torch.nn.functional as F  # 避免relu和sigmoid的初始化，可以直接调用\n",
    "\n",
    "from importlib import reload \n",
    "from qflib import basic\n",
    "reload(basic)\n",
    "\n",
    "global engine, conn\n",
    "engine = basic.engine()\n",
    "conn = basic.conn(engine)\n",
    "\n",
    "\n",
    "import torch.backends.cudnn as cudnn\n",
    "cudnn.benchmark = True  \n",
    "cudnn.deterministic = True\n",
    "\n",
    "device = torch.device(\"cuda:0\" if torch.cuda.is_available() else \"cpu\")\n",
    "print( device )\n",
    "# if torch.cuda.is_available():\n",
    "#     torch.cuda.caching_allocator_delete\n",
    "#     torch.cuda.empty_cache()  # 释放显存\n",
    "#     print('Memory Allocated', torch.cuda.memory_allocated() )\n",
    "\n",
    "xl_01dgree = 0.001745 # 0.1度 \n",
    "xl_02dgree = 0.003490 # 0.2度 \n",
    "xl_03dgree = 0.005230 # 0.3度\n",
    "xl_dgree = xl_03dgree\n",
    "print( str(xl_dgree) )"
   ]
  },
  {
   "cell_type": "code",
   "execution_count": 2,
   "metadata": {},
   "outputs": [],
   "source": [
    "class Model3(nn.Module):\n",
    "    def __init__(self):\n",
    "        super().__init__()      # 继承父类中所有的属性\n",
    "        self.liner_1 = nn.Linear(18, 64)   # X.size(1)= 20； 定义64个后续中间层\n",
    "        self.liner_2 = nn.Linear(64, 64)   # 接着，再定义64个后续中间层\n",
    "        self.liner_3 = nn.Linear(64, 1)   # 接着，再定义64个后续中间层\n",
    "    def forward(self, input):\n",
    "        x = F.relu( self.liner_1(input) )\n",
    "        x = F.relu( self.liner_2(x) )\n",
    "        x = F.sigmoid( self.liner_3(x) )\n",
    "        return x\n",
    "\n",
    "class Model4A(nn.Module):\n",
    "    def __init__(self):\n",
    "        super().__init__()      # 继承父类中所有的属性\n",
    "        self.liner_1 = nn.Linear(18, 256)   # X.size(1)= 20； 定义256个后续中间层\n",
    "        self.liner_2 = nn.Linear(256, 128)  # 接着，再定义128个后续中间层\n",
    "        self.liner_3 = nn.Linear(128, 32)   # 接着，再定义32个后续中间层\n",
    "        self.liner_4 = nn.Linear(32, 1)     \n",
    "    def forward(self, input):\n",
    "        x = F.relu( self.liner_1(input) )\n",
    "        x = F.relu( self.liner_2(x) )\n",
    "        x = F.relu( self.liner_3(x) )\n",
    "        x = F.sigmoid( self.liner_4(x) )\n",
    "        return x\n",
    "    \n",
    "class Model4B(nn.Module):\n",
    "    def __init__(self):\n",
    "        super().__init__()      # 继承父类中所有的属性\n",
    "        self.liner_1 = nn.Linear(18, 128)   # X.size(1)= 20； 定义256个后续中间层\n",
    "        self.liner_2 = nn.Linear(128, 64)  # 接着，再定义128个后续中间层\n",
    "        self.liner_3 = nn.Linear(64, 32)   # 接着，再定义32个后续中间层\n",
    "        self.liner_4 = nn.Linear(32, 1)     \n",
    "    def forward(self, input):\n",
    "        x = F.relu( self.liner_1(input) )\n",
    "        x = F.relu( self.liner_2(x) )\n",
    "        x = F.relu( self.liner_3(x) )\n",
    "        x = F.sigmoid( self.liner_4(x) )\n",
    "        return x\n",
    "\n",
    "# 更加高级语言法，等价于Model\n",
    "class Model_high(nn.Module):\n",
    "    def __init__(self):\n",
    "        super().__init__()      # 继承父类中所有的属性\n",
    "        self.liner_1 = nn.Linear(29, 256)   # X.size(1)= 20； 定义64个后续中间层\n",
    "        self.liner_2 = nn.Linear(256, 128)   # 接着，再定义64个后续中间层\n",
    "        self.liner_3 = nn.Linear(128, 64)   # 接着，再定义64个后续中间层\n",
    "        self.liner_4 = nn.Linear(64, 1)   # 接着，再定义64个后续中间层\n",
    "        self.relu = nn.ReLU()\n",
    "        self.sigmoid = nn.Sigmoid()\n",
    "    def forward(self, input):\n",
    "        x = self.Liner_1(input)\n",
    "        x = self.relu(x)\n",
    "        x = self.Liner_2(x)\n",
    "        x = self.relu(x)\n",
    "        x = self.Liner_3(x)\n",
    "        x = self.sigmoid(x)\n",
    "        return x"
   ]
  },
  {
   "cell_type": "code",
   "execution_count": 3,
   "metadata": {},
   "outputs": [],
   "source": [
    "model = torch.load('../model/test5-8.pth').to(device)"
   ]
  },
  {
   "cell_type": "code",
   "execution_count": 14,
   "metadata": {},
   "outputs": [
    {
     "name": "stdout",
     "output_type": "stream",
     "text": [
      "ts_code, trade_date, pct_change, diff, bar, jx_days_ud60, jx_xl_250, jx_xl_120, jx_xl_60,jx_xl_20, jx_xl_10, jx_xl_5, jx_zs_5, jx_zs_10, jx_zs_20, jx_zs_60,lj_fl_1_3, lj_fl_3_10, lj_fl_5_20, lj_fl_20_60, sz_max_5, sz_max_10, sz_max_20 \n"
     ]
    }
   ],
   "source": []
  },
  {
   "cell_type": "code",
   "execution_count": 22,
   "metadata": {},
   "outputs": [
    {
     "name": "stdout",
     "output_type": "stream",
     "text": [
      "ts_code, trade_date, pct_change, diff, bar, jx_days_ud60, jx_xl_250, jx_xl_120, jx_xl_60,jx_xl_20, jx_xl_10, jx_xl_5, jx_zs_5, jx_zs_10, jx_zs_20, jx_zs_60,lj_fl_1_3, lj_fl_3_10, lj_fl_5_20, lj_fl_20_60, sz_max_5, sz_max_10, sz_max_20 \n",
      "SELECT ts_code, trade_date, pct_change, diff, bar, jx_days_ud60, jx_xl_250, jx_xl_120, jx_xl_60,jx_xl_20, jx_xl_10, jx_xl_5, jx_zs_5, jx_zs_10, jx_zs_20, jx_zs_60,lj_fl_1_3, lj_fl_3_10, lj_fl_5_20, lj_fl_20_60, sz_max_5, sz_max_10, sz_max_20  from day_zhibiao where trade_date>='20230701' and sz_max_5>8 and jx_days_ud60 > 10 and jx_days_ud60 < 60 and jx_xl_60>-0.00523 and  jx_xl_20>0 \n"
     ]
    },
    {
     "data": {
      "text/plain": [
       "array([], shape=(0, 2), dtype=int64)"
      ]
     },
     "execution_count": 22,
     "metadata": {},
     "output_type": "execute_result"
    }
   ],
   "source": [
    "\"\"\" 手工取数据 + 测试 \"\"\"\n",
    "def model_app(X_app):\n",
    "    # X_app\n",
    "    Y_app = model(X_app)\n",
    "    # Y_app\n",
    "    # Y_app\n",
    "    Y_app2 = Y_app.to('cpu').detach()\n",
    "    # Y_app2\n",
    "    y_app = Y_app2.numpy() \n",
    "    acc_num =  np.argwhere(y_app>0.5)\n",
    "    return Y_app2, acc_num\n",
    "\n",
    "column_str = 'ts_code, trade_date, pct_change, diff, bar, jx_days_ud60, \\\n",
    "jx_xl_250, jx_xl_120, jx_xl_60,\\\n",
    "jx_xl_20, jx_xl_10, jx_xl_5, \\\n",
    "jx_zs_5, jx_zs_10, jx_zs_20, jx_zs_60,\\\n",
    "lj_fl_1_3, lj_fl_3_10, lj_fl_5_20, lj_fl_20_60, \\\n",
    "sz_max_5, sz_max_10, sz_max_20 '\n",
    "print(column_str)\n",
    "\n",
    "sql_new= \"SELECT \" + column_str +\" \\\n",
    "from day_zhibiao \\\n",
    "where trade_date>='20230701' and sz_max_5>8 and \\\n",
    "jx_days_ud60 > 10 and jx_days_ud60 < 60 and \\\n",
    "jx_xl_60>-\"+str(xl_dgree)+\" and  \\\n",
    "jx_xl_20>0 \"\n",
    "print(sql_new)\n",
    "df_new = pd.read_sql_query(sql_new, conn)\n",
    "df_new.shape, df_new.head(2)\n",
    "# print( df_new[ df_new['sz_max_5']>8 ] )\n",
    "\n",
    "X_columns = ['pct_change', \n",
    "             'diff', 'bar', \n",
    "             'jx_days_ud60', \n",
    "             'jx_xl_250', 'jx_xl_120','jx_xl_60', \n",
    "             'jx_xl_20', 'jx_xl_10', 'jx_xl_5', \n",
    "             'jx_zs_5', 'jx_zs_10','jx_zs_20', 'jx_zs_60', \n",
    "             'lj_fl_1_3', 'lj_fl_3_10', 'lj_fl_5_20','lj_fl_20_60']\n",
    "df_app = df_new[X_columns].copy()  \n",
    "X_app = torch.from_numpy(df_app.values).type(torch.float32).to(device)\n",
    "X_app.shape, X_app.size()\n",
    "\n",
    "Y_app2, acc_num = model_app(X_app) \n",
    "acc_num"
   ]
  },
  {
   "cell_type": "code",
   "execution_count": 21,
   "metadata": {},
   "outputs": [],
   "source": [
    "\n",
    "    "
   ]
  },
  {
   "cell_type": "code",
   "execution_count": 8,
   "metadata": {},
   "outputs": [
    {
     "data": {
      "text/plain": [
       "array([], shape=(0, 2), dtype=int64)"
      ]
     },
     "execution_count": 8,
     "metadata": {},
     "output_type": "execute_result"
    }
   ],
   "source": []
  },
  {
   "cell_type": "code",
   "execution_count": 9,
   "metadata": {},
   "outputs": [],
   "source": [
    "# Y_app2.numpy() "
   ]
  },
  {
   "cell_type": "code",
   "execution_count": 10,
   "metadata": {},
   "outputs": [
    {
     "data": {
      "text/plain": [
       "array([], shape=(0, 2), dtype=int64)"
      ]
     },
     "execution_count": 10,
     "metadata": {},
     "output_type": "execute_result"
    }
   ],
   "source": [
    "np.argwhere( Y_app2.numpy() > 0.3 )"
   ]
  },
  {
   "cell_type": "code",
   "execution_count": 11,
   "metadata": {},
   "outputs": [
    {
     "data": {
      "text/plain": [
       "(2,\n",
       " array([[0.26246962],\n",
       "        [0.25760174]], dtype=float32))"
      ]
     },
     "execution_count": 11,
     "metadata": {},
     "output_type": "execute_result"
    }
   ],
   "source": [
    "x = Y_app2.numpy()\n",
    "y = x[ (x[:] > 0.25).all(axis=1) ] \n",
    "y.size, y"
   ]
  },
  {
   "cell_type": "code",
   "execution_count": 12,
   "metadata": {},
   "outputs": [
    {
     "data": {
      "text/plain": [
       "(2,\n",
       " array([[0.26246962],\n",
       "        [0.25760174]], dtype=float32))"
      ]
     },
     "execution_count": 12,
     "metadata": {},
     "output_type": "execute_result"
    }
   ],
   "source": [
    "y.size, y"
   ]
  },
  {
   "cell_type": "code",
   "execution_count": null,
   "metadata": {},
   "outputs": [],
   "source": []
  }
 ],
 "metadata": {
  "interpreter": {
   "hash": "c964a6907b2774297a48b44694a21488b5d674bf6da9bcac704f7b1c134d78ee"
  },
  "kernelspec": {
   "display_name": "Python 3.9.7 ('base')",
   "language": "python",
   "name": "python3"
  },
  "language_info": {
   "codemirror_mode": {
    "name": "ipython",
    "version": 3
   },
   "file_extension": ".py",
   "mimetype": "text/x-python",
   "name": "python",
   "nbconvert_exporter": "python",
   "pygments_lexer": "ipython3",
   "version": "3.10.11"
  },
  "toc-autonumbering": false,
  "widgets": {
   "application/vnd.jupyter.widget-state+json": {
    "state": {},
    "version_major": 2,
    "version_minor": 0
   }
  }
 },
 "nbformat": 4,
 "nbformat_minor": 4
}
