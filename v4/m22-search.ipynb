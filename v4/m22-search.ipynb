{
 "cells": [
  {
   "cell_type": "markdown",
   "metadata": {
    "tags": []
   },
   "source": [
    "# Search 程序\n",
    "\n"
   ]
  },
  {
   "cell_type": "code",
   "execution_count": 1,
   "metadata": {
    "tags": []
   },
   "outputs": [],
   "source": [
    "%matplotlib widget\n",
    "import numpy as np\n",
    "import pandas as pd\n",
    "import random \n",
    "\n",
    "import matplotlib.pyplot as plt\n",
    "import matplotlib as mpl\n",
    "plt.rcParams[\"font.family\"] = 'Arial Unicode MS'\n",
    "# mpl.rcParams[\"font.sans-serif\"] = [\"Arial Unicode MS\"]\n",
    "mpl.rcParams[\"axes.unicode_minus\"] = False\n",
    "\n",
    "# import mplfinance as mpf\n",
    "\n",
    "from importlib import reload \n",
    "from qflib import basic,search\n",
    "reload(basic)\n",
    "reload(search)\n",
    "\n",
    "# data_dir='../'\n",
    "data_dir='~/qfdata/'\n",
    "engine = basic.engine()\n"
   ]
  },
  {
   "cell_type": "code",
   "execution_count": 2,
   "metadata": {},
   "outputs": [],
   "source": [
    "# 初始化 bt_list\n",
    "''' 测试清单 '''\n",
    "bt_list = '../data/stocklist.csv'\n",
    "bt_list = pd.read_csv(bt_list)\n",
    "start_date = '2019-01-01'\n",
    "end_date= '' # '2022-01-20'\n",
    "\n",
    "\n",
    "viewlist = pd.DataFrame(columns=['ts_code'])\n",
    "viewlist.to_csv('../viewlist.csv', header=True,index=False)\n",
    "\n",
    "# 初始化bt_result, 无记录\n",
    "# bt_result = pd.DataFrame(columns=['ts_code', 'start_date', 'end_date','pct_profit','pct_noaction','pct_diff'])\n",
    "# print(bt_result)\n"
   ]
  },
  {
   "cell_type": "code",
   "execution_count": null,
   "metadata": {},
   "outputs": [],
   "source": []
  },
  {
   "cell_type": "code",
   "execution_count": 3,
   "metadata": {},
   "outputs": [
    {
     "name": "stdout",
     "output_type": "stream",
     "text": [
      " 0 002910.SZ 1 000016.SZ 2 001872.SZ 3 000040.SZ 4 000401.SZ 5 000429.SZ 6 000553.SZ 7 000560.SZ 8 000710.SZ 9 000723.SZ 10 000951.SZ 11 000968.SZ 12 002061.SZ 13 002507.SZ 14 002530.SZ 15 002537.SZ 16 002545.SZ 17 002611.SZ 18 002648.SZ 19 002747.SZ 20 002812.SZ 21 002839.SZ 22 002841.SZ 23 002859.SZ 24 002867.SZ 25 300308.SZ 26 300457.SZ 27 300616.SZ 28 300618.SZ 29 300628.SZ 30 300666.SZ 31 002936.SZ 32 000301.SZ 33 000537.SZ 34 000546.SZ 35 000789.SZ 36 000831.SZ 37 000932.SZ 38 000935.SZ 39 001965.SZ 40 002258.SZ 41 002382.SZ 42 002409.SZ 43 002430.SZ 44 002511.SZ 45 002677.SZ 46 002807.SZ 47 002901.SZ 48 002907.SZ 49 002911.SZ 50 002912.SZ 51 002913.SZ 52 002916.SZ 53 002920.SZ 54 300232.SZ 55 300298.SZ 56 300349.SZ 57 300357.SZ 58 300482.SZ 59 300529.SZ 60 300567.SZ 61 300601.SZ 62 300676.SZ 63 300679.SZ 64 300685.SZ 65 300699.SZ 66 300725.SZ 67 300726.SZ 68 300735.SZ 69 000025.SZ 70 000617.SZ 71 000717.SZ 72 000818.SZ 73 000877.SZ 74 000933.SZ 75 000976.SZ 76 000980.SZ 77 002110.SZ 78 002506.SZ 79 002558.SZ 80 002597.SZ 81 002815.SZ 82 002818.SZ 83 002821.SZ 84 002831.SZ 85 002120.SZ 86 002608.SZ 87 002490.SZ 88 300398.SZ 89 300180.SZ 90 300038.SZ 91 300450.SZ 92 300527.SZ 93 300558.SZ 94 300762.SZ 95 300765.SZ 96 300766.SZ 97 300768.SZ 98 300770.SZ 99 300773.SZ 100 002948.SZ 101 000019.SZ 102 000049.SZ 103 000070.SZ 104 000629.SZ 105 000667.SZ 106 000861.SZ 107 000936.SZ 108 000950.SZ 109 001696.SZ 110 002063.SZ 111 002100.SZ 112 002115.SZ 113 002124.SZ 114 002318.SZ 115 002364.SZ 116 002446.SZ 117 002567.SZ 118 002621.SZ 119 002726.SZ 120 002755.SZ 121 002792.SZ 122 002938.SZ 123 002939.SZ 124 300079.SZ 125 300130.SZ 126 300252.SZ 127 300352.SZ 128 300401.SZ 129 300423.SZ 130 300572.SZ 131 300682.SZ 132 300724.SZ 133 300748.SZ 134 002034.SZ 135 002705.SZ 136 000597.SZ 137 002370.SZ 138 002607.SZ 139 002683.SZ 140 002768.SZ 141 002832.SZ 142 002851.SZ 143 002925.SZ 144 002926.SZ 145 002928.SZ 146 002929.SZ 147 300149.SZ 148 300184.SZ 149 300276.SZ 150 300326.SZ 151 300348.SZ 152 300365.SZ 153 300429.SZ 154 300454.SZ 155 300456.SZ 156 300487.SZ 157 300504.SZ 158 300523.SZ 159 300595.SZ 160 300602.SZ 161 300630.SZ 162 300633.SZ 163 300634.SZ 164 300661.SZ 165 300741.SZ 166 300747.SZ 167 300750.SZ 168 300760.SZ 169 002798.SZ 170 300233.SZ 171 003816.SZ 172 001914.SZ 173 000544.SZ 174 000592.SZ 175 000657.SZ 176 000672.SZ 177 000682.SZ 178 000708.SZ 179 000720.SZ 180 000795.SZ 181 000815.SZ 182 000863.SZ 183 000923.SZ 184 000931.SZ 185 000958.SZ 186 000967.SZ 187 002036.SZ 188 002041.SZ 189 002057.SZ 190 002130.SZ 191 002194.SZ 192 002216.SZ 193 002234.SZ 194 002274.SZ 195 002301.SZ 196 002367.SZ 197 002378.SZ 198 002423.SZ 199 002467.SZ 200 002481.SZ 201 002550.SZ 202 002617.SZ 203 002639.SZ 204 002695.SZ 205 002733.SZ 206 002746.SZ 207 002777.SZ 208 002796.SZ 209 002941.SZ 210 002946.SZ 211 002950.SZ 212 002951.SZ 213 002958.SZ 214 300034.SZ 215 300043.SZ 216 300123.SZ 217 300131.SZ 218 300191.SZ 219 300194.SZ 220 300223.SZ 221 300224.SZ 222 300236.SZ 223 300292.SZ 224 300322.SZ 225 300327.SZ 226 300379.SZ 227 300394.SZ 228 300428.SZ 229 300502.SZ 230 300559.SZ 231 300570.SZ 232 300577.SZ 233 300596.SZ 234 300638.SZ 235 300674.SZ 236 300702.SZ 237 300723.SZ 238 300751.SZ 239 300755.SZ 240 300759.SZ 241 300761.SZviewlist：\n",
      "8\n",
      "     ts_code\n",
      "0  000025.SZ\n",
      "0  300130.SZ\n",
      "0  300423.SZ\n",
      "0  300233.SZ\n",
      "0  000863.SZ\n",
      "0  000958.SZ\n",
      "0  002367.SZ\n",
      "0  002796.SZ\n",
      "CPU times: user 9.54 s, sys: 624 ms, total: 10.2 s\n",
      "Wall time: 13.9 s\n"
     ]
    }
   ],
   "source": [
    "%%time\n",
    "reload(search)\n",
    "for i in range(0, len(bt_list) ):\n",
    "    \n",
    "    ts_code = bt_list.loc[i,'ts_code']\n",
    "    ts_cal_file = data_dir+'cal/' + ts_code+'.cal.csv'    \n",
    "    print( '', i, ts_code, end=\"\")\n",
    "    # print( '------------------')\n",
    "    df = pd.read_csv(ts_cal_file, index_col='trade_date', parse_dates=True)\n",
    "    # df = basic.read_data(engine, \"select * from stock_cal where ts_code='\"+ bt_list.loc[i,'ts_code'] + \"'\")\n",
    "    \n",
    "    # 计算买卖点\n",
    "    df['bt_s1'] = 0  # View显示字段, 1类买卖点  \n",
    "    df['bt_dtts'], df['bt_xrds'], df['bt_qmzx'], df['bt_chuizi'] = 0, 0, 0, 0  # 多头吞噬, 旭日东升, 启明之星，锤子Plus \n",
    "    df['bt_zonghe']  = 0  # charlie: 综合 \n",
    "    df['bt_stp'] = 0  # 双头炮 \n",
    "    df['bt_pingtai'] = 0  # 平台模式 \n",
    "\n",
    "    # df['pct_st_15d_max']=df['pct_st_range'].rolling(15).max()\n",
    "    buy_day, sale_day = [], []\n",
    "    run_xrds, run_dtts, run_qmzx, run_chuizi = False, False, False, False\n",
    "    run_zonghe = False\n",
    "    run_stp = True\n",
    "    run_pingtai = True\n",
    "    # change_zhongyang = 5    # 大阳涨幅\n",
    "\n",
    "    # # 旭日东升模式 xrdf \n",
    "    # # 連續3天下跌、今天高开、高收、中阳以上\n",
    "    # if run_xrds == True:\n",
    "    #     res = backtest.xrds(df, 5)  \n",
    "    #     # def : 今日涨幅 \n",
    "    #     buy_day += res[0]\n",
    "\n",
    "    # # 多头吞噬法买， 空头吞噬法卖出\n",
    "    # # 低开高走：今天实体低点低于昨天低点， 高点高于昨天高点； 中阳以上\n",
    "    # if run_dtts == True:\n",
    "    #     res = backtest.dtts(df, 5)  \n",
    "    #     # dtts(df, pct_change_td-今日涨幅)\n",
    "    #     buy_day += res[0]\n",
    "        \n",
    "    # # 启明之星模式 qmzx \n",
    "    # # 启明之星 = 前日阴线 + 实体缺口 + 星线 + 今日的多头吞噬(低开高走) 或 旭日东升(高开高走)\n",
    "    # if run_qmzx == True:\n",
    "    #     res = backtest.qmzx(df, 3)\n",
    "    #     buy_day += res[0]\n",
    "\n",
    "    # # 锤子 + 倒锤子\n",
    "    # if run_chuizi == True: \n",
    "    #     res = backtest.chuizi(df, -1.5, 2, 2, 2)   # 昨日长下引线+今日中阳+短上引线\n",
    "    #     # df, 前3日平均跌幅，昨日下引线，今日涨幅, 今日上引线\n",
    "    #     # def chuizi(df, pct_fall, pct_down_ys, pct_change_td, pct_upper_td):\n",
    "    #     # df, 前3日平均跌幅-1.5，昨日下引线2，今日涨幅2, 今日上引线2; \n",
    "    #     # ys: yesterday; td: today\n",
    "    #     buy_day += res[0]\n",
    "\n",
    "    # # 综合 - Charlie\n",
    "    # if run_zonghe == True:\n",
    "    #     # res = backtest.czkz(df, -1.5, 2, 4, 8)    # 连续下跌后反弹明显\n",
    "    #     res = backtest.zonghe(df, -0.5, 4, 2, 6)      # 昨日长下引线\n",
    "    #     # df, 前3日平均跌幅，昨日下引线，今日涨幅, 昨日今日2日振幅\n",
    "    #     buy_day += res[0]\n",
    "\n",
    "    # 双头跑\n",
    "    # if run_stp == True:\n",
    "    #     res = backtest.stp(df, 5, 0.1, 6)    # 昨日长下引线\n",
    "    #     # def stp(df, change_1st, daily_change, change_td):\n",
    "    #     # df, 首日涨幅8%， 每天平均波动0.75，今日涨幅\n",
    "    #     buy_day += res[1]\n",
    "    #     df = res[0]\n",
    "\n",
    "    if run_pingtai == True:\n",
    "        res = search.pingtai(df)    # 昨日长下引线\n",
    "        # def stp(df, change_1st, daily_change, change_td):\n",
    "        # df, 首日涨幅8%， 每天平均波动0.75，今日涨幅\n",
    "        if res[1]:\n",
    "            newone = pd.DataFrame( [[ bt_list.loc[i,'ts_code'] ]], columns=['ts_code'] )\n",
    "            newone.to_csv('../data/viewlist.csv', mode='a', header=False, index=False)\n",
    "            viewlist = pd.concat( [viewlist, newone] )\n",
    "        df = res[0]\n",
    "        \n",
    "    df['bt_s1']  = df['bt_pingtai']\n",
    "    # df['bt_s1']  = df.apply(search.merge_actions, axis=1)   # 实体部分百分比\n",
    "\n",
    "    # print( 'Buy date : ', buy_day )\n",
    "    # print( 'Sale date：', sale_day )\n",
    "\n",
    "    df.to_csv( data_dir+'bt/' + ts_code + '.bt.csv' )\n",
    "    \n",
    "    ''' end 0.5 '''\n",
    "\n",
    "\n",
    "print('viewlist：')\n",
    "print(viewlist.shape[0])\n",
    "print(viewlist)\n",
    "\n",
    "# df[ df['pingtai']==1 ]\n",
    "\n",
    "# print( bt_result )\n",
    "# bt_result.to_csv( '../bt/bt_result.csv' )\n"
   ]
  },
  {
   "cell_type": "code",
   "execution_count": 4,
   "metadata": {},
   "outputs": [],
   "source": [
    "# type( bt_result.loc[0] )"
   ]
  },
  {
   "cell_type": "code",
   "execution_count": 11,
   "metadata": {},
   "outputs": [
    {
     "data": {
      "text/html": [
       "<div>\n",
       "<style scoped>\n",
       "    .dataframe tbody tr th:only-of-type {\n",
       "        vertical-align: middle;\n",
       "    }\n",
       "\n",
       "    .dataframe tbody tr th {\n",
       "        vertical-align: top;\n",
       "    }\n",
       "\n",
       "    .dataframe thead th {\n",
       "        text-align: right;\n",
       "    }\n",
       "</style>\n",
       "<table border=\"1\" class=\"dataframe\">\n",
       "  <thead>\n",
       "    <tr style=\"text-align: right;\">\n",
       "      <th></th>\n",
       "      <th>0</th>\n",
       "    </tr>\n",
       "  </thead>\n",
       "  <tbody>\n",
       "    <tr>\n",
       "      <th>0</th>\n",
       "      <td>1</td>\n",
       "    </tr>\n",
       "    <tr>\n",
       "      <th>1</th>\n",
       "      <td>2</td>\n",
       "    </tr>\n",
       "    <tr>\n",
       "      <th>2</th>\n",
       "      <td>3</td>\n",
       "    </tr>\n",
       "  </tbody>\n",
       "</table>\n",
       "</div>"
      ],
      "text/plain": [
       "   0\n",
       "0  1\n",
       "1  2\n",
       "2  3"
      ]
     },
     "execution_count": 11,
     "metadata": {},
     "output_type": "execute_result"
    }
   ],
   "source": [
    "\n",
    "df0 = pd.DataFrame(data=[1,2,3])\n",
    "df0\n"
   ]
  }
 ],
 "metadata": {
  "kernelspec": {
   "display_name": "Python 3.9.7 ('base')",
   "language": "python",
   "name": "python3"
  },
  "language_info": {
   "codemirror_mode": {
    "name": "ipython",
    "version": 3
   },
   "file_extension": ".py",
   "mimetype": "text/x-python",
   "name": "python",
   "nbconvert_exporter": "python",
   "pygments_lexer": "ipython3",
   "version": "3.9.7"
  },
  "vscode": {
   "interpreter": {
    "hash": "c964a6907b2774297a48b44694a21488b5d674bf6da9bcac704f7b1c134d78ee"
   }
  },
  "widgets": {
   "application/vnd.jupyter.widget-state+json": {
    "state": {
     "21be8c22e8d247348ef2ca202bbecf48": {
      "model_module": "jupyter-matplotlib",
      "model_module_version": "^0.10.4",
      "model_name": "ToolbarModel",
      "state": {
       "collapsed": true,
       "layout": "IPY_MODEL_4934a0eca0e246b88f4325e3093d30ae",
       "orientation": "vertical",
       "toolitems": [
        [
         "Home",
         "Reset original view",
         "home",
         "home"
        ],
        [
         "Back",
         "Back to previous view",
         "arrow-left",
         "back"
        ],
        [
         "Forward",
         "Forward to next view",
         "arrow-right",
         "forward"
        ],
        [
         "Pan",
         "Left button pans, Right button zooms\nx/y fixes axis, CTRL fixes aspect",
         "arrows",
         "pan"
        ],
        [
         "Zoom",
         "Zoom to rectangle\nx/y fixes axis",
         "square-o",
         "zoom"
        ],
        [
         "Download",
         "Download plot",
         "floppy-o",
         "save_figure"
        ]
       ]
      }
     },
     "467185167f964facb4a3d9378b831ba0": {
      "model_module": "@jupyter-widgets/base",
      "model_module_version": "1.2.0",
      "model_name": "LayoutModel",
      "state": {}
     },
     "4934a0eca0e246b88f4325e3093d30ae": {
      "model_module": "@jupyter-widgets/base",
      "model_module_version": "1.2.0",
      "model_name": "LayoutModel",
      "state": {}
     },
     "6f768c13a54b40eb9b4da7e92e669557": {
      "model_module": "jupyter-matplotlib",
      "model_module_version": "^0.10.4",
      "model_name": "ToolbarModel",
      "state": {
       "collapsed": true,
       "layout": "IPY_MODEL_467185167f964facb4a3d9378b831ba0",
       "orientation": "vertical",
       "toolitems": [
        [
         "Home",
         "Reset original view",
         "home",
         "home"
        ],
        [
         "Back",
         "Back to previous view",
         "arrow-left",
         "back"
        ],
        [
         "Forward",
         "Forward to next view",
         "arrow-right",
         "forward"
        ],
        [
         "Pan",
         "Left button pans, Right button zooms\nx/y fixes axis, CTRL fixes aspect",
         "arrows",
         "pan"
        ],
        [
         "Zoom",
         "Zoom to rectangle\nx/y fixes axis",
         "square-o",
         "zoom"
        ],
        [
         "Download",
         "Download plot",
         "floppy-o",
         "save_figure"
        ]
       ]
      }
     },
     "b10e35aa18d3455782aa51504bec2f9c": {
      "model_module": "@jupyter-widgets/base",
      "model_module_version": "1.2.0",
      "model_name": "LayoutModel",
      "state": {}
     },
     "c489fe060dbb45fb9c0e41c3081f685f": {
      "model_module": "@jupyter-widgets/base",
      "model_module_version": "1.2.0",
      "model_name": "LayoutModel",
      "state": {}
     }
    },
    "version_major": 2,
    "version_minor": 0
   }
  }
 },
 "nbformat": 4,
 "nbformat_minor": 4
}
