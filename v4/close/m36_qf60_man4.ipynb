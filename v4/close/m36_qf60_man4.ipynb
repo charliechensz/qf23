{
 "cells": [
  {
   "cell_type": "code",
   "execution_count": 210,
   "metadata": {
    "tags": []
   },
   "outputs": [],
   "source": [
    "%matplotlib widget\n",
    "import numpy as np\n",
    "import pandas as pd\n",
    "import random \n",
    "# import talib as ta\n",
    "import math\n",
    "# from numba import jit\n",
    "\n",
    "from importlib import reload \n",
    "from qflib import basic\n",
    "reload(basic)\n",
    "global engine, conn\n",
    "engine = basic.engine()\n",
    "conn = basic.conn(engine)"
   ]
  },
  {
   "cell_type": "markdown",
   "metadata": {},
   "source": [
    "- 分析10天上涨超过8的机会, 在何时出现\n",
    "    - sz_jt_10： 0,1,2,3： 0, 0-3，3-8, 8-...  \n",
    "- sql statement\n",
    "    - \"SELECT * from day_zhibiao where \n",
    "    - jx_days_ud60 > 20 and jx_days_ud60 < 40 and \\\n",
    "    - jx_xl_60>-\"+str(xl_dgree)+\" and jx_xl_10>0 and \\\n",
    "    - lj_fl_1_3 > 1.1 and lj_fl_3_10>1.05 \"\n",
    "- 暂定4个主要特征：\n",
    "    - fl_1_3, fl_3_10, pct_dg_5, pct_dg_10"
   ]
  },
  {
   "cell_type": "code",
   "execution_count": 211,
   "metadata": {},
   "outputs": [
    {
     "name": "stdout",
     "output_type": "stream",
     "text": [
      "SELECT * from ds_qf60\n"
     ]
    },
    {
     "data": {
      "text/plain": [
       "(40730, 47)"
      ]
     },
     "execution_count": 211,
     "metadata": {},
     "output_type": "execute_result"
    }
   ],
   "source": [
    "sql = \"SELECT * \\\n",
    "from ds_qf60\"\n",
    "print(sql)\n",
    "df = pd.read_sql_query(sql, conn, index_col=None)\n",
    "\n",
    "df.shape"
   ]
  },
  {
   "cell_type": "code",
   "execution_count": 212,
   "metadata": {},
   "outputs": [],
   "source": [
    "# df.info()"
   ]
  },
  {
   "cell_type": "code",
   "execution_count": 213,
   "metadata": {},
   "outputs": [
    {
     "data": {
      "text/html": [
       "<div>\n",
       "<style scoped>\n",
       "    .dataframe tbody tr th:only-of-type {\n",
       "        vertical-align: middle;\n",
       "    }\n",
       "\n",
       "    .dataframe tbody tr th {\n",
       "        vertical-align: top;\n",
       "    }\n",
       "\n",
       "    .dataframe thead th {\n",
       "        text-align: right;\n",
       "    }\n",
       "</style>\n",
       "<table border=\"1\" class=\"dataframe\">\n",
       "  <thead>\n",
       "    <tr style=\"text-align: right;\">\n",
       "      <th></th>\n",
       "      <th>symbol</th>\n",
       "      <th>trade_date</th>\n",
       "      <th>pct_change</th>\n",
       "      <th>diff</th>\n",
       "      <th>dea</th>\n",
       "      <th>bar</th>\n",
       "      <th>jx_days_ud60</th>\n",
       "      <th>jx_dg_120</th>\n",
       "      <th>jx_dg_60</th>\n",
       "      <th>jx_dg_20</th>\n",
       "      <th>...</th>\n",
       "      <th>jx_zs_60</th>\n",
       "      <th>pct_fl_1_3</th>\n",
       "      <th>pct_fl_3_10</th>\n",
       "      <th>pct_fl_5_20</th>\n",
       "      <th>pct_fl_20_60</th>\n",
       "      <th>sz_max_5</th>\n",
       "      <th>sz_max_10</th>\n",
       "      <th>sz_max_20</th>\n",
       "      <th>sz_jt_10</th>\n",
       "      <th>class0</th>\n",
       "    </tr>\n",
       "  </thead>\n",
       "  <tbody>\n",
       "    <tr>\n",
       "      <th>40729</th>\n",
       "      <td>689009</td>\n",
       "      <td>2021-03-31</td>\n",
       "      <td>2.24</td>\n",
       "      <td>-3.69456</td>\n",
       "      <td>-5.00514</td>\n",
       "      <td>2.62117</td>\n",
       "      <td>27</td>\n",
       "      <td>0.0</td>\n",
       "      <td>-0.130428</td>\n",
       "      <td>-0.329783</td>\n",
       "      <td>...</td>\n",
       "      <td>0</td>\n",
       "      <td>1.10161</td>\n",
       "      <td>1.05168</td>\n",
       "      <td>0.885532</td>\n",
       "      <td>0.434366</td>\n",
       "      <td>10.1262</td>\n",
       "      <td>10.1262</td>\n",
       "      <td>10.1262</td>\n",
       "      <td>3.0</td>\n",
       "      <td>3</td>\n",
       "    </tr>\n",
       "  </tbody>\n",
       "</table>\n",
       "<p>1 rows × 25 columns</p>\n",
       "</div>"
      ],
      "text/plain": [
       "       symbol  trade_date  pct_change     diff      dea      bar  \\\n",
       "40729  689009  2021-03-31        2.24 -3.69456 -5.00514  2.62117   \n",
       "\n",
       "       jx_days_ud60  jx_dg_120  jx_dg_60  jx_dg_20  ...  jx_zs_60  pct_fl_1_3  \\\n",
       "40729            27        0.0 -0.130428 -0.329783  ...         0     1.10161   \n",
       "\n",
       "       pct_fl_3_10  pct_fl_5_20  pct_fl_20_60  sz_max_5  sz_max_10  sz_max_20  \\\n",
       "40729      1.05168     0.885532      0.434366   10.1262    10.1262    10.1262   \n",
       "\n",
       "       sz_jt_10  class0  \n",
       "40729       3.0       3  \n",
       "\n",
       "[1 rows x 25 columns]"
      ]
     },
     "execution_count": 213,
     "metadata": {},
     "output_type": "execute_result"
    }
   ],
   "source": [
    "col_list_ds = ['symbol', 'trade_date', 'pct_change',  \\\n",
    "    'diff', 'dea', 'bar',\\\n",
    "    'jx_days_ud60',\\\n",
    "    'jx_dg_120', 'jx_dg_60', 'jx_dg_20', 'jx_dg_10', 'jx_dg_5',\\\n",
    "    'jx_zs_5', 'jx_zs_10', 'jx_zs_20', 'jx_zs_60', \\\n",
    "    'pct_fl_1_3', 'pct_fl_3_10', 'pct_fl_5_20', 'pct_fl_20_60', \\\n",
    "    'sz_max_5','sz_max_10','sz_max_20',\n",
    "    'sz_jt_10','class0' ]\n",
    "df.tail(1)[col_list_ds]"
   ]
  },
  {
   "cell_type": "code",
   "execution_count": 214,
   "metadata": {},
   "outputs": [
    {
     "data": {
      "text/plain": [
       "(2.0    12597\n",
       " 1.0    11721\n",
       " 3.0     8622\n",
       " 0.0     7790\n",
       " Name: sz_jt_10, dtype: int64,\n",
       " 2.0    0.309281\n",
       " 1.0    0.287773\n",
       " 3.0    0.211687\n",
       " 0.0    0.191260\n",
       " Name: sz_jt_10, dtype: float64)"
      ]
     },
     "execution_count": 214,
     "metadata": {},
     "output_type": "execute_result"
    }
   ],
   "source": [
    "df['sz_jt_10'].value_counts(), df['sz_jt_10'].value_counts()/len(df)"
   ]
  },
  {
   "cell_type": "code",
   "execution_count": 215,
   "metadata": {},
   "outputs": [],
   "source": [
    "# 开发测试：条件取数\n",
    "# num = len(df)\n",
    "\n",
    "# cond2a = df['sz_jt_10']>=2\n",
    "# df[ cond2a ]['sz_jt_10'].value_counts()\n",
    "\n",
    "# cond2b = df['sz_jt_10']>1 \n",
    "# cond2c = df['sz_jt_10']<=2\n",
    "# cond2bc2 = ( cond2b & cond2c )\n",
    "# df[ cond2bc2 ]['sz_jt_10'].value_counts()"
   ]
  },
  {
   "cell_type": "code",
   "execution_count": 216,
   "metadata": {},
   "outputs": [],
   "source": [
    "# epoch 初始化数据\n",
    "# col = ['pct_change',\n",
    "#     'diff', 'dea',\\\n",
    "#     'jx_days_ud60',\\\n",
    "#     'jx_dg_20', 'jx_dg_10', 'jx_dg_5',\\\n",
    "#     'jx_zs_5', 'jx_zs_10', 'jx_zs_20', \\\n",
    "#     'pct_fl_1_3', 'pct_fl_3_10', 'pct_fl_5_20', 'pct_fl_20_60', \\\n",
    "#     'sz_max_10' ]\n",
    "col = ['jx_dg_5','pct_fl_1_3','step', 'class', 'rate' ]\n",
    "\n",
    "def print_header():\n",
    "    print('- jx_days_ud60 > 20 and jx_days_ud60 < 40 ')\n",
    "    print('- jx_xl_60>-\"+str(xl_dgree)+\" and jx_xl_10>0 ')\n",
    "    print('- pct_fl_1_3 > 1.1579 and pct_fl_3_10>1.0730 ')\n",
    "    print('-'*50)\n",
    "    print('  2周   1周  :%14s %14s %14s %14s'%('10均线角度   ','3-10日放量   ','5日均线角度   ','1-3日放量   '),\\\n",
    "        ' = %5s,%6s,%5s'%('数量','达成','成功%'))\n",
    "    print(' ----  ----  :',' '*2, '-'*10,' '*6, '-'*10,' '*6, '-'*10,' '*6, '-'*10,' '*2)"
   ]
  },
  {
   "cell_type": "code",
   "execution_count": 262,
   "metadata": {},
   "outputs": [],
   "source": [
    "# 设置循环步长等\n",
    "steps = 5\n",
    "steps_dg_10, steps_fl_3_10 = 1,1\n",
    "steps_dg_5, steps_fl_1_3   = 1,1\n",
    "\n",
    "# jx_dg_10 预处理\n",
    "min_dg_10, max_dg_10 = df['jx_dg_10'].min(), df['jx_dg_10'].max()\n",
    "step_dg_10 = (max_dg_10 - min_dg_10)/steps_dg_10\n",
    "# fl_3_10 预处理\n",
    "min_fl_3_10, max_fl_3_10 = df['pct_fl_3_10'].min(), df['pct_fl_3_10'].max()\n",
    "step_fl_3_10 = (max_fl_3_10 - min_fl_3_10)/steps_fl_3_10\n",
    "\n",
    "# jx_dg_5预处理\n",
    "min_dg_5, max_dg_5 = df['jx_dg_5'].min(), df['jx_dg_5'].max()\n",
    "step_dg_5 = (max_dg_5 - min_dg_5)/steps_dg_5\n",
    "# fl_1_3 预处理\n",
    "min_fl_1_3, max_fl_1_3 = df['pct_fl_1_3'].min(), df['pct_fl_1_3'].max()\n",
    "step_fl_1_3 = (max_fl_1_3 - min_fl_1_3)/steps_fl_1_3"
   ]
  },
  {
   "cell_type": "code",
   "execution_count": 272,
   "metadata": {},
   "outputs": [
    {
     "name": "stdout",
     "output_type": "stream",
     "text": [
      "- jx_days_ud60 > 20 and jx_days_ud60 < 40 \n",
      "- jx_xl_60>-\"+str(xl_dgree)+\" and jx_xl_10>0 \n",
      "- pct_fl_1_3 > 1.1579 and pct_fl_3_10>1.0730 \n",
      "--------------------------------------------------\n",
      "  2周   1周  :     10均线角度        3-10日放量         5日均线角度         1-3日放量     =    数量,    达成,  成功%\n",
      " ----  ----  :    ----------        ----------        ----------        ----------   \n",
      " 0  0  0  0  :  0.0000,  2.7200,  1.0500, 34.4487, -1.8567,  6.2110,  1.1000, 66.3237  =   12597,   8620,  68.43\n",
      "----------------------------------------------------------------------------------------------------------------\n",
      "                                                                                       =   12597,    8620, 68.43\n",
      "CPU times: total: 0 ns\n",
      "Wall time: 24.3 ms\n"
     ]
    },
    {
     "data": {
      "text/plain": [
       "(2, 5)"
      ]
     },
     "execution_count": 272,
     "metadata": {},
     "output_type": "execute_result"
    }
   ],
   "source": [
    "%%time\n",
    "# man[col] = 0.0\n",
    "man_data = {'jx_dg_5':0.0,\n",
    "            'pct_fl_1_3':0.0,\n",
    "            'step':0, 'class':0, 'rate':0.0    \n",
    "}\n",
    "man = pd.DataFrame(data=man_data, index=[0])\n",
    "print_header()\n",
    "all_step, all_class = 0, 0\n",
    "# 开始epoch\n",
    "\n",
    "cond_jt_10_3 = df['sz_jt_10']>=3\n",
    "# cond_last = cond_begin\n",
    "\n",
    "from_dg_10 = min_dg_10\n",
    "for i_dg_10 in range(steps_dg_10):\n",
    "    to_dg_10 = min_dg_10 + (i_dg_10+1)*step_dg_10\n",
    "    # 生成条件\n",
    "    cond_dg_10 = (df['jx_dg_10'] >= from_dg_10) & (df['jx_dg_10'] < to_dg_10 )\n",
    "    # cond_last = (cond_dg_10) & ( cond_last )\n",
    "    cond_last = (cond_dg_10) \n",
    "\n",
    "    from_dg_5 = min_dg_5\n",
    "    for i_dg_5 in range(steps_dg_5):\n",
    "        to_dg_5 = min_dg_5 + (i_dg_5+1)*step_dg_5\n",
    "        # 生成条件\n",
    "        cond_dg_5 = (df['jx_dg_5'] >= from_dg_5) & (df['jx_dg_5'] < to_dg_5 )\n",
    "        cond_last = (cond_dg_5) & ( cond_last )\n",
    "        \n",
    "        from_fl_3_10 = min_fl_3_10\n",
    "        for i_fl_3_10 in range(steps_fl_3_10):\n",
    "            to_fl_3_10 = min_fl_3_10 + (i_fl_3_10+1)*step_fl_3_10\n",
    "            # 生成条件\n",
    "            cond_fl_3_10 = (df['pct_fl_3_10'] >= from_fl_3_10) & (df['pct_fl_3_10'] < to_fl_3_10 )\n",
    "            cond_last = (cond_fl_3_10) & ( cond_last )\n",
    "        \n",
    "            from_fl_1_3 = min_fl_1_3\n",
    "            for i_fl_1_3 in range(steps_fl_1_3):\n",
    "                to_fl_1_3 = min_fl_1_3 + (i_fl_1_3+1)*step_fl_1_3\n",
    "                # 生成条件\n",
    "                cond_fl_1_3 = (df['pct_fl_1_3'] >= from_fl_1_3) & (df['pct_fl_1_3'] < to_fl_1_3 )\n",
    "                cond_last = ( cond_fl_1_3 ) & (cond_last)\n",
    "                \n",
    "                # 核心运算               \n",
    "                cond_purpose = (cond_jt_10_3) & ( cond_last )\n",
    "                num_step_series  = df[ cond_last ]['sz_jt_10'].value_counts() \n",
    "                num_class_series = df[ cond_purpose ]['sz_jt_10'].value_counts() \n",
    "                num_step = num_step_series.iloc[0] if not num_step_series.empty else 0\n",
    "                num_class = num_class_series.iloc[0] if not num_class_series.empty else 0\n",
    "                num_class_rate = 0 if num_class==0 else num_class*100/num_step\n",
    "                print( '%2d %2d %2d %2d '%(i_dg_10, i_fl_3_10, i_dg_5, i_fl_1_3), \\\n",
    "                    ':%8.4f,%8.4f,%8.4f,%8.4f,%8.4f,%8.4f,%8.4f,%8.4f'%(from_dg_10, to_dg_10, from_fl_3_10, to_fl_3_10, \\\n",
    "                        from_dg_5, to_dg_5, from_fl_1_3, to_fl_1_3),\\\n",
    "                    ' = %7.0f,%7.0f,%7.2f'%(num_step, num_class, num_class_rate) )\n",
    "                # 更新到man\n",
    "                all_step  += num_step  ; all_class += num_class\n",
    "                man_list = [from_dg_5, from_fl_1_3, num_step, num_class, num_class_rate]\n",
    "                man = pd.DataFrame(np.insert(man.values, len(man.index), values=man_list, axis=0))        \n",
    "                # 下一个 fl_1_3 loop\n",
    "                from_fl_1_3 += step_fl_1_3\n",
    "            # 下一个 fl_3_10 loop\n",
    "            from_fl_3_10 += step_fl_3_10            \n",
    "        # jx_dg_5下一个loop\n",
    "        from_dg_5 += step_dg_5\n",
    "    # jx_dg_10下一个loop\n",
    "    from_dg_10 += step_dg_10\n",
    "    \n",
    "all_class_rate = all_class*100/all_step \n",
    "print( '-'*112)\n",
    "print( ' '*86, '= %7.0f, %7.0f, %5.2f'%(all_step, all_class, all_class_rate) )\n",
    "man.shape\n"
   ]
  },
  {
   "cell_type": "code",
   "execution_count": 265,
   "metadata": {},
   "outputs": [
    {
     "data": {
      "text/plain": [
       "(2.0    12597\n",
       " 1.0    11721\n",
       " 3.0     8622\n",
       " 0.0     7789\n",
       " Name: sz_jt_10, dtype: int64,\n",
       " 40729,\n",
       " 8622,\n",
       " 21.169191485182548)"
      ]
     },
     "execution_count": 265,
     "metadata": {},
     "output_type": "execute_result"
    }
   ],
   "source": [
    "\"\"\" 运算结果\n",
    "  dg_10: 0-2.72， 上面可能可以更高   df['jx_dg_10']>=0.5440) & (df['jx_dg_10']<2.4480)\n",
    "\n",
    "\"\"\" \n",
    "df_total = df[ ( df['jx_dg_10']>=0) & (df['jx_dg_10']<2.72) \\\n",
    "    ]['sz_jt_10'].value_counts()\n",
    "df_total, df_total.sum(), df_total[3], df_total[3]/df_total.sum()*100"
   ]
  },
  {
   "cell_type": "code",
   "execution_count": 266,
   "metadata": {},
   "outputs": [
    {
     "data": {
      "text/plain": [
       "3.0    8622\n",
       "Name: sz_jt_10, dtype: int64"
      ]
     },
     "execution_count": 266,
     "metadata": {},
     "output_type": "execute_result"
    }
   ],
   "source": [
    "# 数据核对 - 1\n",
    "df[ (df['sz_jt_10']>=3) ]['sz_jt_10'].value_counts()"
   ]
  },
  {
   "cell_type": "code",
   "execution_count": 267,
   "metadata": {},
   "outputs": [
    {
     "data": {
      "text/plain": [
       "3.0    6938\n",
       "Name: sz_jt_10, dtype: int64"
      ]
     },
     "execution_count": 267,
     "metadata": {},
     "output_type": "execute_result"
    }
   ],
   "source": [
    "df[ (df['jx_dg_10']>=0) & (df['jx_dg_10']<0.4533) & (df['sz_jt_10']>=3) ]['sz_jt_10'].value_counts()\n"
   ]
  },
  {
   "cell_type": "code",
   "execution_count": 268,
   "metadata": {},
   "outputs": [
    {
     "data": {
      "text/plain": [
       "3.0    1684\n",
       "Name: sz_jt_10, dtype: int64"
      ]
     },
     "execution_count": 268,
     "metadata": {},
     "output_type": "execute_result"
    }
   ],
   "source": [
    "df[ (df['jx_dg_10']>=0.4533) & (df['jx_dg_10']<2.7200) & (df['sz_jt_10']>=3) ]['sz_jt_10'].value_counts()"
   ]
  },
  {
   "cell_type": "code",
   "execution_count": 269,
   "metadata": {},
   "outputs": [
    {
     "data": {
      "text/plain": [
       "3.0    1684\n",
       "Name: sz_jt_10, dtype: int64"
      ]
     },
     "execution_count": 269,
     "metadata": {},
     "output_type": "execute_result"
    }
   ],
   "source": [
    "df[ (df['jx_dg_10']>=0.4533) & (df['jx_dg_10']<2.7200) &\\\n",
    "    (df['jx_dg_5']>=-1.8567) & (df['jx_dg_5']<6.2110) &\n",
    "    (df['sz_jt_10']>=3) ]['sz_jt_10'].value_counts()\n"
   ]
  },
  {
   "cell_type": "code",
   "execution_count": null,
   "metadata": {},
   "outputs": [],
   "source": []
  },
  {
   "cell_type": "code",
   "execution_count": 270,
   "metadata": {},
   "outputs": [
    {
     "data": {
      "text/html": [
       "<div>\n",
       "<style scoped>\n",
       "    .dataframe tbody tr th:only-of-type {\n",
       "        vertical-align: middle;\n",
       "    }\n",
       "\n",
       "    .dataframe tbody tr th {\n",
       "        vertical-align: top;\n",
       "    }\n",
       "\n",
       "    .dataframe thead th {\n",
       "        text-align: right;\n",
       "    }\n",
       "</style>\n",
       "<table border=\"1\" class=\"dataframe\">\n",
       "  <thead>\n",
       "    <tr style=\"text-align: right;\">\n",
       "      <th></th>\n",
       "      <th>jx_dg_5</th>\n",
       "      <th>pct_fl_1_3</th>\n",
       "      <th>step</th>\n",
       "      <th>class</th>\n",
       "      <th>rate</th>\n",
       "    </tr>\n",
       "  </thead>\n",
       "  <tbody>\n",
       "    <tr>\n",
       "      <th>1</th>\n",
       "      <td>-1.85673</td>\n",
       "      <td>1.10001</td>\n",
       "      <td>12597.0</td>\n",
       "      <td>8620.0</td>\n",
       "      <td>68.428991</td>\n",
       "    </tr>\n",
       "    <tr>\n",
       "      <th>0</th>\n",
       "      <td>0.00000</td>\n",
       "      <td>0.00000</td>\n",
       "      <td>0.0</td>\n",
       "      <td>0.0</td>\n",
       "      <td>0.000000</td>\n",
       "    </tr>\n",
       "  </tbody>\n",
       "</table>\n",
       "</div>"
      ],
      "text/plain": [
       "   jx_dg_5  pct_fl_1_3     step   class       rate\n",
       "1 -1.85673     1.10001  12597.0  8620.0  68.428991\n",
       "0  0.00000     0.00000      0.0     0.0   0.000000"
      ]
     },
     "execution_count": 270,
     "metadata": {},
     "output_type": "execute_result"
    }
   ],
   "source": [
    "pd.set_option('display.max_rows', None)\n",
    "man.columns = col\n",
    "# man.sort_index(ascending=True)\n",
    "# man.set_index('rate', drop=False)\n",
    "sorting = man.sort_values('rate', ascending=False)\n",
    "sorting"
   ]
  },
  {
   "cell_type": "code",
   "execution_count": 271,
   "metadata": {},
   "outputs": [
    {
     "ename": "NameError",
     "evalue": "name 'cond_fl_1_3_class' is not defined",
     "output_type": "error",
     "traceback": [
      "\u001b[1;31m---------------------------------------------------------------------------\u001b[0m",
      "\u001b[1;31mNameError\u001b[0m                                 Traceback (most recent call last)",
      "Cell \u001b[1;32mIn[271], line 1\u001b[0m\n\u001b[1;32m----> 1\u001b[0m cond_fl_1_3_class\u001b[39m.\u001b[39mvalue_counts()\n",
      "\u001b[1;31mNameError\u001b[0m: name 'cond_fl_1_3_class' is not defined"
     ]
    }
   ],
   "source": [
    "cond_fl_1_3_class.value_counts()"
   ]
  },
  {
   "cell_type": "code",
   "execution_count": null,
   "metadata": {},
   "outputs": [],
   "source": [
    "# man"
   ]
  },
  {
   "cell_type": "code",
   "execution_count": null,
   "metadata": {},
   "outputs": [],
   "source": []
  }
 ],
 "metadata": {
  "interpreter": {
   "hash": "c964a6907b2774297a48b44694a21488b5d674bf6da9bcac704f7b1c134d78ee"
  },
  "kernelspec": {
   "display_name": "Python 3.9.7 ('base')",
   "language": "python",
   "name": "python3"
  },
  "language_info": {
   "codemirror_mode": {
    "name": "ipython",
    "version": 3
   },
   "file_extension": ".py",
   "mimetype": "text/x-python",
   "name": "python",
   "nbconvert_exporter": "python",
   "pygments_lexer": "ipython3",
   "version": "3.10.11"
  },
  "toc-autonumbering": false,
  "widgets": {
   "application/vnd.jupyter.widget-state+json": {
    "state": {},
    "version_major": 2,
    "version_minor": 0
   }
  }
 },
 "nbformat": 4,
 "nbformat_minor": 4
}
