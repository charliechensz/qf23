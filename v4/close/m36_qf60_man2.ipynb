{
 "cells": [
  {
   "cell_type": "code",
   "execution_count": 192,
   "metadata": {
    "tags": []
   },
   "outputs": [],
   "source": [
    "%matplotlib widget\n",
    "import numpy as np\n",
    "import pandas as pd\n",
    "import random \n",
    "# import talib as ta\n",
    "import math\n",
    "# from numba import jit\n",
    "\n",
    "from importlib import reload \n",
    "from qflib import basic\n",
    "reload(basic)\n",
    "global engine, conn\n",
    "engine = basic.engine()\n",
    "conn = basic.conn(engine)"
   ]
  },
  {
   "cell_type": "markdown",
   "metadata": {},
   "source": [
    "分析10天上涨超过8的机会, 在何时出现\n",
    "- sz_jt_10： 0,1,2,3： 0, 0-3，3-8, 8-...  \n",
    "sql \n",
    "- \"SELECT * from day_zhibiao where \n",
    "- jx_days_ud60 > 20 and jx_days_ud60 < 40 and \\\n",
    "- jx_xl_60>-\"+str(xl_dgree)+\" and jx_xl_10>0 and \\\n",
    "- lj_fl_1_3 > 1.1 and lj_fl_3_10>1.05 \""
   ]
  },
  {
   "cell_type": "code",
   "execution_count": 193,
   "metadata": {},
   "outputs": [
    {
     "name": "stdout",
     "output_type": "stream",
     "text": [
      "SELECT * from ds_qf60\n"
     ]
    },
    {
     "data": {
      "text/plain": [
       "(35170, 47)"
      ]
     },
     "execution_count": 193,
     "metadata": {},
     "output_type": "execute_result"
    }
   ],
   "source": [
    "sql = \"SELECT * \\\n",
    "from ds_qf60\"\n",
    "print(sql)\n",
    "df = pd.read_sql_query(sql, conn, index_col=None)\n",
    "\n",
    "df.shape"
   ]
  },
  {
   "cell_type": "code",
   "execution_count": 194,
   "metadata": {},
   "outputs": [],
   "source": [
    "# df.info()"
   ]
  },
  {
   "cell_type": "code",
   "execution_count": 195,
   "metadata": {},
   "outputs": [
    {
     "data": {
      "text/html": [
       "<div>\n",
       "<style scoped>\n",
       "    .dataframe tbody tr th:only-of-type {\n",
       "        vertical-align: middle;\n",
       "    }\n",
       "\n",
       "    .dataframe tbody tr th {\n",
       "        vertical-align: top;\n",
       "    }\n",
       "\n",
       "    .dataframe thead th {\n",
       "        text-align: right;\n",
       "    }\n",
       "</style>\n",
       "<table border=\"1\" class=\"dataframe\">\n",
       "  <thead>\n",
       "    <tr style=\"text-align: right;\">\n",
       "      <th></th>\n",
       "      <th>symbol</th>\n",
       "      <th>trade_date</th>\n",
       "      <th>pct_change</th>\n",
       "      <th>diff</th>\n",
       "      <th>dea</th>\n",
       "      <th>bar</th>\n",
       "      <th>jx_days_ud60</th>\n",
       "      <th>jx_dg_120</th>\n",
       "      <th>jx_dg_60</th>\n",
       "      <th>jx_dg_20</th>\n",
       "      <th>...</th>\n",
       "      <th>jx_zs_60</th>\n",
       "      <th>pct_fl_1_3</th>\n",
       "      <th>pct_fl_3_10</th>\n",
       "      <th>pct_fl_5_20</th>\n",
       "      <th>pct_fl_20_60</th>\n",
       "      <th>sz_max_5</th>\n",
       "      <th>sz_max_10</th>\n",
       "      <th>sz_max_20</th>\n",
       "      <th>sz_jt_10</th>\n",
       "      <th>class0</th>\n",
       "    </tr>\n",
       "  </thead>\n",
       "  <tbody>\n",
       "    <tr>\n",
       "      <th>35169</th>\n",
       "      <td>689009</td>\n",
       "      <td>2021-04-19</td>\n",
       "      <td>3.04</td>\n",
       "      <td>-0.461137</td>\n",
       "      <td>-1.14476</td>\n",
       "      <td>1.36724</td>\n",
       "      <td>39</td>\n",
       "      <td>0.0</td>\n",
       "      <td>-0.143429</td>\n",
       "      <td>0.522034</td>\n",
       "      <td>...</td>\n",
       "      <td>0</td>\n",
       "      <td>1.30432</td>\n",
       "      <td>1.13952</td>\n",
       "      <td>0.745176</td>\n",
       "      <td>0.524615</td>\n",
       "      <td>0.379001</td>\n",
       "      <td>4.43571</td>\n",
       "      <td>4.43571</td>\n",
       "      <td>2.0</td>\n",
       "      <td>2</td>\n",
       "    </tr>\n",
       "  </tbody>\n",
       "</table>\n",
       "<p>1 rows × 25 columns</p>\n",
       "</div>"
      ],
      "text/plain": [
       "       symbol  trade_date  pct_change      diff      dea      bar  \\\n",
       "35169  689009  2021-04-19        3.04 -0.461137 -1.14476  1.36724   \n",
       "\n",
       "       jx_days_ud60  jx_dg_120  jx_dg_60  jx_dg_20  ...  jx_zs_60  pct_fl_1_3  \\\n",
       "35169            39        0.0 -0.143429  0.522034  ...         0     1.30432   \n",
       "\n",
       "       pct_fl_3_10  pct_fl_5_20  pct_fl_20_60  sz_max_5  sz_max_10  sz_max_20  \\\n",
       "35169      1.13952     0.745176      0.524615  0.379001    4.43571    4.43571   \n",
       "\n",
       "       sz_jt_10  class0  \n",
       "35169       2.0       2  \n",
       "\n",
       "[1 rows x 25 columns]"
      ]
     },
     "execution_count": 195,
     "metadata": {},
     "output_type": "execute_result"
    }
   ],
   "source": [
    "col_list_ds = ['symbol', 'trade_date', 'pct_change',  \\\n",
    "    'diff', 'dea', 'bar',\\\n",
    "    'jx_days_ud60',\\\n",
    "    'jx_dg_120', 'jx_dg_60', 'jx_dg_20', 'jx_dg_10', 'jx_dg_5',\\\n",
    "    'jx_zs_5', 'jx_zs_10', 'jx_zs_20', 'jx_zs_60', \\\n",
    "    'pct_fl_1_3', 'pct_fl_3_10', 'pct_fl_5_20', 'pct_fl_20_60', \\\n",
    "    'sz_max_5','sz_max_10','sz_max_20',\n",
    "    'sz_jt_10','class0' ]\n",
    "df.tail(1)[col_list_ds]"
   ]
  },
  {
   "cell_type": "code",
   "execution_count": 196,
   "metadata": {},
   "outputs": [
    {
     "data": {
      "text/plain": [
       "(2.0    10830\n",
       " 1.0    10013\n",
       " 3.0     7440\n",
       " 0.0     6887\n",
       " Name: sz_jt_10, dtype: int64,\n",
       " 2.0    0.307933\n",
       " 1.0    0.284703\n",
       " 3.0    0.211544\n",
       " 0.0    0.195820\n",
       " Name: sz_jt_10, dtype: float64)"
      ]
     },
     "execution_count": 196,
     "metadata": {},
     "output_type": "execute_result"
    }
   ],
   "source": [
    "df['sz_jt_10'].value_counts(), df['sz_jt_10'].value_counts()/len(df)"
   ]
  },
  {
   "cell_type": "code",
   "execution_count": 197,
   "metadata": {},
   "outputs": [],
   "source": [
    "# 开发测试：条件取数\n",
    "# sum = len(df)\n",
    "\n",
    "# cond2a = df['sz_jt_10']>=2\n",
    "# df[ cond2a ]['sz_jt_10'].value_counts()\n",
    "\n",
    "# cond2b = df['sz_jt_10']>1 \n",
    "# cond2c = df['sz_jt_10']<=2\n",
    "# cond2bc2 = ( cond2b & cond2c )\n",
    "# df[ cond2bc2 ]['sz_jt_10'].value_counts()"
   ]
  },
  {
   "cell_type": "code",
   "execution_count": 198,
   "metadata": {},
   "outputs": [],
   "source": [
    "steps = 5\n",
    "steps_dg_5, steps_dg_10 = 11,1\n",
    "steps_fl_1_3, steps_fl_3_10  = 1, 10"
   ]
  },
  {
   "cell_type": "code",
   "execution_count": 199,
   "metadata": {},
   "outputs": [],
   "source": [
    "# jx_dg_5 预处理\n",
    "min_dg_5, max_dg_5 = df['jx_dg_5'].min(), df['jx_dg_5'].max()*0.5\n",
    "step_dg_5 = (max_dg_5 - min_dg_5)/steps_dg_5\n",
    "# from_dg_5 = min_dg_5\n",
    "# min_dg_5, max_dg_5, step_dg_5, from_dg_5  "
   ]
  },
  {
   "cell_type": "code",
   "execution_count": 200,
   "metadata": {},
   "outputs": [
    {
     "data": {
      "text/plain": [
       "(1.15793, 13.264740000000002, 1.15793, 12.106810000000001)"
      ]
     },
     "execution_count": 200,
     "metadata": {},
     "output_type": "execute_result"
    }
   ],
   "source": [
    "# fl_1_3 处理\n",
    "min_fl_1_3, max_fl_1_3 = df['pct_fl_1_3'].min(), df['pct_fl_1_3'].max()*0.2\n",
    "step_fl_1_3 = (max_fl_1_3 - min_fl_1_3)/steps_fl_1_3\n",
    "from_fl_1_3 = min_fl_1_3\n",
    "min_fl_1_3, max_fl_1_3, from_fl_1_3, step_fl_1_3 \n"
   ]
  },
  {
   "cell_type": "code",
   "execution_count": 201,
   "metadata": {},
   "outputs": [],
   "source": [
    "# epoch 初始化数据\n",
    "# col = ['pct_change',\n",
    "#     'diff', 'dea',\\\n",
    "#     'jx_days_ud60',\\\n",
    "#     'jx_dg_20', 'jx_dg_10', 'jx_dg_5',\\\n",
    "#     'jx_zs_5', 'jx_zs_10', 'jx_zs_20', \\\n",
    "#     'pct_fl_1_3', 'pct_fl_3_10', 'pct_fl_5_20', 'pct_fl_20_60', \\\n",
    "#     'sz_max_10' ]\n",
    "col = ['jx_dg_5','pct_fl_1_3','step', 'class', 'rate' ]\n",
    "def header():\n",
    "    print('- jx_days_ud60 > 20 and jx_days_ud60 < 40 ')\n",
    "    print('- jx_xl_60>-\"+str(xl_dgree)+\" and jx_xl_10>0 ')\n",
    "    print('- lj_fl_1_3 > 1.1 and lj_fl_3_10>1.05 ')\n",
    "    print('-'*50)\n",
    "    print('Loop: %8s,%8s, %8s,%8s'%('5日均线','5日均线','1-3日放量','1-3日放量'),'= %6s, %6s, %6s'%('数量','达成数','成功率%'))\n"
   ]
  },
  {
   "cell_type": "code",
   "execution_count": 202,
   "metadata": {},
   "outputs": [
    {
     "name": "stdout",
     "output_type": "stream",
     "text": [
      "- jx_days_ud60 > 20 and jx_days_ud60 < 40 \n",
      "- jx_xl_60>-\"+str(xl_dgree)+\" and jx_xl_10>0 \n",
      "- lj_fl_1_3 > 1.1 and lj_fl_3_10>1.05 \n",
      "--------------------------------------------------\n",
      "Loop:     5日均线,    5日均线,   1-3日放量,  1-3日放量 =     数量,    达成数,   成功率%\n",
      "0 0 :    -1.8567,    -1.4056,     1.1579,    13.2647 =    10828,        0,     0.00\n",
      "1 0 :    -1.4056,    -0.9545,     1.1579,    13.2647 =    10828,        6,     0.06\n",
      "2 0 :    -0.9545,    -0.5034,     1.1579,    13.2647 =    10828,       66,     0.61\n",
      "3 0 :    -0.5034,    -0.0523,     1.1579,    13.2647 =    10828,      465,     4.29\n",
      "4 0 :    -0.0523,     0.3988,     1.1579,    13.2647 =    10828,     2703,    24.96\n",
      "5 0 :     0.3988,     0.8499,     1.1579,    13.2647 =    10828,     2540,    23.46\n",
      "6 0 :     0.8499,     1.3011,     1.1579,    13.2647 =    10828,     1077,     9.95\n",
      "7 0 :     1.3011,     1.7522,     1.1579,    13.2647 =    10828,      391,     3.61\n",
      "8 0 :     1.7522,     2.2033,     1.1579,    13.2647 =    10828,      121,     1.12\n",
      "9 0 :     2.2033,     2.6544,     1.1579,    13.2647 =    10828,       42,     0.39\n",
      "10 0 :     2.6544,     3.1055,     1.1579,    13.2647 =    10828,       17,     0.16\n",
      "------------------------------------------------------------------------------------------\n",
      "                                                     =   119108,     7428,     6.24\n",
      "CPU times: total: 15.6 ms\n",
      "Wall time: 204 ms\n"
     ]
    },
    {
     "data": {
      "text/plain": [
       "(12, 5)"
      ]
     },
     "execution_count": 202,
     "metadata": {},
     "output_type": "execute_result"
    }
   ],
   "source": [
    "%%time\n",
    "# man[col] = 0.0\n",
    "man_data = {'jx_dg_5':0.0,\n",
    "            'pct_fl_1_3':0.0,\n",
    "            'step':0, 'class':0, 'rate':0.0    \n",
    "}\n",
    "man = pd.DataFrame(data=man_data, index=[0])\n",
    "header()\n",
    "all_step, all_class = 0, 0\n",
    "# 开始epoch\n",
    "cond_begin = df['sz_jt_10']>=3\n",
    "\n",
    "from_dg_5 = min_dg_5\n",
    "for i_dg_5 in range(steps_dg_5):\n",
    "    to_dg_5 = min_dg_5 + (i_dg_5+1)*step_dg_5\n",
    "    # 处理条件\n",
    "    cond_dg_5 = (df['jx_dg_5'] >= from_dg_5) & (df['jx_dg_5'] < to_dg_5 )\n",
    "    # cond_fl_1_3_class = ( cond_fl_1_3 ) & (cond_last)\n",
    "    cond_last = (cond_dg_5) & ( cond_begin )\n",
    "    \n",
    "    from_fl_1_3 = min_fl_1_3\n",
    "    for i_fl_1_3 in range(steps_fl_1_3):\n",
    "        to_fl_1_3 = min_fl_1_3 + (i_fl_1_3+1)*step_fl_1_3\n",
    "        # print('%.0f : , %.4f,  %.4f'%(i, from_fl_1_3, to_fl_1_3), end=' ' )\n",
    "        # 处理条件\n",
    "        cond_fl_1_3 = (df['pct_fl_1_3'] >= from_fl_1_3) & (df['pct_fl_1_3'] < to_fl_1_3 )\n",
    "        cond_fl_1_3_class = ( cond_fl_1_3 ) & (cond_last)\n",
    "        \n",
    "        # 开始计算   \n",
    "        sum_step_series  = df[ cond_fl_1_3 ]['sz_jt_10'].value_counts() \n",
    "        sum_class_series = df[ cond_fl_1_3_class ]['sz_jt_10'].value_counts() \n",
    "        # \n",
    "        sum_step = sum_step_series.iloc[0] if not sum_step_series.empty else 0\n",
    "        sum_class = sum_class_series.iloc[0] if not sum_class_series.empty else 0\n",
    "        sum_class_rate = 0 if sum_class==0 else sum_class*100/sum_step\n",
    "        print( i_dg_5, i_fl_1_3, ': %10.4f, %10.4f, %10.4f, %10.4f'%(from_dg_5, to_dg_5, from_fl_1_3, to_fl_1_3),\\\n",
    "            '= %8.0f, %8.0f, %8.2f'%(sum_step, sum_class, sum_class_rate) )\n",
    "        # 更新到man\n",
    "        all_step  = all_step + sum_step\n",
    "        # all_step  += sum_step\n",
    "        all_class += sum_class\n",
    "        man_list = [from_dg_5, from_fl_1_3, sum_step, sum_class, sum_class_rate]\n",
    "        man = pd.DataFrame(np.insert(man.values, len(man.index), values=man_list, axis=0))        \n",
    "        # new_data = {'rate': sum_class_rate,'jx_dg_5': from_dg_5, 'pct_fl_1_3': from_fl_1_3}\n",
    "        # man = man.append(new_data, ignore_index=True)\n",
    "\n",
    "        # 下一个loop\n",
    "        from_fl_1_3 += step_fl_1_3\n",
    "    # jx_dg_5下一个loop\n",
    "    from_dg_5 += step_dg_5\n",
    "    \n",
    "all_class_rate = all_class*100/all_step \n",
    "print( '-'*90)\n",
    "print( ' '*52, '= %8.0f, %8.0f, %8.2f'%(all_step, all_class, all_class_rate) )\n",
    "man.shape\n"
   ]
  },
  {
   "cell_type": "code",
   "execution_count": 203,
   "metadata": {},
   "outputs": [
    {
     "data": {
      "text/html": [
       "<div>\n",
       "<style scoped>\n",
       "    .dataframe tbody tr th:only-of-type {\n",
       "        vertical-align: middle;\n",
       "    }\n",
       "\n",
       "    .dataframe tbody tr th {\n",
       "        vertical-align: top;\n",
       "    }\n",
       "\n",
       "    .dataframe thead th {\n",
       "        text-align: right;\n",
       "    }\n",
       "</style>\n",
       "<table border=\"1\" class=\"dataframe\">\n",
       "  <thead>\n",
       "    <tr style=\"text-align: right;\">\n",
       "      <th></th>\n",
       "      <th>jx_dg_5</th>\n",
       "      <th>pct_fl_1_3</th>\n",
       "      <th>step</th>\n",
       "      <th>class</th>\n",
       "      <th>rate</th>\n",
       "    </tr>\n",
       "  </thead>\n",
       "  <tbody>\n",
       "    <tr>\n",
       "      <th>5</th>\n",
       "      <td>-0.052277</td>\n",
       "      <td>1.15793</td>\n",
       "      <td>10828.0</td>\n",
       "      <td>2703.0</td>\n",
       "      <td>24.963059</td>\n",
       "    </tr>\n",
       "    <tr>\n",
       "      <th>6</th>\n",
       "      <td>0.398836</td>\n",
       "      <td>1.15793</td>\n",
       "      <td>10828.0</td>\n",
       "      <td>2540.0</td>\n",
       "      <td>23.457702</td>\n",
       "    </tr>\n",
       "    <tr>\n",
       "      <th>7</th>\n",
       "      <td>0.849949</td>\n",
       "      <td>1.15793</td>\n",
       "      <td>10828.0</td>\n",
       "      <td>1077.0</td>\n",
       "      <td>9.946435</td>\n",
       "    </tr>\n",
       "    <tr>\n",
       "      <th>4</th>\n",
       "      <td>-0.503390</td>\n",
       "      <td>1.15793</td>\n",
       "      <td>10828.0</td>\n",
       "      <td>465.0</td>\n",
       "      <td>4.294422</td>\n",
       "    </tr>\n",
       "    <tr>\n",
       "      <th>8</th>\n",
       "      <td>1.301062</td>\n",
       "      <td>1.15793</td>\n",
       "      <td>10828.0</td>\n",
       "      <td>391.0</td>\n",
       "      <td>3.611008</td>\n",
       "    </tr>\n",
       "    <tr>\n",
       "      <th>9</th>\n",
       "      <td>1.752175</td>\n",
       "      <td>1.15793</td>\n",
       "      <td>10828.0</td>\n",
       "      <td>121.0</td>\n",
       "      <td>1.117473</td>\n",
       "    </tr>\n",
       "    <tr>\n",
       "      <th>3</th>\n",
       "      <td>-0.954504</td>\n",
       "      <td>1.15793</td>\n",
       "      <td>10828.0</td>\n",
       "      <td>66.0</td>\n",
       "      <td>0.609531</td>\n",
       "    </tr>\n",
       "    <tr>\n",
       "      <th>10</th>\n",
       "      <td>2.203289</td>\n",
       "      <td>1.15793</td>\n",
       "      <td>10828.0</td>\n",
       "      <td>42.0</td>\n",
       "      <td>0.387883</td>\n",
       "    </tr>\n",
       "    <tr>\n",
       "      <th>11</th>\n",
       "      <td>2.654402</td>\n",
       "      <td>1.15793</td>\n",
       "      <td>10828.0</td>\n",
       "      <td>17.0</td>\n",
       "      <td>0.157000</td>\n",
       "    </tr>\n",
       "    <tr>\n",
       "      <th>2</th>\n",
       "      <td>-1.405617</td>\n",
       "      <td>1.15793</td>\n",
       "      <td>10828.0</td>\n",
       "      <td>6.0</td>\n",
       "      <td>0.055412</td>\n",
       "    </tr>\n",
       "    <tr>\n",
       "      <th>0</th>\n",
       "      <td>0.000000</td>\n",
       "      <td>0.00000</td>\n",
       "      <td>0.0</td>\n",
       "      <td>0.0</td>\n",
       "      <td>0.000000</td>\n",
       "    </tr>\n",
       "    <tr>\n",
       "      <th>1</th>\n",
       "      <td>-1.856730</td>\n",
       "      <td>1.15793</td>\n",
       "      <td>10828.0</td>\n",
       "      <td>0.0</td>\n",
       "      <td>0.000000</td>\n",
       "    </tr>\n",
       "  </tbody>\n",
       "</table>\n",
       "</div>"
      ],
      "text/plain": [
       "     jx_dg_5  pct_fl_1_3     step   class       rate\n",
       "5  -0.052277     1.15793  10828.0  2703.0  24.963059\n",
       "6   0.398836     1.15793  10828.0  2540.0  23.457702\n",
       "7   0.849949     1.15793  10828.0  1077.0   9.946435\n",
       "4  -0.503390     1.15793  10828.0   465.0   4.294422\n",
       "8   1.301062     1.15793  10828.0   391.0   3.611008\n",
       "9   1.752175     1.15793  10828.0   121.0   1.117473\n",
       "3  -0.954504     1.15793  10828.0    66.0   0.609531\n",
       "10  2.203289     1.15793  10828.0    42.0   0.387883\n",
       "11  2.654402     1.15793  10828.0    17.0   0.157000\n",
       "2  -1.405617     1.15793  10828.0     6.0   0.055412\n",
       "0   0.000000     0.00000      0.0     0.0   0.000000\n",
       "1  -1.856730     1.15793  10828.0     0.0   0.000000"
      ]
     },
     "execution_count": 203,
     "metadata": {},
     "output_type": "execute_result"
    }
   ],
   "source": [
    "pd.set_option('display.max_rows', None)\n",
    "man.columns = col\n",
    "# man.sort_index(ascending=True)\n",
    "# man.set_index('rate', drop=False)\n",
    "sorting = man.sort_values('rate', ascending=False)\n",
    "sorting"
   ]
  },
  {
   "cell_type": "code",
   "execution_count": 204,
   "metadata": {},
   "outputs": [
    {
     "data": {
      "text/plain": [
       "'----------'"
      ]
     },
     "execution_count": 204,
     "metadata": {},
     "output_type": "execute_result"
    }
   ],
   "source": [
    "'-'*10"
   ]
  },
  {
   "cell_type": "code",
   "execution_count": 205,
   "metadata": {},
   "outputs": [],
   "source": [
    "# man"
   ]
  },
  {
   "cell_type": "code",
   "execution_count": null,
   "metadata": {},
   "outputs": [],
   "source": []
  }
 ],
 "metadata": {
  "interpreter": {
   "hash": "c964a6907b2774297a48b44694a21488b5d674bf6da9bcac704f7b1c134d78ee"
  },
  "kernelspec": {
   "display_name": "Python 3.9.7 ('base')",
   "language": "python",
   "name": "python3"
  },
  "language_info": {
   "codemirror_mode": {
    "name": "ipython",
    "version": 3
   },
   "file_extension": ".py",
   "mimetype": "text/x-python",
   "name": "python",
   "nbconvert_exporter": "python",
   "pygments_lexer": "ipython3",
   "version": "3.10.11"
  },
  "toc-autonumbering": false,
  "widgets": {
   "application/vnd.jupyter.widget-state+json": {
    "state": {},
    "version_major": 2,
    "version_minor": 0
   }
  }
 },
 "nbformat": 4,
 "nbformat_minor": 4
}
