{
 "cells": [
  {
   "cell_type": "code",
   "execution_count": 192,
   "metadata": {
    "tags": []
   },
   "outputs": [],
   "source": [
    "%matplotlib widget\n",
    "import numpy as np\n",
    "import pandas as pd\n",
    "import random \n",
    "# import talib as ta\n",
    "import math\n",
    "# from numba import jit\n",
    "\n",
    "from importlib import reload \n",
    "from qflib import basic\n",
    "reload(basic)\n",
    "global engine, conn\n",
    "engine = basic.engine()\n",
    "conn = basic.conn(engine)"
   ]
  },
  {
   "cell_type": "markdown",
   "metadata": {},
   "source": [
    "分析10天上涨超过8的机会, 在何时出现\n",
    "- sz_jt_10： 0,1,2,3： 0, 0-3，3-8, 8-...  \n",
    "sql \n",
    "- \"SELECT * from day_zhibiao where \n",
    "- jx_days_ud60 > 20 and jx_days_ud60 < 40 and \\\n",
    "- jx_xl_60>-\"+str(xl_dgree)+\" and jx_xl_10>0 and \\\n",
    "- lj_fl_1_3 > 1.1 and lj_fl_3_10>1.05 \""
   ]
  },
  {
   "cell_type": "code",
   "execution_count": 193,
   "metadata": {},
   "outputs": [
    {
     "name": "stdout",
     "output_type": "stream",
     "text": [
      "SELECT * from ds_qf60\n"
     ]
    },
    {
     "data": {
      "text/plain": [
       "(35170, 47)"
      ]
     },
     "execution_count": 193,
     "metadata": {},
     "output_type": "execute_result"
    }
   ],
   "source": [
    "sql = \"SELECT * \\\n",
    "from ds_qf60\"\n",
    "print(sql)\n",
    "df = pd.read_sql_query(sql, conn, index_col=None)\n",
    "\n",
    "df.shape"
   ]
  },
  {
   "cell_type": "code",
   "execution_count": 194,
   "metadata": {},
   "outputs": [],
   "source": [
    "# df.info()"
   ]
  },
  {
   "cell_type": "code",
   "execution_count": 195,
   "metadata": {},
   "outputs": [
    {
     "data": {
      "text/html": [
       "<div>\n",
       "<style scoped>\n",
       "    .dataframe tbody tr th:only-of-type {\n",
       "        vertical-align: middle;\n",
       "    }\n",
       "\n",
       "    .dataframe tbody tr th {\n",
       "        vertical-align: top;\n",
       "    }\n",
       "\n",
       "    .dataframe thead th {\n",
       "        text-align: right;\n",
       "    }\n",
       "</style>\n",
       "<table border=\"1\" class=\"dataframe\">\n",
       "  <thead>\n",
       "    <tr style=\"text-align: right;\">\n",
       "      <th></th>\n",
       "      <th>symbol</th>\n",
       "      <th>trade_date</th>\n",
       "      <th>pct_change</th>\n",
       "      <th>diff</th>\n",
       "      <th>dea</th>\n",
       "      <th>bar</th>\n",
       "      <th>jx_days_ud60</th>\n",
       "      <th>jx_dg_120</th>\n",
       "      <th>jx_dg_60</th>\n",
       "      <th>jx_dg_20</th>\n",
       "      <th>...</th>\n",
       "      <th>jx_zs_60</th>\n",
       "      <th>pct_fl_1_3</th>\n",
       "      <th>pct_fl_3_10</th>\n",
       "      <th>pct_fl_5_20</th>\n",
       "      <th>pct_fl_20_60</th>\n",
       "      <th>sz_max_5</th>\n",
       "      <th>sz_max_10</th>\n",
       "      <th>sz_max_20</th>\n",
       "      <th>sz_jt_10</th>\n",
       "      <th>class0</th>\n",
       "    </tr>\n",
       "  </thead>\n",
       "  <tbody>\n",
       "    <tr>\n",
       "      <th>35169</th>\n",
       "      <td>689009</td>\n",
       "      <td>2021-04-19</td>\n",
       "      <td>3.04</td>\n",
       "      <td>-0.461137</td>\n",
       "      <td>-1.14476</td>\n",
       "      <td>1.36724</td>\n",
       "      <td>39</td>\n",
       "      <td>0.0</td>\n",
       "      <td>-0.143429</td>\n",
       "      <td>0.522034</td>\n",
       "      <td>...</td>\n",
       "      <td>0</td>\n",
       "      <td>1.30432</td>\n",
       "      <td>1.13952</td>\n",
       "      <td>0.745176</td>\n",
       "      <td>0.524615</td>\n",
       "      <td>0.379001</td>\n",
       "      <td>4.43571</td>\n",
       "      <td>4.43571</td>\n",
       "      <td>2.0</td>\n",
       "      <td>2</td>\n",
       "    </tr>\n",
       "  </tbody>\n",
       "</table>\n",
       "<p>1 rows × 25 columns</p>\n",
       "</div>"
      ],
      "text/plain": [
       "       symbol  trade_date  pct_change      diff      dea      bar  \\\n",
       "35169  689009  2021-04-19        3.04 -0.461137 -1.14476  1.36724   \n",
       "\n",
       "       jx_days_ud60  jx_dg_120  jx_dg_60  jx_dg_20  ...  jx_zs_60  pct_fl_1_3  \\\n",
       "35169            39        0.0 -0.143429  0.522034  ...         0     1.30432   \n",
       "\n",
       "       pct_fl_3_10  pct_fl_5_20  pct_fl_20_60  sz_max_5  sz_max_10  sz_max_20  \\\n",
       "35169      1.13952     0.745176      0.524615  0.379001    4.43571    4.43571   \n",
       "\n",
       "       sz_jt_10  class0  \n",
       "35169       2.0       2  \n",
       "\n",
       "[1 rows x 25 columns]"
      ]
     },
     "execution_count": 195,
     "metadata": {},
     "output_type": "execute_result"
    }
   ],
   "source": [
    "col_list_ds = ['symbol', 'trade_date', 'pct_change',  \\\n",
    "    'diff', 'dea', 'bar',\\\n",
    "    'jx_days_ud60',\\\n",
    "    'jx_dg_120', 'jx_dg_60', 'jx_dg_20', 'jx_dg_10', 'jx_dg_5',\\\n",
    "    'jx_zs_5', 'jx_zs_10', 'jx_zs_20', 'jx_zs_60', \\\n",
    "    'pct_fl_1_3', 'pct_fl_3_10', 'pct_fl_5_20', 'pct_fl_20_60', \\\n",
    "    'sz_max_5','sz_max_10','sz_max_20',\n",
    "    'sz_jt_10','class0' ]\n",
    "df.tail(1)[col_list_ds]"
   ]
  },
  {
   "cell_type": "code",
   "execution_count": 196,
   "metadata": {},
   "outputs": [
    {
     "data": {
      "text/plain": [
       "(2.0    10830\n",
       " 1.0    10013\n",
       " 3.0     7440\n",
       " 0.0     6887\n",
       " Name: sz_jt_10, dtype: int64,\n",
       " 2.0    0.307933\n",
       " 1.0    0.284703\n",
       " 3.0    0.211544\n",
       " 0.0    0.195820\n",
       " Name: sz_jt_10, dtype: float64)"
      ]
     },
     "execution_count": 196,
     "metadata": {},
     "output_type": "execute_result"
    }
   ],
   "source": [
    "df['sz_jt_10'].value_counts(), df['sz_jt_10'].value_counts()/len(df)"
   ]
  },
  {
   "cell_type": "code",
   "execution_count": 197,
   "metadata": {},
   "outputs": [],
   "source": [
    "# 开发测试：条件取数\n",
    "# num = len(df)\n",
    "\n",
    "# cond2a = df['sz_jt_10']>=2\n",
    "# df[ cond2a ]['sz_jt_10'].value_counts()\n",
    "\n",
    "# cond2b = df['sz_jt_10']>1 \n",
    "# cond2c = df['sz_jt_10']<=2\n",
    "# cond2bc2 = ( cond2b & cond2c )\n",
    "# df[ cond2bc2 ]['sz_jt_10'].value_counts()"
   ]
  },
  {
   "cell_type": "code",
   "execution_count": 275,
   "metadata": {},
   "outputs": [],
   "source": [
    "steps = 5\n",
    "steps_dg_5, steps_dg_10 = 3,6\n",
    "steps_fl_1_3, steps_fl_3_10  = 1, 1"
   ]
  },
  {
   "cell_type": "code",
   "execution_count": 276,
   "metadata": {},
   "outputs": [],
   "source": [
    "# jx_dg_5 & 10 预处理\n",
    "min_dg_10, max_dg_10 = df['jx_dg_10'].min(), df['jx_dg_10'].max()\n",
    "step_dg_10 = (max_dg_10 - min_dg_10)/steps_dg_10\n",
    "\n",
    "min_dg_5, max_dg_5 = df['jx_dg_5'].min(), df['jx_dg_5'].max()\n",
    "step_dg_5 = (max_dg_5 - min_dg_5)/steps_dg_5\n",
    "\n",
    "\n",
    "# fl_1_3 预处理\n",
    "min_fl_1_3, max_fl_1_3 = df['pct_fl_1_3'].min(), df['pct_fl_1_3'].max()\n",
    "step_fl_1_3 = (max_fl_1_3 - min_fl_1_3)/steps_fl_1_3\n",
    "\n"
   ]
  },
  {
   "cell_type": "code",
   "execution_count": 277,
   "metadata": {},
   "outputs": [],
   "source": [
    "# epoch 初始化数据\n",
    "# col = ['pct_change',\n",
    "#     'diff', 'dea',\\\n",
    "#     'jx_days_ud60',\\\n",
    "#     'jx_dg_20', 'jx_dg_10', 'jx_dg_5',\\\n",
    "#     'jx_zs_5', 'jx_zs_10', 'jx_zs_20', \\\n",
    "#     'pct_fl_1_3', 'pct_fl_3_10', 'pct_fl_5_20', 'pct_fl_20_60', \\\n",
    "#     'sz_max_10' ]\n",
    "col = ['jx_dg_5','pct_fl_1_3','step', 'class', 'rate' ]\n",
    "\n",
    "def print_header():\n",
    "    print('- jx_days_ud60 > 20 and jx_days_ud60 < 40 ')\n",
    "    print('- jx_xl_60>-\"+str(xl_dgree)+\" and jx_xl_10>0 ')\n",
    "    print('- pct_fl_1_3 > 1.1579 and pct_fl_3_10>1.0730 ')\n",
    "    print('-'*50)\n",
    "    print('Loop      :%7s,%7s,%7s, %7s,%7s,%7s'%('10均fm','10线to','5均fm','5线to','1-3放','1-3量'),' = %5s,%6s,%5s'%('数量','达成','成功%'))\n"
   ]
  },
  {
   "cell_type": "code",
   "execution_count": 289,
   "metadata": {},
   "outputs": [
    {
     "name": "stdout",
     "output_type": "stream",
     "text": [
      "- jx_days_ud60 > 20 and jx_days_ud60 < 40 \n",
      "- jx_xl_60>-\"+str(xl_dgree)+\" and jx_xl_10>0 \n",
      "- pct_fl_1_3 > 1.1579 and pct_fl_3_10>1.0730 \n",
      "--------------------------------------------------\n",
      "Loop      :  10均fm,  10线to,   5均fm,    5线to,   1-3放,   1-3量  =    数量,    达成,  成功%\n",
      " 0  0  0  :  0.0000,  0.4533, -1.8567,  0.8325,  1.1579, 66.3237  =    8341,   5054,  60.59\n",
      " 0  1  0  :  0.0000,  0.4533,  0.8325,  3.5218,  1.1579, 66.3237  =       0,      0,   0.00\n",
      " 0  2  0  :  0.0000,  0.4533,  3.5218,  6.2110,  1.1579, 66.3237  =       0,      0,   0.00\n",
      " 1  0  0  :  0.4533,  0.9067, -1.8567,  0.8325,  1.1579, 66.3237  =     800,    642,  80.25\n",
      " 1  1  0  :  0.4533,  0.9067,  0.8325,  3.5218,  1.1579, 66.3237  =       0,      0,   0.00\n",
      " 1  2  0  :  0.4533,  0.9067,  3.5218,  6.2110,  1.1579, 66.3237  =       0,      0,   0.00\n",
      " 2  0  0  :  0.9067,  1.3600, -1.8567,  0.8325,  1.1579, 66.3237  =      20,     20, 100.00\n",
      " 2  1  0  :  0.9067,  1.3600,  0.8325,  3.5218,  1.1579, 66.3237  =       0,      0,   0.00\n",
      " 2  2  0  :  0.9067,  1.3600,  3.5218,  6.2110,  1.1579, 66.3237  =       0,      0,   0.00\n",
      " 3  0  0  :  1.3600,  1.8133, -1.8567,  0.8325,  1.1579, 66.3237  =       1,      1, 100.00\n",
      " 3  1  0  :  1.3600,  1.8133,  0.8325,  3.5218,  1.1579, 66.3237  =       0,      0,   0.00\n",
      " 3  2  0  :  1.3600,  1.8133,  3.5218,  6.2110,  1.1579, 66.3237  =       0,      0,   0.00\n",
      "------------------------------------------------------------------------------------------\n",
      "                                                                  =    9162,    5717, 62.40\n",
      "CPU times: total: 15.6 ms\n",
      "Wall time: 39 ms\n"
     ]
    },
    {
     "data": {
      "text/plain": [
       "(13, 5)"
      ]
     },
     "execution_count": 289,
     "metadata": {},
     "output_type": "execute_result"
    }
   ],
   "source": [
    "%%time\n",
    "# man[col] = 0.0\n",
    "man_data = {'jx_dg_5':0.0,\n",
    "            'pct_fl_1_3':0.0,\n",
    "            'step':0, 'class':0, 'rate':0.0    \n",
    "}\n",
    "man = pd.DataFrame(data=man_data, index=[0])\n",
    "print_header()\n",
    "all_step, all_class = 0, 0\n",
    "# 开始epoch\n",
    "\n",
    "cond_jt_10_3 = df['sz_jt_10']>=3\n",
    "# cond_last = cond_begin\n",
    "\n",
    "from_dg_10 = min_dg_10\n",
    "for i_dg_10 in range(steps_dg_10-2):\n",
    "    to_dg_10 = min_dg_10 + (i_dg_10+1)*step_dg_10\n",
    "    # 生成条件\n",
    "    cond_dg_10 = (df['jx_dg_10'] >= from_dg_10) & (df['jx_dg_10'] < to_dg_10 )\n",
    "    # cond_last = (cond_dg_10) & ( cond_last )\n",
    "    cond_last = (cond_dg_10) \n",
    "\n",
    "    from_dg_5 = min_dg_5\n",
    "    for i_dg_5 in range(steps_dg_5):\n",
    "        to_dg_5 = min_dg_5 + (i_dg_5+1)*step_dg_5\n",
    "        # 生成条件\n",
    "        cond_dg_5 = (df['jx_dg_5'] >= from_dg_5) & (df['jx_dg_5'] < to_dg_5 )\n",
    "        cond_last = (cond_dg_5) & ( cond_last )\n",
    "        \n",
    "        from_fl_1_3 = min_fl_1_3\n",
    "        for i_fl_1_3 in range(steps_fl_1_3):\n",
    "            to_fl_1_3 = min_fl_1_3 + (i_fl_1_3+1)*step_fl_1_3\n",
    "            # print('%.0f : , %.4f,  %.4f'%(i, from_fl_1_3, to_fl_1_3), end=' ' )\n",
    "            # 生成条件\n",
    "            cond_fl_1_3 = (df['pct_fl_1_3'] >= from_fl_1_3) & (df['pct_fl_1_3'] < to_fl_1_3 )\n",
    "            cond_last = ( cond_fl_1_3 ) & (cond_last)\n",
    "            cond_purpose = ( cond_last ) & (cond_jt_10_3)\n",
    "\n",
    "            # 核心运算               \n",
    "            num_step_series  = df[ cond_last ]['sz_jt_10'].value_counts() \n",
    "            num_class_series = df[ cond_purpose ]['sz_jt_10'].value_counts() \n",
    "            num_step = num_step_series.iloc[0] if not num_step_series.empty else 0\n",
    "            num_class = num_class_series.iloc[0] if not num_class_series.empty else 0\n",
    "            num_class_rate = 0 if num_class==0 else num_class*100/num_step\n",
    "            print( '%2d %2d %2d '%(i_dg_10, i_dg_5, i_fl_1_3), \\\n",
    "                ':%8.4f,%8.4f,%8.4f,%8.4f,%8.4f,%8.4f'%(from_dg_10, to_dg_10, from_dg_5, to_dg_5, from_fl_1_3, to_fl_1_3),\\\n",
    "                ' = %7.0f,%7.0f,%7.2f'%(num_step, num_class, num_class_rate) )\n",
    "            # 更新到man\n",
    "            all_step  += num_step  ; all_class += num_class\n",
    "            man_list = [from_dg_5, from_fl_1_3, num_step, num_class, num_class_rate]\n",
    "            man = pd.DataFrame(np.insert(man.values, len(man.index), values=man_list, axis=0))        \n",
    "\n",
    "            # 下一个 fl_1_3 loop\n",
    "            from_fl_1_3 += step_fl_1_3\n",
    "        # jx_dg_5下一个loop\n",
    "        from_dg_5 += step_dg_5\n",
    "    # jx_dg_5下一个loop\n",
    "    from_dg_10 += step_dg_10\n",
    "    \n",
    "all_class_rate = all_class*100/all_step \n",
    "print( '-'*90)\n",
    "print( ' '*65, '= %7.0f, %7.0f, %5.2f'%(all_step, all_class, all_class_rate) )\n",
    "man.shape\n"
   ]
  },
  {
   "cell_type": "code",
   "execution_count": 279,
   "metadata": {},
   "outputs": [
    {
     "data": {
      "text/plain": [
       "3.0    7440\n",
       "Name: sz_jt_10, dtype: int64"
      ]
     },
     "execution_count": 279,
     "metadata": {},
     "output_type": "execute_result"
    }
   ],
   "source": [
    "# 数据核对 - 1\n",
    "df[  (df['sz_jt_10']>=3) ]['sz_jt_10'].value_counts()"
   ]
  },
  {
   "cell_type": "code",
   "execution_count": 280,
   "metadata": {},
   "outputs": [
    {
     "data": {
      "text/plain": [
       "3.0    5943\n",
       "Name: sz_jt_10, dtype: int64"
      ]
     },
     "execution_count": 280,
     "metadata": {},
     "output_type": "execute_result"
    }
   ],
   "source": [
    "df[ (df['jx_dg_10']>=0) & (df['jx_dg_10']<0.4533) & (df['sz_jt_10']>=3) ]['sz_jt_10'].value_counts()\n"
   ]
  },
  {
   "cell_type": "code",
   "execution_count": 281,
   "metadata": {},
   "outputs": [
    {
     "data": {
      "text/plain": [
       "3.0    1497\n",
       "Name: sz_jt_10, dtype: int64"
      ]
     },
     "execution_count": 281,
     "metadata": {},
     "output_type": "execute_result"
    }
   ],
   "source": [
    "df[ (df['jx_dg_10']>=0.4533) & (df['jx_dg_10']<2.7200) & (df['sz_jt_10']>=3) ]['sz_jt_10'].value_counts()"
   ]
  },
  {
   "cell_type": "code",
   "execution_count": 282,
   "metadata": {},
   "outputs": [
    {
     "data": {
      "text/plain": [
       "3.0    1497\n",
       "Name: sz_jt_10, dtype: int64"
      ]
     },
     "execution_count": 282,
     "metadata": {},
     "output_type": "execute_result"
    }
   ],
   "source": [
    "df[ (df['jx_dg_10']>=0.4533) & (df['jx_dg_10']<2.7200) &\\\n",
    "    (df['jx_dg_5']>=-1.8567) & (df['jx_dg_5']<6.2110) &\n",
    "    (df['sz_jt_10']>=3) ]['sz_jt_10'].value_counts()\n"
   ]
  },
  {
   "cell_type": "code",
   "execution_count": 283,
   "metadata": {},
   "outputs": [
    {
     "data": {
      "text/plain": [
       "3.0    1496\n",
       "Name: sz_jt_10, dtype: int64"
      ]
     },
     "execution_count": 283,
     "metadata": {},
     "output_type": "execute_result"
    }
   ],
   "source": [
    "df[ (df['jx_dg_10']>=0.4533) & (df['jx_dg_10']<2.7200) &\\\n",
    "    (df['jx_dg_5']>=-1.8567) & (df['jx_dg_5']<6.2110) &\n",
    "    (df['pct_fl_1_3']>=1.1579) & (df['pct_fl_1_3']<66.3237) &\n",
    "    (df['sz_jt_10']>=3) ]['sz_jt_10'].value_counts()"
   ]
  },
  {
   "cell_type": "code",
   "execution_count": 284,
   "metadata": {},
   "outputs": [
    {
     "data": {
      "text/html": [
       "<div>\n",
       "<style scoped>\n",
       "    .dataframe tbody tr th:only-of-type {\n",
       "        vertical-align: middle;\n",
       "    }\n",
       "\n",
       "    .dataframe tbody tr th {\n",
       "        vertical-align: top;\n",
       "    }\n",
       "\n",
       "    .dataframe thead th {\n",
       "        text-align: right;\n",
       "    }\n",
       "</style>\n",
       "<table border=\"1\" class=\"dataframe\">\n",
       "  <thead>\n",
       "    <tr style=\"text-align: right;\">\n",
       "      <th></th>\n",
       "      <th>jx_dg_5</th>\n",
       "      <th>pct_fl_1_3</th>\n",
       "      <th>step</th>\n",
       "      <th>class</th>\n",
       "      <th>rate</th>\n",
       "    </tr>\n",
       "  </thead>\n",
       "  <tbody>\n",
       "    <tr>\n",
       "      <th>7</th>\n",
       "      <td>-1.856730</td>\n",
       "      <td>1.15793</td>\n",
       "      <td>20.0</td>\n",
       "      <td>20.0</td>\n",
       "      <td>100.000000</td>\n",
       "    </tr>\n",
       "    <tr>\n",
       "      <th>10</th>\n",
       "      <td>-1.856730</td>\n",
       "      <td>1.15793</td>\n",
       "      <td>1.0</td>\n",
       "      <td>1.0</td>\n",
       "      <td>100.000000</td>\n",
       "    </tr>\n",
       "    <tr>\n",
       "      <th>4</th>\n",
       "      <td>-1.856730</td>\n",
       "      <td>1.15793</td>\n",
       "      <td>800.0</td>\n",
       "      <td>642.0</td>\n",
       "      <td>80.250000</td>\n",
       "    </tr>\n",
       "    <tr>\n",
       "      <th>1</th>\n",
       "      <td>-1.856730</td>\n",
       "      <td>1.15793</td>\n",
       "      <td>8341.0</td>\n",
       "      <td>5054.0</td>\n",
       "      <td>60.592255</td>\n",
       "    </tr>\n",
       "    <tr>\n",
       "      <th>0</th>\n",
       "      <td>0.000000</td>\n",
       "      <td>0.00000</td>\n",
       "      <td>0.0</td>\n",
       "      <td>0.0</td>\n",
       "      <td>0.000000</td>\n",
       "    </tr>\n",
       "    <tr>\n",
       "      <th>2</th>\n",
       "      <td>0.832523</td>\n",
       "      <td>1.15793</td>\n",
       "      <td>0.0</td>\n",
       "      <td>0.0</td>\n",
       "      <td>0.000000</td>\n",
       "    </tr>\n",
       "    <tr>\n",
       "      <th>3</th>\n",
       "      <td>3.521777</td>\n",
       "      <td>1.15793</td>\n",
       "      <td>0.0</td>\n",
       "      <td>0.0</td>\n",
       "      <td>0.000000</td>\n",
       "    </tr>\n",
       "    <tr>\n",
       "      <th>5</th>\n",
       "      <td>0.832523</td>\n",
       "      <td>1.15793</td>\n",
       "      <td>0.0</td>\n",
       "      <td>0.0</td>\n",
       "      <td>0.000000</td>\n",
       "    </tr>\n",
       "    <tr>\n",
       "      <th>6</th>\n",
       "      <td>3.521777</td>\n",
       "      <td>1.15793</td>\n",
       "      <td>0.0</td>\n",
       "      <td>0.0</td>\n",
       "      <td>0.000000</td>\n",
       "    </tr>\n",
       "    <tr>\n",
       "      <th>8</th>\n",
       "      <td>0.832523</td>\n",
       "      <td>1.15793</td>\n",
       "      <td>0.0</td>\n",
       "      <td>0.0</td>\n",
       "      <td>0.000000</td>\n",
       "    </tr>\n",
       "    <tr>\n",
       "      <th>9</th>\n",
       "      <td>3.521777</td>\n",
       "      <td>1.15793</td>\n",
       "      <td>0.0</td>\n",
       "      <td>0.0</td>\n",
       "      <td>0.000000</td>\n",
       "    </tr>\n",
       "    <tr>\n",
       "      <th>11</th>\n",
       "      <td>0.832523</td>\n",
       "      <td>1.15793</td>\n",
       "      <td>0.0</td>\n",
       "      <td>0.0</td>\n",
       "      <td>0.000000</td>\n",
       "    </tr>\n",
       "    <tr>\n",
       "      <th>12</th>\n",
       "      <td>3.521777</td>\n",
       "      <td>1.15793</td>\n",
       "      <td>0.0</td>\n",
       "      <td>0.0</td>\n",
       "      <td>0.000000</td>\n",
       "    </tr>\n",
       "  </tbody>\n",
       "</table>\n",
       "</div>"
      ],
      "text/plain": [
       "     jx_dg_5  pct_fl_1_3    step   class        rate\n",
       "7  -1.856730     1.15793    20.0    20.0  100.000000\n",
       "10 -1.856730     1.15793     1.0     1.0  100.000000\n",
       "4  -1.856730     1.15793   800.0   642.0   80.250000\n",
       "1  -1.856730     1.15793  8341.0  5054.0   60.592255\n",
       "0   0.000000     0.00000     0.0     0.0    0.000000\n",
       "2   0.832523     1.15793     0.0     0.0    0.000000\n",
       "3   3.521777     1.15793     0.0     0.0    0.000000\n",
       "5   0.832523     1.15793     0.0     0.0    0.000000\n",
       "6   3.521777     1.15793     0.0     0.0    0.000000\n",
       "8   0.832523     1.15793     0.0     0.0    0.000000\n",
       "9   3.521777     1.15793     0.0     0.0    0.000000\n",
       "11  0.832523     1.15793     0.0     0.0    0.000000\n",
       "12  3.521777     1.15793     0.0     0.0    0.000000"
      ]
     },
     "execution_count": 284,
     "metadata": {},
     "output_type": "execute_result"
    }
   ],
   "source": [
    "pd.set_option('display.max_rows', None)\n",
    "man.columns = col\n",
    "# man.sort_index(ascending=True)\n",
    "# man.set_index('rate', drop=False)\n",
    "sorting = man.sort_values('rate', ascending=False)\n",
    "sorting"
   ]
  },
  {
   "cell_type": "code",
   "execution_count": 285,
   "metadata": {},
   "outputs": [
    {
     "data": {
      "text/plain": [
       "False    35170\n",
       "dtype: int64"
      ]
     },
     "execution_count": 285,
     "metadata": {},
     "output_type": "execute_result"
    }
   ],
   "source": [
    "cond_fl_1_3_class.value_counts()"
   ]
  },
  {
   "cell_type": "code",
   "execution_count": 286,
   "metadata": {},
   "outputs": [],
   "source": [
    "# man"
   ]
  },
  {
   "cell_type": "code",
   "execution_count": null,
   "metadata": {},
   "outputs": [],
   "source": []
  }
 ],
 "metadata": {
  "interpreter": {
   "hash": "c964a6907b2774297a48b44694a21488b5d674bf6da9bcac704f7b1c134d78ee"
  },
  "kernelspec": {
   "display_name": "Python 3.9.7 ('base')",
   "language": "python",
   "name": "python3"
  },
  "language_info": {
   "codemirror_mode": {
    "name": "ipython",
    "version": 3
   },
   "file_extension": ".py",
   "mimetype": "text/x-python",
   "name": "python",
   "nbconvert_exporter": "python",
   "pygments_lexer": "ipython3",
   "version": "3.10.11"
  },
  "toc-autonumbering": false,
  "widgets": {
   "application/vnd.jupyter.widget-state+json": {
    "state": {},
    "version_major": 2,
    "version_minor": 0
   }
  }
 },
 "nbformat": 4,
 "nbformat_minor": 4
}
