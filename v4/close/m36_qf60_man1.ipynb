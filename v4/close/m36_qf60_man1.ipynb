{
 "cells": [
  {
   "cell_type": "code",
   "execution_count": 2,
   "metadata": {
    "tags": []
   },
   "outputs": [],
   "source": [
    "%matplotlib widget\n",
    "import numpy as np\n",
    "import pandas as pd\n",
    "import random \n",
    "# import talib as ta\n",
    "import math\n",
    "# from numba import jit\n",
    "\n",
    "from importlib import reload \n",
    "from qflib import basic\n",
    "reload(basic)\n",
    "global engine, conn\n",
    "engine = basic.engine()\n",
    "conn = basic.conn(engine)"
   ]
  },
  {
   "cell_type": "code",
   "execution_count": 226,
   "metadata": {},
   "outputs": [
    {
     "name": "stdout",
     "output_type": "stream",
     "text": [
      "SELECT * from ds_qf60\n"
     ]
    },
    {
     "data": {
      "text/plain": [
       "(35170, 46)"
      ]
     },
     "execution_count": 226,
     "metadata": {},
     "output_type": "execute_result"
    }
   ],
   "source": [
    "sql = \"SELECT * \\\n",
    "from ds_qf60\"\n",
    "print(sql)\n",
    "df = pd.read_sql_query(sql, conn, index_col=None)\n",
    "\n",
    "df.shape"
   ]
  },
  {
   "cell_type": "code",
   "execution_count": 227,
   "metadata": {},
   "outputs": [],
   "source": [
    "# df.info()"
   ]
  },
  {
   "cell_type": "code",
   "execution_count": 199,
   "metadata": {},
   "outputs": [
    {
     "data": {
      "text/html": [
       "<div>\n",
       "<style scoped>\n",
       "    .dataframe tbody tr th:only-of-type {\n",
       "        vertical-align: middle;\n",
       "    }\n",
       "\n",
       "    .dataframe tbody tr th {\n",
       "        vertical-align: top;\n",
       "    }\n",
       "\n",
       "    .dataframe thead th {\n",
       "        text-align: right;\n",
       "    }\n",
       "</style>\n",
       "<table border=\"1\" class=\"dataframe\">\n",
       "  <thead>\n",
       "    <tr style=\"text-align: right;\">\n",
       "      <th></th>\n",
       "      <th>symbol</th>\n",
       "      <th>trade_date</th>\n",
       "      <th>pct_change</th>\n",
       "      <th>diff</th>\n",
       "      <th>dea</th>\n",
       "      <th>bar</th>\n",
       "      <th>jx_days_ud60</th>\n",
       "      <th>jx_dg_120</th>\n",
       "      <th>jx_dg_60</th>\n",
       "      <th>jx_dg_20</th>\n",
       "      <th>...</th>\n",
       "      <th>jx_zs_60</th>\n",
       "      <th>pct_fl_1_3</th>\n",
       "      <th>pct_fl_3_10</th>\n",
       "      <th>pct_fl_5_20</th>\n",
       "      <th>pct_fl_20_60</th>\n",
       "      <th>sz_max_5</th>\n",
       "      <th>sz_max_10</th>\n",
       "      <th>sz_max_20</th>\n",
       "      <th>sz_jt_10</th>\n",
       "      <th>class0</th>\n",
       "    </tr>\n",
       "  </thead>\n",
       "  <tbody>\n",
       "    <tr>\n",
       "      <th>35169</th>\n",
       "      <td>689009</td>\n",
       "      <td>2021-04-19</td>\n",
       "      <td>3.04</td>\n",
       "      <td>-0.461137</td>\n",
       "      <td>-1.14476</td>\n",
       "      <td>1.36724</td>\n",
       "      <td>39</td>\n",
       "      <td>0.0</td>\n",
       "      <td>-0.143429</td>\n",
       "      <td>0.522034</td>\n",
       "      <td>...</td>\n",
       "      <td>0</td>\n",
       "      <td>1.30432</td>\n",
       "      <td>1.13952</td>\n",
       "      <td>0.745176</td>\n",
       "      <td>0.524615</td>\n",
       "      <td>0.379001</td>\n",
       "      <td>4.43571</td>\n",
       "      <td>4.43571</td>\n",
       "      <td>0</td>\n",
       "      <td>0</td>\n",
       "    </tr>\n",
       "  </tbody>\n",
       "</table>\n",
       "<p>1 rows × 25 columns</p>\n",
       "</div>"
      ],
      "text/plain": [
       "       symbol  trade_date  pct_change      diff      dea      bar  \\\n",
       "35169  689009  2021-04-19        3.04 -0.461137 -1.14476  1.36724   \n",
       "\n",
       "       jx_days_ud60  jx_dg_120  jx_dg_60  jx_dg_20  ...  jx_zs_60  pct_fl_1_3  \\\n",
       "35169            39        0.0 -0.143429  0.522034  ...         0     1.30432   \n",
       "\n",
       "       pct_fl_3_10  pct_fl_5_20  pct_fl_20_60  sz_max_5  sz_max_10  sz_max_20  \\\n",
       "35169      1.13952     0.745176      0.524615  0.379001    4.43571    4.43571   \n",
       "\n",
       "       sz_jt_10  class0  \n",
       "35169         0       0  \n",
       "\n",
       "[1 rows x 25 columns]"
      ]
     },
     "execution_count": 199,
     "metadata": {},
     "output_type": "execute_result"
    }
   ],
   "source": [
    "col_list_ds = ['symbol', 'trade_date', 'pct_change',  \\\n",
    "    'diff', 'dea', 'bar',\\\n",
    "    'jx_days_ud60',\\\n",
    "    'jx_dg_120', 'jx_dg_60', 'jx_dg_20', 'jx_dg_10', 'jx_dg_5',\\\n",
    "    'jx_zs_5', 'jx_zs_10', 'jx_zs_20', 'jx_zs_60', \\\n",
    "    'pct_fl_1_3', 'pct_fl_3_10', 'pct_fl_5_20', 'pct_fl_20_60', \\\n",
    "    'sz_max_5','sz_max_10','sz_max_20',\n",
    "    'sz_jt_10','class0' ]\n",
    "df.tail(1)[col_list_ds]"
   ]
  },
  {
   "cell_type": "code",
   "execution_count": 230,
   "metadata": {},
   "outputs": [
    {
     "data": {
      "text/plain": [
       "0    22561\n",
       "1     8740\n",
       "2     3869\n",
       "Name: sz_jt_10, dtype: int64"
      ]
     },
     "execution_count": 230,
     "metadata": {},
     "output_type": "execute_result"
    }
   ],
   "source": [
    "df['sz_jt_10'].value_counts()"
   ]
  },
  {
   "cell_type": "code",
   "execution_count": 202,
   "metadata": {},
   "outputs": [
    {
     "data": {
      "text/plain": [
       "2    3869\n",
       "Name: sz_jt_10, dtype: int64"
      ]
     },
     "execution_count": 202,
     "metadata": {},
     "output_type": "execute_result"
    }
   ],
   "source": [
    "# 开发测试：条件取数\n",
    "# sum = len(df)\n",
    "\n",
    "# cond2a = df['sz_jt_10']>=2\n",
    "# df[ cond2a ]['sz_jt_10'].value_counts()\n",
    "\n",
    "# cond2b = df['sz_jt_10']>1 \n",
    "# cond2c = df['sz_jt_10']<=2\n",
    "# cond2bc2 = ( cond2b & cond2c )\n",
    "# df[ cond2bc2 ]['sz_jt_10'].value_counts()"
   ]
  },
  {
   "cell_type": "code",
   "execution_count": 239,
   "metadata": {},
   "outputs": [
    {
     "data": {
      "text/html": [
       "<div>\n",
       "<style scoped>\n",
       "    .dataframe tbody tr th:only-of-type {\n",
       "        vertical-align: middle;\n",
       "    }\n",
       "\n",
       "    .dataframe tbody tr th {\n",
       "        vertical-align: top;\n",
       "    }\n",
       "\n",
       "    .dataframe thead th {\n",
       "        text-align: right;\n",
       "    }\n",
       "</style>\n",
       "<table border=\"1\" class=\"dataframe\">\n",
       "  <thead>\n",
       "    <tr style=\"text-align: right;\">\n",
       "      <th></th>\n",
       "      <th>pct_fl_1_3</th>\n",
       "      <th>pct_fl_3_10</th>\n",
       "      <th>pct_fl_5_20</th>\n",
       "      <th>rate</th>\n",
       "    </tr>\n",
       "  </thead>\n",
       "  <tbody>\n",
       "  </tbody>\n",
       "</table>\n",
       "</div>"
      ],
      "text/plain": [
       "Empty DataFrame\n",
       "Columns: [pct_fl_1_3, pct_fl_3_10, pct_fl_5_20, rate]\n",
       "Index: []"
      ]
     },
     "execution_count": 239,
     "metadata": {},
     "output_type": "execute_result"
    }
   ],
   "source": [
    "man = pd.DataFrame()\n",
    "# col = ['pct_change',\n",
    "#     'diff', 'dea',\\\n",
    "#     'jx_days_ud60',\\\n",
    "#     'jx_dg_20', 'jx_dg_10', 'jx_dg_5',\\\n",
    "#     'jx_zs_5', 'jx_zs_10', 'jx_zs_20', \\\n",
    "#     'pct_fl_1_3', 'pct_fl_3_10', 'pct_fl_5_20', 'pct_fl_20_60', \\\n",
    "#     'sz_max_10' ]\n",
    "col = ['pct_fl_1_3', 'pct_fl_3_10', 'pct_fl_5_20', 'rate' ]\n",
    "man[col] = 0\n",
    "steps = 30\n",
    "man"
   ]
  },
  {
   "cell_type": "code",
   "execution_count": 240,
   "metadata": {},
   "outputs": [
    {
     "data": {
      "text/plain": [
       "(-1.85673, 6.21103, 0.26892533333333335, -1.85673)"
      ]
     },
     "execution_count": 240,
     "metadata": {},
     "output_type": "execute_result"
    }
   ],
   "source": [
    "# jx_dg_5 预处理\n",
    "min_dg_5, max_dg_5 = df['jx_dg_5'].min(), df['jx_dg_5'].max()\n",
    "step_dg_5 = (max_dg_5 - min_dg_5)/steps\n",
    "from_dg_5 = min_dg_5\n",
    "min_dg_5, max_dg_5, step_dg_5, from_dg_5  "
   ]
  },
  {
   "cell_type": "code",
   "execution_count": 241,
   "metadata": {},
   "outputs": [
    {
     "data": {
      "text/plain": [
       "(1.15793, 66.3237, 1.15793, 2.1721923333333337)"
      ]
     },
     "execution_count": 241,
     "metadata": {},
     "output_type": "execute_result"
    }
   ],
   "source": [
    "# fl_1_3 处理\n",
    "min_fl_1_3, max_fl_1_3 = df['pct_fl_1_3'].min(), df['pct_fl_1_3'].max()\n",
    "step_fl_1_3 = (max_fl_1_3 - min_fl_1_3)/steps\n",
    "from_fl_1_3 = min_fl_1_3\n",
    "min_fl_1_3, max_fl_1_3, from_fl_1_3, step_fl_1_3 "
   ]
  },
  {
   "cell_type": "code",
   "execution_count": 170,
   "metadata": {},
   "outputs": [
    {
     "data": {
      "text/plain": [
       "0"
      ]
     },
     "execution_count": 170,
     "metadata": {},
     "output_type": "execute_result"
    }
   ],
   "source": [
    "# # df['sz_jt_10'].value_counts()\n",
    "# test1 = df[df['sz_jt_10'] >=3]['sz_jt_10'].value_counts()\n",
    "# # len( df[df['sz_jt_10'] >=1]['sz_jt_10'].value_counts() )\n",
    "# test1, type(test1)\n",
    "# len(test1)\n",
    "# num = 1 if test1.empty else 0\n",
    "\n",
    "# lambda x\n",
    "# test1.iloc[0] + test1.iloc[1]"
   ]
  },
  {
   "cell_type": "code",
   "execution_count": 251,
   "metadata": {},
   "outputs": [
    {
     "name": "stdout",
     "output_type": "stream",
     "text": [
      "0 : , 1.1579,  3.3301 0 step:  21042 3600 5.8450\n",
      "1 : , 3.3301,  5.5023 1 step:  1267 220 5.7591\n",
      "2 : , 5.5023,  7.6745 2 step:  196 38 5.1579\n",
      "3 : , 7.6745,  9.8467 3 step:  44 6 7.3333\n",
      "4 : , 9.8467,  12.0189 4 step:  7 2 3.5000\n",
      "5 : , 12.0189,  14.1911 5 step:  3 1 3.0000\n",
      "6 : , 14.1911,  16.3633 6 step:  2 0 0.0000\n",
      "7 : , 16.3633,  18.5355 7 step:  1 1 1.0000\n",
      "8 : , 18.5355,  20.7077 8 step:  1 0 0.0000\n",
      "9 : , 20.7077,  22.8799 9 step:  1 0 0.0000\n",
      "10 : , 22.8799,  25.0520 10 step:  0 0 0.0000\n",
      "11 : , 25.0520,  27.2242 11 step:  0 0 0.0000\n",
      "12 : , 27.2242,  29.3964 12 step:  0 0 0.0000\n",
      "13 : , 29.3964,  31.5686 13 step:  0 0 0.0000\n",
      "14 : , 31.5686,  33.7408 14 step:  0 0 0.0000\n",
      "15 : , 33.7408,  35.9130 15 step:  1 0 0.0000\n",
      "16 : , 35.9130,  38.0852 16 step:  0 0 0.0000\n",
      "17 : , 38.0852,  40.2574 17 step:  0 0 0.0000\n",
      "18 : , 40.2574,  42.4296 18 step:  0 0 0.0000\n",
      "19 : , 42.4296,  44.6018 19 step:  0 0 0.0000\n",
      "20 : , 44.6018,  46.7740 20 step:  0 0 0.0000\n",
      "21 : , 46.7740,  48.9462 21 step:  0 0 0.0000\n",
      "22 : , 48.9462,  51.1184 22 step:  0 0 0.0000\n",
      "23 : , 51.1184,  53.2905 23 step:  0 0 0.0000\n",
      "24 : , 53.2905,  55.4627 24 step:  0 0 0.0000\n",
      "25 : , 55.4627,  57.6349 25 step:  0 0 0.0000\n",
      "26 : , 57.6349,  59.8071 "
     ]
    },
    {
     "name": "stderr",
     "output_type": "stream",
     "text": [
      "<timed exec>:31: FutureWarning: The frame.append method is deprecated and will be removed from pandas in a future version. Use pandas.concat instead.\n",
      "<timed exec>:31: FutureWarning: The frame.append method is deprecated and will be removed from pandas in a future version. Use pandas.concat instead.\n",
      "<timed exec>:31: FutureWarning: The frame.append method is deprecated and will be removed from pandas in a future version. Use pandas.concat instead.\n",
      "<timed exec>:31: FutureWarning: The frame.append method is deprecated and will be removed from pandas in a future version. Use pandas.concat instead.\n",
      "<timed exec>:31: FutureWarning: The frame.append method is deprecated and will be removed from pandas in a future version. Use pandas.concat instead.\n",
      "<timed exec>:31: FutureWarning: The frame.append method is deprecated and will be removed from pandas in a future version. Use pandas.concat instead.\n",
      "<timed exec>:31: FutureWarning: The frame.append method is deprecated and will be removed from pandas in a future version. Use pandas.concat instead.\n",
      "<timed exec>:31: FutureWarning: The frame.append method is deprecated and will be removed from pandas in a future version. Use pandas.concat instead.\n",
      "<timed exec>:31: FutureWarning: The frame.append method is deprecated and will be removed from pandas in a future version. Use pandas.concat instead.\n",
      "<timed exec>:31: FutureWarning: The frame.append method is deprecated and will be removed from pandas in a future version. Use pandas.concat instead.\n",
      "<timed exec>:31: FutureWarning: The frame.append method is deprecated and will be removed from pandas in a future version. Use pandas.concat instead.\n",
      "<timed exec>:31: FutureWarning: The frame.append method is deprecated and will be removed from pandas in a future version. Use pandas.concat instead.\n",
      "<timed exec>:31: FutureWarning: The frame.append method is deprecated and will be removed from pandas in a future version. Use pandas.concat instead.\n",
      "<timed exec>:31: FutureWarning: The frame.append method is deprecated and will be removed from pandas in a future version. Use pandas.concat instead.\n",
      "<timed exec>:31: FutureWarning: The frame.append method is deprecated and will be removed from pandas in a future version. Use pandas.concat instead.\n",
      "<timed exec>:31: FutureWarning: The frame.append method is deprecated and will be removed from pandas in a future version. Use pandas.concat instead.\n",
      "<timed exec>:31: FutureWarning: The frame.append method is deprecated and will be removed from pandas in a future version. Use pandas.concat instead.\n",
      "<timed exec>:31: FutureWarning: The frame.append method is deprecated and will be removed from pandas in a future version. Use pandas.concat instead.\n",
      "<timed exec>:31: FutureWarning: The frame.append method is deprecated and will be removed from pandas in a future version. Use pandas.concat instead.\n",
      "<timed exec>:31: FutureWarning: The frame.append method is deprecated and will be removed from pandas in a future version. Use pandas.concat instead.\n",
      "<timed exec>:31: FutureWarning: The frame.append method is deprecated and will be removed from pandas in a future version. Use pandas.concat instead.\n",
      "<timed exec>:31: FutureWarning: The frame.append method is deprecated and will be removed from pandas in a future version. Use pandas.concat instead.\n",
      "<timed exec>:31: FutureWarning: The frame.append method is deprecated and will be removed from pandas in a future version. Use pandas.concat instead.\n",
      "<timed exec>:31: FutureWarning: The frame.append method is deprecated and will be removed from pandas in a future version. Use pandas.concat instead.\n",
      "<timed exec>:31: FutureWarning: The frame.append method is deprecated and will be removed from pandas in a future version. Use pandas.concat instead.\n",
      "<timed exec>:31: FutureWarning: The frame.append method is deprecated and will be removed from pandas in a future version. Use pandas.concat instead.\n"
     ]
    },
    {
     "name": "stdout",
     "output_type": "stream",
     "text": [
      "26 step:  0 0 0.0000\n",
      "27 : , 59.8071,  61.9793 27 step:  0 0 0.0000\n",
      "28 : , 61.9793,  64.1515 28 step:  0 0 0.0000\n",
      "29 : , 64.1515,  66.3237 29 step:  1 0 0.0000\n",
      "CPU times: total: 93.8 ms\n",
      "Wall time: 242 ms\n"
     ]
    },
    {
     "name": "stderr",
     "output_type": "stream",
     "text": [
      "<timed exec>:31: FutureWarning: The frame.append method is deprecated and will be removed from pandas in a future version. Use pandas.concat instead.\n",
      "<timed exec>:31: FutureWarning: The frame.append method is deprecated and will be removed from pandas in a future version. Use pandas.concat instead.\n",
      "<timed exec>:31: FutureWarning: The frame.append method is deprecated and will be removed from pandas in a future version. Use pandas.concat instead.\n",
      "<timed exec>:31: FutureWarning: The frame.append method is deprecated and will be removed from pandas in a future version. Use pandas.concat instead.\n"
     ]
    }
   ],
   "source": [
    "%%time\n",
    "# 初始化数据\n",
    "man.drop(man.index, inplace=True)\n",
    "from_dg_5 = min_dg_5\n",
    "from_fl_1_3 = min_fl_1_3\n",
    "\n",
    "cond_last = df['sz_jt_10'] >=2\n",
    "\n",
    "# 开始epoch\n",
    "\n",
    "for i in range(steps):\n",
    "    to_fl_1_3 = min_fl_1_3 + (i+1)*step_fl_1_3\n",
    "    print('%.0f : , %.4f,  %.4f'%(i, from_fl_1_3, to_fl_1_3), end=' ' )\n",
    "    # 处理条件\n",
    "    # cond_fl_1_3from = df['pct_fl_1_3'] >= from_fl_1_3\n",
    "    # cond_fl_1_3to = df['pct_fl_1_3'] < to_fl_1_3\n",
    "\n",
    "    cond_fl_1_3 = (df['pct_fl_1_3'] >= from_fl_1_3) & (df['pct_fl_1_3'] < to_fl_1_3 )\n",
    "    # cond_basic = ( cond_fl_1_3from & cond_fl_1_3to )\n",
    "    cond_fl_1_3_class = ( cond_fl_1_3 ) & (cond_last)\n",
    "    \n",
    "    # 开始计算   \n",
    "    sum_step_series  = df[ cond_fl_1_3 ]['sz_jt_10'].value_counts() \n",
    "    sum_class_series = df[ cond_fl_1_3_class ]['sz_jt_10'].value_counts() \n",
    "    # \n",
    "    sum_step = sum_step_series.iloc[0] if not sum_step_series.empty else 0\n",
    "    sum_class = sum_class_series.iloc[0] if not sum_class_series.empty else 0\n",
    "    sum_class_rate = 0 if sum_class==0 else sum_step/sum_class\n",
    "    print( i, 'step:  %.0f %.0f %.4f' %(sum_step, sum_class, sum_class_rate) )\n",
    "    # 记录到man\n",
    "    new_data = {'pct_fl_1_3': from_fl_1_3, 'rate': sum_class_rate}\n",
    "    man = man.append(new_data, ignore_index=True)\n",
    "    \n",
    "    # 下一个loop\n",
    "    from_fl_1_3 = from_fl_1_3 + step_fl_1_3\n"
   ]
  },
  {
   "cell_type": "code",
   "execution_count": 243,
   "metadata": {},
   "outputs": [
    {
     "data": {
      "text/html": [
       "<div>\n",
       "<style scoped>\n",
       "    .dataframe tbody tr th:only-of-type {\n",
       "        vertical-align: middle;\n",
       "    }\n",
       "\n",
       "    .dataframe tbody tr th {\n",
       "        vertical-align: top;\n",
       "    }\n",
       "\n",
       "    .dataframe thead th {\n",
       "        text-align: right;\n",
       "    }\n",
       "</style>\n",
       "<table border=\"1\" class=\"dataframe\">\n",
       "  <thead>\n",
       "    <tr style=\"text-align: right;\">\n",
       "      <th></th>\n",
       "      <th>pct_fl_1_3</th>\n",
       "      <th>pct_fl_3_10</th>\n",
       "      <th>pct_fl_5_20</th>\n",
       "      <th>rate</th>\n",
       "    </tr>\n",
       "  </thead>\n",
       "  <tbody>\n",
       "    <tr>\n",
       "      <th>0</th>\n",
       "      <td>1.157930</td>\n",
       "      <td>NaN</td>\n",
       "      <td>NaN</td>\n",
       "      <td>5.845000</td>\n",
       "    </tr>\n",
       "    <tr>\n",
       "      <th>1</th>\n",
       "      <td>3.330122</td>\n",
       "      <td>NaN</td>\n",
       "      <td>NaN</td>\n",
       "      <td>5.759091</td>\n",
       "    </tr>\n",
       "    <tr>\n",
       "      <th>2</th>\n",
       "      <td>5.502315</td>\n",
       "      <td>NaN</td>\n",
       "      <td>NaN</td>\n",
       "      <td>5.157895</td>\n",
       "    </tr>\n",
       "    <tr>\n",
       "      <th>3</th>\n",
       "      <td>7.674507</td>\n",
       "      <td>NaN</td>\n",
       "      <td>NaN</td>\n",
       "      <td>7.333333</td>\n",
       "    </tr>\n",
       "    <tr>\n",
       "      <th>4</th>\n",
       "      <td>9.846699</td>\n",
       "      <td>NaN</td>\n",
       "      <td>NaN</td>\n",
       "      <td>3.500000</td>\n",
       "    </tr>\n",
       "    <tr>\n",
       "      <th>5</th>\n",
       "      <td>12.018892</td>\n",
       "      <td>NaN</td>\n",
       "      <td>NaN</td>\n",
       "      <td>3.000000</td>\n",
       "    </tr>\n",
       "    <tr>\n",
       "      <th>6</th>\n",
       "      <td>14.191084</td>\n",
       "      <td>NaN</td>\n",
       "      <td>NaN</td>\n",
       "      <td>0.000000</td>\n",
       "    </tr>\n",
       "    <tr>\n",
       "      <th>7</th>\n",
       "      <td>16.363276</td>\n",
       "      <td>NaN</td>\n",
       "      <td>NaN</td>\n",
       "      <td>1.000000</td>\n",
       "    </tr>\n",
       "    <tr>\n",
       "      <th>8</th>\n",
       "      <td>18.535469</td>\n",
       "      <td>NaN</td>\n",
       "      <td>NaN</td>\n",
       "      <td>0.000000</td>\n",
       "    </tr>\n",
       "    <tr>\n",
       "      <th>9</th>\n",
       "      <td>20.707661</td>\n",
       "      <td>NaN</td>\n",
       "      <td>NaN</td>\n",
       "      <td>0.000000</td>\n",
       "    </tr>\n",
       "    <tr>\n",
       "      <th>10</th>\n",
       "      <td>22.879853</td>\n",
       "      <td>NaN</td>\n",
       "      <td>NaN</td>\n",
       "      <td>0.000000</td>\n",
       "    </tr>\n",
       "    <tr>\n",
       "      <th>11</th>\n",
       "      <td>25.052046</td>\n",
       "      <td>NaN</td>\n",
       "      <td>NaN</td>\n",
       "      <td>0.000000</td>\n",
       "    </tr>\n",
       "    <tr>\n",
       "      <th>12</th>\n",
       "      <td>27.224238</td>\n",
       "      <td>NaN</td>\n",
       "      <td>NaN</td>\n",
       "      <td>0.000000</td>\n",
       "    </tr>\n",
       "    <tr>\n",
       "      <th>13</th>\n",
       "      <td>29.396430</td>\n",
       "      <td>NaN</td>\n",
       "      <td>NaN</td>\n",
       "      <td>0.000000</td>\n",
       "    </tr>\n",
       "    <tr>\n",
       "      <th>14</th>\n",
       "      <td>31.568623</td>\n",
       "      <td>NaN</td>\n",
       "      <td>NaN</td>\n",
       "      <td>0.000000</td>\n",
       "    </tr>\n",
       "    <tr>\n",
       "      <th>15</th>\n",
       "      <td>33.740815</td>\n",
       "      <td>NaN</td>\n",
       "      <td>NaN</td>\n",
       "      <td>0.000000</td>\n",
       "    </tr>\n",
       "    <tr>\n",
       "      <th>16</th>\n",
       "      <td>35.913007</td>\n",
       "      <td>NaN</td>\n",
       "      <td>NaN</td>\n",
       "      <td>0.000000</td>\n",
       "    </tr>\n",
       "    <tr>\n",
       "      <th>17</th>\n",
       "      <td>38.085200</td>\n",
       "      <td>NaN</td>\n",
       "      <td>NaN</td>\n",
       "      <td>0.000000</td>\n",
       "    </tr>\n",
       "    <tr>\n",
       "      <th>18</th>\n",
       "      <td>40.257392</td>\n",
       "      <td>NaN</td>\n",
       "      <td>NaN</td>\n",
       "      <td>0.000000</td>\n",
       "    </tr>\n",
       "    <tr>\n",
       "      <th>19</th>\n",
       "      <td>42.429584</td>\n",
       "      <td>NaN</td>\n",
       "      <td>NaN</td>\n",
       "      <td>0.000000</td>\n",
       "    </tr>\n",
       "    <tr>\n",
       "      <th>20</th>\n",
       "      <td>44.601777</td>\n",
       "      <td>NaN</td>\n",
       "      <td>NaN</td>\n",
       "      <td>0.000000</td>\n",
       "    </tr>\n",
       "    <tr>\n",
       "      <th>21</th>\n",
       "      <td>46.773969</td>\n",
       "      <td>NaN</td>\n",
       "      <td>NaN</td>\n",
       "      <td>0.000000</td>\n",
       "    </tr>\n",
       "    <tr>\n",
       "      <th>22</th>\n",
       "      <td>48.946161</td>\n",
       "      <td>NaN</td>\n",
       "      <td>NaN</td>\n",
       "      <td>0.000000</td>\n",
       "    </tr>\n",
       "    <tr>\n",
       "      <th>23</th>\n",
       "      <td>51.118354</td>\n",
       "      <td>NaN</td>\n",
       "      <td>NaN</td>\n",
       "      <td>0.000000</td>\n",
       "    </tr>\n",
       "    <tr>\n",
       "      <th>24</th>\n",
       "      <td>53.290546</td>\n",
       "      <td>NaN</td>\n",
       "      <td>NaN</td>\n",
       "      <td>0.000000</td>\n",
       "    </tr>\n",
       "    <tr>\n",
       "      <th>25</th>\n",
       "      <td>55.462738</td>\n",
       "      <td>NaN</td>\n",
       "      <td>NaN</td>\n",
       "      <td>0.000000</td>\n",
       "    </tr>\n",
       "    <tr>\n",
       "      <th>26</th>\n",
       "      <td>57.634931</td>\n",
       "      <td>NaN</td>\n",
       "      <td>NaN</td>\n",
       "      <td>0.000000</td>\n",
       "    </tr>\n",
       "    <tr>\n",
       "      <th>27</th>\n",
       "      <td>59.807123</td>\n",
       "      <td>NaN</td>\n",
       "      <td>NaN</td>\n",
       "      <td>0.000000</td>\n",
       "    </tr>\n",
       "    <tr>\n",
       "      <th>28</th>\n",
       "      <td>61.979315</td>\n",
       "      <td>NaN</td>\n",
       "      <td>NaN</td>\n",
       "      <td>0.000000</td>\n",
       "    </tr>\n",
       "    <tr>\n",
       "      <th>29</th>\n",
       "      <td>64.151508</td>\n",
       "      <td>NaN</td>\n",
       "      <td>NaN</td>\n",
       "      <td>0.000000</td>\n",
       "    </tr>\n",
       "  </tbody>\n",
       "</table>\n",
       "</div>"
      ],
      "text/plain": [
       "    pct_fl_1_3  pct_fl_3_10  pct_fl_5_20      rate\n",
       "0     1.157930          NaN          NaN  5.845000\n",
       "1     3.330122          NaN          NaN  5.759091\n",
       "2     5.502315          NaN          NaN  5.157895\n",
       "3     7.674507          NaN          NaN  7.333333\n",
       "4     9.846699          NaN          NaN  3.500000\n",
       "5    12.018892          NaN          NaN  3.000000\n",
       "6    14.191084          NaN          NaN  0.000000\n",
       "7    16.363276          NaN          NaN  1.000000\n",
       "8    18.535469          NaN          NaN  0.000000\n",
       "9    20.707661          NaN          NaN  0.000000\n",
       "10   22.879853          NaN          NaN  0.000000\n",
       "11   25.052046          NaN          NaN  0.000000\n",
       "12   27.224238          NaN          NaN  0.000000\n",
       "13   29.396430          NaN          NaN  0.000000\n",
       "14   31.568623          NaN          NaN  0.000000\n",
       "15   33.740815          NaN          NaN  0.000000\n",
       "16   35.913007          NaN          NaN  0.000000\n",
       "17   38.085200          NaN          NaN  0.000000\n",
       "18   40.257392          NaN          NaN  0.000000\n",
       "19   42.429584          NaN          NaN  0.000000\n",
       "20   44.601777          NaN          NaN  0.000000\n",
       "21   46.773969          NaN          NaN  0.000000\n",
       "22   48.946161          NaN          NaN  0.000000\n",
       "23   51.118354          NaN          NaN  0.000000\n",
       "24   53.290546          NaN          NaN  0.000000\n",
       "25   55.462738          NaN          NaN  0.000000\n",
       "26   57.634931          NaN          NaN  0.000000\n",
       "27   59.807123          NaN          NaN  0.000000\n",
       "28   61.979315          NaN          NaN  0.000000\n",
       "29   64.151508          NaN          NaN  0.000000"
      ]
     },
     "execution_count": 243,
     "metadata": {},
     "output_type": "execute_result"
    }
   ],
   "source": [
    "man"
   ]
  },
  {
   "cell_type": "code",
   "execution_count": 222,
   "metadata": {},
   "outputs": [],
   "source": [
    "man.drop(man.index, inplace=True)"
   ]
  },
  {
   "cell_type": "code",
   "execution_count": 221,
   "metadata": {},
   "outputs": [
    {
     "data": {
      "text/html": [
       "<div>\n",
       "<style scoped>\n",
       "    .dataframe tbody tr th:only-of-type {\n",
       "        vertical-align: middle;\n",
       "    }\n",
       "\n",
       "    .dataframe tbody tr th {\n",
       "        vertical-align: top;\n",
       "    }\n",
       "\n",
       "    .dataframe thead th {\n",
       "        text-align: right;\n",
       "    }\n",
       "</style>\n",
       "<table border=\"1\" class=\"dataframe\">\n",
       "  <thead>\n",
       "    <tr style=\"text-align: right;\">\n",
       "      <th></th>\n",
       "      <th>ts_code</th>\n",
       "      <th>trade_date</th>\n",
       "      <th>symbol</th>\n",
       "      <th>pct_change</th>\n",
       "      <th>diff</th>\n",
       "      <th>dea</th>\n",
       "      <th>bar</th>\n",
       "      <th>jx_days_ud60</th>\n",
       "      <th>jx_xl_5</th>\n",
       "      <th>jx_xl_10</th>\n",
       "      <th>...</th>\n",
       "      <th>test5_8</th>\n",
       "      <th>test10_10</th>\n",
       "      <th>test20_10</th>\n",
       "      <th>test20_20</th>\n",
       "      <th>test20_30</th>\n",
       "      <th>sz_jt_10</th>\n",
       "      <th>sz_jt_20</th>\n",
       "      <th>sz_max_5</th>\n",
       "      <th>sz_max_10</th>\n",
       "      <th>sz_max_20</th>\n",
       "    </tr>\n",
       "  </thead>\n",
       "  <tbody>\n",
       "  </tbody>\n",
       "</table>\n",
       "<p>0 rows × 46 columns</p>\n",
       "</div>"
      ],
      "text/plain": [
       "Empty DataFrame\n",
       "Columns: [ts_code, trade_date, symbol, pct_change, diff, dea, bar, jx_days_ud60, jx_xl_5, jx_xl_10, jx_xl_20, jx_xl_60, jx_xl_120, jx_xl_250, jx_dg_5, jx_dg_10, jx_dg_20, jx_dg_30, jx_dg_60, jx_dg_120, jx_dg_250, jx_zs_5, jx_zs_10, jx_zs_20, jx_zs_60, lj_fl_1_3, lj_fl_3_10, lj_fl_5_20, lj_fl_20_60, pct_fl_1_3, pct_fl_3_10, pct_fl_5_20, pct_fl_5_60, pct_fl_20_60, class0, test00, test5_8, test10_10, test20_10, test20_20, test20_30, sz_jt_10, sz_jt_20, sz_max_5, sz_max_10, sz_max_20]\n",
       "Index: []\n",
       "\n",
       "[0 rows x 46 columns]"
      ]
     },
     "execution_count": 221,
     "metadata": {},
     "output_type": "execute_result"
    }
   ],
   "source": [
    "df"
   ]
  },
  {
   "cell_type": "code",
   "execution_count": 112,
   "metadata": {},
   "outputs": [
    {
     "data": {
      "text/plain": [
       "Series([], Name: sz_jt_10, dtype: int64)"
      ]
     },
     "execution_count": 112,
     "metadata": {},
     "output_type": "execute_result"
    }
   ],
   "source": [
    "sum_class"
   ]
  },
  {
   "cell_type": "code",
   "execution_count": 114,
   "metadata": {},
   "outputs": [
    {
     "data": {
      "text/plain": [
       "0"
      ]
     },
     "execution_count": 114,
     "metadata": {},
     "output_type": "execute_result"
    }
   ],
   "source": [
    "len(sum_class)"
   ]
  },
  {
   "cell_type": "code",
   "execution_count": 113,
   "metadata": {},
   "outputs": [
    {
     "ename": "ValueError",
     "evalue": "can only convert an array of size 1 to a Python scalar",
     "output_type": "error",
     "traceback": [
      "\u001b[1;31m---------------------------------------------------------------------------\u001b[0m",
      "\u001b[1;31mValueError\u001b[0m                                Traceback (most recent call last)",
      "Cell \u001b[1;32mIn[113], line 1\u001b[0m\n\u001b[1;32m----> 1\u001b[0m sum_class\u001b[39m.\u001b[39;49mitem()\n",
      "File \u001b[1;32mc:\\Users\\charlie\\miniconda3\\envs\\cuda\\lib\\site-packages\\pandas\\core\\base.py:347\u001b[0m, in \u001b[0;36mIndexOpsMixin.item\u001b[1;34m(self)\u001b[0m\n\u001b[0;32m    345\u001b[0m \u001b[39mif\u001b[39;00m \u001b[39mlen\u001b[39m(\u001b[39mself\u001b[39m) \u001b[39m==\u001b[39m \u001b[39m1\u001b[39m:\n\u001b[0;32m    346\u001b[0m     \u001b[39mreturn\u001b[39;00m \u001b[39mnext\u001b[39m(\u001b[39miter\u001b[39m(\u001b[39mself\u001b[39m))\n\u001b[1;32m--> 347\u001b[0m \u001b[39mraise\u001b[39;00m \u001b[39mValueError\u001b[39;00m(\u001b[39m\"\u001b[39m\u001b[39mcan only convert an array of size 1 to a Python scalar\u001b[39m\u001b[39m\"\u001b[39m)\n",
      "\u001b[1;31mValueError\u001b[0m: can only convert an array of size 1 to a Python scalar"
     ]
    }
   ],
   "source": [
    "sum_class.item()"
   ]
  },
  {
   "cell_type": "code",
   "execution_count": 43,
   "metadata": {},
   "outputs": [
    {
     "data": {
      "text/plain": [
       "'example.com'"
      ]
     },
     "execution_count": 43,
     "metadata": {},
     "output_type": "execute_result"
    }
   ],
   "source": [
    "'www.example.com'.lstrip('w.')"
   ]
  },
  {
   "cell_type": "code",
   "execution_count": null,
   "metadata": {},
   "outputs": [],
   "source": []
  }
 ],
 "metadata": {
  "interpreter": {
   "hash": "c964a6907b2774297a48b44694a21488b5d674bf6da9bcac704f7b1c134d78ee"
  },
  "kernelspec": {
   "display_name": "Python 3.9.7 ('base')",
   "language": "python",
   "name": "python3"
  },
  "language_info": {
   "codemirror_mode": {
    "name": "ipython",
    "version": 3
   },
   "file_extension": ".py",
   "mimetype": "text/x-python",
   "name": "python",
   "nbconvert_exporter": "python",
   "pygments_lexer": "ipython3",
   "version": "3.10.11"
  },
  "toc-autonumbering": false,
  "widgets": {
   "application/vnd.jupyter.widget-state+json": {
    "state": {},
    "version_major": 2,
    "version_minor": 0
   }
  }
 },
 "nbformat": 4,
 "nbformat_minor": 4
}
