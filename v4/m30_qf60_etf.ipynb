{
 "cells": [
  {
   "cell_type": "code",
   "execution_count": null,
   "metadata": {
    "tags": []
   },
   "outputs": [],
   "source": [
    "%matplotlib widget\n",
    "import numpy as np\n",
    "import pandas as pd\n",
    "import random \n",
    "# import talib as ta\n",
    "import math\n",
    "# from numba import jit\n",
    "\n",
    "from importlib import reload \n",
    "from qflib import basic\n",
    "reload(basic)\n",
    "global engine, conn\n",
    "engine = basic.engine()\n",
    "conn = basic.conn(engine)"
   ]
  },
  {
   "cell_type": "code",
   "execution_count": null,
   "metadata": {},
   "outputs": [],
   "source": [
    "\"\"\" 数据抽查 sz_max_50 \"\"\"\n",
    "def datacheck():\n",
    "    sum = len(df)\n",
    "    bins = [-float('inf'), 0, 3, 8, 15, float('inf')] \n",
    "    labels = ['0-0', '0-3%', '3-8%',  '8-15%', '>15%']\n",
    "\n",
    "    df['sz_max_5_bin'] = pd.cut(df['sz_max_5'], bins=bins, labels=labels)\n",
    "    print( df['sz_max_5_bin'].value_counts()/sum, df['sz_max_5'].mean() )\n",
    "\n",
    "    df['sz_max_10_bin'] = pd.cut(df['sz_max_10'], bins=bins, labels=labels)\n",
    "    print( df['sz_max_10_bin'].value_counts()/sum, df['sz_max_10'].mean() )\n",
    "\n",
    "    df['sz_max_20_bin'] = pd.cut(df['sz_max_20'], bins=bins, labels=labels)\n",
    "    print( df['sz_max_20_bin'].value_counts()/sum, df['sz_max_20'].mean() )\n"
   ]
  },
  {
   "cell_type": "code",
   "execution_count": null,
   "metadata": {},
   "outputs": [],
   "source": [
    "\n",
    "# 指标库读出基本数据 \n",
    "# xl_01dgree = 0.00174533 # 0.1度 \n",
    "# xl_02dgree = 0.00349067 # 0.2度 \n",
    "# xl_03dgree = 0.00523604 # 0.3度\n",
    "# xl_dgree = xl_03dgree\n",
    "# print( 'd60 斜率：', str(xl_dgree) )\n",
    "\n",
    "# trade_date like '%2023-06%' and \\\n",
    "# sql1 = \"SELECT * \\\n",
    "# from day_zhibiao \\\n",
    "# where \\\n",
    "# jx_dg_250>-0.1 and jx_dg_60>-0.1 and \\\n",
    "# jx_days_ud60>=20 and jx_days_ud60<=40 and \\\n",
    "# jx_dg_20>=0 and jx_zs_20>=1 and pct_fl_3_10>1.5 and \\\n",
    "# (pct_fl_1_3>1.5 or k_red3>=3) \"\n",
    "\n",
    "sql2 = \"SELECT * \\\n",
    "from day_zhibiao \\\n",
    "where \\\n",
    "jx_dg_250>0 and jx_dg_60>0 and \\\n",
    "jx_dg_20>=0 and jx_zs_60>=1 and pct_fl_3_10>1.2 and \\\n",
    "(pct_fl_1_3>1.2 or k_red) \"\n",
    "\n",
    "\n",
    "print( sql2 )\n",
    "df = pd.read_sql_query(sql2, conn)\n",
    "\n",
    "print('shape: ', df.shape, '\\n')\n",
    "datacheck()"
   ]
  },
  {
   "cell_type": "code",
   "execution_count": null,
   "metadata": {},
   "outputs": [],
   "source": [
    "# 检测数据\n",
    "col_check = ['symbol', 'trade_date', 'pct_change', 'sz_max_10', \\\n",
    "    'diff', 'dea', \\\n",
    "    'jx_days_ud60',\\\n",
    "    'jx_dg_120', 'jx_dg_60', 'jx_dg_20', 'jx_dg_10', 'jx_dg_5',\\\n",
    "    'jx_zs_5', 'jx_zs_10', 'jx_zs_20', 'jx_zs_60', \\\n",
    "    'pct_fl_1_3', 'pct_fl_3_10', 'pct_fl_20_60', \\\n",
    "    'sz_max_5','sz_max_20',\n",
    "     ]\n",
    "sorting = df.sort_values(['trade_date', 'symbol'], ascending=False)\n",
    "sorting[df['trade_date']>'2023-07'][col_check]\n",
    "# sorting.head(5)[col_check]"
   ]
  },
  {
   "cell_type": "code",
   "execution_count": null,
   "metadata": {},
   "outputs": [],
   "source": [
    "\"\"\" 数据抽查 sz_max_5 \"\"\"\n",
    "sum = len(df)\n",
    "bins = [-float('inf'), 0, 5, 8, float('inf')] \n",
    "labels = ['0-0', '0-5%', '5-8%', '>8%']\n",
    "df['sz_max_5_bin'] = pd.cut(df['sz_max_5'], bins=bins, labels=labels)\n",
    "# print( df['sz_max_10_bin'].value_counts() )\n",
    "df['sz_max_5_bin'].value_counts()/sum, df['sz_max_5'].mean()"
   ]
  },
  {
   "cell_type": "code",
   "execution_count": null,
   "metadata": {},
   "outputs": [],
   "source": [
    "\"\"\" 数据抽查 sz_max_10 \"\"\"\n",
    "# sum = len(df)\n",
    "# bins = [-float('inf'), 0,3,8, float('inf')] \n",
    "# labels = ['0', '0-3', '3-8', '>8']\n",
    "# df['sz_max_10_bin'] = pd.cut(df['sz_max_10'], bins=bins, labels=labels)\n",
    "# df['sz_max_10_bin'].value_counts(), df['sz_max_10_bin'].value_counts()/sum"
   ]
  },
  {
   "cell_type": "code",
   "execution_count": null,
   "metadata": {},
   "outputs": [],
   "source": [
    "\"\"\" 数据抽查 sz_max_20 \"\"\"\n",
    "sum = len(df)\n",
    "bins = [-float('inf'), 0, 5, 12, float('inf')] \n",
    "labels = ['<=0', '0-5','5-12', '>12']\n",
    "df['sz_max_20_bin'] = pd.cut(df['sz_max_20'], bins=bins, labels=labels)\n",
    "df['sz_max_20_bin'].value_counts(), df['sz_max_20_bin'].value_counts()/sum, df['sz_max_20'].mean()"
   ]
  },
  {
   "cell_type": "code",
   "execution_count": null,
   "metadata": {},
   "outputs": [],
   "source": [
    "# 涨幅阶梯化\n",
    "\n",
    "def jieti_5(df):\n",
    "    # rate = 0, 1, 2, 3\n",
    "    if df['sz_max_5']==0: rate = 0        \n",
    "    if df['sz_max_5']>0 and df['sz_max_5']<=3: rate = 1          \n",
    "    if df['sz_max_5']>3 and df['sz_max_5']<=8: rate = 2          \n",
    "    if df['sz_max_5']>8: rate = 3        \n",
    "    return rate\n",
    "df['sz_jt_5'] = df.apply(jieti_5, axis=1) \n",
    "\n",
    "def jieti_10(df):\n",
    "    # rate = 0, 1, 2, 3\n",
    "    if df['sz_max_10']==0: rate = 0        \n",
    "    if df['sz_max_10']>0 and df['sz_max_10']<=3: rate = 1          \n",
    "    if df['sz_max_10']>3 and df['sz_max_10']<=8: rate = 2          \n",
    "    if df['sz_max_10']>8: rate = 3\n",
    "    return rate\n",
    "df['sz_jt_10'] = df.apply(jieti_10, axis=1) \n",
    "\n",
    "def jieti_20(df):\n",
    "    # rate = 0, 1, 2\n",
    "    if df['sz_max_20'] <= 8: rate = 0        \n",
    "    if df['sz_max_20']>8 and df['sz_max_10']<=15: rate = 1        \n",
    "    if df['sz_max_20']>15: rate = 2        \n",
    "    return rate\n",
    "df['sz_jt_20'] = df.apply(jieti_20, axis=1) "
   ]
  },
  {
   "cell_type": "code",
   "execution_count": null,
   "metadata": {},
   "outputs": [],
   "source": [
    "\"\"\" 临时输出sample \"\"\" \n",
    "col_sample = ['symbol', 'trade_date', 'pct_change', 'sz_max_10', \\\n",
    "    'diff', 'dea', \\\n",
    "    'jx_days_ud60',\\\n",
    "    'jx_dg_120', 'jx_dg_60', 'jx_dg_20', 'jx_dg_10', 'jx_dg_5',\\\n",
    "    'jx_zs_5', 'jx_zs_10', 'jx_zs_20', 'jx_zs_60', \\\n",
    "    'pct_fl_1_3', 'pct_fl_3_10', 'pct_fl_20_60', \\\n",
    "    'sz_jt_20',\n",
    "     ]\n",
    "df[col_sample].head(100).to_csv('ds_qm.csv', index=False) "
   ]
  },
  {
   "cell_type": "code",
   "execution_count": null,
   "metadata": {},
   "outputs": [],
   "source": [
    "# 数据监测\n",
    "# df[ ['sz_max_5', 'sz_jt_5', 'sz_max_10','sz_jt_10', 'sz_max_20', 'sz_jt_20']].head(20)\n",
    "# df[ ['sz_max_20', 'sz_jt_20']].head(20)"
   ]
  },
  {
   "cell_type": "code",
   "execution_count": null,
   "metadata": {},
   "outputs": [],
   "source": [
    "\"\"\" 形成数据集 \"\"\"\n",
    "\n",
    "# 0-1类训练目标s：\n",
    "df['test00'] = df['sz_max_20'] > 10\n",
    "df['test5_8'] = df['sz_max_5'] > 8\n",
    "df['test10_10'] = df['sz_max_10'] > 10\n",
    "df['test20_10'] = df['sz_max_20'] > 10\n",
    "df['test20_20'] = df['sz_max_20'] > 20\n",
    "df['test20_30'] = df['sz_max_20'] > 30\n",
    "# 多分类训练目标\n",
    "df['class0'] = df['sz_jt_10']\n",
    "# 确定输出列  \n",
    "col_list_ds = ['ts_code', 'symbol', 'trade_date', 'pct_change',  \\\n",
    "    'diff', 'dea', 'bar',\\\n",
    "    'jx_days_ud60',\\\n",
    "    'jx_dg_120', 'jx_dg_60', 'jx_dg_20', 'jx_dg_10', 'jx_dg_5',\\\n",
    "    'jx_zs_5', 'jx_zs_10', 'jx_zs_20', 'jx_zs_60', \\\n",
    "    'pct_fl_1_3', 'pct_fl_3_10', 'pct_fl_5_20', 'pct_fl_20_60', \\\n",
    "    'sz_max_5','sz_max_10','sz_max_20',\n",
    "    'test00', 'test5_8', 'test10_10', 'test20_10',  'test20_20', 'test20_30', \\\n",
    "    'class0','sz_jt_5','sz_jt_10','sz_jt_20' ]\n",
    "df_ds = df[col_list_ds].copy()\n",
    "# 'test00', 'test5_8', 'test10_10', 'test20_10',  'test20_20', 'test20_30', \\\n",
    "# df_ds[ df_ds['test00'] ].shape, df_ds[ df_ds['test5_8'] ].shape, df_ds[ df_ds['test10_10'] ].shape, df_ds[df_ds['test20_10']].shape, df_ds[df_ds['test20_20']].shape, df_ds[ df_ds['test20_30'] ].shape"
   ]
  },
  {
   "cell_type": "code",
   "execution_count": null,
   "metadata": {},
   "outputs": [],
   "source": [
    "\"\"\" 输出到mysql \"\"\"\n",
    "# 删除旧数据\n",
    "sql = \"truncate table ds_qf60\"\n",
    "basic.exec_sql(conn, sql)\n",
    "# 输出新数据\n",
    "df_ds.to_sql('ds_qf60', con=conn, index=False, if_exists='append', chunksize=2000) "
   ]
  },
  {
   "cell_type": "code",
   "execution_count": null,
   "metadata": {},
   "outputs": [],
   "source": [
    "# name: 数据库中的表名\n",
    "# con: 与read_sql中相同，数据库连接的驱动\n",
    "# if_exits： 当数据库中的这个表存在的时候，采取的措施是什么，包括三个值，默认为fail\n",
    "# fail，若表存在，则不进行数据表写入的相关操作\n",
    "# replace：若表存在，将数据库表中的数据覆盖；\n",
    "# append：若表存在，将数据写到原表的后面。\n",
    "# index：是否将df的index单独写到一列中\n",
    "# index_label:指定列作为df的index输出，此时index为True\n",
    "# dtype: 指定列的输出到数据库中的数据类型。字典形式储存：{column_name: sql_dtype}"
   ]
  },
  {
   "cell_type": "code",
   "execution_count": null,
   "metadata": {},
   "outputs": [],
   "source": []
  }
 ],
 "metadata": {
  "interpreter": {
   "hash": "c964a6907b2774297a48b44694a21488b5d674bf6da9bcac704f7b1c134d78ee"
  },
  "kernelspec": {
   "display_name": "Python 3.9.7 ('base')",
   "language": "python",
   "name": "python3"
  },
  "language_info": {
   "codemirror_mode": {
    "name": "ipython",
    "version": 3
   },
   "file_extension": ".py",
   "mimetype": "text/x-python",
   "name": "python",
   "nbconvert_exporter": "python",
   "pygments_lexer": "ipython3",
   "version": "3.10.11"
  },
  "toc-autonumbering": false,
  "widgets": {
   "application/vnd.jupyter.widget-state+json": {
    "state": {},
    "version_major": 2,
    "version_minor": 0
   }
  }
 },
 "nbformat": 4,
 "nbformat_minor": 4
}
