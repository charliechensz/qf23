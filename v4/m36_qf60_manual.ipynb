{
 "cells": [
  {
   "cell_type": "code",
   "execution_count": 1,
   "metadata": {
    "tags": []
   },
   "outputs": [],
   "source": [
    "%matplotlib widget\n",
    "import numpy as np\n",
    "import pandas as pd\n",
    "import random \n",
    "# import talib as ta\n",
    "import math\n",
    "# from numba import jit\n",
    "\n",
    "from importlib import reload \n",
    "from qflib import basic\n",
    "reload(basic)\n",
    "global engine, conn\n",
    "engine = basic.engine()\n",
    "conn = basic.conn(engine)"
   ]
  },
  {
   "cell_type": "code",
   "execution_count": null,
   "metadata": {},
   "outputs": [],
   "source": [
    "\"\"\"\n",
    "- 分析10天上涨超过8的机会, 在何时出现\n",
    "    - sz_jt_10： 0,1,2,3： 0, 0-3，3-8, 8-...  \n",
    "- sql statement\n",
    "    jx_days_ud60 > 20 and jx_days_ud60 < 40 and \\\n",
    "    jx_dg_60>-0.1 and jx_dg_10>0 and \\\n",
    "    ( pct_fl_1_3 > 1.50 or pct_fl_3_10>1.2) \"\n",
    "- 暂定4个主要特征：\n",
    "    - fl_1_3, fl_3_10, pct_dg_5, pct_dg_10\n",
    "\"\"\""
   ]
  },
  {
   "cell_type": "code",
   "execution_count": 2,
   "metadata": {},
   "outputs": [
    {
     "name": "stdout",
     "output_type": "stream",
     "text": [
      "SELECT * from ds_qf60\n"
     ]
    },
    {
     "data": {
      "text/plain": [
       "(2261, 47)"
      ]
     },
     "execution_count": 2,
     "metadata": {},
     "output_type": "execute_result"
    }
   ],
   "source": [
    "sql = \"SELECT * \\\n",
    "from ds_qf60\"\n",
    "print(sql)\n",
    "df = pd.read_sql_query(sql, conn, index_col=None)\n",
    "\n",
    "df.shape"
   ]
  },
  {
   "cell_type": "code",
   "execution_count": null,
   "metadata": {},
   "outputs": [],
   "source": [
    "col_list_ds = ['symbol', 'trade_date', 'pct_change',  \\\n",
    "    'diff', 'dea', 'bar',\\\n",
    "    'jx_days_ud60',\\\n",
    "    'jx_dg_120', 'jx_dg_60', 'jx_dg_20', 'jx_dg_10', 'jx_dg_5',\\\n",
    "    'jx_zs_5', 'jx_zs_10', 'jx_zs_20', 'jx_zs_60', \\\n",
    "    'pct_fl_1_3', 'pct_fl_3_10', 'pct_fl_5_20', 'pct_fl_20_60', \\\n",
    "    'sz_max_5','sz_max_10','sz_max_20',\n",
    "    'sz_jt_10','class0' ]\n",
    "df.tail(1)[col_list_ds]"
   ]
  },
  {
   "cell_type": "code",
   "execution_count": null,
   "metadata": {},
   "outputs": [],
   "source": [
    "df['sz_jt_10'].value_counts(), df['sz_jt_10'].value_counts()/len(df)"
   ]
  },
  {
   "cell_type": "code",
   "execution_count": null,
   "metadata": {},
   "outputs": [],
   "source": [
    "# 开发测试：条件取数\n",
    "# num = len(df)\n",
    "\n",
    "# cond2a = df['sz_jt_10']>=2\n",
    "# df[ cond2a ]['sz_jt_10'].value_counts()\n",
    "\n",
    "# cond2b = df['sz_jt_10']>1 \n",
    "# cond2c = df['sz_jt_10']<=2\n",
    "# cond2bc2 = ( cond2b & cond2c )\n",
    "# df[ cond2bc2 ]['sz_jt_10'].value_counts()"
   ]
  },
  {
   "cell_type": "code",
   "execution_count": null,
   "metadata": {},
   "outputs": [],
   "source": [
    "# epoch 初始化数据\n",
    "# col = ['pct_change',\n",
    "#     'diff', 'dea',\\\n",
    "#     'jx_days_ud60',\\\n",
    "#     'jx_dg_20', 'jx_dg_10', 'jx_dg_5',\\\n",
    "#     'jx_zs_5', 'jx_zs_10', 'jx_zs_20', \\\n",
    "#     'pct_fl_1_3', 'pct_fl_3_10', 'pct_fl_5_20', 'pct_fl_20_60', \\\n",
    "#     'sz_max_10' ]\n",
    "col = ['from_dg_10','to_dg_10','from_fl_1_10','to_fl_1_10',\\\n",
    "    'from_dg_5','to_dg_5','from_fl_1_3','to_fl_1_3',\\\n",
    "    'step', 'class', 'rate' ]\n",
    "\n",
    "def print_header():\n",
    "    print('- jx_days_ud60 > 20 and jx_days_ud60 < 40 ')\n",
    "    print('- jx_xl_60>-\"+str(xl_dgree)+\" and jx_xl_10>0 ')\n",
    "    print('- pct_fl_1_3 > 1.1579 and pct_fl_3_10>1.0730 ')\n",
    "    print('-'*50)\n",
    "    print('  2周   1周  :%14s %14s %14s %14s'%('10均线角度   ','3-10日放量   ','5日均线角度   ','1-3日放量   '),\\\n",
    "        ' = %5s,%6s,%5s'%('数量','达成','成功%'))\n",
    "    print(' ----  ----  :',' '*2, '-'*10,' '*6, '-'*10,' '*6,  '-'*10,' '*6,  '-'*10,' '*6, ' '*2)"
   ]
  },
  {
   "cell_type": "code",
   "execution_count": null,
   "metadata": {},
   "outputs": [],
   "source": [
    "# 设置循环步长等\n",
    "steps = 1\n",
    "steps_dg_10, steps_fl_3_10 = 3,3\n",
    "steps_dg_5, steps_fl_1_3   = 3,3\n",
    "\n",
    "# jx_dg_10 预处理\n",
    "# min_dg_10, max_dg_10 = df['jx_dg_10'].min(), df['jx_dg_10'].max()\n",
    "min_dg_10, max_dg_10 = 0, 0.5562\n",
    "step_dg_10 = (max_dg_10 - min_dg_10)/steps_dg_10\n",
    "# fl_3_10 预处理\n",
    "# min_fl_3_10, max_fl_3_10 = df['pct_fl_3_10'].min(), df['pct_fl_3_10'].max()*0.1\n",
    "min_fl_3_10, max_fl_3_10 = 0.8317, 1.9661\n",
    "step_fl_3_10 = (max_fl_3_10 - min_fl_3_10)/steps_fl_3_10\n",
    "\n",
    "# jx_dg_5预处理\n",
    "# min_dg_5, max_dg_5 = df['jx_dg_5'].min() * 1.3, df['jx_dg_5'].max() * 0.7\n",
    "min_dg_5, max_dg_5 = -0.2155 , 0.9777\n",
    "step_dg_5 = (max_dg_5 - min_dg_5)/steps_dg_5\n",
    "\n",
    "# fl_1_3 预处理\n",
    "# min_fl_1_3, max_fl_1_3 = df['pct_fl_1_3'].min(), df['pct_fl_1_3'].max()*0.06\n",
    "min_fl_1_3, max_fl_1_3 = 0.40, 3.18\n",
    "step_fl_1_3 = (max_fl_1_3 - min_fl_1_3)/steps_fl_1_3"
   ]
  },
  {
   "cell_type": "code",
   "execution_count": null,
   "metadata": {},
   "outputs": [],
   "source": [
    "%%time\n",
    "# man[col] = 0.0\n",
    "man_data = {'from_dg_10':0.0, 'to_dg_10':0.0,\n",
    "            'from_fl_3_10':0.0, 'to_fl_3_10':0.0,\n",
    "            'from_dg_5':0.0, 'to_dg_5':0.0,\n",
    "            'from_fl_1_3':0.0, 'to_fl_1_3':0.0,\n",
    "            'step':0, 'class':0, 'rate':0.0    \n",
    "}\n",
    "man = pd.DataFrame(data=man_data, index=[0])\n",
    "print_header()\n",
    "all_step, all_class = 0, 0\n",
    "# 开始epoch\n",
    "\n",
    "cond_purpose = df['sz_jt_10']>=3.0\n",
    "\n",
    "from_dg_10 = min_dg_10\n",
    "for i_dg_10 in range(steps_dg_10):\n",
    "    to_dg_10 = min_dg_10 + (i_dg_10+1)*step_dg_10\n",
    "    cond_dg_10 = (df['jx_dg_10'] >= from_dg_10) & (df['jx_dg_10'] < to_dg_10 )\n",
    "\n",
    "    from_dg_5 = min_dg_5\n",
    "    for i_dg_5 in range(steps_dg_5):\n",
    "        to_dg_5 = min_dg_5 + (i_dg_5+1)*step_dg_5\n",
    "        cond_dg_5 = (df['jx_dg_5'] >= from_dg_5) & (df['jx_dg_5'] < to_dg_5 )\n",
    "        \n",
    "        from_fl_3_10 = min_fl_3_10\n",
    "        for i_fl_3_10 in range(steps_fl_3_10):\n",
    "            to_fl_3_10 = min_fl_3_10 + (i_fl_3_10+1)*step_fl_3_10\n",
    "            cond_fl_3_10 = (df['pct_fl_3_10'] >= from_fl_3_10) & (df['pct_fl_3_10'] < to_fl_3_10 )\n",
    "        \n",
    "            from_fl_1_3 = min_fl_1_3\n",
    "            for i_fl_1_3 in range(steps_fl_1_3):\n",
    "                to_fl_1_3 = min_fl_1_3 + (i_fl_1_3+1)*step_fl_1_3\n",
    "                cond_fl_1_3 = (df['pct_fl_1_3'] >= from_fl_1_3) & (df['pct_fl_1_3'] < to_fl_1_3 )\n",
    "             \n",
    "                # 核心运算               \n",
    "                cond_step = (cond_dg_10) & (cond_fl_3_10) & (cond_dg_5) & (cond_fl_1_3) \n",
    "                cond_class = (cond_step ) & ( cond_purpose )\n",
    "        \n",
    "                num_step_series  = df[ cond_step ]['sz_jt_10'].value_counts() \n",
    "                num_class_series = df[ cond_class ]['sz_jt_10'].value_counts() \n",
    "                \n",
    "                num_step = num_step_series.sum() if not num_step_series.empty else 0\n",
    "                num_class = num_class_series.iloc[0] if not num_class_series.empty else 0\n",
    "                num_class_rate = 0 if num_class==0 else num_class*100/num_step\n",
    "                print( '%2d %2d %2d %2d '%(i_dg_10, i_fl_3_10, i_dg_5, i_fl_1_3), \\\n",
    "                    ':%8.4f,%8.4f,%8.4f,%8.4f,%8.4f,%8.4f,%8.4f,%8.4f'%(from_dg_10, to_dg_10, from_fl_3_10, to_fl_3_10, \\\n",
    "                        from_dg_5, to_dg_5, from_fl_1_3, to_fl_1_3),\\\n",
    "                    ' = %7.0f,%7.0f,%7.2f'%(num_step, num_class, num_class_rate) )\n",
    "                # 更新到man\n",
    "                all_step  += num_step  ; all_class += num_class\n",
    "                man_list = [from_dg_10, to_dg_10, from_fl_3_10, to_fl_3_10, \\\n",
    "                    from_dg_5, to_dg_5, from_fl_1_3, to_fl_1_3, \\\n",
    "                    num_step, num_class, num_class_rate]\n",
    "                man = pd.DataFrame(np.insert(man.values, len(man.index), values=man_list, axis=0))        \n",
    "                # 下一个 fl_1_3 loop\n",
    "                from_fl_1_3 += step_fl_1_3\n",
    "            # 下一个 fl_3_10 loop\n",
    "            from_fl_3_10 += step_fl_3_10            \n",
    "        # jx_dg_5下一个loop\n",
    "        from_dg_5 += step_dg_5\n",
    "    # jx_dg_10下一个loop\n",
    "    from_dg_10 += step_dg_10\n",
    "    \n",
    "all_class_rate = all_class*100/all_step \n",
    "print( '-'*112)\n",
    "print( ' '*86, '= %7.0f, %7.0f, %5.2f'%(all_step, all_class, all_class_rate) )\n",
    "man.shape\n"
   ]
  },
  {
   "cell_type": "code",
   "execution_count": null,
   "metadata": {},
   "outputs": [],
   "source": [
    "# 修正： 放量1.1 大了， 取数改小"
   ]
  },
  {
   "cell_type": "code",
   "execution_count": null,
   "metadata": {},
   "outputs": [],
   "source": [
    "\"\"\" 运算结果\n",
    "  dg_10: 0-2.72， 上面可能可以更高   df['jx_dg_10']>=0.5440) & (df['jx_dg_10']<2.4480)\n",
    "\"\"\" \n",
    "df_total = df[ ( df['jx_dg_10']>=0) & (df['jx_dg_10']<2.72) \\\n",
    "    ]['sz_jt_10'].value_counts()\n",
    "df_total, df_total.sum(), df_total[3], df_total[3]/df_total.sum()*100"
   ]
  },
  {
   "cell_type": "code",
   "execution_count": null,
   "metadata": {},
   "outputs": [],
   "source": [
    "df_total = df[  ( df['jx_dg_10']>=0) & (df['jx_dg_10']<2.72) & \\\n",
    "                ( df['pct_fl_3_10']>=1.0500) & (df['pct_fl_3_10']<34.4487)  \\\n",
    "             ]['sz_jt_10'].value_counts()\n",
    "# df_total, df_total.sum(), df_total[3], df_total[3]/df_total.sum()*100\n",
    "df_total.sum(), df_total, df_total/df_total.sum()*100"
   ]
  },
  {
   "cell_type": "code",
   "execution_count": null,
   "metadata": {},
   "outputs": [],
   "source": []
  },
  {
   "cell_type": "code",
   "execution_count": null,
   "metadata": {},
   "outputs": [],
   "source": [
    "pd.set_option('display.max_rows', None)\n",
    "man.columns = col\n",
    "# man.sort_index(ascending=True)\n",
    "# man.set_index('rate', drop=False)\n",
    "sorting = man.sort_values('rate', ascending=False)\n",
    "sorting.head(100)"
   ]
  },
  {
   "cell_type": "code",
   "execution_count": null,
   "metadata": {},
   "outputs": [],
   "source": [
    "man.head(5)"
   ]
  },
  {
   "cell_type": "code",
   "execution_count": null,
   "metadata": {},
   "outputs": [],
   "source": [
    "man.iloc[1]['to_dg_10'], man.iloc[0]['to_dg_10'], man.iloc[2]['to_dg_10'] "
   ]
  },
  {
   "cell_type": "code",
   "execution_count": null,
   "metadata": {},
   "outputs": [],
   "source": []
  }
 ],
 "metadata": {
  "interpreter": {
   "hash": "c964a6907b2774297a48b44694a21488b5d674bf6da9bcac704f7b1c134d78ee"
  },
  "kernelspec": {
   "display_name": "Python 3.9.7 ('base')",
   "language": "python",
   "name": "python3"
  },
  "language_info": {
   "codemirror_mode": {
    "name": "ipython",
    "version": 3
   },
   "file_extension": ".py",
   "mimetype": "text/x-python",
   "name": "python",
   "nbconvert_exporter": "python",
   "pygments_lexer": "ipython3",
   "version": "3.10.11"
  },
  "toc-autonumbering": false,
  "widgets": {
   "application/vnd.jupyter.widget-state+json": {
    "state": {},
    "version_major": 2,
    "version_minor": 0
   }
  }
 },
 "nbformat": 4,
 "nbformat_minor": 4
}
