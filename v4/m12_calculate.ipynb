{
 "cells": [
  {
   "cell_type": "code",
   "execution_count": 12,
   "metadata": {
    "tags": []
   },
   "outputs": [
    {
     "data": {
      "text/plain": [
       "<sqlalchemy.engine.cursor.LegacyCursorResult at 0x235644dc9a0>"
      ]
     },
     "execution_count": 12,
     "metadata": {},
     "output_type": "execute_result"
    }
   ],
   "source": [
    "%matplotlib widget\n",
    "import numpy as np\n",
    "import pandas as pd\n",
    "import random \n",
    "import talib as ta\n",
    "# from numba import jit\n",
    "\n",
    "from importlib import reload \n",
    "from qflib import basic,caldata\n",
    "reload(basic)\n",
    "reload(caldata)\n",
    "\n",
    "global engine, conn\n",
    "engine = basic.engine()\n",
    "conn = basic.conn(engine)\n",
    "\n",
    "df=pd.DataFrame()  # 初始化空值\n",
    "vTest = 1000\n",
    "\n",
    "data_dir = '../data/'\n",
    "# sl_list = pd.read_csv( '../data/sl_hs_const.csv')\n",
    "# sl_list = pd.read_csv( data_dir + 'sl_shengutong.csv')\n",
    "# sl_list = pd.read_csv( '../data/sl_company.csv')\n",
    "sl_list = pd.read_csv( data_dir + 'stocklist.csv')\n",
    "# sl_list = pd.read_csv( data_dir+'data/stocklist.csv')\n",
    "sl_list.head(3), sl_list.shape\n",
    "\n",
    "\n",
    "''' 清空 stock_cal table '''\n",
    "sql = \"truncate table day_zhibiao\"\n",
    "basic.exec_sql(engine, sql)"
   ]
  },
  {
   "cell_type": "code",
   "execution_count": 13,
   "metadata": {},
   "outputs": [],
   "source": [
    "def cal_pct_st():\n",
    "    # 实体部分细化\n",
    "    df['pct_upper'] = df.apply(caldata.cal_upper, axis=1)    # 上引线百分比\n",
    "    df['pct_down']  = df.apply(caldata.cal_down,  axis=1)    # 下引线百分比\n",
    "    df['pct_range'] = df.apply(caldata.cal_range, axis=1)    # 振幅百分比\n",
    "    df['pct_st_range']  = df.apply(caldata.cal_st_range, axis=1)   # 实体部分百分比\n",
    "    df['st_high']   = df.apply(caldata.cal_st_high,  axis=1)   # 实体高点价格\n",
    "    df['st_low']    = df.apply(caldata.cal_st_low,   axis=1)   # 实体低点价格\n",
    "    # df['pct_st']  = df.apply(caldata.cal_st, axis=1)   # 实体高度\n",
    "    # 星线定义\n",
    "    df['xing'] = df['pct_st_range']<=1\n",
    "    return 'pct . '\n",
    "\n",
    "def cal_macd():\n",
    "    ''' way2 : ta-lib '''\n",
    "    close = df.close.values  # 为 MACD 数据初始化close\n",
    "    df['diff'], df['dea'], df['bar'] = ta.MACD(close, fastperiod=12, slowperiod=26, signalperiod=9)\n",
    "    return 'macd . '\n",
    "\n",
    "def cal_ma():\n",
    "    df.insert( df.shape[1], 'MA3', ta.MA(df['close'], 3) )\n",
    "    df.insert( df.shape[1], 'MA5', ta.MA(df['close'], 5) )\n",
    "    df.insert( df.shape[1], 'MA10', ta.MA(df['close'], 10) )\n",
    "    df.insert( df.shape[1], 'MA20', ta.MA(df['close'], 20) )\n",
    "    df.insert( df.shape[1], 'MA30', ta.MA(df['close'], 30) )\n",
    "    df.insert( df.shape[1], 'MA60', ta.MA(df['close'], 60) )\n",
    "    df.insert( df.shape[1], 'MA120', ta.MA(df['close'], 120) )\n",
    "    df.insert( df.shape[1], 'MA250', ta.MA(df['close'], 250) )\n",
    "    return 'ma . '\n",
    "\n",
    "def cal_vol_ma():\n",
    "    df['vol_ma3']=df['volume'].rolling(3).mean()\n",
    "    df['vol_ma5']=df['volume'].rolling(5).mean()\n",
    "    df['vol_ma10']=df['volume'].rolling(10).mean()\n",
    "    df['vol_ma20']=df['volume'].rolling(20).mean()\n",
    "    df['vol_ma60']=df['volume'].rolling(60).mean()\n",
    "    return 'vol_ma . '\n",
    "    \n",
    "def cal_more():\n",
    "    # # 股价变化均值\n",
    "    # df.insert( df.shape[1], 'MA3_pct_change', ta.MA(df['pct_change'], 3) )\n",
    "    # df.insert( df.shape[1], 'MA5_pct_change', ta.MA(df['pct_change'], 5) )\n",
    "    # df.insert( df.shape[1], 'MA10_pct_change', ta.MA(df['pct_change'], 10) )\n",
    "    # df.insert( df.shape[1], 'MA15_pct_change', ta.MA(df['pct_change'], 15) )\n",
    "    # df.insert( df.shape[1], 'MA30_pct_change', ta.MA(df['pct_change'], 30) )\n",
    "    # # N天之内最大股价\n",
    "    # df['MAX3_pct_change']=df['pct_change'].rolling(3).max()\n",
    "    # df['MAX5_pct_change']=df['pct_change'].rolling(5).max()\n",
    "    # df['MAX10_pct_change']=df['pct_change'].rolling(10).max()\n",
    "    # df['MAX15_pct_change']=df['pct_change'].rolling(15).max()\n",
    "    # df['MAX30_pct_change']=df['pct_change'].rolling(30).max()\n",
    "    # # n天之内最高收盘价\n",
    "    # df['MAX90_high']=df['high'].rolling(90).max()\n",
    "    # df['MAX30_high']=df['high'].rolling(30).max()\n",
    "    # df['MAX3_high']=df['high'].rolling(3).max()\n",
    "    \n",
    "    ''' 计算BOLL '''\n",
    "    # df['bb-u'], df['bb-m'], df['bb-l'] = ta.BBANDS( close,timeperiod=20,nbdevup=2,nbdevdn=2,matype=0 )\n",
    "    # df['upper'], df['middle'], df['lower'] = ta.BBANDS( close,timeperiod=20,nbdevup=2,nbdevdn=2,matype=0 )\n",
    "    \n",
    "\n",
    "\n",
    "# import\n",
    "# df['MA15_pct_change'] = df['pct_change'].rolling(15).mean() \n"
   ]
  },
  {
   "cell_type": "code",
   "execution_count": 14,
   "metadata": {},
   "outputs": [
    {
     "name": "stdout",
     "output_type": "stream",
     "text": [
      "计算各类指标 : \n",
      "0 - 601318.SH 中国平安 pct . macd . ma . vol_ma . \n",
      "1 - 300474.SZ 景嘉微 pct . macd . ma . vol_ma . \n",
      "\n",
      "\n",
      "指标运算结束\n",
      "CPU times: total: 31.2 ms\n",
      "Wall time: 407 ms\n"
     ]
    }
   ],
   "source": [
    "%%time\n",
    "\n",
    "print('计算各类指标 : ')\n",
    "for i in range( len(sl_list)  ):\n",
    "    \n",
    "    # begin with ts_code\n",
    "    print(sl_list.index[i],'-', sl_list['ts_code'][i], sl_list['name'][i], end=\" \")\n",
    "    \n",
    "    # 不计算8字头，北京股票\n",
    "    if sl_list['ts_code'][i].startswith('8'):\n",
    "        print( 'ignore 8xxx', end='\\n' )\n",
    "        continue\n",
    "    # 不计算688字头，科创板\n",
    "    if sl_list['ts_code'][i].startswith('688'):\n",
    "        print( 'ignore 688x', end='\\n' )\n",
    "        continue\n",
    "    \n",
    "    # 本地MySQL读取\n",
    "    sql = \"select * from tran_daily where ts_code='\"+sl_list['ts_code'][i]+\"'\"\n",
    "    df = basic.read_data(conn, sql)\n",
    "    df.set_index('trade_date', drop=True, append=False, inplace=True)\n",
    "    df = df.sort_index(ascending=True)\n",
    "    # 如果没有交易记录，则跳过loop\n",
    "    if len(df) == 0:\n",
    "        print( 'no data', end='' )\n",
    "        continue  \n",
    "    \n",
    "    # 计算 percentage 和 实体部分\n",
    "    print( cal_pct_st(), end='' )\n",
    "           \n",
    "    # 计算macd\n",
    "    print( cal_macd(), end='' )\n",
    "    \n",
    "    # 计算ma\n",
    "    print( cal_ma(), end='' )\n",
    "\n",
    "    # 计算vol_ma\n",
    "    print( cal_vol_ma(), end='' )\n",
    "\n",
    "    # 空值填充为0\n",
    "    df = df.fillna(value=0)\n",
    "\n",
    "    \"\"\" 输出 to csv \"\"\"\n",
    "    # df.to_csv( data_dir+'cal/' + sl_list['ts_code'][i] +'.cal.csv', index=True )    \n",
    "    ''' 输出到 mysql '''\n",
    "    sql = \"delete from day_zhibiao where ts_code='\"+sl_list['ts_code'][i] +\"'\"\n",
    "    basic.exec_sql(conn, sql)\n",
    "    # df.to_sql('day_zhibiao', conn, index=True, if_exists='append', chunksize=2000)\n",
    "    write_no = df.to_sql('day_zhibiao', conn, index=True, if_exists='append', chunksize=2000) # 20000个，每天成交几千只股票，足够了\n",
    "    # index=True, 需要输出日期字段    \n",
    "    # 首次运行，建立stock_cal表, 可以从df中建立表，表之前不存在，然后再改字段和index\n",
    "\n",
    "    print( end='\\n')\n",
    "\n",
    "print('\\n\\n指标运算结束')\n",
    "\n"
   ]
  },
  {
   "cell_type": "code",
   "execution_count": 15,
   "metadata": {},
   "outputs": [],
   "source": [
    "# basic.write_data(engine, df, 'stock_basic', False, 'append')\n",
    "# basic.write_data(engine, df, 'stock_cal', True, 'replace')"
   ]
  },
  {
   "cell_type": "code",
   "execution_count": 16,
   "metadata": {},
   "outputs": [],
   "source": [
    "\n",
    "# 插入和删除行，很有用\n",
    "# df.insert( df.shape[1], 'MA250', ta.MA(df['close'], 250) )\n",
    "# df.drop( labels=['MA125'], axis=1, inplace=True)"
   ]
  }
 ],
 "metadata": {
  "interpreter": {
   "hash": "c964a6907b2774297a48b44694a21488b5d674bf6da9bcac704f7b1c134d78ee"
  },
  "kernelspec": {
   "display_name": "Python 3.9.7 ('base')",
   "language": "python",
   "name": "python3"
  },
  "language_info": {
   "codemirror_mode": {
    "name": "ipython",
    "version": 3
   },
   "file_extension": ".py",
   "mimetype": "text/x-python",
   "name": "python",
   "nbconvert_exporter": "python",
   "pygments_lexer": "ipython3",
   "version": "3.10.11"
  },
  "toc-autonumbering": false,
  "widgets": {
   "application/vnd.jupyter.widget-state+json": {
    "state": {},
    "version_major": 2,
    "version_minor": 0
   }
  }
 },
 "nbformat": 4,
 "nbformat_minor": 4
}
