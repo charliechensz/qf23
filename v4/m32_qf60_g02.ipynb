{
 "cells": [
  {
   "cell_type": "code",
   "execution_count": 63,
   "metadata": {
    "tags": []
   },
   "outputs": [
    {
     "name": "stdout",
     "output_type": "stream",
     "text": [
      "cuda:0\n"
     ]
    }
   ],
   "source": [
    "import numpy as np\n",
    "import pandas as pd\n",
    "import matplotlib.pyplot as plt\n",
    "import math, random\n",
    "# %matplotlib inline\n",
    "\n",
    "import torch\n",
    "from torch import nn\n",
    "import torch.nn.functional as F  # 避免relu和sigmoid的初始化，可以直接调用\n",
    "\n",
    "from importlib import reload \n",
    "from qflib import basic\n",
    "reload(basic)\n",
    "\n",
    "global engine, conn\n",
    "engine = basic.engine()\n",
    "conn = basic.conn(engine)\n",
    "\n",
    "df=pd.DataFrame()  # 初始化空值\n",
    "# pd.options.display.float_format = '{:.7g}'.format \n",
    "vTest = 1000\n",
    "\n",
    "import torch.backends.cudnn as cudnn\n",
    "cudnn.benchmark = True  \n",
    "cudnn.deterministic = True\n",
    "\n",
    "xl_01dgree = 0.001745 # 0.1度 \n",
    "xl_02dgree = 0.003490 # 0.2度 \n",
    "xl_03dgree = 0.005230 # 0.3度\n",
    "xl_dgree = xl_03dgree\n",
    "\n",
    "device = torch.device(\"cuda:0\" if torch.cuda.is_available() else \"cpu\")\n",
    "print( device )\n",
    "# if torch.cuda.is_available():\n",
    "#     torch.cuda.caching_allocator_delete\n",
    "#     torch.cuda.empty_cache()  # 释放显存\n",
    "#     print('Memory Allocated', torch.cuda.memory_allocated() )"
   ]
  },
  {
   "cell_type": "code",
   "execution_count": 64,
   "metadata": {
    "tags": []
   },
   "outputs": [],
   "source": [
    "# 读取数据 \n",
    "sql=\"SELECT * FROM ds_qf60\"\n",
    "# sql=\"SELECT * FROM ds_qf60_2\"\n",
    "df = pd.read_sql_query(sql, conn, index_col=None)\n",
    "del df['index']"
   ]
  },
  {
   "cell_type": "code",
   "execution_count": 65,
   "metadata": {
    "tags": []
   },
   "outputs": [
    {
     "data": {
      "text/plain": [
       "101148"
      ]
     },
     "execution_count": 65,
     "metadata": {},
     "output_type": "execute_result"
    }
   ],
   "source": [
    "\"\"\" 确定训练的目标 \"\"\"\n",
    "df['class0'] = df['test00']\n",
    "# df['class0'] = df['test5_8']\n",
    "# df['class0'] = df['test10_10']\n",
    "# df['class0'] = df['test20_20']\n",
    "# df['class0'] = df['test20_30']\n",
    "# df.info()\n",
    "len(df)"
   ]
  },
  {
   "cell_type": "code",
   "execution_count": 66,
   "metadata": {},
   "outputs": [
    {
     "data": {
      "text/plain": [
       "(array([1., 0.]),\n",
       " 1.0    51474\n",
       " 0.0    49674\n",
       " Name: class0, dtype: int64,\n",
       " 1.0    0.508898\n",
       " 0.0    0.491102\n",
       " Name: class0, dtype: float64)"
      ]
     },
     "execution_count": 66,
     "metadata": {},
     "output_type": "execute_result"
    }
   ],
   "source": [
    "df.class0.unique(), df.class0.value_counts(), df.class0.value_counts()/len(df)"
   ]
  },
  {
   "cell_type": "code",
   "execution_count": 67,
   "metadata": {},
   "outputs": [],
   "source": [
    "# basic.angle2degree(1)"
   ]
  },
  {
   "cell_type": "code",
   "execution_count": 68,
   "metadata": {},
   "outputs": [],
   "source": [
    "# 字段优化处理\n",
    "df['jx_dg_120'] = df['jx_xl_120'].apply(np.arctan).apply(np.degrees) * 100\n",
    "df['jx_dg_60'] = df['jx_xl_60'].apply(np.arctan).apply(np.degrees)  * 100\n",
    "df['jx_dg_20'] = df['jx_xl_20'].apply(np.arctan).apply(np.degrees)  * 100\n"
   ]
  },
  {
   "cell_type": "code",
   "execution_count": 69,
   "metadata": {},
   "outputs": [],
   "source": [
    "df['pct_fl_3_10']  = (df['lj_fl_3_10'] - 1) * 3/2  * 100\n",
    "df['pct_fl_5_20']  = (df['lj_fl_5_20'] - 1) *20/15 * 100\n",
    "df['pct_fl_20_60'] = (df['lj_fl_20_60'] -1) *60/40 * 100\n",
    "# df['zs_20'] = df['jx_zs_20'] > 0, \n",
    "df['zs_20'] = (df['jx_zs_20'] > 0).astype(int)"
   ]
  },
  {
   "cell_type": "code",
   "execution_count": 70,
   "metadata": {},
   "outputs": [
    {
     "data": {
      "text/html": [
       "<div>\n",
       "<style scoped>\n",
       "    .dataframe tbody tr th:only-of-type {\n",
       "        vertical-align: middle;\n",
       "    }\n",
       "\n",
       "    .dataframe tbody tr th {\n",
       "        vertical-align: top;\n",
       "    }\n",
       "\n",
       "    .dataframe thead th {\n",
       "        text-align: right;\n",
       "    }\n",
       "</style>\n",
       "<table border=\"1\" class=\"dataframe\">\n",
       "  <thead>\n",
       "    <tr style=\"text-align: right;\">\n",
       "      <th></th>\n",
       "      <th>jx_dg_60</th>\n",
       "      <th>jx_xl_60</th>\n",
       "      <th>pct_fl_5_20</th>\n",
       "      <th>lj_fl_5_20</th>\n",
       "    </tr>\n",
       "  </thead>\n",
       "  <tbody>\n",
       "    <tr>\n",
       "      <th>0</th>\n",
       "      <td>-15.009970</td>\n",
       "      <td>-0.002620</td>\n",
       "      <td>58.877333</td>\n",
       "      <td>1.44158</td>\n",
       "    </tr>\n",
       "    <tr>\n",
       "      <th>1</th>\n",
       "      <td>-14.688314</td>\n",
       "      <td>-0.002564</td>\n",
       "      <td>57.585333</td>\n",
       "      <td>1.43189</td>\n",
       "    </tr>\n",
       "    <tr>\n",
       "      <th>2</th>\n",
       "      <td>-14.228117</td>\n",
       "      <td>-0.002483</td>\n",
       "      <td>37.545333</td>\n",
       "      <td>1.28159</td>\n",
       "    </tr>\n",
       "    <tr>\n",
       "      <th>3</th>\n",
       "      <td>6.763592</td>\n",
       "      <td>0.001180</td>\n",
       "      <td>76.026667</td>\n",
       "      <td>1.57020</td>\n",
       "    </tr>\n",
       "    <tr>\n",
       "      <th>4</th>\n",
       "      <td>-12.851937</td>\n",
       "      <td>-0.002243</td>\n",
       "      <td>23.410667</td>\n",
       "      <td>1.17558</td>\n",
       "    </tr>\n",
       "    <tr>\n",
       "      <th>5</th>\n",
       "      <td>0.102731</td>\n",
       "      <td>0.000018</td>\n",
       "      <td>47.942667</td>\n",
       "      <td>1.35957</td>\n",
       "    </tr>\n",
       "    <tr>\n",
       "      <th>6</th>\n",
       "      <td>2.157392</td>\n",
       "      <td>0.000377</td>\n",
       "      <td>38.078667</td>\n",
       "      <td>1.28559</td>\n",
       "    </tr>\n",
       "    <tr>\n",
       "      <th>7</th>\n",
       "      <td>-1.541577</td>\n",
       "      <td>-0.000269</td>\n",
       "      <td>16.490667</td>\n",
       "      <td>1.12368</td>\n",
       "    </tr>\n",
       "    <tr>\n",
       "      <th>8</th>\n",
       "      <td>-1.698121</td>\n",
       "      <td>-0.000296</td>\n",
       "      <td>18.222667</td>\n",
       "      <td>1.13667</td>\n",
       "    </tr>\n",
       "    <tr>\n",
       "      <th>9</th>\n",
       "      <td>-0.363775</td>\n",
       "      <td>-0.000063</td>\n",
       "      <td>21.672000</td>\n",
       "      <td>1.16254</td>\n",
       "    </tr>\n",
       "  </tbody>\n",
       "</table>\n",
       "</div>"
      ],
      "text/plain": [
       "    jx_dg_60  jx_xl_60  pct_fl_5_20  lj_fl_5_20\n",
       "0 -15.009970 -0.002620    58.877333     1.44158\n",
       "1 -14.688314 -0.002564    57.585333     1.43189\n",
       "2 -14.228117 -0.002483    37.545333     1.28159\n",
       "3   6.763592  0.001180    76.026667     1.57020\n",
       "4 -12.851937 -0.002243    23.410667     1.17558\n",
       "5   0.102731  0.000018    47.942667     1.35957\n",
       "6   2.157392  0.000377    38.078667     1.28559\n",
       "7  -1.541577 -0.000269    16.490667     1.12368\n",
       "8  -1.698121 -0.000296    18.222667     1.13667\n",
       "9  -0.363775 -0.000063    21.672000     1.16254"
      ]
     },
     "execution_count": 70,
     "metadata": {},
     "output_type": "execute_result"
    }
   ],
   "source": [
    "df[ ['jx_dg_60', 'jx_xl_60', 'pct_fl_5_20','lj_fl_5_20'] ].head(10)"
   ]
  },
  {
   "cell_type": "code",
   "execution_count": 71,
   "metadata": {},
   "outputs": [],
   "source": [
    "#  'diff', 'dea',, \n",
    "# X_columns0 = ['pct_change', \n",
    "#              'jx_days_ud60', \n",
    "#              'jx_xl_120','jx_xl_60', 'jx_xl_20', \n",
    "#              'jx_zs_20', \n",
    "#              'lj_fl_5_20','lj_fl_20_60']\n",
    "X_columns = ['jx_dg_120','jx_dg_60', 'jx_dg_20', \n",
    "             'pct_change', \n",
    "             'pct_fl_3_10','pct_fl_5_20','pct_fl_20_60']"
   ]
  },
  {
   "cell_type": "code",
   "execution_count": 72,
   "metadata": {},
   "outputs": [
    {
     "data": {
      "text/html": [
       "<div>\n",
       "<style scoped>\n",
       "    .dataframe tbody tr th:only-of-type {\n",
       "        vertical-align: middle;\n",
       "    }\n",
       "\n",
       "    .dataframe tbody tr th {\n",
       "        vertical-align: top;\n",
       "    }\n",
       "\n",
       "    .dataframe thead th {\n",
       "        text-align: right;\n",
       "    }\n",
       "</style>\n",
       "<table border=\"1\" class=\"dataframe\">\n",
       "  <thead>\n",
       "    <tr style=\"text-align: right;\">\n",
       "      <th></th>\n",
       "      <th>jx_dg_120</th>\n",
       "      <th>jx_dg_60</th>\n",
       "      <th>jx_dg_20</th>\n",
       "      <th>pct_change</th>\n",
       "      <th>pct_fl_3_10</th>\n",
       "      <th>pct_fl_5_20</th>\n",
       "      <th>pct_fl_20_60</th>\n",
       "    </tr>\n",
       "  </thead>\n",
       "  <tbody>\n",
       "    <tr>\n",
       "      <th>0</th>\n",
       "      <td>8.163211</td>\n",
       "      <td>-15.009970</td>\n",
       "      <td>3.387074</td>\n",
       "      <td>-1.1538</td>\n",
       "      <td>47.08950</td>\n",
       "      <td>58.877333</td>\n",
       "      <td>-20.23005</td>\n",
       "    </tr>\n",
       "    <tr>\n",
       "      <th>1</th>\n",
       "      <td>7.001770</td>\n",
       "      <td>-14.688314</td>\n",
       "      <td>9.715350</td>\n",
       "      <td>0.5414</td>\n",
       "      <td>69.82050</td>\n",
       "      <td>57.585333</td>\n",
       "      <td>-21.35475</td>\n",
       "    </tr>\n",
       "    <tr>\n",
       "      <th>2</th>\n",
       "      <td>6.349688</td>\n",
       "      <td>-14.228117</td>\n",
       "      <td>4.073804</td>\n",
       "      <td>1.8913</td>\n",
       "      <td>66.55650</td>\n",
       "      <td>37.545333</td>\n",
       "      <td>-24.00660</td>\n",
       "    </tr>\n",
       "    <tr>\n",
       "      <th>3</th>\n",
       "      <td>-10.723981</td>\n",
       "      <td>6.763592</td>\n",
       "      <td>0.599789</td>\n",
       "      <td>4.3909</td>\n",
       "      <td>52.57350</td>\n",
       "      <td>76.026667</td>\n",
       "      <td>3.87000</td>\n",
       "    </tr>\n",
       "    <tr>\n",
       "      <th>4</th>\n",
       "      <td>-1.070829</td>\n",
       "      <td>-12.851937</td>\n",
       "      <td>0.507476</td>\n",
       "      <td>0.1154</td>\n",
       "      <td>35.79900</td>\n",
       "      <td>23.410667</td>\n",
       "      <td>25.59600</td>\n",
       "    </tr>\n",
       "    <tr>\n",
       "      <th>...</th>\n",
       "      <td>...</td>\n",
       "      <td>...</td>\n",
       "      <td>...</td>\n",
       "      <td>...</td>\n",
       "      <td>...</td>\n",
       "      <td>...</td>\n",
       "      <td>...</td>\n",
       "    </tr>\n",
       "    <tr>\n",
       "      <th>101143</th>\n",
       "      <td>-12.370827</td>\n",
       "      <td>-5.602185</td>\n",
       "      <td>6.317831</td>\n",
       "      <td>2.0846</td>\n",
       "      <td>26.41800</td>\n",
       "      <td>2.558667</td>\n",
       "      <td>-28.27590</td>\n",
       "    </tr>\n",
       "    <tr>\n",
       "      <th>101144</th>\n",
       "      <td>0.000000</td>\n",
       "      <td>-14.670610</td>\n",
       "      <td>3.767122</td>\n",
       "      <td>-5.1149</td>\n",
       "      <td>-4.66905</td>\n",
       "      <td>3.510667</td>\n",
       "      <td>-63.25680</td>\n",
       "    </tr>\n",
       "    <tr>\n",
       "      <th>101145</th>\n",
       "      <td>0.000000</td>\n",
       "      <td>-13.477604</td>\n",
       "      <td>25.466546</td>\n",
       "      <td>-5.5798</td>\n",
       "      <td>-8.51835</td>\n",
       "      <td>13.884000</td>\n",
       "      <td>-64.49850</td>\n",
       "    </tr>\n",
       "    <tr>\n",
       "      <th>101146</th>\n",
       "      <td>0.000000</td>\n",
       "      <td>-9.332099</td>\n",
       "      <td>47.549478</td>\n",
       "      <td>0.2736</td>\n",
       "      <td>-3.76890</td>\n",
       "      <td>0.613333</td>\n",
       "      <td>-66.76395</td>\n",
       "    </tr>\n",
       "    <tr>\n",
       "      <th>101147</th>\n",
       "      <td>0.000000</td>\n",
       "      <td>-17.325274</td>\n",
       "      <td>50.522166</td>\n",
       "      <td>-0.0547</td>\n",
       "      <td>29.80200</td>\n",
       "      <td>6.228000</td>\n",
       "      <td>-66.24900</td>\n",
       "    </tr>\n",
       "  </tbody>\n",
       "</table>\n",
       "<p>101148 rows × 7 columns</p>\n",
       "</div>"
      ],
      "text/plain": [
       "        jx_dg_120   jx_dg_60   jx_dg_20  pct_change  pct_fl_3_10  pct_fl_5_20  \\\n",
       "0        8.163211 -15.009970   3.387074     -1.1538     47.08950    58.877333   \n",
       "1        7.001770 -14.688314   9.715350      0.5414     69.82050    57.585333   \n",
       "2        6.349688 -14.228117   4.073804      1.8913     66.55650    37.545333   \n",
       "3      -10.723981   6.763592   0.599789      4.3909     52.57350    76.026667   \n",
       "4       -1.070829 -12.851937   0.507476      0.1154     35.79900    23.410667   \n",
       "...           ...        ...        ...         ...          ...          ...   \n",
       "101143 -12.370827  -5.602185   6.317831      2.0846     26.41800     2.558667   \n",
       "101144   0.000000 -14.670610   3.767122     -5.1149     -4.66905     3.510667   \n",
       "101145   0.000000 -13.477604  25.466546     -5.5798     -8.51835    13.884000   \n",
       "101146   0.000000  -9.332099  47.549478      0.2736     -3.76890     0.613333   \n",
       "101147   0.000000 -17.325274  50.522166     -0.0547     29.80200     6.228000   \n",
       "\n",
       "        pct_fl_20_60  \n",
       "0          -20.23005  \n",
       "1          -21.35475  \n",
       "2          -24.00660  \n",
       "3            3.87000  \n",
       "4           25.59600  \n",
       "...              ...  \n",
       "101143     -28.27590  \n",
       "101144     -63.25680  \n",
       "101145     -64.49850  \n",
       "101146     -66.76395  \n",
       "101147     -66.24900  \n",
       "\n",
       "[101148 rows x 7 columns]"
      ]
     },
     "execution_count": 72,
     "metadata": {},
     "output_type": "execute_result"
    }
   ],
   "source": [
    "df[ X_columns ]"
   ]
  },
  {
   "cell_type": "code",
   "execution_count": 73,
   "metadata": {},
   "outputs": [
    {
     "data": {
      "text/plain": [
       "((101148, 7),\n",
       "    jx_dg_120   jx_dg_60  jx_dg_20  pct_change  pct_fl_3_10  pct_fl_5_20  \\\n",
       " 0   8.163211 -15.009970  3.387074     -1.1538      47.0895    58.877333   \n",
       " 1   7.001770 -14.688314  9.715350      0.5414      69.8205    57.585333   \n",
       " 2   6.349688 -14.228117  4.073804      1.8913      66.5565    37.545333   \n",
       " \n",
       "    pct_fl_20_60  \n",
       " 0     -20.23005  \n",
       " 1     -21.35475  \n",
       " 2     -24.00660  )"
      ]
     },
     "execution_count": 73,
     "metadata": {},
     "output_type": "execute_result"
    }
   ],
   "source": [
    "X_data = df[X_columns]  \n",
    "# X = torch.from_numpy(X_data.values).type(torch.float32)\n",
    "Y_data = df.class0.values.reshape(-1,1)  # 转换成 pd type array\n",
    "# Y = torch.from_numpy(Y_data).type(torch.float32)\n",
    "X_data.shape, X_data.head(3)\n",
    "# , Y.shape"
   ]
  },
  {
   "cell_type": "code",
   "execution_count": 74,
   "metadata": {},
   "outputs": [
    {
     "data": {
      "text/plain": [
       "(array([0., 1.]), array([49674, 51474], dtype=int64))"
      ]
     },
     "execution_count": 74,
     "metadata": {},
     "output_type": "execute_result"
    }
   ],
   "source": [
    "unique, counts = np.unique(Y_data, return_counts=True)\n",
    "unique, counts\n"
   ]
  },
  {
   "cell_type": "code",
   "execution_count": 75,
   "metadata": {},
   "outputs": [],
   "source": [
    "import torch.nn.parameter as param\n",
    "\n",
    "class Model3(nn.Module):\n",
    "    def __init__(self):\n",
    "        super().__init__()      # 继承父类中所有的属性\n",
    "        self.liner_1 = nn.Linear(7, 32)   # X.size(1)= 20； 定义64个后续中间层\n",
    "        self.liner_2 = nn.Linear(32, 16)   # 接着，再定义64个后续中间层\n",
    "        self.liner_3 = nn.Linear(16, 1)   # 接着，再定义64个后续中间层\n",
    "    def forward(self, input):\n",
    "        x = F.relu( self.liner_1(input) )\n",
    "        x = F.relu( self.liner_2(x) )\n",
    "        x = F.sigmoid( self.liner_3(x) )\n",
    "        return x\n",
    "\n",
    "# 更加高级语言法，等价于Model\n",
    "# class Model_high(nn.Module):\n",
    "#     def __init__(self):\n",
    "#         super().__init__()      # 继承父类中所有的属性\n",
    "#         self.liner_1 = nn.Linear(29, 64)   # X.size(1)= 20； 定义64个后续中间层\n",
    "#         self.liner_2 = nn.Linear(64, 32)   # 接着，再定义64个后续中间层\n",
    "#         self.liner_4 = nn.Linear(32, 1)   # 接着，再定义64个后续中间层\n",
    "#         self.relu = nn.ReLU()\n",
    "#         self.sigmoid = nn.Sigmoid()\n",
    "#     def forward(self, input):\n",
    "#         x = self.Liner_1(input)\n",
    "#         x = self.relu(x)\n",
    "#         x = self.Liner_2(x)\n",
    "#         x = self.relu(x)\n",
    "#         x = self.Liner_3(x)\n",
    "#         x = self.sigmoid(x)\n",
    "#         return x"
   ]
  },
  {
   "cell_type": "code",
   "execution_count": 97,
   "metadata": {},
   "outputs": [
    {
     "name": "stdout",
     "output_type": "stream",
     "text": [
      "Y_data:  {0.0: 49674, 1.0: 51474}\n"
     ]
    },
    {
     "data": {
      "text/plain": [
       "(torch.Size([75861, 7]),\n",
       " torch.Size([25287, 7]),\n",
       " torch.Size([75861, 1]),\n",
       " torch.Size([25287, 1]))"
      ]
     },
     "execution_count": 97,
     "metadata": {},
     "output_type": "execute_result"
    }
   ],
   "source": [
    "# Ver 4.2 - sklearn mode\n",
    "\n",
    "lr = 0.001\n",
    "# lr = 0.00001\n",
    "def get_model():\n",
    "    model = Model3()\n",
    "    opt = torch.optim.Adam(model.parameters(), lr=lr)\n",
    "    return model, opt\n",
    "\n",
    "model, optim = get_model()\n",
    "model = model\n",
    "# model, optim \n",
    "\n",
    "loss_fn = nn.BCELoss()\n",
    "# loss_fn = loss_fn.to(device)\n",
    "batch = 2\n",
    "# batch = 4\n",
    "# batch = 32\n",
    "# batch = 1024\n",
    "epochs = 20\n",
    "no_of_batches = len(X_data)//batch\n",
    "from torch.utils.data import TensorDataset, DataLoader\n",
    "\n",
    "def accuracy(y_pred, y_true):\n",
    "    y_pred = (y_pred > 0.5).type(torch.int32)\n",
    "    acc = (y_pred == y_true).float().mean()\n",
    "    return acc\n",
    "\n",
    "from sklearn.model_selection import train_test_split\n",
    "train_x, test_x, train_y, test_y = train_test_split(X_data, Y_data)\n",
    "\n",
    "unique, counts = np.unique(Y_data, return_counts=True)\n",
    "print( 'Y_data: ', dict(zip(unique, counts)) )\n",
    "\n",
    "train_x = torch.from_numpy(train_x.values).type(torch.float32)\n",
    "train_y = torch.from_numpy(train_y).type(torch.float32)\n",
    "train_ds = TensorDataset(train_x, train_y)\n",
    "train_dl = DataLoader(train_ds, batch_size=batch, shuffle=True)  # 需要shuffle，乱序执行\n",
    "# unique, counts = np.unique(train_y, return_counts=True)\n",
    "# print( 'train_y: ', dict(zip(unique, counts)) )\n",
    "\n",
    "test_x = torch.from_numpy(test_x.values).type(torch.float32)\n",
    "test_y = torch.from_numpy(test_y).type(torch.float32)\n",
    "test_ds = TensorDataset(test_x, test_y)\n",
    "test_dl = DataLoader(test_ds, batch_size=batch, shuffle=False)  # 不需要shuffle，减少运算量\n",
    "\n",
    "train_x.shape, test_x.shape, train_y.shape, test_y.shape"
   ]
  },
  {
   "cell_type": "code",
   "execution_count": 77,
   "metadata": {},
   "outputs": [
    {
     "data": {
      "text/plain": [
       "(array([0., 1.]), array([49674, 51474], dtype=int64))"
      ]
     },
     "execution_count": 77,
     "metadata": {},
     "output_type": "execute_result"
    }
   ],
   "source": [
    "unique, counts = np.unique(Y_data, return_counts=True)\n",
    "unique, counts"
   ]
  },
  {
   "cell_type": "markdown",
   "metadata": {},
   "source": [
    "计算正确率\n",
    "- Sigmoid()是0和1之间的值， 大于0.5为1，否则是0\n",
    "- out1 = (y-pred >0.5).type(torch.int32)  : 转换成0或1\n",
    "- (out1 == labels).float().mean()"
   ]
  },
  {
   "cell_type": "code",
   "execution_count": 98,
   "metadata": {},
   "outputs": [
    {
     "name": "stdout",
     "output_type": "stream",
     "text": [
      "epoch:  0  train_loss:  0.6899  Acc： 0.5272 0  test_loss:  0.6903  Acc： 0.5257\n",
      "epoch:  1  train_loss:  0.6896  Acc： 0.5295 1  test_loss:  0.6903  Acc： 0.5254\n",
      "epoch:  2  train_loss:  0.689  Acc： 0.5321 2  test_loss:  0.6895  Acc： 0.5294\n",
      "epoch:  3  train_loss:  0.6884  Acc： 0.5421 3  test_loss:  0.6891  Acc： 0.5382\n",
      "epoch:  4  train_loss:  0.688  Acc： 0.5359 4  test_loss:  0.6889  Acc： 0.5315\n",
      "epoch:  5  train_loss:  0.6872  Acc： 0.5411 5  test_loss:  0.6887  Acc： 0.5366\n",
      "epoch:  6  train_loss:  0.6886  Acc： 0.5476 6  test_loss:  0.6904  Acc： 0.5389\n",
      "epoch:  7  train_loss:  0.6871  Acc： 0.5436 7  test_loss:  0.6879  Acc： 0.5393\n",
      "epoch:  8  train_loss:  0.6875  Acc： 0.5411 8  test_loss:  0.6889  Acc： 0.5355\n",
      "epoch:  9  train_loss:  0.6862  Acc： 0.5467 9  test_loss:  0.688  Acc： 0.5436\n",
      "epoch:  10  train_loss:  0.6868  Acc： 0.5469 10  test_loss:  0.6885  Acc： 0.5444\n",
      "epoch:  11  train_loss:  0.6872  Acc： 0.546 11  test_loss:  0.6897  Acc： 0.5399\n",
      "epoch:  12  train_loss:  0.6856  Acc： 0.5504 12  test_loss:  0.6889  Acc： 0.5416\n",
      "epoch:  13  train_loss:  0.6851  Acc： 0.5498 13  test_loss:  0.6877  Acc： 0.5413\n",
      "epoch:  14  train_loss:  0.6848  Acc： 0.5496 14  test_loss:  0.6874  Acc： 0.5435\n",
      "epoch:  15  train_loss:  0.6887  Acc： 0.5423 15  test_loss:  0.6918  Acc： 0.5397\n",
      "epoch:  16  train_loss:  0.6862  Acc： 0.5448 16  test_loss:  0.6882  Acc： 0.5402\n",
      "epoch:  17  train_loss:  0.687  Acc： 0.5444 17  test_loss:  0.6887  Acc： 0.5407\n",
      "epoch:  18  train_loss:  0.685  Acc： 0.5449 18  test_loss:  0.6875  Acc： 0.5382\n",
      "epoch:  19  train_loss:  0.6872  Acc： 0.5424 19  test_loss:  0.6893  Acc： 0.5354\n",
      "CPU times: total: 3min 21s\n",
      "Wall time: 10min 6s\n"
     ]
    }
   ],
   "source": [
    "%%time\n",
    "epochs = 20\n",
    "for epoch in range( epochs ):\n",
    "    for x,y in train_dl:\n",
    "        y_pred = model(x)\n",
    "        loss = loss_fn(y_pred, y)\n",
    "        optim.zero_grad()\n",
    "        loss.backward()\n",
    "        optim.step()\n",
    "    with torch.no_grad():\n",
    "        # print('epoch: ', epoch) \n",
    "        epoch_accuracy = accuracy(model(train_x), train_y)\n",
    "        epoch_loss = loss_fn(model(train_x), train_y).data.item()\n",
    "        epoch_test_accuracy = accuracy(model(test_x), test_y)\n",
    "        epoch_test_loss = loss_fn(model(test_x), test_y).data.item()\n",
    "        print('epoch: ', \n",
    "            epoch, ' train_loss: ', round(epoch_loss,4), ' Acc：', round(epoch_accuracy.item(),4),\n",
    "            epoch, ' test_loss: ', round(epoch_test_loss,4), ' Acc：', round(epoch_test_accuracy.item(),4) )"
   ]
  },
  {
   "cell_type": "code",
   "execution_count": 79,
   "metadata": {},
   "outputs": [
    {
     "data": {
      "text/plain": [
       "tensor(0.5378)"
      ]
     },
     "execution_count": 79,
     "metadata": {},
     "output_type": "execute_result"
    }
   ],
   "source": [
    "accuracy(model(test_x), test_y)"
   ]
  },
  {
   "cell_type": "code",
   "execution_count": 80,
   "metadata": {},
   "outputs": [],
   "source": [
    "# df.head(1)"
   ]
  },
  {
   "cell_type": "code",
   "execution_count": 81,
   "metadata": {},
   "outputs": [
    {
     "name": "stdout",
     "output_type": "stream",
     "text": [
      "Y_data2:  {1.0: 51474}\n",
      "test_y2:  {1.0: 12869}\n"
     ]
    },
    {
     "data": {
      "text/plain": [
       "tensor(0.5657)"
      ]
     },
     "execution_count": 81,
     "metadata": {},
     "output_type": "execute_result"
    }
   ],
   "source": [
    "\n",
    "df_mn = df[ df['class0']==1.0]\n",
    "# df_mn = df[ df['class0'] !=1 ]\n",
    "# df_mn = df_now\n",
    "# df_mn = df\n",
    "\n",
    "X_data2 = df_mn[X_columns]  \n",
    "Y_data2 = df_mn.class0.values.reshape(-1,1)  # 转换成 pd type array\n",
    "# print( X_data2.shape, Y_data2.shape )\n",
    "\n",
    "unique, counts = np.unique(Y_data2, return_counts=True)\n",
    "print( 'Y_data2: ', dict(zip(unique, counts)) )\n",
    "\n",
    "train_x2, test_x2, train_y2, test_y2 = train_test_split(X_data2, Y_data2, shuffle=True)\n",
    "# train_x = torch.from_numpy(train_x.values).type(torch.float32).to(device)\n",
    "# train_y = torch.from_numpy(train_y).type(torch.float32).to(device)\n",
    "# train_ds = TensorDataset(train_x, train_y)\n",
    "# train_dl = DataLoader(train_ds, batch_size=batch, shuffle=True)  # 需要shuffle，乱序执行\n",
    "\n",
    "unique, counts = np.unique(test_y2, return_counts=True)\n",
    "print( 'test_y2: ', dict(zip(unique, counts)) )\n",
    "\n",
    "test_X2 = torch.from_numpy(test_x2.values).type(torch.float32)\n",
    "test_Y2 = torch.from_numpy(test_y2).type(torch.float32)\n",
    "# unique, counts = np.unique(test_Y2, return_counts=True)\n",
    "# print( 'test_Y2: ', dict(zip(unique, counts)) )\n",
    "# test_ds = TensorDataset(test_x, test_y)\n",
    "# test_dl = DataLoader(test_ds, batch_size=batch, shuffle=False)  # 不需要shuffle，减少运算量\n",
    "# print( test_X2.shape, test_Y2.shape )\n",
    "accuracy(model(test_X2), test_Y2)"
   ]
  },
  {
   "cell_type": "code",
   "execution_count": 82,
   "metadata": {},
   "outputs": [],
   "source": [
    "# unique, counts = np.unique(Y_data2, return_counts=True)\n",
    "# print('Y_data: ' dict(zip(unique, counts)) )"
   ]
  },
  {
   "cell_type": "code",
   "execution_count": 83,
   "metadata": {},
   "outputs": [],
   "source": [
    "# test_Y2\n",
    "# newY2 = model(test_X2)\n",
    "# # (newY2 >0.5).type(torch.int32).mean()\n",
    "# y_pred = (newY2 > 0.5).type(torch.int32)\n",
    "# acc = (y_pred == 0).float().mean()\n",
    "# acc"
   ]
  },
  {
   "cell_type": "code",
   "execution_count": 84,
   "metadata": {},
   "outputs": [
    {
     "data": {
      "text/plain": [
       "' 模型保存 '"
      ]
     },
     "execution_count": 84,
     "metadata": {},
     "output_type": "execute_result"
    }
   ],
   "source": [
    "\"\"\" 模型保存 \"\"\"\n",
    "# torch.save( model, '../model/test5-8.pth')\n",
    "# path = '../model/test5-8'\n",
    "# torch.save({\n",
    "#             'epoch': epoch,\n",
    "#             'model_state_dict': model.state_dict(),\n",
    "#             'optimizer_state_dict': optim.state_dict(),\n",
    "#            }, path)"
   ]
  },
  {
   "cell_type": "code",
   "execution_count": 85,
   "metadata": {},
   "outputs": [],
   "source": [
    "# list1 = []\n",
    "# for i in range(0,X_app.size(0)):\n",
    "#     list1.append( random.randint(1,1) )\n",
    "# len(list1)\n",
    "# Y_app = torch.tensor( list1 )\n",
    "# Y_app.to(device)\n",
    "# Y_app.reshape(-1,1).size(0) "
   ]
  },
  {
   "cell_type": "code",
   "execution_count": 86,
   "metadata": {},
   "outputs": [
    {
     "data": {
      "text/plain": [
       "' 手工取数据: 测试(1) '"
      ]
     },
     "execution_count": 86,
     "metadata": {},
     "output_type": "execute_result"
    }
   ],
   "source": [
    "\"\"\" 手工取数据: 测试(1) \"\"\"\n",
    "# column_str = 'ts_code, trade_date, pct_change, diff, dea, bar, jx_days_ud60, \\\n",
    "# jx_xl_250, jx_xl_120, jx_xl_60,\\\n",
    "# jx_xl_20, jx_xl_10, jx_xl_5, \\\n",
    "# jx_zs_5, jx_zs_10, jx_zs_20, jx_zs_60,\\\n",
    "# lj_fl_1_3, lj_fl_3_10, lj_fl_5_20, lj_fl_20_60, \\\n",
    "# sz_max_5, sz_max_10, sz_max_20 '\n",
    "# # print(column_str)\n",
    "\n",
    "# sql_new= \"SELECT \" + column_str +\" \\\n",
    "# from day_zhibiao \\\n",
    "# where trade_date>='20230601' and sz_max_10>10 and \\\n",
    "# jx_days_ud60 > 20 and jx_days_ud60 < 60 and \\\n",
    "# jx_xl_60>-\"+str(xl_dgree)+\" and  \\\n",
    "# jx_xl_20>0 \"\n",
    "# print(sql_new)\n",
    "# df_new = pd.read_sql_query(sql_new, conn)\n",
    "# print( df_new.shape )\n",
    "# # print( df_new[ df_new['sz_max_5']>8 ].head(3) )\n",
    "# print( df_new[ df_new['sz_max_10']>10 ][['ts_code','trade_date','sz_max_10','sz_max_20']].head(3) )\n",
    "\n",
    "# X_columns = ['pct_change', \n",
    "#              'diff', 'dea', 'bar', \n",
    "#              'jx_days_ud60', \n",
    "#              'jx_xl_250', 'jx_xl_120','jx_xl_60', \n",
    "#              'jx_xl_20', 'jx_xl_10', 'jx_xl_5', \n",
    "#              'jx_zs_5', 'jx_zs_10','jx_zs_20', 'jx_zs_60', \n",
    "#              'lj_fl_1_3', 'lj_fl_3_10', 'lj_fl_5_20','lj_fl_20_60']\n",
    "# df_app = df_new[X_columns]\n",
    "# X_app = torch.from_numpy(df_app.values).type(torch.float32).to(device)\n",
    "\n",
    "# print( df_app.head(3) )\n",
    "# print('X_app: ', X_app.shape, X_app.size )"
   ]
  },
  {
   "cell_type": "code",
   "execution_count": 87,
   "metadata": {},
   "outputs": [],
   "source": [
    "# list1 = []\n",
    "# for i in range(0,X_app.size(0)):\n",
    "#     list1.append( 1.0 )\n",
    "# Y_app = torch.tensor( list1).type(torch.float32).reshape(-1,1).to(device)\n",
    "# Y_app.shape\n"
   ]
  },
  {
   "cell_type": "code",
   "execution_count": 88,
   "metadata": {},
   "outputs": [],
   "source": [
    "# Y_app = torch.tensor( list1).type(torch.float32)\n",
    "# X_app.shape, Y_app.shape\n"
   ]
  },
  {
   "cell_type": "code",
   "execution_count": 89,
   "metadata": {},
   "outputs": [],
   "source": [
    "# print( '准确率：', accuracy(model(X_app), Y_app) )"
   ]
  },
  {
   "cell_type": "code",
   "execution_count": 90,
   "metadata": {},
   "outputs": [],
   "source": [
    "# test_y\n",
    "# Y_app"
   ]
  },
  {
   "cell_type": "code",
   "execution_count": 91,
   "metadata": {},
   "outputs": [],
   "source": [
    "# X_app\n",
    "# Y_app.to(device)\n",
    "# accuracy(model(X_app), Y_app)\n",
    "# accuracy(model(test_x), test_y)"
   ]
  },
  {
   "cell_type": "code",
   "execution_count": 92,
   "metadata": {},
   "outputs": [],
   "source": [
    "# Y_app2"
   ]
  },
  {
   "cell_type": "code",
   "execution_count": 93,
   "metadata": {},
   "outputs": [],
   "source": [
    "# y_pred2 = (Y_app2 > 0.5).type(torch.int32)\n",
    "# y_pred2"
   ]
  },
  {
   "cell_type": "code",
   "execution_count": 94,
   "metadata": {},
   "outputs": [],
   "source": [
    "# model = TheModelClass(*args, **kwargs)\n",
    "# optimizer = TheOptimizerClass(*args, **kwargs)\n",
    "\n",
    "# checkpoint = torch.load(PATH)\n",
    "# model.load_state_dict(checkpoint['model_state_dict'])\n",
    "# optimizer.load_state_dict(checkpoint['optimizer_state_dict'])\n",
    "# epoch = checkpoint['epoch']"
   ]
  },
  {
   "cell_type": "markdown",
   "metadata": {},
   "source": [
    "数据准确性验证\n",
    "过拟合/欠拟合\n",
    "- 过拟合：对于已知数据过度拟合，对未知数据预测性差\n",
    "- 欠拟合：对于已知数据拟合不够，对未知数据预测性差\n",
    "  \n",
    "tensor合并\n",
    "- "
   ]
  },
  {
   "cell_type": "code",
   "execution_count": 95,
   "metadata": {},
   "outputs": [],
   "source": [
    "# train_x.shape, train_y.shape\n",
    "# train_cat = torch.cat([train_x, train_y],dim=1)   # 沿着Dimension 1进行合并\n",
    "# train_cat.shape\n",
    "# train_all.numpy()\n",
    "# np.savetxt('../dataset/test20.csv', train_cat.numpy(),fmt='%.8f',delimiter=',') # 直接覆盖\n",
    "# train_np = np.loadtxt('../dataset/test20.csv', dtype = np.float32, delimiter=',')"
   ]
  },
  {
   "cell_type": "code",
   "execution_count": 96,
   "metadata": {},
   "outputs": [],
   "source": [
    "# Ver 4.1 - random_split Mode， charlie\n",
    "# from torch.utils.data import random_split    \n",
    "# def accuracy(y_pred, y_true):\n",
    "#     y_pred = (y_pred > 0.5).type(torch.int32)\n",
    "#     acc = (y_pred == y_true).float().mean()\n",
    "#     return acc\n",
    "\n",
    "# HR_dataset = TensorDataset(X, Y)\n",
    "# test_ds, test_ds = random_split(HR_dataset, [0.8, 0.2]) \n",
    "# HR_dataloader = DataLoader(test_ds, batch_size=batch, shuffle=True)  # shuffle乱序取数\n",
    "# epochMode = 41\n",
    "# if epochMode == 41:  \n",
    "#     for epoch in range( epochs ):\n",
    "#         # for x,y in HR_dataloader:\n",
    "#         for x,y in HR_dataloader:\n",
    "#             y_pred = model(x)\n",
    "#             loss = loss_fn(y_pred, y)\n",
    "#             optim.zero_grad()\n",
    "#             loss.backward()\n",
    "#             optim.step()\n",
    "#         with torch.no_grad():\n",
    "#             print('epoch: ', epoch, ' loss: ', loss_fn(model(X), Y).data.item() )"
   ]
  },
  {
   "cell_type": "markdown",
   "metadata": {},
   "source": [
    "Claude: 根据提供的notebook,Claude2对代码的建议和注释如下:\n",
    "1. 数据处理部分可以添加更多注释,说明读取的数据字段含义,以及对数据的检查和处理思路。\n",
    "2. 模型定义部分可以添加注释,说明输入和输出维度的设定依据,网络层数和神经元数量的选择依据等。\n",
    "3. 训练评估部分的注释可以更详细,说明采用的数据分割方式,训练过程中的超参数,以及评估指标的计算方法。\n",
    "4. 模型训练结果可以进行更深入的分析,检查是否存在过拟合或欠拟合,并结合业务目标提出后续优化思路。 \n",
    "5. 可以添加模型效果可视化的代码,如Loss曲线,预测结果示例等,更直观地呈现模型效果。\n",
    "6. 添加模型保存和加载的代码,便于训练后的模型重用。\n",
    "7. 可以尝试不同模型结构或训练策略的比较实验。\n",
    "8. 可以基于代码封装出函数或类,提高代码的复用性和模块化程度。\n",
    "9. 添加类型注释,可以提高代码可读性和健壮性。\n",
    "总体而言,该notebook内容完整,但仍有进一步提升注释、可视化、模块化、模型分析等方面的优化空间。"
   ]
  },
  {
   "cell_type": "code",
   "execution_count": null,
   "metadata": {},
   "outputs": [],
   "source": []
  },
  {
   "cell_type": "code",
   "execution_count": null,
   "metadata": {},
   "outputs": [],
   "source": []
  }
 ],
 "metadata": {
  "kernelspec": {
   "display_name": "Python 3 (ipykernel)",
   "language": "python",
   "name": "python3"
  },
  "language_info": {
   "codemirror_mode": {
    "name": "ipython",
    "version": 3
   },
   "file_extension": ".py",
   "mimetype": "text/x-python",
   "name": "python",
   "nbconvert_exporter": "python",
   "pygments_lexer": "ipython3",
   "version": "3.10.11"
  }
 },
 "nbformat": 4,
 "nbformat_minor": 4
}
