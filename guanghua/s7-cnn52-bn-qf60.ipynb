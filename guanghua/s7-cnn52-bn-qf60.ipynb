{
 "cells": [
  {
   "cell_type": "code",
   "execution_count": 23,
   "metadata": {
    "tags": []
   },
   "outputs": [
    {
     "data": {
      "text/plain": [
       "('2.0.1', '0.15.2', 'cpu')"
      ]
     },
     "execution_count": 23,
     "metadata": {},
     "output_type": "execute_result"
    }
   ],
   "source": [
    "import torch\n",
    "from torch.backends import cudnn\n",
    "from torch import nn\n",
    "import torchvision  # 图片、视频处理\n",
    "from torchvision.transforms import ToTensor\n",
    "import torch.nn.functional as F  # 避免relu和sigmoid的初始化，可以直接调用\n",
    "\n",
    "from torch.utils.data import TensorDataset, DataLoader\n",
    "from torch.utils.data import random_split    \n",
    "\n",
    "import numpy as np\n",
    "import pandas as pd\n",
    "import matplotlib.pyplot as plt\n",
    "import math, random\n",
    "# %matplotlib inline\n",
    "# vTest = 1000\n",
    "\n",
    "from importlib import reload \n",
    "from qflib import basic\n",
    "reload(basic)\n",
    "global engine, conn\n",
    "engine = basic.engine()\n",
    "conn = basic.conn(engine)\n",
    "\n",
    "device = 'cuda' if torch.cuda.is_available else 'cpu'\n",
    "device = 'cpu'\n",
    "torch.__version__, torchvision.__version__, device\n"
   ]
  },
  {
   "cell_type": "markdown",
   "metadata": {},
   "source": [
    "ToTensor: \n",
    "- 1、输入转为Tensor，\n",
    "- 2、图片格式为 channel, height, width; \n",
    "- 3、像素取值范围规范到0/1\n",
    "\n",
    "torch.utils.data.DataLoader, 作用：\n",
    "- 乱序， shuffle 默认为 True\n",
    "- 将数据采样为小批次， batch_size. batch太小会导致loss的剧烈震荡，太大则内存放不下，也会跨度过大，失去准确性；\n",
    "- num_workers, 子进程设置，更多进程参与\n",
    "- 设置批次处理函数 collate_fn, 用在文本等\n"
   ]
  },
  {
   "cell_type": "code",
   "execution_count": 24,
   "metadata": {},
   "outputs": [
    {
     "data": {
      "text/plain": [
       "(52207,)"
      ]
     },
     "execution_count": 24,
     "metadata": {},
     "output_type": "execute_result"
    }
   ],
   "source": [
    "# 读取数据 \n",
    "sql=\"SELECT * FROM ds_qf60\"\n",
    "df = pd.read_sql_query(sql, conn, index_col=None)\n",
    "del df['index']\n",
    "len(df), \n",
    "# df.head(1)"
   ]
  },
  {
   "cell_type": "code",
   "execution_count": 25,
   "metadata": {},
   "outputs": [
    {
     "data": {
      "text/plain": [
       "(array([0, 1, 2], dtype=int64),\n",
       " 0    33904\n",
       " 1    12885\n",
       " 2     5418\n",
       " Name: class0, dtype: int64,\n",
       " 0    0.649415\n",
       " 1    0.246806\n",
       " 2    0.103779\n",
       " Name: class0, dtype: float64)"
      ]
     },
     "execution_count": 25,
     "metadata": {},
     "output_type": "execute_result"
    }
   ],
   "source": [
    "\"\"\" 确定训练的目标 \"\"\"\n",
    "df['class0'] = df['sz_jt_10']  # 10天内的阶梯涨幅\n",
    "# 查看 class0 是否准确、百分比\n",
    "df.class0.unique(), df.class0.value_counts(), df.class0.value_counts()/len(df)"
   ]
  },
  {
   "cell_type": "code",
   "execution_count": 26,
   "metadata": {},
   "outputs": [
    {
     "data": {
      "text/html": [
       "<div>\n",
       "<style scoped>\n",
       "    .dataframe tbody tr th:only-of-type {\n",
       "        vertical-align: middle;\n",
       "    }\n",
       "\n",
       "    .dataframe tbody tr th {\n",
       "        vertical-align: top;\n",
       "    }\n",
       "\n",
       "    .dataframe thead th {\n",
       "        text-align: right;\n",
       "    }\n",
       "</style>\n",
       "<table border=\"1\" class=\"dataframe\">\n",
       "  <thead>\n",
       "    <tr style=\"text-align: right;\">\n",
       "      <th></th>\n",
       "      <th>jx_dg_5</th>\n",
       "      <th>jx_dg_10</th>\n",
       "      <th>pct_fl_1_3</th>\n",
       "      <th>pct_fl_3_10</th>\n",
       "      <th>pct_fl_5_20</th>\n",
       "    </tr>\n",
       "  </thead>\n",
       "  <tbody>\n",
       "    <tr>\n",
       "      <th>0</th>\n",
       "      <td>19.34290</td>\n",
       "      <td>12.678300</td>\n",
       "      <td>1.72046</td>\n",
       "      <td>1.41063</td>\n",
       "      <td>1.025250</td>\n",
       "    </tr>\n",
       "    <tr>\n",
       "      <th>1</th>\n",
       "      <td>42.33150</td>\n",
       "      <td>15.256600</td>\n",
       "      <td>1.18279</td>\n",
       "      <td>1.83067</td>\n",
       "      <td>1.672700</td>\n",
       "    </tr>\n",
       "    <tr>\n",
       "      <th>2</th>\n",
       "      <td>6.51617</td>\n",
       "      <td>0.465063</td>\n",
       "      <td>1.27158</td>\n",
       "      <td>1.60911</td>\n",
       "      <td>1.149490</td>\n",
       "    </tr>\n",
       "    <tr>\n",
       "      <th>3</th>\n",
       "      <td>-1.86388</td>\n",
       "      <td>1.395300</td>\n",
       "      <td>1.34096</td>\n",
       "      <td>1.34546</td>\n",
       "      <td>0.958903</td>\n",
       "    </tr>\n",
       "    <tr>\n",
       "      <th>4</th>\n",
       "      <td>61.55660</td>\n",
       "      <td>11.600200</td>\n",
       "      <td>1.42675</td>\n",
       "      <td>1.57184</td>\n",
       "      <td>1.303950</td>\n",
       "    </tr>\n",
       "    <tr>\n",
       "      <th>...</th>\n",
       "      <td>...</td>\n",
       "      <td>...</td>\n",
       "      <td>...</td>\n",
       "      <td>...</td>\n",
       "      <td>...</td>\n",
       "    </tr>\n",
       "    <tr>\n",
       "      <th>52202</th>\n",
       "      <td>101.61400</td>\n",
       "      <td>94.359200</td>\n",
       "      <td>1.49608</td>\n",
       "      <td>1.11988</td>\n",
       "      <td>1.802570</td>\n",
       "    </tr>\n",
       "    <tr>\n",
       "      <th>52203</th>\n",
       "      <td>86.52510</td>\n",
       "      <td>16.639000</td>\n",
       "      <td>2.98854</td>\n",
       "      <td>2.45102</td>\n",
       "      <td>2.602640</td>\n",
       "    </tr>\n",
       "    <tr>\n",
       "      <th>52204</th>\n",
       "      <td>124.96500</td>\n",
       "      <td>74.583900</td>\n",
       "      <td>2.28043</td>\n",
       "      <td>1.25808</td>\n",
       "      <td>0.954236</td>\n",
       "    </tr>\n",
       "    <tr>\n",
       "      <th>52205</th>\n",
       "      <td>50.90050</td>\n",
       "      <td>4.548050</td>\n",
       "      <td>2.74237</td>\n",
       "      <td>1.21222</td>\n",
       "      <td>0.777479</td>\n",
       "    </tr>\n",
       "    <tr>\n",
       "      <th>52206</th>\n",
       "      <td>94.46950</td>\n",
       "      <td>1.407130</td>\n",
       "      <td>1.30432</td>\n",
       "      <td>1.13952</td>\n",
       "      <td>0.745176</td>\n",
       "    </tr>\n",
       "  </tbody>\n",
       "</table>\n",
       "<p>52207 rows × 5 columns</p>\n",
       "</div>"
      ],
      "text/plain": [
       "         jx_dg_5   jx_dg_10  pct_fl_1_3  pct_fl_3_10  pct_fl_5_20\n",
       "0       19.34290  12.678300     1.72046      1.41063     1.025250\n",
       "1       42.33150  15.256600     1.18279      1.83067     1.672700\n",
       "2        6.51617   0.465063     1.27158      1.60911     1.149490\n",
       "3       -1.86388   1.395300     1.34096      1.34546     0.958903\n",
       "4       61.55660  11.600200     1.42675      1.57184     1.303950\n",
       "...          ...        ...         ...          ...          ...\n",
       "52202  101.61400  94.359200     1.49608      1.11988     1.802570\n",
       "52203   86.52510  16.639000     2.98854      2.45102     2.602640\n",
       "52204  124.96500  74.583900     2.28043      1.25808     0.954236\n",
       "52205   50.90050   4.548050     2.74237      1.21222     0.777479\n",
       "52206   94.46950   1.407130     1.30432      1.13952     0.745176\n",
       "\n",
       "[52207 rows x 5 columns]"
      ]
     },
     "execution_count": 26,
     "metadata": {},
     "output_type": "execute_result"
    }
   ],
   "source": [
    "#  'diff', 'dea',, \n",
    "# X_columns0 = ['pct_change', \n",
    "#              'jx_days_ud60', \n",
    "#              'jx_xl_120','jx_xl_60', 'jx_xl_20', \n",
    "#              'jx_zs_20', \n",
    "#              'lj_fl_5_20','lj_fl_20_60']\n",
    "X_columns = ['jx_dg_5', 'jx_dg_10',\\\n",
    "             'pct_fl_1_3','pct_fl_3_10','pct_fl_5_20']\n",
    "df[ X_columns ]"
   ]
  },
  {
   "cell_type": "code",
   "execution_count": 27,
   "metadata": {},
   "outputs": [
    {
     "data": {
      "text/plain": [
       "(torch.Size([52207, 5]), torch.Size([52207]))"
      ]
     },
     "execution_count": 27,
     "metadata": {},
     "output_type": "execute_result"
    }
   ],
   "source": [
    "X_data = df[X_columns]  \n",
    "X = torch.from_numpy(X_data.values).type(torch.float32)\n",
    "# Y_data = df.class0.values.reshape(-1,0)  # 转换成 pd type array\n",
    "Y_data = df.class0.values  # 转换成 pd type array\n",
    "Y = torch.from_numpy(Y_data).long()\n",
    "# Y = torch.from_numpy(Y_data).type(torch.float32)\n",
    "# X_data.shape, X_data.head(3)\n",
    "X.shape, Y.shape"
   ]
  },
  {
   "cell_type": "code",
   "execution_count": 28,
   "metadata": {},
   "outputs": [
    {
     "data": {
      "text/plain": [
       "(array([0, 1, 2], dtype=int64), array([33904, 12885,  5418], dtype=int64))"
      ]
     },
     "execution_count": 28,
     "metadata": {},
     "output_type": "execute_result"
    }
   ],
   "source": [
    "# 最后检测Y_data数据准确性\n",
    "unique, counts = np.unique(Y_data, return_counts=True)\n",
    "unique, counts\n"
   ]
  },
  {
   "cell_type": "code",
   "execution_count": 29,
   "metadata": {},
   "outputs": [],
   "source": [
    "# X,Y 形成main dataset, train/test dataset \n",
    "X, Y = X.to(device), Y.to(device)\n",
    "main_dataset = TensorDataset(X, Y)\n",
    "train_ds, test_ds = random_split(main_dataset, [0.8, 0.2]) "
   ]
  },
  {
   "cell_type": "code",
   "execution_count": 30,
   "metadata": {},
   "outputs": [],
   "source": [
    "# batch_size = 4\n",
    "# # batch_size = 16\n",
    "# # batch_size = 64\n",
    "# # batch_size = 4096\n",
    "# train_dl = torch.utils.data.DataLoader(train_ds, batch_size=batch_size, shuffle=True)  # batch_size开始为64,可能是最佳，或128\n",
    "# test_dl = torch.utils.data.DataLoader(test_ds, batch_size=batch_size, shuffle=False)"
   ]
  },
  {
   "cell_type": "code",
   "execution_count": 31,
   "metadata": {},
   "outputs": [],
   "source": [
    "# imgs, labels = next(iter(train_dl))   # train dataloder 可以分解出X和Ydata\n",
    "# imgs.shape, labels.shape   # 1: 黑白图片， 28x28的图片分辨率， 64张\n"
   ]
  },
  {
   "cell_type": "code",
   "execution_count": 32,
   "metadata": {},
   "outputs": [],
   "source": [
    "# imgs[0].shape, imgs[0, 0, 0]\n",
    "# imgs"
   ]
  },
  {
   "cell_type": "code",
   "execution_count": 33,
   "metadata": {},
   "outputs": [],
   "source": [
    "# labels"
   ]
  },
  {
   "cell_type": "code",
   "execution_count": 34,
   "metadata": {},
   "outputs": [],
   "source": [
    "# 各种激活函数测试\n",
    "# f(x) = max(x, 0)\n",
    "# input = torch.randint(2,[2,3,4])\n",
    "# input = torch.randn(5)\n",
    "# input\n",
    "# input, torch.relu(input)\n",
    "\n",
    "# input,torch.sigmoid( input )\n",
    "# input,torch.tanh( input )\n",
    "# input,nn.LeakyReLU( input )"
   ]
  },
  {
   "cell_type": "markdown",
   "metadata": {},
   "source": [
    "上面是数据准备和模式测试， \n",
    "以下正式开始设计："
   ]
  },
  {
   "cell_type": "code",
   "execution_count": 35,
   "metadata": {},
   "outputs": [],
   "source": [
    "# 多层感知器模型， 添加1个隐藏层，\n",
    "class Model3( nn.Module ):   # 从nn类初始化\n",
    "    def __init__(self):\n",
    "        super(Model3, self).__init__()  # 初始化父类属性\n",
    "        self.linear_1 = nn.Linear(5, 120)  # 全连接层、线性层，； 要求输入数据是1维的，所以[1, 28, 28]被压缩到1层28*28；view()\n",
    "        self.bn_f1 = nn.BatchNorm1d(120)\n",
    "        self.drop = nn.Dropout(0.5)             # 0.5, 丢掉50% 神经单元\n",
    "        self.linear_2 = nn.Linear(120, 84)  # 线性层， \n",
    "        self.bn_f2 = nn.BatchNorm1d(84)\n",
    "        self.linear_3 = nn.Linear(84, 3)  # 线性层， \n",
    "\n",
    "    def forward(self, input):\n",
    "        x = input.view(-1, 5)\n",
    "        x = torch.relu(self.linear_1(x))\n",
    "        x = self.bn_f1(x)\n",
    "        x = self.drop(x)\n",
    "        x = torch.relu(self.linear_2(x))\n",
    "        x = self.bn_f2(x)\n",
    "        x = self.drop(x)\n",
    "        logits = self.linear_3(x)            # 第3层不做激活函数， 算出在10个分量上，可能值最大的分量，就定义为分量的标签值。即哪个标签分量值最大，就是那个数字。\n",
    "        return logits                         # logits: 一般指未激活前的输出2\n",
    "\n",
    "class Model4( nn.Module ):   # 从nn类初始化\n",
    "    def __init__(self):\n",
    "        super(Model4, self).__init__()  # 初始化父类属性\n",
    "        self.linear_1 = nn.Linear(5, 64)  # 全连接层、线性层，； 要求输入数据是1维的，所以[1, 28, 28]被压缩到1层28*28；view()\n",
    "        self.bn_f1 = nn.BatchNorm1d(64)\n",
    "        self.drop = nn.Dropout(0.5)             # 0.5, 丢掉50% 神经单元\n",
    "        self.linear_2 = nn.Linear(64, 64)  # 线性层， \n",
    "        self.bn_f2 = nn.BatchNorm1d(64)\n",
    "        self.linear_3 = nn.Linear(64, 64)  # 线性层， \n",
    "        self.bn_f3 = nn.BatchNorm1d(64)\n",
    "        self.linear_4 = nn.Linear(64, 3)  # 线性层， \n",
    "\n",
    "    def forward(self, input):\n",
    "        x = input.view(-1, 5)\n",
    "        x = self.linear_1(x)\n",
    "        x = self.bn_f1(x)\n",
    "        x = torch.relu(x)\n",
    "        x = self.drop(x)\n",
    "        x = self.linear_2(x)\n",
    "        x = self.bn_f2(x)\n",
    "        x = torch.relu(x)\n",
    "        x = self.drop(x)\n",
    "        x = self.linear_3(x)\n",
    "        x = self.bn_f3(x)\n",
    "        x = torch.relu(x)\n",
    "        x = self.drop(x)\n",
    "        logits = self.linear_4(x)            # 第3层不做激活函数， 算出在10个分量上，可能值最大的分量，就定义为分量的标签值。即哪个标签分量值最大，就是那个数字。\n",
    "        return logits                         # logits: 一般指未激活前的输出2\n",
    "    \n",
    "class Model5( nn.Module ):   # 从nn类初始化\n",
    "    def __init__(self):\n",
    "        super(Model5, self).__init__()  # 初始化父类属性\n",
    "        self.linear_1 = nn.Linear(6, 256)  # 全连接层、线性层，； 要求输入数据是1维的，所以[1, 28, 28]被压缩到1层28*28；view()\n",
    "        self.bn_f1 = nn.BatchNorm1d(256)\n",
    "        self.drop = nn.Dropout(0.5)             # 0.5, 丢掉50% 神经单元\n",
    "        self.linear_2 = nn.Linear(256, 256)  # 线性层， \n",
    "        self.bn_f2 = nn.BatchNorm1d(256)\n",
    "        self.linear_3 = nn.Linear(256, 128)  # 线性层， \n",
    "        self.bn_f3 = nn.BatchNorm1d(128)\n",
    "        self.linear_4 = nn.Linear(128, 64)  # 线性层， \n",
    "        self.bn_f4 = nn.BatchNorm1d(64)\n",
    "        self.linear_5 = nn.Linear(64, 4)  # 线性层， \n",
    "\n",
    "    def forward(self, input):\n",
    "        x = input.view(-1, 6)\n",
    "        x = torch.relu(self.linear_1(x))\n",
    "        x = self.bn_f1(x)\n",
    "        x = self.drop(x)\n",
    "        x = torch.relu(self.linear_2(x))\n",
    "        x = self.bn_f2(x)\n",
    "        x = self.drop(x)\n",
    "        x = torch.relu(self.linear_3(x))\n",
    "        x = self.bn_f3(x)\n",
    "        x = self.drop(x)\n",
    "        x = torch.relu(self.linear_4(x))\n",
    "        x = self.bn_f4(x)\n",
    "        x = self.drop(x)\n",
    "        logits = self.linear_5(x)            # 第3层不做激活函数， 算出在10个分量上，可能值最大的分量，就定义为分量的标签值。即哪个标签分量值最大，就是那个数字。\n",
    "        return logits                         # logits: 一般指未激活前的输出2\n"
   ]
  },
  {
   "cell_type": "code",
   "execution_count": 36,
   "metadata": {},
   "outputs": [
    {
     "data": {
      "text/plain": [
       "Model4(\n",
       "  (linear_1): Linear(in_features=5, out_features=64, bias=True)\n",
       "  (bn_f1): BatchNorm1d(64, eps=1e-05, momentum=0.1, affine=True, track_running_stats=True)\n",
       "  (drop): Dropout(p=0.5, inplace=False)\n",
       "  (linear_2): Linear(in_features=64, out_features=64, bias=True)\n",
       "  (bn_f2): BatchNorm1d(64, eps=1e-05, momentum=0.1, affine=True, track_running_stats=True)\n",
       "  (linear_3): Linear(in_features=64, out_features=64, bias=True)\n",
       "  (bn_f3): BatchNorm1d(64, eps=1e-05, momentum=0.1, affine=True, track_running_stats=True)\n",
       "  (linear_4): Linear(in_features=64, out_features=3, bias=True)\n",
       ")"
      ]
     },
     "execution_count": 36,
     "metadata": {},
     "output_type": "execute_result"
    }
   ],
   "source": [
    "model = Model4()\n",
    "model = model.to(device)  \n",
    "model"
   ]
  },
  {
   "cell_type": "code",
   "execution_count": 37,
   "metadata": {},
   "outputs": [],
   "source": [
    "\"\"\"\n",
    "- target： 0,1,2,3.。。 并不是一个独热编码的形式？\n",
    "- input： logits\n",
    "- output：？\n",
    "\"\"\"\n",
    "loss_fn = nn.CrossEntropyLoss()  \n",
    "# loss_fn = nn.NLLLoss()  \n",
    "# input = torch.randn(5)\n",
    "# input, np.argmax(input)"
   ]
  },
  {
   "cell_type": "code",
   "execution_count": 38,
   "metadata": {},
   "outputs": [],
   "source": [
    "\"\"\"\n",
    "优化： 根据计算得到的损失，调整模型参数， 降低损失的过程；\n",
    "- Adam 优化器\n",
    "- SGD：优化model的参数、以及lr\n",
    "\"\"\"\n",
    "opt = torch.optim.SGD(model.parameters(), lr=0.001)"
   ]
  },
  {
   "cell_type": "code",
   "execution_count": 39,
   "metadata": {},
   "outputs": [],
   "source": [
    "\"\"\"\n",
    "训练循环：计算准确率correect， 以及每个批次的平均loss\n",
    "\"\"\"\n",
    "def train(dl, model, loss_fn, optimizer):\n",
    "    size = len( dl.dataset )    # 数据多少？\n",
    "    num_batches = len(dl)       # 返回训练批次\n",
    "    train_loss, correct = 0, 0 # 每个批次累计的loss之和， 正确的样本数累计\n",
    "    model.train()   #设置成训练模式\n",
    "    for x, y in dl:\n",
    "        # x, y = x.to(device), y.to(device)\n",
    "        pred = model(x)\n",
    "        # pred = pred.to(torch.FloatTensor)\n",
    "        loss = loss_fn(pred, y)     # 按照损失函数，计算损失\n",
    "        optimizer.zero_grad()       # 清零后计算新的loop的梯度；\n",
    "        loss.backward()             # 按照loss，反向计算梯度；\n",
    "        optimizer.step()\n",
    "        with torch.no_grad():\n",
    "            # pred是2维，0维是batch数，1维才是0-9的logits输出；boll转换为float32，累计;item转换到python\n",
    "            correct += (pred.argmax(1)==y).type(torch.float).sum().item()  \n",
    "            train_loss += loss.item()\n",
    "    correct /= size\n",
    "    train_loss /= num_batches      # losss是以每个批次计算，correct是以个数计算；所以分母不同；\n",
    "    return correct, train_loss"
   ]
  },
  {
   "cell_type": "code",
   "execution_count": 40,
   "metadata": {},
   "outputs": [],
   "source": [
    "# pred = model(x)"
   ]
  },
  {
   "cell_type": "code",
   "execution_count": 41,
   "metadata": {},
   "outputs": [],
   "source": [
    "# 测试函数: 计算准确率correect， 以及每个批次的平均loss\n",
    "def test(test_dl, model, loss_fn):\n",
    "    size = len( test_dl.dataset )    # 数据多少？\n",
    "    num_batches = len(test_dl)       # 返回训练批次\n",
    "    test_loss, correct = 0, 0 # 每个批次累计的loss之和， 正确的样本数累计\n",
    "    model.eval()  # 设置成eval 评估测试模式， 推理模式\n",
    "    with torch.no_grad():\n",
    "        for x, y in test_dl:\n",
    "            # x, y = x.to(device), y.to(device)\n",
    "            pred = model(x)\n",
    "            # pred = pred.to(torch.FloatTensor)\n",
    "            loss = loss_fn(pred, y)     # 按照损失函数，计算损失\n",
    "            test_loss += loss.item()\n",
    "            # pred是2维，0维是batch数，1维才是0-9的logits输出；boll转换为float32，累计;item转换到python\n",
    "            correct += (pred.argmax(1)==y).type(torch.float).sum().item()  \n",
    "        correct /= size\n",
    "        test_loss /= num_batches      # losss是以每个批次计算，correct是以个数计算；所以分母不同；\n",
    "        return correct, test_loss"
   ]
  },
  {
   "cell_type": "code",
   "execution_count": 42,
   "metadata": {},
   "outputs": [],
   "source": [
    "\"\"\" \n",
    "    训练 N 个 epoch， 记录每个epoch的train和test的损失、准确率。 \n",
    "\"\"\"\n",
    "# batch_size 非常关键：4096不准确； 64很准确。16也比较差。 ！！！\n",
    "def fit(epochs, train_dl, test_dl, model, loss_fn, opt ):\n",
    "    # epochs = 20\n",
    "    train_loss, train_acc = [], []\n",
    "    test_loss,  test_acc  = [], []\n",
    "\n",
    "    for epoch in range( epochs ):\n",
    "        epoch_acc, epoch_loss = train( train_dl, model, loss_fn, opt)\n",
    "        epoch_test_acc, epoch_test_loss = test( test_dl, model, loss_fn)\n",
    "        train_acc.append(epoch_acc)\n",
    "        train_loss.append(epoch_loss)\n",
    "        test_acc.append(epoch_test_acc)\n",
    "        test_loss.append(epoch_test_loss)  # 记录、图表化后，观察是否会过拟合等问题\n",
    "        \n",
    "        template = (\"epoch:{:2d}, train_Loss:{:.5f}, train_acc:{:.2f}, test_Loss:{:.5f}, test_acc:{:.2f}, \")\n",
    "        print(template.format( epoch, epoch_loss, epoch_acc*100, epoch_test_loss, epoch_test_acc*100))\n",
    "    print('Done')\n",
    "    return train_loss, train_acc, test_loss, test_acc\n"
   ]
  },
  {
   "cell_type": "code",
   "execution_count": 44,
   "metadata": {},
   "outputs": [
    {
     "name": "stdout",
     "output_type": "stream",
     "text": [
      "epoch: 0, train_Loss:0.87776, train_acc:64.49, test_Loss:0.91854, test_acc:65.08, \n",
      "epoch: 1, train_Loss:0.87023, train_acc:64.91, test_Loss:0.89138, test_acc:65.08, \n",
      "epoch: 2, train_Loss:0.86792, train_acc:64.91, test_Loss:0.88212, test_acc:65.08, \n",
      "epoch: 3, train_Loss:0.86703, train_acc:64.91, test_Loss:0.87689, test_acc:65.08, \n",
      "epoch: 4, train_Loss:0.86631, train_acc:64.91, test_Loss:0.87390, test_acc:65.08, \n",
      "epoch: 5, train_Loss:0.86656, train_acc:64.91, test_Loss:0.86860, test_acc:65.08, \n",
      "epoch: 6, train_Loss:0.86595, train_acc:64.91, test_Loss:0.86540, test_acc:65.08, \n",
      "epoch: 7, train_Loss:0.86621, train_acc:64.91, test_Loss:0.85942, test_acc:65.08, \n",
      "epoch: 8, train_Loss:0.86592, train_acc:64.91, test_Loss:0.86208, test_acc:65.08, \n",
      "epoch: 9, train_Loss:0.86520, train_acc:64.91, test_Loss:0.85903, test_acc:65.08, \n",
      "epoch:10, train_Loss:0.86551, train_acc:64.91, test_Loss:0.85939, test_acc:65.08, \n",
      "epoch:11, train_Loss:0.86502, train_acc:64.91, test_Loss:0.85897, test_acc:65.08, \n",
      "epoch:12, train_Loss:0.86501, train_acc:64.91, test_Loss:0.85730, test_acc:65.08, \n",
      "epoch:13, train_Loss:0.86477, train_acc:64.91, test_Loss:0.85812, test_acc:65.08, \n",
      "epoch:14, train_Loss:0.86514, train_acc:64.91, test_Loss:0.85664, test_acc:65.08, \n",
      "epoch:15, train_Loss:0.86498, train_acc:64.91, test_Loss:0.85877, test_acc:65.08, \n",
      "epoch:16, train_Loss:0.86466, train_acc:64.91, test_Loss:0.85695, test_acc:65.08, \n",
      "epoch:17, train_Loss:0.86449, train_acc:64.91, test_Loss:0.85816, test_acc:65.08, \n",
      "epoch:18, train_Loss:0.86471, train_acc:64.91, test_Loss:0.85705, test_acc:65.08, \n",
      "epoch:19, train_Loss:0.86487, train_acc:64.91, test_Loss:0.85578, test_acc:65.08, \n",
      "Done\n"
     ]
    }
   ],
   "source": [
    "batch_size = 2\n",
    "# batch_size = 4\n",
    "# batch_size = 8\n",
    "# batch_size = 16\n",
    "# batch_size = 64   \n",
    "# batch_size = 128\n",
    "epochs = 20\n",
    "train_dl = torch.utils.data.DataLoader(train_ds, batch_size=batch_size, shuffle=True)  # batch_size开始为64\n",
    "test_dl = torch.utils.data.DataLoader(test_ds, batch_size=batch_size, shuffle=False)\n",
    "train_loss, train_acc, test_loss, test_acc = fit(epochs,train_dl, test_dl, model, loss_fn, opt)"
   ]
  },
  {
   "cell_type": "code",
   "execution_count": 45,
   "metadata": {},
   "outputs": [
    {
     "data": {
      "text/plain": [
       "<matplotlib.legend.Legend at 0x275bfcca560>"
      ]
     },
     "execution_count": 45,
     "metadata": {},
     "output_type": "execute_result"
    },
    {
     "data": {
      "image/png": "[encoded data removed]",
      "text/plain": [
       "<Figure size 640x480 with 1 Axes>"
      ]
     },
     "metadata": {},
     "output_type": "display_data"
    }
   ],
   "source": [
    "plt.plot( range(epochs), train_loss, label='train_loss')\n",
    "plt.plot( range(epochs), test_loss, label='test_loss')\n",
    "plt.legend()"
   ]
  },
  {
   "cell_type": "code",
   "execution_count": 46,
   "metadata": {},
   "outputs": [
    {
     "data": {
      "text/plain": [
       "<matplotlib.legend.Legend at 0x275bb305000>"
      ]
     },
     "execution_count": 46,
     "metadata": {},
     "output_type": "execute_result"
    },
    {
     "data": {
      "image/png": "[encoded data removed]",
      "text/plain": [
       "<Figure size 640x480 with 1 Axes>"
      ]
     },
     "metadata": {},
     "output_type": "display_data"
    }
   ],
   "source": [
    "plt.plot( range(epochs), train_acc, label='train_acc')\n",
    "plt.plot( range(epochs), test_acc, label='test_acc')\n",
    "plt.legend()"
   ]
  },
  {
   "cell_type": "code",
   "execution_count": null,
   "metadata": {},
   "outputs": [],
   "source": []
  },
  {
   "cell_type": "code",
   "execution_count": null,
   "metadata": {},
   "outputs": [],
   "source": []
  },
  {
   "cell_type": "code",
   "execution_count": null,
   "metadata": {},
   "outputs": [],
   "source": []
  },
  {
   "cell_type": "code",
   "execution_count": null,
   "metadata": {},
   "outputs": [],
   "source": []
  },
  {
   "cell_type": "code",
   "execution_count": null,
   "metadata": {},
   "outputs": [],
   "source": []
  }
 ],
 "metadata": {
  "kernelspec": {
   "display_name": "Python 3 (ipykernel)",
   "language": "python",
   "name": "python3"
  },
  "language_info": {
   "codemirror_mode": {
    "name": "ipython",
    "version": 3
   },
   "file_extension": ".py",
   "mimetype": "text/x-python",
   "name": "python",
   "nbconvert_exporter": "python",
   "pygments_lexer": "ipython3",
   "version": "3.10.11"
  }
 },
 "nbformat": 4,
 "nbformat_minor": 4
}
