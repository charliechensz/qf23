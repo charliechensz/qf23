{
 "cells": [
  {
   "cell_type": "code",
   "execution_count": 145,
   "metadata": {
    "tags": []
   },
   "outputs": [
    {
     "data": {
      "text/plain": [
       "('2.0.1', '0.15.2', 'cuda')"
      ]
     },
     "execution_count": 145,
     "metadata": {},
     "output_type": "execute_result"
    }
   ],
   "source": [
    "import torch\n",
    "from torch.backends import cudnn\n",
    "from torch import nn\n",
    "import torchvision  # 图片、视频处理\n",
    "from torchvision.transforms import ToTensor\n",
    "import torch.nn.functional as F  # 避免relu和sigmoid的初始化，可以直接调用\n",
    "\n",
    "from torch.utils.data import TensorDataset, DataLoader\n",
    "from torch.utils.data import random_split    \n",
    "\n",
    "\n",
    "import numpy as np\n",
    "import pandas as pd\n",
    "import matplotlib.pyplot as plt\n",
    "import math, random\n",
    "# %matplotlib inline\n",
    "# vTest = 1000\n",
    "\n",
    "from importlib import reload \n",
    "from qflib import basic\n",
    "reload(basic)\n",
    "global engine, conn\n",
    "engine = basic.engine()\n",
    "conn = basic.conn(engine)\n",
    "\n",
    "device = 'cuda' if torch.cuda.is_available else 'cpu'\n",
    "# device = 'cpu'\n",
    "torch.__version__, torchvision.__version__, device\n"
   ]
  },
  {
   "cell_type": "markdown",
   "metadata": {},
   "source": [
    "ToTensor: \n",
    "- 1、输入转为Tensor，\n",
    "- 2、图片格式为 channel, height, width; \n",
    "- 3、像素取值范围规范到0/1\n",
    "\n",
    "torch.utils.data.DataLoader, 作用：\n",
    "- 乱序， shuffle 默认为 True\n",
    "- 将数据采样为小批次， batch_size. batch太小会导致loss的剧烈震荡，太大则内存放不下，也会跨度过大，失去准确性；\n",
    "- num_workers, 子进程设置，更多进程参与\n",
    "- 设置批次处理函数 collate_fn, 用在文本等\n"
   ]
  },
  {
   "cell_type": "code",
   "execution_count": 146,
   "metadata": {},
   "outputs": [
    {
     "data": {
      "text/plain": [
       "(165293,\n",
       "    pct_change      diff       dea       bar  jx_days_ud60 jx_xl_250 jx_xl_120  \\\n",
       " 0     -1.1538 -0.108607 -0.190289  0.163366            32      None      None   \n",
       " \n",
       "   jx_xl_60 jx_xl_20 jx_xl_10  ... jx_dg_250  jx_dg_30  jx_dg_20  jx_dg_10  \\\n",
       " 0     None     None     None  ...      None      None   3.38708   9.02793   \n",
       " \n",
       "    jx_dg_5 pct_fl_1_3 pct_fl_3_10 pct_fl_5_20 pct_fl_5_60  pct_fl_20_60  \n",
       " 0  33.1082   -31.6675     104.642     58.8772        None      -20.2301  \n",
       " \n",
       " [1 rows x 42 columns])"
      ]
     },
     "execution_count": 146,
     "metadata": {},
     "output_type": "execute_result"
    }
   ],
   "source": [
    "# 读取数据 \n",
    "sql=\"SELECT * FROM ds_qf60\"\n",
    "df = pd.read_sql_query(sql, conn, index_col=None)\n",
    "del df['index']\n",
    "len(df), df.head(1)"
   ]
  },
  {
   "cell_type": "code",
   "execution_count": 147,
   "metadata": {},
   "outputs": [],
   "source": [
    "\"\"\" 确定训练的目标 \"\"\"\n",
    "df['class0'] = df['sz_jt_20']  # 10天内的阶梯涨幅"
   ]
  },
  {
   "cell_type": "code",
   "execution_count": 148,
   "metadata": {},
   "outputs": [
    {
     "data": {
      "text/plain": [
       "(array([1., 0., 2.]),\n",
       " 1.0    95821\n",
       " 2.0    46832\n",
       " 0.0    22640\n",
       " Name: class0, dtype: int64,\n",
       " 1.0    0.579704\n",
       " 2.0    0.283327\n",
       " 0.0    0.136969\n",
       " Name: class0, dtype: float64)"
      ]
     },
     "execution_count": 148,
     "metadata": {},
     "output_type": "execute_result"
    }
   ],
   "source": [
    "# 查看 class0 是否准确、百分比\n",
    "df.class0.unique(), df.class0.value_counts(), df.class0.value_counts()/len(df)"
   ]
  },
  {
   "cell_type": "code",
   "execution_count": 169,
   "metadata": {},
   "outputs": [
    {
     "data": {
      "text/html": [
       "<div>\n",
       "<style scoped>\n",
       "    .dataframe tbody tr th:only-of-type {\n",
       "        vertical-align: middle;\n",
       "    }\n",
       "\n",
       "    .dataframe tbody tr th {\n",
       "        vertical-align: top;\n",
       "    }\n",
       "\n",
       "    .dataframe thead th {\n",
       "        text-align: right;\n",
       "    }\n",
       "</style>\n",
       "<table border=\"1\" class=\"dataframe\">\n",
       "  <thead>\n",
       "    <tr style=\"text-align: right;\">\n",
       "      <th></th>\n",
       "      <th>pct_fl_3_10</th>\n",
       "      <th>pct_fl_5_20</th>\n",
       "      <th>pct_fl_20_60</th>\n",
       "    </tr>\n",
       "  </thead>\n",
       "  <tbody>\n",
       "    <tr>\n",
       "      <th>0</th>\n",
       "      <td>104.64200</td>\n",
       "      <td>58.8772</td>\n",
       "      <td>-20.23010</td>\n",
       "    </tr>\n",
       "    <tr>\n",
       "      <th>1</th>\n",
       "      <td>155.15700</td>\n",
       "      <td>57.5850</td>\n",
       "      <td>-21.35470</td>\n",
       "    </tr>\n",
       "    <tr>\n",
       "      <th>2</th>\n",
       "      <td>147.90200</td>\n",
       "      <td>37.5448</td>\n",
       "      <td>-24.00660</td>\n",
       "    </tr>\n",
       "    <tr>\n",
       "      <th>3</th>\n",
       "      <td>116.82900</td>\n",
       "      <td>76.0266</td>\n",
       "      <td>3.86983</td>\n",
       "    </tr>\n",
       "    <tr>\n",
       "      <th>4</th>\n",
       "      <td>79.55220</td>\n",
       "      <td>23.4110</td>\n",
       "      <td>25.59640</td>\n",
       "    </tr>\n",
       "    <tr>\n",
       "      <th>...</th>\n",
       "      <td>...</td>\n",
       "      <td>...</td>\n",
       "      <td>...</td>\n",
       "    </tr>\n",
       "    <tr>\n",
       "      <th>165288</th>\n",
       "      <td>214.12400</td>\n",
       "      <td>48.4670</td>\n",
       "      <td>-3.62789</td>\n",
       "    </tr>\n",
       "    <tr>\n",
       "      <th>165289</th>\n",
       "      <td>160.64500</td>\n",
       "      <td>39.3249</td>\n",
       "      <td>-9.88584</td>\n",
       "    </tr>\n",
       "    <tr>\n",
       "      <th>165290</th>\n",
       "      <td>-21.11130</td>\n",
       "      <td>23.8052</td>\n",
       "      <td>-52.85400</td>\n",
       "    </tr>\n",
       "    <tr>\n",
       "      <th>165291</th>\n",
       "      <td>-5.23023</td>\n",
       "      <td>22.4991</td>\n",
       "      <td>-53.25980</td>\n",
       "    </tr>\n",
       "    <tr>\n",
       "      <th>165292</th>\n",
       "      <td>33.53840</td>\n",
       "      <td>36.1571</td>\n",
       "      <td>-52.81490</td>\n",
       "    </tr>\n",
       "  </tbody>\n",
       "</table>\n",
       "<p>165293 rows × 3 columns</p>\n",
       "</div>"
      ],
      "text/plain": [
       "        pct_fl_3_10  pct_fl_5_20  pct_fl_20_60\n",
       "0         104.64200      58.8772     -20.23010\n",
       "1         155.15700      57.5850     -21.35470\n",
       "2         147.90200      37.5448     -24.00660\n",
       "3         116.82900      76.0266       3.86983\n",
       "4          79.55220      23.4110      25.59640\n",
       "...             ...          ...           ...\n",
       "165288    214.12400      48.4670      -3.62789\n",
       "165289    160.64500      39.3249      -9.88584\n",
       "165290    -21.11130      23.8052     -52.85400\n",
       "165291     -5.23023      22.4991     -53.25980\n",
       "165292     33.53840      36.1571     -52.81490\n",
       "\n",
       "[165293 rows x 3 columns]"
      ]
     },
     "execution_count": 169,
     "metadata": {},
     "output_type": "execute_result"
    }
   ],
   "source": [
    "#  'diff', 'dea',, \n",
    "# X_columns0 = ['pct_change', \n",
    "#              'jx_days_ud60', \n",
    "#              'jx_xl_120','jx_xl_60', 'jx_xl_20', \n",
    "#              'jx_zs_20', \n",
    "#              'lj_fl_5_20','lj_fl_20_60']\n",
    "X_columns = [\\\n",
    "             'pct_fl_3_10','pct_fl_5_20','pct_fl_20_60']\n",
    "df[ X_columns ]"
   ]
  },
  {
   "cell_type": "code",
   "execution_count": 150,
   "metadata": {},
   "outputs": [
    {
     "data": {
      "text/plain": [
       "(torch.Size([165293, 6]), torch.Size([165293]))"
      ]
     },
     "execution_count": 150,
     "metadata": {},
     "output_type": "execute_result"
    }
   ],
   "source": [
    "X_data = df[X_columns]  \n",
    "X = torch.from_numpy(X_data.values).type(torch.float32)\n",
    "# Y_data = df.class0.values.reshape(-1,0)  # 转换成 pd type array\n",
    "Y_data = df.class0.values  # 转换成 pd type array\n",
    "Y = torch.from_numpy(Y_data).long()\n",
    "# Y = torch.from_numpy(Y_data).type(torch.float32)\n",
    "# X_data.shape, X_data.head(3)\n",
    "X.shape, Y.shape"
   ]
  },
  {
   "cell_type": "code",
   "execution_count": 151,
   "metadata": {},
   "outputs": [
    {
     "data": {
      "text/plain": [
       "(array([0., 1., 2.]), array([22640, 95821, 46832], dtype=int64))"
      ]
     },
     "execution_count": 151,
     "metadata": {},
     "output_type": "execute_result"
    }
   ],
   "source": [
    "# 最后检测Y_data数据准确性\n",
    "unique, counts = np.unique(Y_data, return_counts=True)\n",
    "unique, counts\n"
   ]
  },
  {
   "cell_type": "code",
   "execution_count": 152,
   "metadata": {},
   "outputs": [],
   "source": [
    "# X,Y 形成main dataset, train/test dataset \n",
    "X, Y = X.to(device), Y.to(device)\n",
    "main_dataset = TensorDataset(X, Y)\n",
    "train_ds, test_ds = random_split(main_dataset, [0.8, 0.2]) "
   ]
  },
  {
   "cell_type": "code",
   "execution_count": 153,
   "metadata": {},
   "outputs": [],
   "source": [
    "# batch_size = 4\n",
    "batch_size = 16\n",
    "# batch_size = 64\n",
    "# batch_size = 4096\n",
    "train_dl = torch.utils.data.DataLoader(train_ds, batch_size=batch_size, shuffle=True)  # batch_size开始为64,可能是最佳，或128\n",
    "test_dl = torch.utils.data.DataLoader(test_ds, batch_size=batch_size, shuffle=False)"
   ]
  },
  {
   "cell_type": "code",
   "execution_count": 154,
   "metadata": {},
   "outputs": [
    {
     "data": {
      "text/plain": [
       "(torch.Size([16, 6]), torch.Size([16]))"
      ]
     },
     "execution_count": 154,
     "metadata": {},
     "output_type": "execute_result"
    }
   ],
   "source": [
    "imgs, labels = next(iter(train_dl))   # train dataloder 可以分解出X和Ydata\n",
    "imgs.shape, labels.shape   # 1: 黑白图片， 28x28的图片分辨率， 64张\n"
   ]
  },
  {
   "cell_type": "code",
   "execution_count": 155,
   "metadata": {},
   "outputs": [],
   "source": [
    "# imgs[0].shape, imgs[0, 0, 0]\n",
    "# imgs"
   ]
  },
  {
   "cell_type": "code",
   "execution_count": 156,
   "metadata": {},
   "outputs": [],
   "source": [
    "# labels"
   ]
  },
  {
   "cell_type": "code",
   "execution_count": 157,
   "metadata": {},
   "outputs": [],
   "source": [
    "# 各种激活函数测试\n",
    "# f(x) = max(x, 0)\n",
    "# input = torch.randint(2,[2,3,4])\n",
    "# input = torch.randn(5)\n",
    "# input\n",
    "# input, torch.relu(input)\n",
    "\n",
    "# input,torch.sigmoid( input )\n",
    "# input,torch.tanh( input )\n",
    "# input,nn.LeakyReLU( input )"
   ]
  },
  {
   "cell_type": "markdown",
   "metadata": {},
   "source": [
    "上面是数据准备和模式测试， \n",
    "以下正式开始设计："
   ]
  },
  {
   "cell_type": "code",
   "execution_count": 170,
   "metadata": {},
   "outputs": [],
   "source": [
    "# 多层感知器模型， 添加1个隐藏层，\n",
    "class Model3( nn.Module ):   # 从nn类初始化\n",
    "    def __init__(self):\n",
    "        super(Model3, self).__init__()  # 初始化父类属性\n",
    "        self.linear_1 = nn.Linear(6, 120)  # 全连接层、线性层，； 要求输入数据是1维的，所以[1, 28, 28]被压缩到1层28*28；view()\n",
    "        self.bn_f1 = nn.BatchNorm1d(120)\n",
    "        self.drop = nn.Dropout(0.5)             # 0.5, 丢掉50% 神经单元\n",
    "        self.linear_2 = nn.Linear(120, 84)  # 线性层， \n",
    "        self.bn_f2 = nn.BatchNorm1d(84)\n",
    "        self.linear_3 = nn.Linear(84, 3)  # 线性层， \n",
    "\n",
    "    def forward(self, input):\n",
    "        x = input.view(-1, 6)\n",
    "        x = torch.relu(self.linear_1(x))\n",
    "        x = self.bn_f1(x)\n",
    "        x = self.drop(x)\n",
    "        x = torch.relu(self.linear_2(x))\n",
    "        x = self.bn_f2(x)\n",
    "        x = self.drop(x)\n",
    "        logits = self.linear_3(x)            # 第3层不做激活函数， 算出在10个分量上，可能值最大的分量，就定义为分量的标签值。即哪个标签分量值最大，就是那个数字。\n",
    "        return logits                         # logits: 一般指未激活前的输出2\n",
    "\n",
    "class Model4( nn.Module ):   # 从nn类初始化\n",
    "    def __init__(self):\n",
    "        super(Model4, self).__init__()  # 初始化父类属性\n",
    "        self.linear_1 = nn.Linear(3, 256)  # 全连接层、线性层，； 要求输入数据是1维的，所以[1, 28, 28]被压缩到1层28*28；view()\n",
    "        self.bn_f1 = nn.BatchNorm1d(256)\n",
    "        self.drop = nn.Dropout(0.5)             # 0.5, 丢掉50% 神经单元\n",
    "        self.linear_2 = nn.Linear(256, 128)  # 线性层， \n",
    "        self.bn_f2 = nn.BatchNorm1d(128)\n",
    "        self.linear_3 = nn.Linear(128, 64)  # 线性层， \n",
    "        self.bn_f3 = nn.BatchNorm1d(64)\n",
    "        self.linear_4 = nn.Linear(64, 3)  # 线性层， \n",
    "\n",
    "    def forward(self, input):\n",
    "        x = input.view(-1, 3)\n",
    "        x = torch.relu(self.linear_1(x))\n",
    "        x = self.bn_f1(x)\n",
    "        x = self.drop(x)\n",
    "        x = torch.relu(self.linear_2(x))\n",
    "        x = self.bn_f2(x)\n",
    "        x = self.drop(x)\n",
    "        x = torch.relu(self.linear_3(x))\n",
    "        x = self.bn_f3(x)\n",
    "        x = self.drop(x)\n",
    "        logits = self.linear_4(x)            # 第3层不做激活函数， 算出在10个分量上，可能值最大的分量，就定义为分量的标签值。即哪个标签分量值最大，就是那个数字。\n",
    "        return logits                         # logits: 一般指未激活前的输出2\n",
    "    \n",
    "class Model5( nn.Module ):   # 从nn类初始化\n",
    "    def __init__(self):\n",
    "        super(Model5, self).__init__()  # 初始化父类属性\n",
    "        self.linear_1 = nn.Linear(6, 256)  # 全连接层、线性层，； 要求输入数据是1维的，所以[1, 28, 28]被压缩到1层28*28；view()\n",
    "        self.bn_f1 = nn.BatchNorm1d(256)\n",
    "        self.drop = nn.Dropout(0.5)             # 0.5, 丢掉50% 神经单元\n",
    "        self.linear_2 = nn.Linear(256, 256)  # 线性层， \n",
    "        self.bn_f2 = nn.BatchNorm1d(256)\n",
    "        self.linear_3 = nn.Linear(256, 128)  # 线性层， \n",
    "        self.bn_f3 = nn.BatchNorm1d(128)\n",
    "        self.linear_4 = nn.Linear(128, 64)  # 线性层， \n",
    "        self.bn_f4 = nn.BatchNorm1d(64)\n",
    "        self.linear_5 = nn.Linear(64, 3)  # 线性层， \n",
    "\n",
    "    def forward(self, input):\n",
    "        x = input.view(-1, 6)\n",
    "        x = torch.relu(self.linear_1(x))\n",
    "        x = self.bn_f1(x)\n",
    "        x = self.drop(x)\n",
    "        x = torch.relu(self.linear_2(x))\n",
    "        x = self.bn_f2(x)\n",
    "        x = self.drop(x)\n",
    "        x = torch.relu(self.linear_3(x))\n",
    "        x = self.bn_f3(x)\n",
    "        x = self.drop(x)\n",
    "        x = torch.relu(self.linear_4(x))\n",
    "        x = self.bn_f4(x)\n",
    "        x = self.drop(x)\n",
    "        logits = self.linear_5(x)            # 第3层不做激活函数， 算出在10个分量上，可能值最大的分量，就定义为分量的标签值。即哪个标签分量值最大，就是那个数字。\n",
    "        return logits                         # logits: 一般指未激活前的输出2\n"
   ]
  },
  {
   "cell_type": "code",
   "execution_count": 172,
   "metadata": {},
   "outputs": [],
   "source": [
    "model = Model5()\n",
    "model = model.to(device)  "
   ]
  },
  {
   "cell_type": "code",
   "execution_count": 173,
   "metadata": {},
   "outputs": [],
   "source": [
    "\"\"\"\n",
    "- target： 0,1,2,3.。。 并不是一个独热编码的形式？\n",
    "- input： logits\n",
    "- output：？\n",
    "\"\"\"\n",
    "loss_fn = nn.CrossEntropyLoss()  \n",
    "# loss_fn = nn.NLLLoss()  \n",
    "# input = torch.randn(5)\n",
    "# input, np.argmax(input)"
   ]
  },
  {
   "cell_type": "code",
   "execution_count": 174,
   "metadata": {},
   "outputs": [],
   "source": [
    "\"\"\"\n",
    "优化： 根据计算得到的损失，调整模型参数， 降低损失的过程；\n",
    "- Adam 优化器\n",
    "- SGD：优化model的参数、以及lr\n",
    "\"\"\"\n",
    "opt = torch.optim.SGD(model.parameters(), lr=0.001)"
   ]
  },
  {
   "cell_type": "code",
   "execution_count": 175,
   "metadata": {},
   "outputs": [],
   "source": [
    "\"\"\"\n",
    "训练循环：计算准确率correect， 以及每个批次的平均loss\n",
    "\"\"\"\n",
    "def train(dl, model, loss_fn, optimizer):\n",
    "    size = len( dl.dataset )    # 数据多少？\n",
    "    num_batches = len(dl)       # 返回训练批次\n",
    "    train_loss, correct = 0, 0 # 每个批次累计的loss之和， 正确的样本数累计\n",
    "    model.train()   #设置成训练模式\n",
    "    for x, y in dl:\n",
    "        # x, y = x.to(device), y.to(device)\n",
    "        pred = model(x)\n",
    "        # pred = pred.to(torch.FloatTensor)\n",
    "        loss = loss_fn(pred, y)     # 按照损失函数，计算损失\n",
    "        optimizer.zero_grad()       # 清零后计算新的loop的梯度；\n",
    "        loss.backward()             # 按照loss，反向计算梯度；\n",
    "        optimizer.step()\n",
    "        with torch.no_grad():\n",
    "            # pred是2维，0维是batch数，1维才是0-9的logits输出；boll转换为float32，累计;item转换到python\n",
    "            correct += (pred.argmax(1)==y).type(torch.float).sum().item()  \n",
    "            train_loss += loss.item()\n",
    "    correct /= size\n",
    "    train_loss /= num_batches      # losss是以每个批次计算，correct是以个数计算；所以分母不同；\n",
    "    return correct, train_loss"
   ]
  },
  {
   "cell_type": "code",
   "execution_count": 176,
   "metadata": {},
   "outputs": [],
   "source": [
    "# pred = model(x)"
   ]
  },
  {
   "cell_type": "code",
   "execution_count": 177,
   "metadata": {},
   "outputs": [],
   "source": [
    "# 测试函数: 计算准确率correect， 以及每个批次的平均loss\n",
    "def test(test_dl, model, loss_fn):\n",
    "    size = len( test_dl.dataset )    # 数据多少？\n",
    "    num_batches = len(test_dl)       # 返回训练批次\n",
    "    test_loss, correct = 0, 0 # 每个批次累计的loss之和， 正确的样本数累计\n",
    "    model.eval()  # 设置成eval 评估测试模式， 推理模式\n",
    "    with torch.no_grad():\n",
    "        for x, y in test_dl:\n",
    "            # x, y = x.to(device), y.to(device)\n",
    "            pred = model(x)\n",
    "            # pred = pred.to(torch.FloatTensor)\n",
    "            loss = loss_fn(pred, y)     # 按照损失函数，计算损失\n",
    "            test_loss += loss.item()\n",
    "            # pred是2维，0维是batch数，1维才是0-9的logits输出；boll转换为float32，累计;item转换到python\n",
    "            correct += (pred.argmax(1)==y).type(torch.float).sum().item()  \n",
    "        correct /= size\n",
    "        test_loss /= num_batches      # losss是以每个批次计算，correct是以个数计算；所以分母不同；\n",
    "        return correct, test_loss"
   ]
  },
  {
   "cell_type": "code",
   "execution_count": 178,
   "metadata": {},
   "outputs": [],
   "source": [
    "\"\"\" \n",
    "    训练 N 个 epoch， 记录每个epoch的train和test的损失、准确率。 \n",
    "\"\"\"\n",
    "# batch_size 非常关键：4096不准确； 64很准确。16也比较差。 ！！！\n",
    "def fit(epochs, train_dl, test_dl, model, loss_fn, opt ):\n",
    "    # epochs = 20\n",
    "    train_loss, train_acc = [], []\n",
    "    test_loss,  test_acc  = [], []\n",
    "\n",
    "    for epoch in range( epochs ):\n",
    "        epoch_acc, epoch_loss = train( train_dl, model, loss_fn, opt)\n",
    "        epoch_test_acc, epoch_test_loss = test( test_dl, model, loss_fn)\n",
    "        train_acc.append(epoch_acc)\n",
    "        train_loss.append(epoch_loss)\n",
    "        test_acc.append(epoch_test_acc)\n",
    "        test_loss.append(epoch_test_loss)  # 记录、图表化后，观察是否会过拟合等问题\n",
    "        \n",
    "        template = (\"epoch:{:2d}, train_Loss:{:.5f}, train_acc:{:.2f}, test_Loss:{:.5f}, test_acc:{:.2f}, \")\n",
    "        print(template.format( epoch, epoch_loss, epoch_acc*100, epoch_test_loss, epoch_test_acc*100))\n",
    "    print('Done')\n",
    "    return train_loss, train_acc, test_loss, test_acc\n"
   ]
  },
  {
   "cell_type": "code",
   "execution_count": 179,
   "metadata": {},
   "outputs": [
    {
     "name": "stdout",
     "output_type": "stream",
     "text": [
      "epoch: 0, train_Loss:1.00006, train_acc:53.95, test_Loss:0.94551, test_acc:57.94, \n",
      "epoch: 1, train_Loss:0.94599, train_acc:57.98, test_Loss:0.94368, test_acc:57.94, \n",
      "epoch: 2, train_Loss:0.94489, train_acc:57.98, test_Loss:0.94402, test_acc:57.92, \n",
      "epoch: 3, train_Loss:0.94439, train_acc:57.98, test_Loss:0.94310, test_acc:57.93, \n",
      "epoch: 4, train_Loss:0.94407, train_acc:57.98, test_Loss:0.94293, test_acc:57.94, \n",
      "epoch: 5, train_Loss:0.94407, train_acc:57.97, test_Loss:0.94372, test_acc:57.95, \n",
      "epoch: 6, train_Loss:0.94357, train_acc:57.97, test_Loss:0.94307, test_acc:58.00, \n",
      "epoch: 7, train_Loss:0.94356, train_acc:57.97, test_Loss:0.94276, test_acc:57.96, \n",
      "epoch: 8, train_Loss:0.94334, train_acc:57.97, test_Loss:0.94233, test_acc:57.93, \n",
      "epoch: 9, train_Loss:0.94343, train_acc:57.99, test_Loss:0.94265, test_acc:57.95, \n",
      "epoch:10, train_Loss:0.94298, train_acc:57.98, test_Loss:0.94284, test_acc:57.98, \n",
      "epoch:11, train_Loss:0.94286, train_acc:57.96, test_Loss:0.94204, test_acc:57.95, \n",
      "epoch:12, train_Loss:0.94276, train_acc:57.99, test_Loss:0.94266, test_acc:57.98, \n",
      "epoch:13, train_Loss:0.94251, train_acc:58.02, test_Loss:0.94135, test_acc:57.99, \n",
      "epoch:14, train_Loss:0.94289, train_acc:57.97, test_Loss:0.94250, test_acc:57.90, \n",
      "epoch:15, train_Loss:0.94284, train_acc:58.01, test_Loss:0.94149, test_acc:58.01, \n",
      "epoch:16, train_Loss:0.94231, train_acc:57.96, test_Loss:0.94193, test_acc:57.98, \n",
      "epoch:17, train_Loss:0.94239, train_acc:57.95, test_Loss:0.94109, test_acc:58.00, \n",
      "epoch:18, train_Loss:0.94216, train_acc:58.00, test_Loss:0.94102, test_acc:58.00, \n",
      "epoch:19, train_Loss:0.94219, train_acc:57.96, test_Loss:0.94139, test_acc:57.99, \n",
      "epoch:20, train_Loss:0.94239, train_acc:58.00, test_Loss:0.94229, test_acc:58.02, \n",
      "epoch:21, train_Loss:0.94189, train_acc:58.01, test_Loss:0.94078, test_acc:58.03, \n",
      "epoch:22, train_Loss:0.94208, train_acc:57.98, test_Loss:0.94150, test_acc:58.01, \n",
      "epoch:23, train_Loss:0.94185, train_acc:57.98, test_Loss:0.94123, test_acc:58.03, \n",
      "epoch:24, train_Loss:0.94207, train_acc:58.00, test_Loss:0.94046, test_acc:57.99, \n",
      "epoch:25, train_Loss:0.94188, train_acc:57.98, test_Loss:0.94083, test_acc:58.03, \n",
      "epoch:26, train_Loss:0.94224, train_acc:57.99, test_Loss:0.94135, test_acc:57.99, \n",
      "epoch:27, train_Loss:0.94191, train_acc:57.97, test_Loss:0.94066, test_acc:58.05, \n",
      "epoch:28, train_Loss:0.94166, train_acc:57.98, test_Loss:0.94108, test_acc:58.03, \n",
      "epoch:29, train_Loss:0.94174, train_acc:57.97, test_Loss:0.94008, test_acc:58.05, \n",
      "epoch:30, train_Loss:0.94179, train_acc:57.96, test_Loss:0.94092, test_acc:58.01, \n",
      "epoch:31, train_Loss:0.94176, train_acc:58.00, test_Loss:0.94049, test_acc:57.98, \n",
      "epoch:32, train_Loss:0.94207, train_acc:58.00, test_Loss:0.94070, test_acc:58.07, \n",
      "epoch:33, train_Loss:0.94184, train_acc:58.00, test_Loss:0.94144, test_acc:58.06, \n",
      "epoch:34, train_Loss:0.94161, train_acc:57.95, test_Loss:0.94066, test_acc:58.01, \n",
      "epoch:35, train_Loss:0.94151, train_acc:57.97, test_Loss:0.94165, test_acc:58.02, \n",
      "epoch:36, train_Loss:0.94151, train_acc:58.00, test_Loss:0.94111, test_acc:58.02, \n",
      "epoch:37, train_Loss:0.94159, train_acc:57.98, test_Loss:0.94054, test_acc:58.00, \n",
      "epoch:38, train_Loss:0.94172, train_acc:58.01, test_Loss:0.94011, test_acc:58.04, \n",
      "epoch:39, train_Loss:0.94135, train_acc:57.99, test_Loss:0.94035, test_acc:58.09, \n",
      "epoch:40, train_Loss:0.94168, train_acc:58.00, test_Loss:0.94022, test_acc:58.01, \n",
      "epoch:41, train_Loss:0.94114, train_acc:58.03, test_Loss:0.94140, test_acc:58.08, \n",
      "epoch:42, train_Loss:0.94156, train_acc:57.98, test_Loss:0.94065, test_acc:58.04, \n",
      "epoch:43, train_Loss:0.94106, train_acc:57.97, test_Loss:0.94048, test_acc:58.06, \n",
      "epoch:44, train_Loss:0.94142, train_acc:57.99, test_Loss:0.94063, test_acc:58.08, \n",
      "epoch:45, train_Loss:0.94123, train_acc:58.00, test_Loss:0.93990, test_acc:58.02, \n",
      "epoch:46, train_Loss:0.94096, train_acc:58.03, test_Loss:0.94124, test_acc:58.09, \n",
      "epoch:47, train_Loss:0.94142, train_acc:57.98, test_Loss:0.93964, test_acc:58.03, \n",
      "epoch:48, train_Loss:0.94142, train_acc:57.97, test_Loss:0.93978, test_acc:58.02, \n",
      "epoch:49, train_Loss:0.94112, train_acc:58.01, test_Loss:0.94019, test_acc:58.01, \n",
      "Done\n"
     ]
    }
   ],
   "source": [
    "batch_size = 16\n",
    "# batch_size = 64   \n",
    "# batch_size = 128\n",
    "# batch_size = 4\n",
    "epochs = 50\n",
    "train_dl = torch.utils.data.DataLoader(train_ds, batch_size=batch_size, shuffle=True)  # batch_size开始为64\n",
    "test_dl = torch.utils.data.DataLoader(test_ds, batch_size=batch_size, shuffle=False)\n",
    "train_loss, train_acc, test_loss, test_acc = fit(epochs,train_dl, test_dl, model, loss_fn, opt)"
   ]
  },
  {
   "cell_type": "code",
   "execution_count": 180,
   "metadata": {},
   "outputs": [
    {
     "data": {
      "text/plain": [
       "<matplotlib.legend.Legend at 0x282528bba30>"
      ]
     },
     "execution_count": 180,
     "metadata": {},
     "output_type": "execute_result"
    },
    {
     "data": {
      "image/png": "[encoded data removed]",
      "text/plain": [
       "<Figure size 640x480 with 1 Axes>"
      ]
     },
     "metadata": {},
     "output_type": "display_data"
    }
   ],
   "source": [
    "plt.plot( range(epochs), train_loss, label='train_loss')\n",
    "plt.plot( range(epochs), test_loss, label='test_loss')\n",
    "plt.legend()"
   ]
  },
  {
   "cell_type": "code",
   "execution_count": 181,
   "metadata": {},
   "outputs": [
    {
     "data": {
      "text/plain": [
       "<matplotlib.legend.Legend at 0x282528b9e70>"
      ]
     },
     "execution_count": 181,
     "metadata": {},
     "output_type": "execute_result"
    },
    {
     "data": {
      "image/png": "[encoded data removed]",
      "text/plain": [
       "<Figure size 640x480 with 1 Axes>"
      ]
     },
     "metadata": {},
     "output_type": "display_data"
    }
   ],
   "source": [
    "plt.plot( range(epochs), train_acc, label='train_acc')\n",
    "plt.plot( range(epochs), test_acc, label='test_acc')\n",
    "plt.legend()"
   ]
  },
  {
   "cell_type": "code",
   "execution_count": null,
   "metadata": {},
   "outputs": [],
   "source": []
  }
 ],
 "metadata": {
  "kernelspec": {
   "display_name": "Python 3 (ipykernel)",
   "language": "python",
   "name": "python3"
  },
  "language_info": {
   "codemirror_mode": {
    "name": "ipython",
    "version": 3
   },
   "file_extension": ".py",
   "mimetype": "text/x-python",
   "name": "python",
   "nbconvert_exporter": "python",
   "pygments_lexer": "ipython3",
   "version": "3.10.11"
  }
 },
 "nbformat": 4,
 "nbformat_minor": 4
}
