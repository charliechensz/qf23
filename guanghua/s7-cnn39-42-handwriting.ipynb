{
 "cells": [
  {
   "cell_type": "code",
   "execution_count": 129,
   "metadata": {
    "tags": []
   },
   "outputs": [
    {
     "data": {
      "text/plain": [
       "('2.0.1', '0.15.2', 'cuda')"
      ]
     },
     "execution_count": 129,
     "metadata": {},
     "output_type": "execute_result"
    }
   ],
   "source": [
    "\n",
    "import torch\n",
    "import torch.nn as nn\n",
    "import torch.nn.functional as F\n",
    "import torch.optim as optim \n",
    " \n",
    "import torchvision  # 图片、视频处理\n",
    "from torchvision import datasets, transforms\n",
    "# from transforms import ToTensor\n",
    "from torchvision.transforms import ToTensor\n",
    "\n",
    "import numpy as np\n",
    "import pandas as pd\n",
    "import matplotlib.pyplot as plt\n",
    "%matplotlib inline\n",
    "\n",
    "device = 'cuda' if torch.cuda.is_available else 'cpu'\n",
    "# device='cpu'\n",
    "torch.__version__, torchvision.__version__, device\n"
   ]
  },
  {
   "cell_type": "code",
   "execution_count": 130,
   "metadata": {},
   "outputs": [
    {
     "data": {
      "text/plain": [
       "<function torch.cuda.memory.caching_allocator_delete(mem_ptr)>"
      ]
     },
     "execution_count": 130,
     "metadata": {},
     "output_type": "execute_result"
    }
   ],
   "source": [
    "torch.cuda.caching_allocator_delete\n"
   ]
  },
  {
   "cell_type": "code",
   "execution_count": 131,
   "metadata": {},
   "outputs": [],
   "source": [
    "torch.cuda.empty_cache()  # 释放显存\n"
   ]
  },
  {
   "cell_type": "code",
   "execution_count": 132,
   "metadata": {},
   "outputs": [
    {
     "name": "stdout",
     "output_type": "stream",
     "text": [
      "Memory Allocated 27110400\n"
     ]
    }
   ],
   "source": [
    "print('Memory Allocated', torch.cuda.memory_allocated() )"
   ]
  },
  {
   "cell_type": "markdown",
   "metadata": {},
   "source": [
    "ToTensor: \n",
    "- 1、输入转为Tensor，\n",
    "- 2、图片格式为 channel, height, width; \n",
    "- 3、像素取值范围规范到0/1\n",
    "\n",
    "torch.utils.data.DataLoader, 作用：\n",
    "- 乱序， shuffle 默认为 True\n",
    "- 将数据采样为小批次， batch_size. batch太小会导致loss的剧烈震荡，太大则内存放不下，也会跨度过大，失去准确性；\n",
    "- num_workers, 子进程设置，更多进程参与\n",
    "- 设置批次处理函数 collate_fn, 用在文本等\n"
   ]
  },
  {
   "cell_type": "code",
   "execution_count": 133,
   "metadata": {},
   "outputs": [],
   "source": [
    "transformation = transforms.Compose([\n",
    "    transforms.ToTensor(),\n",
    "])"
   ]
  },
  {
   "cell_type": "code",
   "execution_count": 134,
   "metadata": {
    "tags": []
   },
   "outputs": [],
   "source": [
    "train_ds = torchvision.datasets.MNIST('data', \n",
    "                                      train=True, \n",
    "                                      download=True, \n",
    "                                      transform=ToTensor())\n",
    "test_ds = torchvision.datasets.MNIST('data', \n",
    "                                     train=False , \n",
    "                                     download=True, \n",
    "                                     transform=ToTensor())\n",
    "# test_ds = test_ds.to(device)"
   ]
  },
  {
   "cell_type": "code",
   "execution_count": 135,
   "metadata": {},
   "outputs": [],
   "source": [
    "batch_size = 64\n",
    "train_dl = torch.utils.data.DataLoader(train_ds, batch_size=batch_size, shuffle=True)  # batch_size开始为64,可能是最佳，或128\n",
    "test_dl = torch.utils.data.DataLoader(test_ds, batch_size=batch_size, shuffle=False)"
   ]
  },
  {
   "cell_type": "code",
   "execution_count": 136,
   "metadata": {},
   "outputs": [
    {
     "data": {
      "text/plain": [
       "(torch.Size([64, 1, 28, 28]), torch.Size([64]))"
      ]
     },
     "execution_count": 136,
     "metadata": {},
     "output_type": "execute_result"
    }
   ],
   "source": [
    "imgs, labels = next(iter(train_dl))   # train dataloder 可以分解出X和Ydata\n",
    "imgs.shape, labels.shape   # 1: 黑白图片， 28x28的图片分辨率， 64张\n"
   ]
  },
  {
   "cell_type": "code",
   "execution_count": 137,
   "metadata": {},
   "outputs": [],
   "source": [
    "# imgs, labels"
   ]
  },
  {
   "cell_type": "code",
   "execution_count": 138,
   "metadata": {},
   "outputs": [
    {
     "data": {
      "text/plain": [
       "' imgs, labels 内容显示 '"
      ]
     },
     "execution_count": 138,
     "metadata": {},
     "output_type": "execute_result"
    }
   ],
   "source": [
    "\"\"\" imgs, labels 内容显示 \"\"\"\n",
    "# plt.figure(figsize=(10, 1))\n",
    "# for i, img in enumerate( imgs[:8] ): #取前10张图片   \n",
    "#     npimg = img.numpy()         \n",
    "#     npimg = np.squeeze( npimg )  # 从1x28x28 变为 28x28， 1维的被 squeeze 删除\n",
    "#     plt.subplot(1, 10, i+1)\n",
    "#     plt.imshow(npimg)\n",
    "#     plt.axis('off')\n",
    "# print( imgs.shape, img.shape)       # img 被切片，降维了。\n",
    "# print( labels[:8] )"
   ]
  },
  {
   "cell_type": "code",
   "execution_count": null,
   "metadata": {},
   "outputs": [],
   "source": []
  },
  {
   "cell_type": "code",
   "execution_count": 139,
   "metadata": {},
   "outputs": [
    {
     "data": {
      "text/plain": [
       "' 测试卷积函数 '"
      ]
     },
     "execution_count": 139,
     "metadata": {},
     "output_type": "execute_result"
    }
   ],
   "source": [
    "\"\"\" 测试卷积函数 \"\"\"\n",
    "# input = torch.randint(2,[2,3,4])\n",
    "# input = torch.randn(5)\n",
    "# input\n",
    "# input, torch.relu(input)\n",
    "\n",
    "# input,torch.sigmoid( input )\n",
    "# input,torch.tanh( input )\n",
    "# input,nn.LeakyReLU( input )"
   ]
  },
  {
   "cell_type": "markdown",
   "metadata": {},
   "source": [
    "上面是数据准备和模式测试， \n",
    "以下正式开始设计："
   ]
  },
  {
   "cell_type": "code",
   "execution_count": 140,
   "metadata": {},
   "outputs": [],
   "source": [
    "# 多层感知器模型， 添加1个隐藏层，\n",
    "class Model( nn.Module ):   # 从nn类初始化\n",
    "    def __init__(self):\n",
    "        super().__init__()  # 初始化父类属性\n",
    "        self.conv1 = nn.Conv2d(1, 6, 5)         # 专门针对2d图片的卷积， 1个输入channel(黑白)， 6个输出（自定义）； 5:5x5的kernel size; 其余用的default,中级再调试\n",
    "        self.pool = nn.MaxPool2d((2,2))        # 用MaxPool的池化方式，2x2 (输入的28x28 -> 14x14 )\n",
    "        self.conv2 = nn.Conv2d(6, 16, 5)        # 6输入channel( conv1 = 6 )， 自定义16个输出； 5:5x5的kernel size; \n",
    "        self.linear_1 = nn.Linear(16*4*4, 256)  # conv2的16个output_channel, 5x5d的kernel size； 256自定义\n",
    "        self.linear_2 = nn.Linear(256, 10)  \n",
    "    def forward(self, input):\n",
    "        x = F.relu( self.conv1(input))\n",
    "        x = self.pool(x)    \n",
    "        x = F.relu( self.conv2(x))\n",
    "        x = self.pool(x)\n",
    "        # print(x.size())  output: [64,16,4,4]\n",
    "        \n",
    "        x = x.view(x.size(0), -1)       # 上一课： x = input.view(-1, 1*28*28)\n",
    "        x = F.relu(self.linear_1(x))\n",
    "        x = self.linear_2(x)            \n",
    "        return x\n",
    "    "
   ]
  },
  {
   "cell_type": "code",
   "execution_count": 141,
   "metadata": {},
   "outputs": [],
   "source": [
    "# model = Model().to('cpu')  \n",
    "model = Model().to(device)  \n",
    "# model = Model().to('cpu')  "
   ]
  },
  {
   "cell_type": "code",
   "execution_count": 142,
   "metadata": {},
   "outputs": [],
   "source": [
    "# imgs = imgs.to(device)\n",
    "# # imgs = imgs.to('cpu')\n",
    "# model(imgs)"
   ]
  },
  {
   "cell_type": "code",
   "execution_count": 143,
   "metadata": {},
   "outputs": [],
   "source": [
    "\"\"\"\n",
    "- target： 0,1,2,3.。。 并不是一个独热编码的形式？\n",
    "- input： logits\n",
    "- output：？\n",
    "\"\"\"\n",
    "loss_fn = nn.CrossEntropyLoss()  \n",
    "# input = torch.randn(5)\n",
    "# input, np.argmax(input)"
   ]
  },
  {
   "cell_type": "code",
   "execution_count": 144,
   "metadata": {},
   "outputs": [],
   "source": [
    "\"\"\"\n",
    "优化： 根据计算得到的损失，调整模型参数， 降低损失的过程；\n",
    "- Adam 优化器\n",
    "- SGD：优化model的参数、以及lr\n",
    "\"\"\"\n",
    "opt = torch.optim.SGD(model.parameters(), lr=0.001)"
   ]
  },
  {
   "cell_type": "code",
   "execution_count": 145,
   "metadata": {},
   "outputs": [],
   "source": [
    "\"\"\"\n",
    "训练循环：计算准确率correect， 以及每个批次的平均loss\n",
    "\"\"\"\n",
    "def train(dl, model, loss_fn, optimizer):\n",
    "    size = len( dl.dataset )    # 数据多少？\n",
    "    num_batches = len(dl)       # 返回训练批次\n",
    "    train_loss, correct = 0, 0 # 每个批次累计的loss之和， 正确的样本数累计\n",
    "    for x, y in dl:\n",
    "        x, y = x.to(device), y.to(device)\n",
    "        pred = model(x)\n",
    "        loss = loss_fn(pred, y)     # 按照损失函数，计算损失\n",
    "        optimizer.zero_grad()       # 清零后计算新的loop的梯度；\n",
    "        loss.backward()             # 按照loss，反向计算梯度；\n",
    "        optimizer.step()\n",
    "        with torch.no_grad():\n",
    "            # pred是2维，0维是batch数，1维才是0-9的logits输出；boll转换为float32，累计;item转换到python\n",
    "            correct += (pred.argmax(1)==y).type(torch.float).sum().item()  \n",
    "            train_loss += loss.item()\n",
    "    correct /= size\n",
    "    train_loss /= num_batches      # losss是以每个批次计算，correct是以个数计算；所以分母不同；\n",
    "    return correct, train_loss"
   ]
  },
  {
   "cell_type": "code",
   "execution_count": 146,
   "metadata": {},
   "outputs": [],
   "source": [
    "# 测试函数: 计算准确率correect， 以及每个批次的平均loss\n",
    "def test(test_dl, model, loss_fn):\n",
    "    size = len( test_dl.dataset )    # 数据多少？\n",
    "    num_batches = len(test_dl)       # 返回训练批次\n",
    "    test_loss, correct = 0, 0 # 每个批次累计的loss之和， 正确的样本数累计\n",
    "    with torch.no_grad():\n",
    "        for x, y in test_dl:\n",
    "            x, y = x.to(device), y.to(device)\n",
    "            pred = model(x)\n",
    "            loss = loss_fn(pred, y)     # 按照损失函数，计算损失\n",
    "            test_loss += loss.item()\n",
    "            # pred是2维，0维是batch数，1维才是0-9的logits输出；boll转换为float32，累计;item转换到python\n",
    "            correct += (pred.argmax(1)==y).type(torch.float).sum().item()  \n",
    "        correct /= size\n",
    "        test_loss /= num_batches      # losss是以每个批次计算，correct是以个数计算；所以分母不同；\n",
    "        return correct, test_loss"
   ]
  },
  {
   "cell_type": "code",
   "execution_count": 147,
   "metadata": {},
   "outputs": [],
   "source": [
    "\"\"\" \n",
    "    训练 N 个 epoch， 记录每个epoch的train和test的损失、准确率。 \n",
    "\"\"\"\n",
    "# batch_size 非常关键：4096不准确； 64很准确。16也比较差。 ！！！\n",
    "def fit(epochs, train_dl, test_dl, model, loss_fn, opt ):\n",
    "    # epochs = 20\n",
    "    train_loss, train_acc = [], []\n",
    "    test_loss,  test_acc  = [], []\n",
    "\n",
    "    for epoch in range( epochs ):\n",
    "        epoch_acc, epoch_loss = train( train_dl, model, loss_fn, opt)\n",
    "        epoch_test_acc, epoch_test_loss = test( test_dl, model, loss_fn)\n",
    "        train_acc.append(epoch_acc)\n",
    "        train_loss.append(epoch_loss)\n",
    "        test_acc.append(epoch_test_acc)\n",
    "        test_loss.append(epoch_test_loss)  # 记录、图表化后，观察是否会过拟合等问题\n",
    "        \n",
    "        template = (\"epoch:{:2d}, train_Loss:{:.5f}, train_acc:{:.2f}, test_Loss:{:.5f}, test_acc:{:.2f}, \")\n",
    "        print(template.format( epoch, epoch_loss, epoch_acc*100, epoch_test_loss, epoch_test_acc*100))\n",
    "    print('Done')\n",
    "    return train_loss, train_acc, test_loss, test_acc\n"
   ]
  },
  {
   "cell_type": "code",
   "execution_count": 148,
   "metadata": {},
   "outputs": [
    {
     "name": "stdout",
     "output_type": "stream",
     "text": [
      "epoch: 0, train_Loss:1.87831, train_acc:50.19, test_Loss:0.72557, test_acc:80.96, \n",
      "epoch: 1, train_Loss:0.49137, train_acc:85.87, test_Loss:0.36269, test_acc:89.23, \n",
      "epoch: 2, train_Loss:0.33620, train_acc:89.97, test_Loss:0.27503, test_acc:91.63, \n",
      "epoch: 3, train_Loss:0.27203, train_acc:91.74, test_Loss:0.22928, test_acc:93.14, \n",
      "epoch: 4, train_Loss:0.22946, train_acc:93.08, test_Loss:0.19870, test_acc:94.20, \n",
      "epoch: 5, train_Loss:0.19777, train_acc:94.06, test_Loss:0.16751, test_acc:95.14, \n",
      "epoch: 6, train_Loss:0.17256, train_acc:94.88, test_Loss:0.15163, test_acc:95.43, \n",
      "epoch: 7, train_Loss:0.15398, train_acc:95.38, test_Loss:0.13169, test_acc:96.05, \n",
      "epoch: 8, train_Loss:0.13864, train_acc:95.88, test_Loss:0.12578, test_acc:96.04, \n",
      "epoch: 9, train_Loss:0.12700, train_acc:96.23, test_Loss:0.10882, test_acc:96.76, \n",
      "epoch:10, train_Loss:0.11665, train_acc:96.48, test_Loss:0.10887, test_acc:96.76, \n",
      "epoch:11, train_Loss:0.10850, train_acc:96.73, test_Loss:0.09591, test_acc:97.11, \n",
      "epoch:12, train_Loss:0.10121, train_acc:97.02, test_Loss:0.09500, test_acc:96.97, \n",
      "epoch:13, train_Loss:0.09548, train_acc:97.09, test_Loss:0.08748, test_acc:97.32, \n",
      "epoch:14, train_Loss:0.09030, train_acc:97.28, test_Loss:0.08254, test_acc:97.48, \n",
      "epoch:15, train_Loss:0.08575, train_acc:97.39, test_Loss:0.08159, test_acc:97.47, \n",
      "epoch:16, train_Loss:0.08212, train_acc:97.50, test_Loss:0.07615, test_acc:97.57, \n",
      "epoch:17, train_Loss:0.07808, train_acc:97.64, test_Loss:0.07355, test_acc:97.67, \n",
      "epoch:18, train_Loss:0.07518, train_acc:97.78, test_Loss:0.07574, test_acc:97.61, \n",
      "epoch:19, train_Loss:0.07220, train_acc:97.80, test_Loss:0.06450, test_acc:97.95, \n",
      "epoch:20, train_Loss:0.06958, train_acc:97.90, test_Loss:0.06471, test_acc:98.00, \n",
      "epoch:21, train_Loss:0.06707, train_acc:97.97, test_Loss:0.06554, test_acc:97.94, \n",
      "epoch:22, train_Loss:0.06462, train_acc:98.07, test_Loss:0.06486, test_acc:97.93, \n",
      "epoch:23, train_Loss:0.06233, train_acc:98.10, test_Loss:0.06200, test_acc:97.98, \n",
      "epoch:24, train_Loss:0.06053, train_acc:98.18, test_Loss:0.06055, test_acc:98.13, \n",
      "epoch:25, train_Loss:0.05868, train_acc:98.26, test_Loss:0.05969, test_acc:98.14, \n",
      "epoch:26, train_Loss:0.05732, train_acc:98.23, test_Loss:0.05839, test_acc:98.17, \n",
      "epoch:27, train_Loss:0.05518, train_acc:98.34, test_Loss:0.05581, test_acc:98.31, \n",
      "epoch:28, train_Loss:0.05390, train_acc:98.38, test_Loss:0.05387, test_acc:98.26, \n",
      "epoch:29, train_Loss:0.05214, train_acc:98.43, test_Loss:0.05413, test_acc:98.25, \n",
      "epoch:30, train_Loss:0.05103, train_acc:98.41, test_Loss:0.05282, test_acc:98.32, \n",
      "epoch:31, train_Loss:0.04976, train_acc:98.49, test_Loss:0.05491, test_acc:98.27, \n",
      "epoch:32, train_Loss:0.04881, train_acc:98.54, test_Loss:0.05146, test_acc:98.39, \n",
      "epoch:33, train_Loss:0.04731, train_acc:98.54, test_Loss:0.05234, test_acc:98.28, \n",
      "epoch:34, train_Loss:0.04649, train_acc:98.56, test_Loss:0.04915, test_acc:98.50, \n",
      "epoch:35, train_Loss:0.04549, train_acc:98.60, test_Loss:0.04911, test_acc:98.51, \n",
      "epoch:36, train_Loss:0.04441, train_acc:98.63, test_Loss:0.04802, test_acc:98.51, \n",
      "epoch:37, train_Loss:0.04311, train_acc:98.66, test_Loss:0.04928, test_acc:98.48, \n",
      "epoch:38, train_Loss:0.04251, train_acc:98.70, test_Loss:0.05011, test_acc:98.49, \n",
      "epoch:39, train_Loss:0.04136, train_acc:98.74, test_Loss:0.04972, test_acc:98.48, \n",
      "epoch:40, train_Loss:0.04012, train_acc:98.77, test_Loss:0.04706, test_acc:98.57, \n",
      "epoch:41, train_Loss:0.03946, train_acc:98.83, test_Loss:0.05033, test_acc:98.40, \n",
      "epoch:42, train_Loss:0.03874, train_acc:98.80, test_Loss:0.04713, test_acc:98.52, \n",
      "epoch:43, train_Loss:0.03798, train_acc:98.83, test_Loss:0.04654, test_acc:98.59, \n",
      "epoch:44, train_Loss:0.03700, train_acc:98.86, test_Loss:0.04946, test_acc:98.47, \n",
      "epoch:45, train_Loss:0.03633, train_acc:98.87, test_Loss:0.04644, test_acc:98.53, \n",
      "epoch:46, train_Loss:0.03578, train_acc:98.89, test_Loss:0.04260, test_acc:98.62, \n",
      "epoch:47, train_Loss:0.03481, train_acc:98.91, test_Loss:0.04452, test_acc:98.58, \n",
      "epoch:48, train_Loss:0.03445, train_acc:98.95, test_Loss:0.04440, test_acc:98.65, \n",
      "epoch:49, train_Loss:0.03341, train_acc:98.97, test_Loss:0.04297, test_acc:98.62, \n",
      "epoch:50, train_Loss:0.03259, train_acc:98.99, test_Loss:0.04432, test_acc:98.64, \n",
      "epoch:51, train_Loss:0.03231, train_acc:98.97, test_Loss:0.04793, test_acc:98.48, \n",
      "epoch:52, train_Loss:0.03134, train_acc:99.05, test_Loss:0.04284, test_acc:98.61, \n",
      "epoch:53, train_Loss:0.03073, train_acc:99.02, test_Loss:0.04386, test_acc:98.59, \n",
      "epoch:54, train_Loss:0.03030, train_acc:99.06, test_Loss:0.04550, test_acc:98.55, \n",
      "epoch:55, train_Loss:0.02978, train_acc:99.06, test_Loss:0.04321, test_acc:98.66, \n",
      "epoch:56, train_Loss:0.02919, train_acc:99.09, test_Loss:0.04370, test_acc:98.58, \n",
      "epoch:57, train_Loss:0.02874, train_acc:99.10, test_Loss:0.04667, test_acc:98.52, \n",
      "epoch:58, train_Loss:0.02847, train_acc:99.12, test_Loss:0.04441, test_acc:98.71, \n",
      "epoch:59, train_Loss:0.02772, train_acc:99.15, test_Loss:0.04329, test_acc:98.59, \n",
      "epoch:60, train_Loss:0.02734, train_acc:99.13, test_Loss:0.04348, test_acc:98.66, \n",
      "epoch:61, train_Loss:0.02619, train_acc:99.22, test_Loss:0.04317, test_acc:98.52, \n",
      "epoch:62, train_Loss:0.02606, train_acc:99.23, test_Loss:0.04743, test_acc:98.53, \n",
      "epoch:63, train_Loss:0.02545, train_acc:99.20, test_Loss:0.04350, test_acc:98.64, \n",
      "epoch:64, train_Loss:0.02528, train_acc:99.20, test_Loss:0.04026, test_acc:98.69, \n",
      "epoch:65, train_Loss:0.02458, train_acc:99.26, test_Loss:0.04560, test_acc:98.54, \n",
      "epoch:66, train_Loss:0.02449, train_acc:99.23, test_Loss:0.04109, test_acc:98.62, \n",
      "epoch:67, train_Loss:0.02359, train_acc:99.29, test_Loss:0.04095, test_acc:98.60, \n",
      "epoch:68, train_Loss:0.02340, train_acc:99.28, test_Loss:0.04165, test_acc:98.65, \n",
      "epoch:69, train_Loss:0.02294, train_acc:99.31, test_Loss:0.04135, test_acc:98.63, \n",
      "epoch:70, train_Loss:0.02221, train_acc:99.33, test_Loss:0.04275, test_acc:98.63, \n",
      "epoch:71, train_Loss:0.02201, train_acc:99.32, test_Loss:0.03990, test_acc:98.80, \n",
      "epoch:72, train_Loss:0.02160, train_acc:99.34, test_Loss:0.04130, test_acc:98.71, \n",
      "epoch:73, train_Loss:0.02116, train_acc:99.35, test_Loss:0.04385, test_acc:98.59, \n",
      "epoch:74, train_Loss:0.02092, train_acc:99.39, test_Loss:0.04186, test_acc:98.62, \n",
      "epoch:75, train_Loss:0.02038, train_acc:99.39, test_Loss:0.04175, test_acc:98.69, \n",
      "epoch:76, train_Loss:0.02005, train_acc:99.40, test_Loss:0.04164, test_acc:98.58, \n",
      "epoch:77, train_Loss:0.01962, train_acc:99.41, test_Loss:0.03991, test_acc:98.67, \n",
      "epoch:78, train_Loss:0.01937, train_acc:99.41, test_Loss:0.04055, test_acc:98.70, \n",
      "epoch:79, train_Loss:0.01857, train_acc:99.45, test_Loss:0.04044, test_acc:98.69, \n",
      "epoch:80, train_Loss:0.01848, train_acc:99.43, test_Loss:0.03725, test_acc:98.84, \n",
      "epoch:81, train_Loss:0.01818, train_acc:99.46, test_Loss:0.04016, test_acc:98.63, \n",
      "epoch:82, train_Loss:0.01788, train_acc:99.44, test_Loss:0.04123, test_acc:98.62, \n",
      "epoch:83, train_Loss:0.01750, train_acc:99.47, test_Loss:0.03927, test_acc:98.77, \n",
      "epoch:84, train_Loss:0.01717, train_acc:99.49, test_Loss:0.04072, test_acc:98.70, \n",
      "epoch:85, train_Loss:0.01705, train_acc:99.48, test_Loss:0.04025, test_acc:98.74, \n",
      "epoch:86, train_Loss:0.01688, train_acc:99.50, test_Loss:0.04170, test_acc:98.73, \n",
      "epoch:87, train_Loss:0.01641, train_acc:99.53, test_Loss:0.03977, test_acc:98.71, \n",
      "epoch:88, train_Loss:0.01630, train_acc:99.54, test_Loss:0.04115, test_acc:98.68, \n",
      "epoch:89, train_Loss:0.01579, train_acc:99.55, test_Loss:0.03925, test_acc:98.68, \n",
      "epoch:90, train_Loss:0.01586, train_acc:99.48, test_Loss:0.03891, test_acc:98.67, \n",
      "epoch:91, train_Loss:0.01547, train_acc:99.53, test_Loss:0.04954, test_acc:98.54, \n",
      "epoch:92, train_Loss:0.01494, train_acc:99.58, test_Loss:0.03978, test_acc:98.76, \n",
      "epoch:93, train_Loss:0.01444, train_acc:99.60, test_Loss:0.04077, test_acc:98.70, \n",
      "epoch:94, train_Loss:0.01443, train_acc:99.59, test_Loss:0.04119, test_acc:98.66, \n",
      "epoch:95, train_Loss:0.01389, train_acc:99.60, test_Loss:0.05119, test_acc:98.50, \n",
      "epoch:96, train_Loss:0.01386, train_acc:99.61, test_Loss:0.03962, test_acc:98.73, \n",
      "epoch:97, train_Loss:0.01376, train_acc:99.62, test_Loss:0.04336, test_acc:98.68, \n",
      "epoch:98, train_Loss:0.01353, train_acc:99.64, test_Loss:0.04032, test_acc:98.75, \n",
      "epoch:99, train_Loss:0.01316, train_acc:99.62, test_Loss:0.04211, test_acc:98.65, \n",
      "Done\n"
     ]
    }
   ],
   "source": [
    "epochs = 100\n",
    "batch_size = 16\n",
    "# batch_size = 64   \n",
    "# batch_size = 128\n",
    "# batch_size = 256\n",
    "# batch_size = 1024\n",
    "train_dl = torch.utils.data.DataLoader(train_ds, batch_size=batch_size, shuffle=True)  # batch_size开始为64\n",
    "test_dl = torch.utils.data.DataLoader(test_ds, batch_size=batch_size, shuffle=False)\n",
    "train_loss, train_acc, test_loss, test_acc = fit(epochs,train_dl, test_dl, model, loss_fn, opt)\n"
   ]
  },
  {
   "cell_type": "code",
   "execution_count": 149,
   "metadata": {},
   "outputs": [
    {
     "data": {
      "text/plain": [
       "<matplotlib.legend.Legend at 0x1f1e47c5690>"
      ]
     },
     "execution_count": 149,
     "metadata": {},
     "output_type": "execute_result"
    },
    {
     "data": {
      "image/png": "[encoded data removed]",
      "text/plain": [
       "<Figure size 640x480 with 1 Axes>"
      ]
     },
     "metadata": {},
     "output_type": "display_data"
    }
   ],
   "source": [
    "plt.plot( range(epochs), train_loss, label='train_loss')\n",
    "plt.plot( range(epochs), test_loss, label='test_loss')\n",
    "plt.legend()\n",
    "# train_acc"
   ]
  },
  {
   "cell_type": "code",
   "execution_count": 150,
   "metadata": {},
   "outputs": [
    {
     "data": {
      "text/plain": [
       "<matplotlib.legend.Legend at 0x1f1e4ede140>"
      ]
     },
     "execution_count": 150,
     "metadata": {},
     "output_type": "execute_result"
    },
    {
     "data": {
      "image/png": "[encoded data removed]",
      "text/plain": [
       "<Figure size 640x480 with 1 Axes>"
      ]
     },
     "metadata": {},
     "output_type": "display_data"
    }
   ],
   "source": [
    "plt.plot( range(epochs), train_acc, label='train_acc')\n",
    "plt.plot( range(epochs), test_acc, label='test_acc')\n",
    "plt.legend()"
   ]
  },
  {
   "cell_type": "code",
   "execution_count": null,
   "metadata": {},
   "outputs": [],
   "source": []
  }
 ],
 "metadata": {
  "kernelspec": {
   "display_name": "Python 3 (ipykernel)",
   "language": "python",
   "name": "python3"
  },
  "language_info": {
   "codemirror_mode": {
    "name": "ipython",
    "version": 3
   },
   "file_extension": ".py",
   "mimetype": "text/x-python",
   "name": "python",
   "nbconvert_exporter": "python",
   "pygments_lexer": "ipython3",
   "version": "3.10.11"
  }
 },
 "nbformat": 4,
 "nbformat_minor": 4
}
