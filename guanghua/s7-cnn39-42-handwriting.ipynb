{
 "cells": [
  {
   "cell_type": "code",
   "execution_count": 65,
   "metadata": {
    "tags": []
   },
   "outputs": [
    {
     "data": {
      "text/plain": [
       "('2.0.1', '0.15.2', 'cuda')"
      ]
     },
     "execution_count": 65,
     "metadata": {},
     "output_type": "execute_result"
    }
   ],
   "source": [
    "\n",
    "import torch\n",
    "import torch.nn as nn\n",
    "import torch.nn.functional as F\n",
    "import torch.optim as optim \n",
    " \n",
    "import torchvision  # 图片、视频处理\n",
    "from torchvision import datasets, transforms\n",
    "# from transforms import ToTensor\n",
    "from torchvision.transforms import ToTensor\n",
    "\n",
    "import numpy as np\n",
    "import pandas as pd\n",
    "import matplotlib.pyplot as plt\n",
    "%matplotlib inline\n",
    "\n",
    "device = 'cuda' if torch.cuda.is_available else 'cpu'\n",
    "# device='cpu'\n",
    "torch.__version__, torchvision.__version__, device\n"
   ]
  },
  {
   "cell_type": "code",
   "execution_count": 66,
   "metadata": {},
   "outputs": [
    {
     "data": {
      "text/plain": [
       "<function torch.cuda.memory.caching_allocator_delete(mem_ptr)>"
      ]
     },
     "execution_count": 66,
     "metadata": {},
     "output_type": "execute_result"
    }
   ],
   "source": [
    "torch.cuda.caching_allocator_delete\n"
   ]
  },
  {
   "cell_type": "code",
   "execution_count": 67,
   "metadata": {},
   "outputs": [],
   "source": [
    "torch.cuda.empty_cache()  # 释放显存\n"
   ]
  },
  {
   "cell_type": "code",
   "execution_count": 68,
   "metadata": {},
   "outputs": [
    {
     "name": "stdout",
     "output_type": "stream",
     "text": [
      "Memory Allocated 22426112\n"
     ]
    }
   ],
   "source": [
    "print('Memory Allocated', torch.cuda.memory_allocated() )"
   ]
  },
  {
   "cell_type": "markdown",
   "metadata": {},
   "source": [
    "ToTensor: \n",
    "- 1、输入转为Tensor，\n",
    "- 2、图片格式为 channel, height, width; \n",
    "- 3、像素取值范围规范到0/1\n",
    "\n",
    "torch.utils.data.DataLoader, 作用：\n",
    "- 乱序， shuffle 默认为 True\n",
    "- 将数据采样为小批次， batch_size. batch太小会导致loss的剧烈震荡，太大则内存放不下，也会跨度过大，失去准确性；\n",
    "- num_workers, 子进程设置，更多进程参与\n",
    "- 设置批次处理函数 collate_fn, 用在文本等\n"
   ]
  },
  {
   "cell_type": "code",
   "execution_count": 69,
   "metadata": {},
   "outputs": [],
   "source": [
    "transformation = transforms.Compose([\n",
    "    transforms.ToTensor(),\n",
    "])"
   ]
  },
  {
   "cell_type": "code",
   "execution_count": 70,
   "metadata": {
    "tags": []
   },
   "outputs": [],
   "source": [
    "train_ds = torchvision.datasets.MNIST('data', \n",
    "                                      train=True, \n",
    "                                      download=True, \n",
    "                                      transform=ToTensor())\n",
    "test_ds = torchvision.datasets.MNIST('data', \n",
    "                                     train=False , \n",
    "                                     download=True, \n",
    "                                     transform=ToTensor())\n",
    "# test_ds = test_ds.to(device)"
   ]
  },
  {
   "cell_type": "code",
   "execution_count": 71,
   "metadata": {},
   "outputs": [],
   "source": [
    "batch_size = 64\n",
    "train_dl = torch.utils.data.DataLoader(train_ds, batch_size=batch_size, shuffle=True)  # batch_size开始为64,可能是最佳，或128\n",
    "test_dl = torch.utils.data.DataLoader(test_ds, batch_size=batch_size, shuffle=False)"
   ]
  },
  {
   "cell_type": "code",
   "execution_count": 72,
   "metadata": {},
   "outputs": [
    {
     "data": {
      "text/plain": [
       "(torch.Size([64, 1, 28, 28]), torch.Size([64]))"
      ]
     },
     "execution_count": 72,
     "metadata": {},
     "output_type": "execute_result"
    }
   ],
   "source": [
    "imgs, labels = next(iter(train_dl))   # train dataloder 可以分解出X和Ydata\n",
    "imgs.shape, labels.shape   # 1: 黑白图片， 28x28的图片分辨率， 64张\n"
   ]
  },
  {
   "cell_type": "code",
   "execution_count": 73,
   "metadata": {},
   "outputs": [],
   "source": [
    "# imgs, labels"
   ]
  },
  {
   "cell_type": "code",
   "execution_count": 74,
   "metadata": {},
   "outputs": [
    {
     "data": {
      "text/plain": [
       "' imgs, labels 内容显示 '"
      ]
     },
     "execution_count": 74,
     "metadata": {},
     "output_type": "execute_result"
    }
   ],
   "source": [
    "\"\"\" imgs, labels 内容显示 \"\"\"\n",
    "# plt.figure(figsize=(10, 1))\n",
    "# for i, img in enumerate( imgs[:8] ): #取前10张图片   \n",
    "#     npimg = img.numpy()         \n",
    "#     npimg = np.squeeze( npimg )  # 从1x28x28 变为 28x28， 1维的被 squeeze 删除\n",
    "#     plt.subplot(1, 10, i+1)\n",
    "#     plt.imshow(npimg)\n",
    "#     plt.axis('off')\n",
    "# print( imgs.shape, img.shape)       # img 被切片，降维了。\n",
    "# print( labels[:8] )"
   ]
  },
  {
   "cell_type": "code",
   "execution_count": null,
   "metadata": {},
   "outputs": [],
   "source": []
  },
  {
   "cell_type": "code",
   "execution_count": 75,
   "metadata": {},
   "outputs": [
    {
     "data": {
      "text/plain": [
       "(tensor([-0.0338, -0.3793, -0.7146,  1.3173,  1.5546]),\n",
       " tensor([-0.0338, -0.3621, -0.6135,  0.8661,  0.9145]))"
      ]
     },
     "execution_count": 75,
     "metadata": {},
     "output_type": "execute_result"
    }
   ],
   "source": [
    "\"\"\" 测试卷积函数 \"\"\"\n",
    "# input = torch.randint(2,[2,3,4])\n",
    "input = torch.randn(5)\n",
    "# input\n",
    "# input, torch.relu(input)\n",
    "\n",
    "# input,torch.sigmoid( input )\n",
    "input,torch.tanh( input )\n",
    "# input,nn.LeakyReLU( input )"
   ]
  },
  {
   "cell_type": "markdown",
   "metadata": {},
   "source": [
    "上面是数据准备和模式测试， \n",
    "以下正式开始设计："
   ]
  },
  {
   "cell_type": "code",
   "execution_count": 76,
   "metadata": {},
   "outputs": [],
   "source": [
    "# 多层感知器模型， 添加1个隐藏层，\n",
    "class Model( nn.Module ):   # 从nn类初始化\n",
    "    def __init__(self):\n",
    "        super().__init__()  # 初始化父类属性\n",
    "        self.conv1 = nn.Conv2d(1, 6, 5)         # 专门针对2d图片的卷积， 1个输入channel(黑白)， 6个输出（自定义）； 5:5x5的kernel size; 其余用的default,中级再调试\n",
    "        self.pool = nn.MaxPool2d((2,2))        # 用MaxPool的池化方式，2x2 (输入的28x28 -> 14x14 )\n",
    "        self.conv2 = nn.Conv2d(6, 16, 5)        # 6输入channel( conv1 = 6 )， 自定义16个输出； 5:5x5的kernel size; \n",
    "        self.linear_1 = nn.Linear(16*4*4, 256)  # conv2的16个output_channel, 5x5d的kernel size； 256自定义\n",
    "        self.linear_2 = nn.Linear(256, 10)  \n",
    "    def forward(self, input):\n",
    "        x = F.relu( self.conv1(input))\n",
    "        x = self.pool(x)    \n",
    "        x = F.relu( self.conv2(x))\n",
    "        x = self.pool(x)\n",
    "        # print(x.size())  output: [64,16,4,4]\n",
    "        \n",
    "        x = x.view(x.size(0), -1)       # 上一课： x = input.view(-1, 1*28*28)\n",
    "        x = F.relu(self.linear_1(x))\n",
    "        x = self.linear_2(x)            \n",
    "        return x\n",
    "    "
   ]
  },
  {
   "cell_type": "code",
   "execution_count": 77,
   "metadata": {},
   "outputs": [],
   "source": [
    "# model = Model().to('cpu')  \n",
    "model = Model().to(device)  \n",
    "# model = Model().to('cpu')  "
   ]
  },
  {
   "cell_type": "code",
   "execution_count": 78,
   "metadata": {},
   "outputs": [],
   "source": [
    "# imgs = imgs.to(device)\n",
    "# # imgs = imgs.to('cpu')\n",
    "# model(imgs)"
   ]
  },
  {
   "cell_type": "code",
   "execution_count": 79,
   "metadata": {},
   "outputs": [],
   "source": [
    "\"\"\"\n",
    "- target： 0,1,2,3.。。 并不是一个独热编码的形式？\n",
    "- input： logits\n",
    "- output：？\n",
    "\"\"\"\n",
    "loss_fn = nn.CrossEntropyLoss()  \n",
    "# input = torch.randn(5)\n",
    "# input, np.argmax(input)"
   ]
  },
  {
   "cell_type": "code",
   "execution_count": 80,
   "metadata": {},
   "outputs": [],
   "source": [
    "\"\"\"\n",
    "优化： 根据计算得到的损失，调整模型参数， 降低损失的过程；\n",
    "- Adam 优化器\n",
    "- SGD：优化model的参数、以及lr\n",
    "\"\"\"\n",
    "opt = torch.optim.SGD(model.parameters(), lr=0.0001)"
   ]
  },
  {
   "cell_type": "code",
   "execution_count": 81,
   "metadata": {},
   "outputs": [],
   "source": [
    "\"\"\"\n",
    "训练循环：计算准确率correect， 以及每个批次的平均loss\n",
    "\"\"\"\n",
    "def train(dl, model, loss_fn, optimizer):\n",
    "    size = len( dl.dataset )    # 数据多少？\n",
    "    num_batches = len(dl)       # 返回训练批次\n",
    "    train_loss, correct = 0, 0 # 每个批次累计的loss之和， 正确的样本数累计\n",
    "    for x, y in dl:\n",
    "        x, y = x.to(device), y.to(device)\n",
    "        pred = model(x)\n",
    "        loss = loss_fn(pred, y)     # 按照损失函数，计算损失\n",
    "        optimizer.zero_grad()       # 清零后计算新的loop的梯度；\n",
    "        loss.backward()             # 按照loss，反向计算梯度；\n",
    "        optimizer.step()\n",
    "        with torch.no_grad():\n",
    "            # pred是2维，0维是batch数，1维才是0-9的logits输出；boll转换为float32，累计;item转换到python\n",
    "            correct += (pred.argmax(1)==y).type(torch.float).sum().item()  \n",
    "            train_loss += loss.item()\n",
    "    correct /= size\n",
    "    train_loss /= num_batches      # losss是以每个批次计算，correct是以个数计算；所以分母不同；\n",
    "    return correct, train_loss"
   ]
  },
  {
   "cell_type": "code",
   "execution_count": 82,
   "metadata": {},
   "outputs": [],
   "source": [
    "# 测试函数: 计算准确率correect， 以及每个批次的平均loss\n",
    "def test(test_dl, model, loss_fn):\n",
    "    size = len( test_dl.dataset )    # 数据多少？\n",
    "    num_batches = len(test_dl)       # 返回训练批次\n",
    "    test_loss, correct = 0, 0 # 每个批次累计的loss之和， 正确的样本数累计\n",
    "    with torch.no_grad():\n",
    "        for x, y in test_dl:\n",
    "            x, y = x.to(device), y.to(device)\n",
    "            pred = model(x)\n",
    "            loss = loss_fn(pred, y)     # 按照损失函数，计算损失\n",
    "            test_loss += loss.item()\n",
    "            # pred是2维，0维是batch数，1维才是0-9的logits输出；boll转换为float32，累计;item转换到python\n",
    "            correct += (pred.argmax(1)==y).type(torch.float).sum().item()  \n",
    "        correct /= size\n",
    "        test_loss /= num_batches      # losss是以每个批次计算，correct是以个数计算；所以分母不同；\n",
    "        return correct, test_loss"
   ]
  },
  {
   "cell_type": "code",
   "execution_count": 83,
   "metadata": {},
   "outputs": [],
   "source": [
    "\"\"\" \n",
    "    训练 N 个 epoch， 记录每个epoch的train和test的损失、准确率。 \n",
    "\"\"\"\n",
    "# batch_size 非常关键：4096不准确； 64很准确。16也比较差。 ！！！\n",
    "def fit(epochs, train_dl, test_dl, model, loss_fn, opt ):\n",
    "    # epochs = 20\n",
    "    train_loss, train_acc = [], []\n",
    "    test_loss,  test_acc  = [], []\n",
    "\n",
    "    for epoch in range( epochs ):\n",
    "        epoch_acc, epoch_loss = train( train_dl, model, loss_fn, opt)\n",
    "        epoch_test_acc, epoch_test_loss = test( test_dl, model, loss_fn)\n",
    "        train_acc.append(epoch_acc)\n",
    "        train_loss.append(epoch_loss)\n",
    "        test_acc.append(epoch_test_acc)\n",
    "        test_loss.append(epoch_test_loss)  # 记录、图表化后，观察是否会过拟合等问题\n",
    "        \n",
    "        template = (\"epoch:{:2d}, train_Loss:{:.5f}, train_acc:{:.2f}, test_Loss:{:.5f}, test_acc:{:.2f}, \")\n",
    "        print(template.format( epoch, epoch_loss, epoch_acc*100, epoch_test_loss, epoch_test_acc*100))\n",
    "    print('Done')\n",
    "    return train_loss, train_acc, test_loss, test_acc\n"
   ]
  },
  {
   "cell_type": "code",
   "execution_count": 87,
   "metadata": {},
   "outputs": [
    {
     "name": "stdout",
     "output_type": "stream",
     "text": [
      "epoch: 0, train_Loss:0.35269, train_acc:89.62, test_Loss:0.32364, test_acc:90.51, \n",
      "epoch: 1, train_Loss:0.34058, train_acc:89.96, test_Loss:0.31313, test_acc:90.77, \n",
      "epoch: 2, train_Loss:0.32972, train_acc:90.34, test_Loss:0.30286, test_acc:90.94, \n",
      "epoch: 3, train_Loss:0.31992, train_acc:90.59, test_Loss:0.29359, test_acc:91.25, \n",
      "epoch: 4, train_Loss:0.31108, train_acc:90.81, test_Loss:0.28650, test_acc:91.33, \n",
      "epoch: 5, train_Loss:0.30273, train_acc:91.03, test_Loss:0.27910, test_acc:91.52, \n",
      "epoch: 6, train_Loss:0.29525, train_acc:91.26, test_Loss:0.27125, test_acc:91.77, \n",
      "epoch: 7, train_Loss:0.28811, train_acc:91.46, test_Loss:0.26371, test_acc:92.07, \n",
      "epoch: 8, train_Loss:0.28130, train_acc:91.65, test_Loss:0.25715, test_acc:92.25, \n",
      "epoch: 9, train_Loss:0.27490, train_acc:91.79, test_Loss:0.25306, test_acc:92.45, \n",
      "epoch:10, train_Loss:0.26878, train_acc:92.04, test_Loss:0.24655, test_acc:92.70, \n",
      "epoch:11, train_Loss:0.26300, train_acc:92.20, test_Loss:0.24145, test_acc:92.89, \n",
      "epoch:12, train_Loss:0.25745, train_acc:92.37, test_Loss:0.23524, test_acc:92.84, \n",
      "epoch:13, train_Loss:0.25206, train_acc:92.53, test_Loss:0.23094, test_acc:93.06, \n",
      "epoch:14, train_Loss:0.24728, train_acc:92.69, test_Loss:0.22574, test_acc:93.32, \n",
      "epoch:15, train_Loss:0.24210, train_acc:92.84, test_Loss:0.22361, test_acc:93.26, \n",
      "epoch:16, train_Loss:0.23734, train_acc:93.00, test_Loss:0.21919, test_acc:93.32, \n",
      "epoch:17, train_Loss:0.23283, train_acc:93.12, test_Loss:0.21410, test_acc:93.62, \n",
      "epoch:18, train_Loss:0.22814, train_acc:93.27, test_Loss:0.20842, test_acc:93.81, \n",
      "epoch:19, train_Loss:0.22398, train_acc:93.43, test_Loss:0.20514, test_acc:94.05, \n",
      "Done\n"
     ]
    }
   ],
   "source": [
    "epochs = 20\n",
    "batch_size = 16\n",
    "# batch_size = 64   \n",
    "# batch_size = 128\n",
    "# batch_size = 256\n",
    "# batch_size = 1024\n",
    "# train_dl = torch.utils.data.DataLoader(train_ds, batch_size=batch_size, shuffle=True)  # batch_size开始为64\n",
    "# test_dl = torch.utils.data.DataLoader(test_ds, batch_size=batch_size, shuffle=False)\n",
    "train_loss, train_acc, test_loss, test_acc = fit(epochs,train_dl, test_dl, model, loss_fn, opt)\n"
   ]
  },
  {
   "cell_type": "code",
   "execution_count": 85,
   "metadata": {},
   "outputs": [
    {
     "data": {
      "text/plain": [
       "<matplotlib.legend.Legend at 0x272e48909a0>"
      ]
     },
     "execution_count": 85,
     "metadata": {},
     "output_type": "execute_result"
    },
    {
     "data": {
      "image/png": "[encoded data removed]",
      "text/plain": [
       "<Figure size 640x480 with 1 Axes>"
      ]
     },
     "metadata": {},
     "output_type": "display_data"
    }
   ],
   "source": [
    "plt.plot( range(epochs), train_loss, label='train_loss')\n",
    "plt.plot( range(epochs), test_loss, label='test_loss')\n",
    "plt.legend()\n",
    "# train_acc"
   ]
  },
  {
   "cell_type": "code",
   "execution_count": 86,
   "metadata": {},
   "outputs": [
    {
     "data": {
      "text/plain": [
       "<matplotlib.legend.Legend at 0x272e4893a60>"
      ]
     },
     "execution_count": 86,
     "metadata": {},
     "output_type": "execute_result"
    },
    {
     "data": {
      "image/png": "[encoded data removed]",
      "text/plain": [
       "<Figure size 640x480 with 1 Axes>"
      ]
     },
     "metadata": {},
     "output_type": "display_data"
    }
   ],
   "source": [
    "plt.plot( range(epochs), train_acc, label='train_acc')\n",
    "plt.plot( range(epochs), test_acc, label='test_acc')\n",
    "plt.legend()"
   ]
  },
  {
   "cell_type": "code",
   "execution_count": null,
   "metadata": {},
   "outputs": [],
   "source": []
  }
 ],
 "metadata": {
  "kernelspec": {
   "display_name": "Python 3 (ipykernel)",
   "language": "python",
   "name": "python3"
  },
  "language_info": {
   "codemirror_mode": {
    "name": "ipython",
    "version": 3
   },
   "file_extension": ".py",
   "mimetype": "text/x-python",
   "name": "python",
   "nbconvert_exporter": "python",
   "pygments_lexer": "ipython3",
   "version": "3.10.11"
  }
 },
 "nbformat": 4,
 "nbformat_minor": 4
}
