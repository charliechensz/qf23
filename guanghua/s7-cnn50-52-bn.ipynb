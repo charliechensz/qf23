{
 "cells": [
  {
   "cell_type": "code",
   "execution_count": null,
   "metadata": {
    "tags": []
   },
   "outputs": [],
   "source": [
    "\n",
    "import torch\n",
    "import torch.nn as nn\n",
    "import torch.nn.functional as F\n",
    "import torch.optim as optim \n",
    " \n",
    "import torchvision  # 图片、视频处理\n",
    "from torchvision import datasets, transforms\n",
    "from torchvision.transforms import ToTensor\n",
    "\n",
    "import numpy as np\n",
    "# import pandas as pd\n",
    "import matplotlib.pyplot as plt\n",
    "%matplotlib inline\n",
    "import os, shutil\n",
    "\n",
    "device = 'cuda' if torch.cuda.is_available else 'cpu'\n",
    "# device='cpu'\n",
    "torch.__version__, torchvision.__version__, device\n"
   ]
  },
  {
   "cell_type": "code",
   "execution_count": null,
   "metadata": {},
   "outputs": [],
   "source": [
    "torch.cuda.caching_allocator_delete\n",
    "torch.cuda.empty_cache()  # 释放显存\n",
    "print('Memory Allocated', torch.cuda.memory_allocated() )"
   ]
  },
  {
   "cell_type": "code",
   "execution_count": null,
   "metadata": {},
   "outputs": [],
   "source": [
    "torchvision.datasets.ImageFolder\n",
    "# train_ds = torchvision.datasets.MNIST('data', \n",
    "#                                       train=True, \n",
    "#                                       download=True, \n",
    "#                                       transform=ToTensor())"
   ]
  },
  {
   "cell_type": "code",
   "execution_count": null,
   "metadata": {},
   "outputs": [],
   "source": [
    "# 建立项目主目录\n",
    "base_dir = r'./datasets/4weather'\n",
    "train_dir = os.path.join(base_dir, 'train')\n",
    "test_dir = os.path.join(base_dir, 'test')\n",
    "\n",
    "if not os.path.isdir(base_dir): os.mkdir( base_dir)\n",
    "if not os.path.isdir(train_dir): os.mkdir( train_dir )\n",
    "if not os.path.isdir(test_dir): os.mkdir( test_dir )\n",
    "\n",
    "# 建立子目录\n",
    "specises = ['cloudy', 'rain', 'shine', 'sunrise']\n",
    "for train_or_test in ['train', 'test']:\n",
    "    for spec in specises:\n",
    "        sub_dir = base_dir + '/' + train_or_test + '/' + spec\n",
    "        if not os.path.isdir(sub_dir): \n",
    "            os.mkdir( sub_dir)\n",
    "            print(sub_dir, ' is created.')\n",
    "        else:\n",
    "            print(sub_dir, ' is existed.')\n",
    "    "
   ]
  },
  {
   "cell_type": "code",
   "execution_count": null,
   "metadata": {},
   "outputs": [],
   "source": [
    "\"\"\" 整理文件的工作目录\"\"\"\n",
    "image_dir=r'./datasets/weather_imgs/'\n",
    "# os.listdir( image_dir)\n",
    "\n",
    "for i, img in enumerate( os.listdir(image_dir) ):\n",
    "    for spec in specises:\n",
    "        if spec in img:\n",
    "            s = os.path.join(image_dir, img)\n",
    "            if i%5 == 0:\n",
    "                d = os.path.join(base_dir, 'test', spec, img)\n",
    "            else:\n",
    "                d = os.path.join(base_dir, 'train', spec, img)\n",
    "            shutil.copy(s, d)\n",
    "\n",
    "# 文件存放状况\n",
    "for train_or_test in ['train', 'test']:\n",
    "    for spec in specises:\n",
    "        # print(  os.listdir( os.path.join(base_dir, train_or_test, spec)), '\\n')\n",
    "        print( train_or_test, spec, len(os.listdir( os.path.join(base_dir, train_or_test, spec))) )"
   ]
  },
  {
   "cell_type": "code",
   "execution_count": null,
   "metadata": {},
   "outputs": [],
   "source": [
    "transform = transforms.Compose([\n",
    "    transforms.Resize((96, 96)),\n",
    "    transforms.ToTensor(),                           # 1、Channel放前面，2、转换成Tensor，3、数据归一化到0-1之间。\n",
    "    transforms.Normalize( mean=[0.5, 0.5, 0.5], \n",
    "                         std=[0.5, 0.5, 0.5],\n",
    "                         )\n",
    "])"
   ]
  },
  {
   "cell_type": "code",
   "execution_count": null,
   "metadata": {
    "tags": []
   },
   "outputs": [],
   "source": [
    "train_ds = torchvision.datasets.ImageFolder(\n",
    "    train_dir,\n",
    "    transform=transform\n",
    ")\n",
    "test_ds = torchvision.datasets.ImageFolder(\n",
    "    test_dir,\n",
    "    transform=transform\n",
    ")\n",
    "\n",
    "# test_ds = test_ds.to(device)"
   ]
  },
  {
   "cell_type": "code",
   "execution_count": null,
   "metadata": {},
   "outputs": [],
   "source": [
    "train_ds"
   ]
  },
  {
   "cell_type": "code",
   "execution_count": null,
   "metadata": {},
   "outputs": [],
   "source": [
    "train_ds.classes"
   ]
  },
  {
   "cell_type": "code",
   "execution_count": null,
   "metadata": {},
   "outputs": [],
   "source": [
    "train_ds.class_to_idx"
   ]
  },
  {
   "cell_type": "code",
   "execution_count": null,
   "metadata": {},
   "outputs": [],
   "source": [
    "len(train_ds), len(test_ds)"
   ]
  },
  {
   "cell_type": "code",
   "execution_count": null,
   "metadata": {},
   "outputs": [],
   "source": [
    "\"\"\" 创建 dataloader \"\"\"\n",
    "BATCHSIZE = 64\n",
    "train_dl = torch.utils.data.DataLoader(train_ds, batch_size=BATCHSIZE, shuffle=True)  # batch_size开始为64,可能是最佳，或128\n",
    "test_dl = torch.utils.data.DataLoader(test_ds, batch_size=BATCHSIZE, shuffle=False)"
   ]
  },
  {
   "cell_type": "code",
   "execution_count": null,
   "metadata": {},
   "outputs": [],
   "source": [
    "imgs, labels = next(iter(train_dl))   # train dataloder 可以分解出X和Ydata\n"
   ]
  },
  {
   "cell_type": "code",
   "execution_count": null,
   "metadata": {},
   "outputs": [],
   "source": [
    "imgs.shape, labels.shape   # 1: 黑白图片， 28x28的图片分辨率， 64张\n"
   ]
  },
  {
   "cell_type": "code",
   "execution_count": null,
   "metadata": {},
   "outputs": [],
   "source": [
    "# 切片：取第一条，channel 0的数据(共有3个channel，红绿蓝三色); 输出2维：96x96的图片\n",
    "imgs[0].shape \n"
   ]
  },
  {
   "cell_type": "code",
   "execution_count": null,
   "metadata": {},
   "outputs": [],
   "source": [
    "im = imgs[0].permute(1,2,0)   # 更换tensor中，向量的顺序，原来是0,1,2\n",
    "im.shape                       # 注意 shape 和上面的变化"
   ]
  },
  {
   "cell_type": "code",
   "execution_count": null,
   "metadata": {},
   "outputs": [],
   "source": [
    "im_np = im.numpy() \n",
    "# im_np"
   ]
  },
  {
   "cell_type": "code",
   "execution_count": null,
   "metadata": {},
   "outputs": [],
   "source": [
    "plt.imshow(im_np)"
   ]
  },
  {
   "cell_type": "code",
   "execution_count": null,
   "metadata": {},
   "outputs": [],
   "source": [
    "\"\"\" 测试卷积函数 \"\"\"\n",
    "# input = torch.randint(2,[2,3,4])\n",
    "# input = torch.randn(5)\n",
    "# input\n",
    "# input, torch.relu(input)\n",
    "\n",
    "# input,torch.sigmoid( input )\n",
    "# input,torch.tanh( input )\n",
    "# input,nn.LeakyReLU( input )"
   ]
  },
  {
   "cell_type": "code",
   "execution_count": null,
   "metadata": {},
   "outputs": [],
   "source": [
    "im_np.min(), im_np.max()"
   ]
  },
  {
   "cell_type": "code",
   "execution_count": null,
   "metadata": {},
   "outputs": [],
   "source": [
    "im_np = (im+1)/2    # 从 -1 到 1 变为 0-1 之间"
   ]
  },
  {
   "cell_type": "code",
   "execution_count": null,
   "metadata": {},
   "outputs": [],
   "source": [
    "im_np.min(), im_np.max()"
   ]
  },
  {
   "cell_type": "code",
   "execution_count": null,
   "metadata": {},
   "outputs": [],
   "source": [
    "train_ds.class_to_idx"
   ]
  },
  {
   "cell_type": "code",
   "execution_count": null,
   "metadata": {},
   "outputs": [],
   "source": [
    "id_to_class = dict(\n",
    "    (v,k) for k, v in train_ds.class_to_idx.items()\n",
    ")\n",
    "id_to_class"
   ]
  },
  {
   "cell_type": "code",
   "execution_count": null,
   "metadata": {},
   "outputs": [],
   "source": [
    "\"\"\" imgs, labels 显示 \"\"\"\n",
    "plt.figure(figsize=(12, 8))     # 设置画布\n",
    "for i, (img, label) in enumerate( zip(imgs[:6], labels[:6]) ): #取前10张图片   \n",
    "    img = img.permute(1,2,0) \n",
    "    img_np = (img.numpy() + 1)/2 \n",
    "    plt.subplot(2, 3, i+1)\n",
    "    plt.title( id_to_class.get( label.item() ))\n",
    "    plt.imshow( img_np )\n"
   ]
  },
  {
   "cell_type": "markdown",
   "metadata": {},
   "source": [
    "上面是数据准备和模式测试， \n",
    "以下正式开始设计："
   ]
  },
  {
   "cell_type": "code",
   "execution_count": null,
   "metadata": {},
   "outputs": [],
   "source": [
    "class Net( nn.Module ):\n",
    "    def __init__(self):\n",
    "        super(Net, self).__init__()  # 父类的初始化\n",
    "        self.conv1 = nn.Conv2d(3, 16, 3)        # 3:图片channel为3，作为输入； 16个卷积核，自定义； curnel size为3x3；\n",
    "        self.bn1 = nn.BatchNorm2d(16)           # 16: 上层的feature 16\n",
    "        self.pool = nn.MaxPool2d(2,2)           # 设计了MaxPool方法，2x2结构；\n",
    "        self.conv2 = nn.Conv2d(16, 32, 3)       # 输入=conv1的输出16， 卷积核翻倍到32， \n",
    "        self.bn2 = nn.BatchNorm2d(32)\n",
    "        self.conv3 = nn.Conv2d(32, 64, 3)       # 输入=conv1的输出32， 卷积核翻倍到64， !#! 卷积核翻倍，模仿了vgg的著名卷积结构，比较有效。\n",
    "        self.bn3 = nn.BatchNorm2d(64)\n",
    "        self.drop = nn.Dropout(0.5)             # 0.5, 丢掉50% 神经单元\n",
    "        self.drop2d = nn.Dropout2d(0.5)            # 0.5, 丢掉50% 神经单元\n",
    "        self.fc1 = nn.Linear(64*10*10, 1024)    # fc1: 全连接1层; 64*12*12为预估 (通过print输出调整)； 1024为自定义；\n",
    "        self.bn_f1 = nn.BatchNorm1d(1024)\n",
    "        self.fc2 = nn.Linear(1024, 256)           # fc2: 全连接2层; 1024为1层输出；4为4分类输出，配合label\n",
    "        self.bn_f2 = nn.BatchNorm1d(256)\n",
    "        self.fc3 = nn.Linear(256, 4)           # fc2: 全连接2层; 1024为1层输出；4为4分类输出，配合label\n",
    "        \n",
    "    def forward(self, x):\n",
    "        x = self.pool( F.relu(self.conv1(x)) )\n",
    "        x = self.bn1(x)                         # 在 pool 之后再添加\n",
    "        x = self.pool( F.relu(self.conv2(x)) )\n",
    "        x = self.bn2(x)\n",
    "        x = self.pool( F.relu(self.conv3(x)) )\n",
    "        x = self.bn3(x)\n",
    "        \n",
    "        x = self.drop2d(x)\n",
    "        # print(x.size())             # torch.Size([16, 64, 10, 10])\n",
    "        x = x.view(-1, 64*10*10)    # 通过view进行展平，其中64源于conv3的输出厚度64， 12x12为预估; Pytorch每次都需要我们去计划12x12，是有些问题的，不够成熟\n",
    "        x = F.relu( self.fc1(x) )\n",
    "        x = self.bn_f1(x)\n",
    "        x = self.drop(x)\n",
    "        x = F.relu( self.fc2(x) )\n",
    "        x = self.bn_f2(x)\n",
    "        x = self.drop(x)\n",
    "        x = self.fc3(x)\n",
    "        return x\n",
    "\n",
    "model = Net()"
   ]
  },
  {
   "cell_type": "code",
   "execution_count": null,
   "metadata": {},
   "outputs": [],
   "source": [
    "preds = model( imgs )\n",
    "imgs.shape, preds.shape"
   ]
  },
  {
   "cell_type": "code",
   "execution_count": null,
   "metadata": {},
   "outputs": [],
   "source": [
    "# 计算出preds的分类结果\n",
    "preds_out = torch.argmax( preds, 1)     # 对preds的1维进行找最大数， 0维为个数\n"
   ]
  },
  {
   "cell_type": "code",
   "execution_count": null,
   "metadata": {},
   "outputs": [],
   "source": [
    "# model刚init，成功率并不高，所以需要后续训练\n",
    "labels, preds_out, labels - preds_out"
   ]
  },
  {
   "cell_type": "code",
   "execution_count": null,
   "metadata": {},
   "outputs": [],
   "source": [
    "model = model.to(device)"
   ]
  },
  {
   "cell_type": "code",
   "execution_count": null,
   "metadata": {},
   "outputs": [],
   "source": [
    "loss_fn = nn.CrossEntropyLoss()"
   ]
  },
  {
   "cell_type": "code",
   "execution_count": null,
   "metadata": {},
   "outputs": [],
   "source": [
    "\"\"\"\n",
    "优化： 根据计算得到的损失，调整模型参数， 降低损失的过程；\n",
    "- Adam 优化器\n",
    "- SGD：优化model的参数、以及lr\n",
    "\"\"\"\n",
    "# opt = torch.optim.SGD(model.parameters(), lr=0.001)\n",
    "optim = torch.optim.Adam(model.parameters(), lr=0.001)"
   ]
  },
  {
   "cell_type": "code",
   "execution_count": null,
   "metadata": {},
   "outputs": [],
   "source": [
    "\"\"\" \n",
    "    训练 N 个 epoch， 记录每个epoch的train和test的损失、准确率。 \n",
    "\"\"\"\n",
    "# batch_size 非常关键：4096不准确； 64很准确。16也比较差。 ！！！\n",
    "def fit(epoch, model, train_dl, test_dl ):\n",
    "    correct, total, running_loss = 0, 0, 0\n",
    "    model.train()   #设置成训练模式\n",
    "    for x, y in train_dl:\n",
    "        x, y = x.to(device), y.to(device)\n",
    "        y_pred = model(x)\n",
    "        loss = loss_fn(y_pred, y)\n",
    "        optim.zero_grad()\n",
    "        loss.backward()\n",
    "        optim.step()\n",
    "        with torch.no_grad():\n",
    "            y_pred = torch.argmax(y_pred, dim=1)\n",
    "            correct += (y_pred==y).sum().item()\n",
    "            total += y.size(0)\n",
    "            running_loss += loss.item()\n",
    "    epoch_loss = running_loss / len(train_dl.dataset) \n",
    "    epoch_acc = correct / total\n",
    "                           \n",
    "    test_correct, test_total, test_running_loss = 0, 0, 0\n",
    "    model.eval()  # 设置成eval 评估测试模式， 推理模式\n",
    "    with torch.no_grad():\n",
    "        for x, y in test_dl:\n",
    "            x, y = x.to(device), y.to(device)\n",
    "            y_pred = model(x)\n",
    "            loss = loss_fn(y_pred, y)\n",
    "            # optim.zero_grad()\n",
    "            # loss.backward()\n",
    "            # optim.step()\n",
    "            y_pred = torch.argmax(y_pred, dim=1)\n",
    "            test_correct += (y_pred==y).sum().item()\n",
    "            test_total += y.size(0)\n",
    "            test_running_loss += loss.item()\n",
    "    \n",
    "    test_epoch_loss = test_running_loss / len(test_dl.dataset) \n",
    "    test_epoch_acc = test_correct / test_total\n",
    "                           \n",
    "    print('epoch: ', epoch,\n",
    "        'loss: ', round(epoch_loss,3),\n",
    "        'acc:', round(epoch_acc,3),\n",
    "        'test_loss: ', round(test_epoch_loss,3),\n",
    "        'test_acc:', round(test_epoch_acc,3)\n",
    "        )         \n",
    "    return epoch_acc, epoch_loss, test_epoch_acc,test_epoch_loss\n",
    "    \n"
   ]
  },
  {
   "cell_type": "code",
   "execution_count": null,
   "metadata": {},
   "outputs": [],
   "source": [
    "epochs = 30\n",
    "train_loss, train_acc = [], []\n",
    "test_loss,  test_acc  = [], []\n",
    "for epoch in range( epochs ):\n",
    "    epoch_acc, epoch_loss, epoch_test_acc, epoch_test_loss = fit( epoch, model, train_dl, test_dl)\n",
    "    train_acc.append(epoch_acc)\n",
    "    train_loss.append(epoch_loss)\n",
    "    test_acc.append(epoch_test_acc)\n",
    "    test_loss.append(epoch_test_loss)  # 记录、图表化后，观察是否会过拟合等问题\n",
    "    "
   ]
  },
  {
   "cell_type": "code",
   "execution_count": null,
   "metadata": {},
   "outputs": [],
   "source": [
    "plt.plot( range(epochs), train_loss, label='train_loss')\n",
    "plt.plot( range(epochs), test_loss, label='test_loss')\n",
    "plt.legend()\n",
    "# train_acc"
   ]
  },
  {
   "cell_type": "code",
   "execution_count": null,
   "metadata": {},
   "outputs": [],
   "source": [
    "plt.plot( range(epochs), train_acc, label='train_acc')\n",
    "plt.plot( range(epochs), test_acc, label='test_acc')\n",
    "plt.legend()"
   ]
  },
  {
   "cell_type": "code",
   "execution_count": null,
   "metadata": {},
   "outputs": [],
   "source": []
  }
 ],
 "metadata": {
  "kernelspec": {
   "display_name": "Python 3 (ipykernel)",
   "language": "python",
   "name": "python3"
  },
  "language_info": {
   "codemirror_mode": {
    "name": "ipython",
    "version": 3
   },
   "file_extension": ".py",
   "mimetype": "text/x-python",
   "name": "python",
   "nbconvert_exporter": "python",
   "pygments_lexer": "ipython3",
   "version": "3.10.11"
  }
 },
 "nbformat": 4,
 "nbformat_minor": 4
}
