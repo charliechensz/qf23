{
 "cells": [
  {
   "cell_type": "code",
   "execution_count": 1,
   "metadata": {
    "tags": []
   },
   "outputs": [
    {
     "name": "stdout",
     "output_type": "stream",
     "text": [
      "torch.__version__ :  2.0.1\n",
      "torch.cuda.is_available() :  True\n",
      "torch.version.cuda :  11.7\n",
      "torch.cuda.device_count() :  1 \n",
      "\n",
      "torch.tensor(1.) :  "
     ]
    },
    {
     "ename": "",
     "evalue": "",
     "output_type": "error",
     "traceback": [
      "\u001b[1;31mCannot execute code, session has been disposed. Please try restarting the Kernel."
     ]
    },
    {
     "ename": "",
     "evalue": "",
     "output_type": "error",
     "traceback": [
      "\u001b[1;31mThe Kernel crashed while executing code in the the current cell or a previous cell. Please review the code in the cell(s) to identify a possible cause of the failure. Click <a href='https://aka.ms/vscodeJupyterKernelCrash'>here</a> for more info. View Jupyter <a href='command:jupyter.viewOutput'>log</a> for further details."
     ]
    }
   ],
   "source": [
    "import torch\n",
    "import torchvision\n",
    "from torch.backends import cudnn\n",
    "\n",
    "print(\"torch.__version__ : \", torch.__version__)\n",
    "print(\"torch.cuda.is_available() : \", torch.cuda.is_available() )\n",
    "print(\"torch.version.cuda : \", torch.version.cuda)\n",
    "print(\"torch.cuda.device_count() : \", torch.cuda.device_count(),'\\n')\n",
    "\n",
    "aaa = torch.tensor(1.)\n",
    "a = aaa.cuda()\n",
    "print( \"torch.tensor(1.) : \", a, \"\\n\" )\n",
    "\n",
    "print(\"cudnn.is_available() : \", cudnn.is_available())\n",
    "print(\"cudnn.is_acceptable(a.cuda()) : \", cudnn.is_acceptable(a.cuda())  )\n",
    "print(\"torchvision.__version__ : \", torchvision.__version__ )\n"
   ]
  },
  {
   "cell_type": "code",
   "execution_count": 2,
   "metadata": {
    "tags": []
   },
   "outputs": [
    {
     "data": {
      "text/plain": [
       "'2.0.1'"
      ]
     },
     "execution_count": 2,
     "metadata": {},
     "output_type": "execute_result"
    }
   ],
   "source": [
    "torch.__version__\n"
   ]
  },
  {
   "cell_type": "code",
   "execution_count": null,
   "metadata": {},
   "outputs": [],
   "source": []
  }
 ],
 "metadata": {
  "kernelspec": {
   "display_name": "Python 3 (ipykernel)",
   "language": "python",
   "name": "python3"
  },
  "language_info": {
   "codemirror_mode": {
    "name": "ipython",
    "version": 3
   },
   "file_extension": ".py",
   "mimetype": "text/x-python",
   "name": "python",
   "nbconvert_exporter": "python",
   "pygments_lexer": "ipython3",
   "version": "3.10.11"
  }
 },
 "nbformat": 4,
 "nbformat_minor": 4
}
