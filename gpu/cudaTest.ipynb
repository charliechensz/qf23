{
 "cells": [
  {
   "cell_type": "code",
   "execution_count": null,
   "metadata": {},
   "outputs": [],
   "source": [
    "import torch\n",
    "import torchvision\n",
    "from torch.backends import cudnn\n",
    "\n",
    "import torch\n",
    "import torch.nn as nn\n",
    "import time\n",
    "\n",
    "class model(nn.Module):\n",
    "    def __init__(self):\n",
    "        super().__init__()\n",
    "\n",
    "        self.network = nn.ModuleList([\n",
    "            nn.Linear(3, 256),\n",
    "            nn.Linear(256, 256),\n",
    "            nn.Linear(256, 256),\n",
    "            nn.Linear(256, 256),\n",
    "            nn.Linear(256, 256)]\n",
    "            )\n",
    "\n",
    "    def forward(self, x):\n",
    "        tic = time.time()\n",
    "        for i, layer in enumerate(self.network):\n",
    "            x = layer(x)\n",
    "            print('GPU memory consumed after {}th layer: {}GB'.format(i, torch.cuda.memory_allocated()/1024/1024/1024))\n",
    "        toc = time.time()\n",
    "        print('Time cost: {}s'.format(toc - tic))\n",
    "        return x\n",
    "\n",
    "\n"
   ]
  },
  {
   "cell_type": "code",
   "execution_count": null,
   "metadata": {},
   "outputs": [],
   "source": [
    "%%time\n",
    "\n",
    "use_cuda = 1\n",
    "if __name__ == \"__main__\":\n",
    "    if use_cuda == 1:\n",
    "        net = model().cuda()\n",
    "        x = torch.randn(32, 16*16*12, 3).cuda()\n",
    "    if use_cuda == 0:\n",
    "        net = model()\n",
    "        x = torch.randn(32, 16*16*12, 3)\n",
    "\n",
    "    y = net(x)\n",
    "    print(y.shape)\n"
   ]
  },
  {
   "cell_type": "code",
   "execution_count": null,
   "metadata": {},
   "outputs": [],
   "source": [
    "%%time\n",
    "x1 = torch.randn(320, 64*64*12, 4)"
   ]
  },
  {
   "cell_type": "code",
   "execution_count": null,
   "metadata": {},
   "outputs": [],
   "source": [
    "%%time\n",
    "x2 = torch.randn(320, 64*64*12, 4).cuda()"
   ]
  },
  {
   "cell_type": "code",
   "execution_count": null,
   "metadata": {},
   "outputs": [],
   "source": []
  }
 ],
 "metadata": {
  "kernelspec": {
   "display_name": "stkdata",
   "language": "python",
   "name": "python3"
  },
  "language_info": {
   "codemirror_mode": {
    "name": "ipython",
    "version": 3
   },
   "file_extension": ".py",
   "mimetype": "text/x-python",
   "name": "python",
   "nbconvert_exporter": "python",
   "pygments_lexer": "ipython3",
   "version": "3.10.11"
  },
  "orig_nbformat": 4
 },
 "nbformat": 4,
 "nbformat_minor": 2
}
