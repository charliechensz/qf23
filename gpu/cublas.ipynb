{
 "cells": [
  {
   "cell_type": "code",
   "execution_count": 2,
   "metadata": {},
   "outputs": [
    {
     "ename": "ModuleNotFoundError",
     "evalue": "No module named 'torch.cudart'",
     "output_type": "error",
     "traceback": [
      "\u001b[1;31m---------------------------------------------------------------------------\u001b[0m",
      "\u001b[1;31mModuleNotFoundError\u001b[0m                       Traceback (most recent call last)",
      "Cell \u001b[1;32mIn[2], line 8\u001b[0m\n\u001b[0;32m      3\u001b[0m \u001b[39mfrom\u001b[39;00m \u001b[39mtorch\u001b[39;00m\u001b[39m.\u001b[39;00m\u001b[39mbackends\u001b[39;00m \u001b[39mimport\u001b[39;00m cudnn\n\u001b[0;32m      5\u001b[0m \u001b[39m# import torch.cuda\u001b[39;00m\n\u001b[0;32m      6\u001b[0m \u001b[39m# from torch import cuda\u001b[39;00m\n\u001b[0;32m      7\u001b[0m \u001b[39m# import torch.cuda.cudart as cuda\u001b[39;00m\n\u001b[1;32m----> 8\u001b[0m \u001b[39mimport\u001b[39;00m \u001b[39mtorch\u001b[39;00m\u001b[39m.\u001b[39;00m\u001b[39mcudart\u001b[39;00m \u001b[39mas\u001b[39;00m \u001b[39mcuda\u001b[39;00m\n",
      "\u001b[1;31mModuleNotFoundError\u001b[0m: No module named 'torch.cudart'"
     ]
    }
   ],
   "source": [
    "import torch\n",
    "import torchvision\n",
    "from torch.backends import cudnn\n",
    "\n",
    "# import torch.cuda\n",
    "# from torch import cuda\n",
    "# import torch.cuda.cudart as cuda\n",
    "import torch.cudart as cuda\n",
    "\n"
   ]
  },
  {
   "cell_type": "code",
   "execution_count": null,
   "metadata": {},
   "outputs": [],
   "source": [
    "\n",
    "# 初始化PyTorch CUDA\n",
    "torch.cuda.init() \n",
    "\n",
    "# 初始化CUBLAS库\n",
    "cublasHandle = cuda.cublas.cublasCreate()\n",
    "\n",
    "# 简单的向量相加测试\n",
    "a = torch.cuda.FloatTensor([1, 2, 3])\n",
    "b = torch.cuda.FloatTensor([4, 5, 6])\n",
    "\n",
    "# 创建结果向量\n",
    "c = torch.cuda.FloatTensor(3)\n",
    "\n",
    "# 调用CUBLAS函数进行向量相加 \n",
    "cuda.cublas.cublasSaxpy(cublasHandle, 3, 1.0, a.data_ptr(), 1, b.data_ptr(), 1)\n",
    "\n",
    "# 打印结果 \n",
    "print(c)"
   ]
  },
  {
   "cell_type": "code",
   "execution_count": null,
   "metadata": {},
   "outputs": [],
   "source": []
  }
 ],
 "metadata": {
  "kernelspec": {
   "display_name": "stkdata",
   "language": "python",
   "name": "python3"
  },
  "language_info": {
   "codemirror_mode": {
    "name": "ipython",
    "version": 3
   },
   "file_extension": ".py",
   "mimetype": "text/x-python",
   "name": "python",
   "nbconvert_exporter": "python",
   "pygments_lexer": "ipython3",
   "version": "3.10.11"
  },
  "orig_nbformat": 4
 },
 "nbformat": 4,
 "nbformat_minor": 2
}
